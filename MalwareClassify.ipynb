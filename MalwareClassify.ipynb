{
 "cells": [
  {
   "cell_type": "code",
   "execution_count": 1,
   "metadata": {},
   "outputs": [],
   "source": [
    "from time import time\n",
    "\n",
    "import os\n",
    "import pandas as pd\n",
    "import numpy as np\n",
    "import matplotlib.pyplot as plt\n",
    "# import seaborn as sns\n",
    "import time\n",
    "import torch\n",
    "import sklearn.datasets\n",
    "import sklearn.preprocessing\n",
    "import sklearn.model_selection\n",
    "import numpy as np\n",
    "import math\n",
    "import matplotlib.pyplot as plt\n",
    "from torchvision.datasets import MNIST\n",
    "from torchvision.datasets import FashionMNIST as FMNIST\n",
    "from torchvision.datasets import EMNIST\n",
    "import torchvision.transforms as transforms\n",
    "import tensorflow as tf\n",
    "import random as r\n",
    "import matplotlib.pyplot as plt\n",
    "import numpy as np\n",
    "from tensorflow.keras import backend as K\n",
    "from tensorflow.keras.models import Sequential\n",
    "from tensorflow.keras.layers import Dense\n",
    "from tensorflow.keras.optimizers import Adam, SGD, Adagrad, Adadelta, RMSprop\n",
    "from tensorflow.keras.utils import to_categorical\n",
    "from tensorflow.keras.layers import Dropout, Flatten, Activation, BatchNormalization\n",
    "import sklearn\n",
    "from sklearn.discriminant_analysis import LinearDiscriminantAnalysis\n",
    "from sklearn.decomposition import PCA\n",
    "import time\n",
    "import sys\n",
    "import math\n",
    "import numpy as np\n",
    "import random\n",
    "import joblib\n",
    "from tqdm import tqdm_notebook\n",
    "import copy\n",
    "\n",
    "import Config\n",
    "import Dataloader as DL\n",
    "\n",
    "import matplotlib.pyplot as plt"
   ]
  },
  {
   "cell_type": "code",
   "execution_count": 2,
   "metadata": {},
   "outputs": [],
   "source": [
    "datasets=[\n",
    "    \"KDD Cup 1999\",                            #0\n",
    "    \"Microsoft Challenge BIG 2015\"             #1\n",
    "]\n",
    "presets = {\n",
    "    \"KDD Cup 1999\": {\n",
    "        \"NeuralHD\": [300,2,3,.1],\n",
    "        \"OnlineHD\": [300,1.0,.1,30,True],\n",
    "        \"MLP\": [100,5,.001],\n",
    "        \"SVM\": [10000]\n",
    "    },\n",
    "    \"Microsoft Challenge BIG 2015\": {\n",
    "        \"NeuralHD\": [3000,6,10,.1],\n",
    "        \"OnlineHD\": [3000,1.0,.1,30,True],\n",
    "        \"MLP\": [100,30,.001],\n",
    "        \"SVM\": [None]\n",
    "    }\n",
    "}\n",
    "def normalized(x,y):\n",
    "    xtrain, x_test, ytrain, y_test = None,None,None,None\n",
    "    x, x_test, y, y_test = sklearn.model_selection.train_test_split(x, y, shuffle=True)\n",
    "    scaler = sklearn.preprocessing.Normalizer().fit(x)\n",
    "    x = scaler.transform(x)\n",
    "    x_test = scaler.transform(x_test)\n",
    "\n",
    "    # changes data to pytorch's tensors\n",
    "    x = torch.from_numpy(x).float()\n",
    "    y = torch.from_numpy(y).long()\n",
    "    x_test = torch.from_numpy(x_test).float()\n",
    "    y_test = torch.from_numpy(y_test).long()\n",
    "    return x.numpy(), x_test.numpy(), y.numpy(), y_test.numpy(), scaler\n",
    "def getuniquevalues(columnname,df):\n",
    "    values={}\n",
    "    i=0\n",
    "    for entry in df[columnname]:\n",
    "        if entry not in values:\n",
    "            values[entry]=i\n",
    "            i+=1\n",
    "    return values\n",
    "def get_dataset(name):\n",
    "    if name==datasets[0]:\n",
    "        path=\"../../Data/\"\n",
    "        attacks_types = {\n",
    "            'normal': 'normal','back': 'dos','buffer_overflow': 'u2r','ftp_write': 'r2l','guess_passwd': 'r2l',\n",
    "        'imap': 'r2l','ipsweep': 'probe','land': 'dos','loadmodule': 'u2r','multihop': 'r2l','neptune': 'dos',\n",
    "        'nmap': 'probe','perl': 'u2r','phf': 'r2l','pod': 'dos','portsweep': 'probe','rootkit': 'u2r','satan': 'probe',\n",
    "        'smurf': 'dos','spy': 'r2l','teardrop': 'dos','warezclient': 'r2l','warezmaster': 'r2l',\n",
    "        }\n",
    "        cols =\"\"\"duration,protocol_type,service,flag,src_bytes,dst_bytes,land,wrong_fragment,\n",
    "        urgent,hot,num_failed_logins,logged_in,num_compromised,root_shell,su_attempted,num_root,\n",
    "        num_file_creations,num_shells,num_access_files,num_outbound_cmds,is_host_login,is_guest_login,\n",
    "        count,srv_count,serror_rate,srv_serror_rate,rerror_rate,srv_rerror_rate,same_srv_rate,\n",
    "        diff_srv_rate,srv_diff_host_rate,dst_host_count,dst_host_srv_count,dst_host_same_srv_rate,\n",
    "        dst_host_diff_srv_rate,dst_host_same_src_port_rate,dst_host_srv_diff_host_rate,\n",
    "        dst_host_serror_rate,dst_host_srv_serror_rate,dst_host_rerror_rate,dst_host_srv_rerror_rate\"\"\"\n",
    "        \n",
    "        columns =[]\n",
    "        for c in cols.split(','):\n",
    "            if(c.strip()):\n",
    "                columns.append(c.strip())\n",
    "        print(len(columns))\n",
    "        columns.append('target')\n",
    "        print(len(columns))\n",
    "\n",
    "        attack_categories=[\"dos\",\"u2r\",\"r2l\",'probe','normal']\n",
    "        df = pd.read_csv(path+\"kddcup.data_10_percent.gz\", names = columns)\n",
    "        df['Attack Type'] = df.target.apply(lambda r:attacks_types[r[:-1]])\n",
    "        del df['target']\n",
    "        df.head()\n",
    "        num_cols = df._get_numeric_data().columns\n",
    "        \n",
    "        cate_cols = list(set(df.columns)-set(num_cols))\n",
    "        cate_cols.remove('Attack Type')\n",
    "        for col in cate_cols:\n",
    "            df[col]=df[col].map(getuniquevalues(col,df))\n",
    "        data=df.to_numpy()\n",
    "        Y=df['Attack Type'].map(getuniquevalues('Attack Type',df))\n",
    "        Y=Y.to_numpy()\n",
    "        X=data[:,:-1]\n",
    "        print(Y.shape)\n",
    "        print(X.shape)\n",
    "        print(getuniquevalues('Attack Type',df))\n",
    "        xtrain, x_test, ytrain, y_test,scaler= normalized(X,Y)\n",
    "    if name==datasets[1]:\n",
    "        path=\"../../Data/malware-classification/\"\n",
    "        map={}\n",
    "        mapping=pd.read_csv(path + \"trainLabels.csv\")\n",
    "        Y=mapping[\"Class\"].to_numpy()\n",
    "        for i in range(0,len(Y)):\n",
    "            map[mapping[\"Id\"][i]]=mapping[\"Class\"][i]-1\n",
    "        byte_features=pd.read_csv(path+\"result.csv\")\n",
    "        byte_features['ID']  = byte_features['ID'].str.split('.').str[0]\n",
    "        byte_features.head(3)\n",
    "        byte_features['ID']=byte_features['ID'].map(map)\n",
    "        data=byte_features.to_numpy()\n",
    "        X=data[:,1:]\n",
    "        Y=data[:,0]\n",
    "        xtrain, x_test, ytrain, y_test,scaler= normalized(X,Y)\n",
    "    return xtrain,x_test,ytrain,y_test\n",
    "\n",
    "datasetname=\"Microsoft Challenge BIG 2015\"\n",
    "\n",
    "xtrain,x_test,ytrain,y_test=get_dataset(datasetname)\n"
   ]
  },
  {
   "cell_type": "code",
   "execution_count": 3,
   "metadata": {},
   "outputs": [
    {
     "data": {
      "image/png": "[encoded data removed]",
      "text/plain": [
       "<Figure size 432x288 with 1 Axes>"
      ]
     },
     "metadata": {
      "needs_background": "light"
     },
     "output_type": "display_data"
    },
    {
     "data": {
      "image/png": "[encoded data removed]",
      "text/plain": [
       "<Figure size 432x288 with 1 Axes>"
      ]
     },
     "metadata": {
      "needs_background": "light"
     },
     "output_type": "display_data"
    }
   ],
   "source": [
    "points=[]\n",
    "for i in range (0,len(np.unique(ytrain))):\n",
    "    points.append(len(xtrain[ytrain==i]))\n",
    "plt.bar(range(0,len(points)),points, color=np.random.rand(3,))\n",
    "plt.title(\"Training Point Total: \" + str(sum(points)))\n",
    "plt.show()\n",
    "points=[]\n",
    "for i in range (0,len(np.unique(y_test))):\n",
    "    points.append(len(x_test[y_test==i]))\n",
    "plt.bar(range(0,len(points)),points, color=np.random.rand(3,))\n",
    "plt.title(\"Testing Point Total: \" + str(sum(points)))\n",
    "plt.show()"
   ]
  },
  {
   "cell_type": "code",
   "execution_count": 4,
   "metadata": {},
   "outputs": [],
   "source": [
    "modeldict={}\n",
    "def get_class_accuracy_breakdown(model,x_test,y_test, output=False):\n",
    "    acc=[]\n",
    "    points=[]\n",
    "    try:\n",
    "        for i in range (0,len(np.unique(y_test))):\n",
    "            yhat= model.predict(x_test[y_test==i])\n",
    "            if len(yhat.shape)==2:\n",
    "                yhat=np.array([row.argmax() for row in yhat])\n",
    "            acc.append((yhat==i).mean())\n",
    "            points.append(len(yhat))\n",
    "    except:\n",
    "        for i in range (0,len(np.unique(y_test))):\n",
    "            yhat= model.predict(torch.from_numpy(x_test[y_test==i]))\n",
    "            acc.append((yhat==i).float().mean())\n",
    "            points.append(len(yhat))\n",
    "    # print(yhat[:30])\n",
    "    totacc=sum([acc[i]*points[i] for i in range(0,len(acc))])/sum(points)\n",
    "    if output:\n",
    "        plt.bar(range(0,len(acc)),acc,color=np.random.rand(3,))\n",
    "        plt.title(\"Accuracy Total: \" + str(totacc))\n",
    "        plt.show()\n",
    "    return totacc"
   ]
  },
  {
   "cell_type": "code",
   "execution_count": 5,
   "metadata": {},
   "outputs": [],
   "source": [
    "# Generate one random vector of desired length and generation type\n",
    "def generate_vector(vector_length, vector_type, param):\n",
    "    #Check for Gaussian kernel\n",
    "    if vector_type == \"Gaussian\":\n",
    "        #parse for mu\n",
    "        mu = param[\"mu\"]\n",
    "        #parse for sigma\n",
    "        sigma = param[\"sigma\"]\n",
    "        #return vector generated from kernel\n",
    "        return np.random.normal(mu, sigma, vector_length)\n",
    "    else:\n",
    "        #all other kernels are currently unsupported\n",
    "        raise Exception(\"Vector type %s not recognized. Abort.\\n\" % vector_type)\n",
    "\n",
    "def vanilla(param):\n",
    "\n",
    "    #create basis as list\n",
    "    basis = []\n",
    "    #hidden dimension is D\n",
    "    for _ in range(param[\"D\"]):\n",
    "        #add one generated vector as a time\n",
    "        basis.append(generate_vector(param[\"nFeatures\"], param[\"vector\"], param))\n",
    "    #make basis numpy array\n",
    "    basis = np.asarray(basis)\n",
    "    return basis\n",
    "\n",
    "\n",
    "\n",
    "        #sys.stderr.write(str(self.basis.shape)+\"\\n\")\n",
    "def updateBasis(basis, param, toChange = None):\n",
    "    # print(\"Updating basis......\")# at the following indices: (None means changing everything)\")\n",
    "    #print(toChange)\n",
    "    #For each dimension designated to be dropped\n",
    "    for i in toChange:\n",
    "        #generate a new ith vector in the basis\n",
    "        basis[i] = generate_vector(param[\"nFeatures\"], param[\"vector\"], param)\n",
    "    return"
   ]
  },
  {
   "cell_type": "code",
   "execution_count": 29,
   "metadata": {},
   "outputs": [],
   "source": [
    "import Config\n",
    "import sys\n",
    "import random\n",
    "import numpy as np\n",
    "import sklearn\n",
    "from Config import config, Update_T\n",
    "\n",
    "# n = e^-(|x|^2/(2std^2)) <- gaussian function\n",
    "def gauss(x,y,std):\n",
    "  n = np.linalg.norm(x - y)\n",
    "  n = n ** 2\n",
    "  n = n * -1\n",
    "  n = n / (2 * (std**2))\n",
    "  n = np.exp(n)\n",
    "  return n\n",
    "\n",
    "def poly(x,y,c,d):\n",
    "  return (np.dot(x,y) + c) ** d\n",
    "\n",
    "#  dot product/ gauss product/ cos product\n",
    "def kernel(x,y):\n",
    "  dotKernel = np.dot\n",
    "#   gaussKernel = lambda x, y : gauss(x,y,25)\n",
    "#   polyKernel = lambda x,y : poly(x,y,3,5)\n",
    "#   cosKernel = lambda x,y : np.dot(x,y) / (np.linalg.norm(x) * np.linalg.norm(y))\n",
    "  #k = gaussKernel\n",
    "  #k = polyKernel\n",
    "  k = dotKernel\n",
    "  #k = cosKernel\n",
    "  return k(x,y)\n",
    "\n",
    "class HD_classifier:\n",
    "\n",
    "    # Required parameters for the training it supports; will enhance later\n",
    "    options = [\"one_shot\", \"dropout\", \"lr\"]\n",
    "    # required opts for dropout\n",
    "    options_dropout = [\"dropout_rate\", \"update_type\"]\n",
    "\n",
    "    # id: id associated with the basis/encoded data\n",
    "    def __init__(self, D, nClasses, id):\n",
    "        self.D = D\n",
    "        # number of classes\n",
    "        self.nClasses = nClasses\n",
    "        # classes\n",
    "        self.classes = np.zeros((nClasses, D))\n",
    "        self.counts = np.zeros(nClasses)\n",
    "        # If first fit, print out complete configuration\n",
    "        self.first_fit = True\n",
    "        self.id = id\n",
    "        self.idx_weights = np.ones((D))\n",
    "        self.update_cnts = np.zeros((D))\n",
    "        self.mask = np.ones((D))\n",
    "\n",
    "    def getClasses(self):\n",
    "        return self.classes\n",
    "\n",
    "    def update(self, weight, mask, guess, answer, rate, update_type=Update_T.FULL):\n",
    "        sample = weight * mask\n",
    "        self.counts[guess] += 1\n",
    "        self.counts[answer] += 1\n",
    "        # update hypervector weights\n",
    "        if update_type == Update_T.FULL:\n",
    "            self.classes[guess]  -= rate * weight\n",
    "            self.classes[answer] += rate * weight\n",
    "        elif update_type == Update_T.PARTIAL:\n",
    "            self.classes[guess]  -= rate * sample\n",
    "            self.classes[answer] += rate * weight\n",
    "        elif update_type == Update_T.RPARTIAL:\n",
    "            self.classes[guess]  -= rate * weight\n",
    "            self.classes[answer] += rate * sample\n",
    "        elif update_type == Update_T.MASKED:\n",
    "            self.classes[guess]  -= rate * sample\n",
    "            self.classes[answer] += rate * sample\n",
    "        elif update_type == Update_T.HALF:\n",
    "            self.classes[answer] += rate * weight\n",
    "            self.counts[guess] -= 1\n",
    "        elif update_type == Update_T.WEIGHTED:\n",
    "            self.classes[guess]  -= rate * np.multiply(self.idx_weights, sample)\n",
    "            self.classes[answer] += rate * np.multiply(self.idx_weights, sample)\n",
    "        else:\n",
    "            raise Exception(\"unrecognized Update_T\")\n",
    "\n",
    "    # update class vectors with each sample, once\n",
    "    # return train accuracy\n",
    "    def fit(self, data, label, param = None):\n",
    "        \n",
    "        assert self.D == data.shape[1]\n",
    "\n",
    "        # Default parameter\n",
    "        if param is None:\n",
    "            #set default configuration\n",
    "            param = Config.config\n",
    "        for option in self.options:\n",
    "            if option not in param:\n",
    "                #if options are missing, set it to default\n",
    "                param[option] = config[option]\n",
    "        #if self.first_fit:\n",
    "        #    sys.stderr.write(\"Fitting with configuration: %s \\n\" % str([(k,param[k]) for k in self.options]))\n",
    "\n",
    "        # Actual fitting\n",
    "\n",
    "        # handling dropout\n",
    "        mask = np.ones(self.D)\n",
    "        if param[\"masked\"]:\n",
    "            mask = np.copy(self.mask)\n",
    "        elif param[\"dropout\"]:\n",
    "            for option in self.options_dropout:\n",
    "                if option not in param:\n",
    "                    param[option] = config[option]\n",
    "            # Mask for dropout\n",
    "            for i in np.random.choice(self.D, int(self.D * (param[\"drop_rate\"])), replace=False):\n",
    "                mask[i] = 0\n",
    "\n",
    "        # fit\n",
    "        r = list(range(data.shape[0]))\n",
    "        random.shuffle(r)\n",
    "        correct = 0\n",
    "        count = 0\n",
    "        for i in r:\n",
    "            sample = data[i] * mask\n",
    "            assert data[i].shape == mask.shape\n",
    "\n",
    "            answer = label[i]\n",
    "            #maxVal = -1\n",
    "            #guess = -1\n",
    "            #for m in range(self.nClasses):\n",
    "            #    val = kernel(self.classes[m], sample)\n",
    "            #    if val > maxVal:\n",
    "            #        maxVal = val\n",
    "            #        guess = m\n",
    "            vals = np.matmul(sample, self.classes.T)\n",
    "            # print(vals)\n",
    "            guess = np.argmax(vals)\n",
    "            if guess != answer:\n",
    "                self.update(data[i], mask, guess, answer, param[\"lr\"], param[\"update_type\"])\n",
    "            else:\n",
    "                correct += 1\n",
    "            count += 1\n",
    "        self.first_fit = False\n",
    "        return correct / count\n",
    "    def predict(self, data):\n",
    "        # print(data.shape)\n",
    "        assert self.D == data.shape[1]\n",
    "\n",
    "        prediction = []\n",
    "        # fit\n",
    "        for i in range(0,data.shape[0]):\n",
    "            maxVal = -1\n",
    "            guess = -1\n",
    "            for m in range(self.nClasses):\n",
    "                val = kernel(self.classes[m], data[i])\n",
    "                if val > maxVal:\n",
    "                    maxVal = val\n",
    "                    guess = m\n",
    "            prediction.append(guess)\n",
    "        return prediction\n",
    "\n",
    "    # given current classifier value, return:\n",
    "    # Variance of each dimension across the classes, and\n",
    "    # The indices in the order from least variance to greatest\n",
    "    def evaluateBasis(self):\n",
    "        #normed_classes = self.classes/(np.sqrt(np.asarray([self.counts])).T)\n",
    "        #variances = np.var(self.classes, axis = 0)\n",
    "        normed_classes = sklearn.preprocessing.normalize(np.asarray(self.classes), norm='l2')\n",
    "        variances = np.var(normed_classes, axis = 0) \n",
    "        assert len(variances) == self.D\n",
    "        order = np.argsort(variances)\n",
    "        return variances, order\n",
    "\n",
    "    # Some basis are to be update\n",
    "    def updateClasses(self, toChange = None):\n",
    "        if toChange is None:\n",
    "            #self.classes = np.zeros((self.nClasses, self.D))\n",
    "            self.classes = sklearn.preprocessing.normalize(np.asarray(self.classes), norm='l2', axis = 0)\n",
    "            self.counts = np.ones(self.nClasses) # An averaged vector is already in\n",
    "        else:\n",
    "            for i in toChange:\n",
    "                self.classes[:,i] = np.zeros(self.nClasses)\n"
   ]
  },
  {
   "cell_type": "code",
   "execution_count": 30,
   "metadata": {},
   "outputs": [],
   "source": [
    "\n",
    "# dump basis and its param into a file, return the name of file\n",
    "def saveEncoded(encoded, labels, id = \"\", data_type = \"unknown\"):\n",
    "    filename = \"encoded_%s_%s.pkl\" % (id, data_type)\n",
    "    sys.stderr.write(\"Dumping data into %s \\n\"%filename)\n",
    "    joblib.dump((encoded, labels), open(filename, \"wb\"), compress=True)\n",
    "    return filename\n",
    "\n",
    "# Load basis from a file\n",
    "def loadEncoded(filename):\n",
    "    encoded, labels = joblib.load(filename)\n",
    "    return encoded, labels\n",
    "\n",
    "def encode(x,basis, base, noise):\n",
    "        n = x.size(0)\n",
    "        bsize = min([n,1024])\n",
    "        h = torch.empty(n, basis.shape[0], device=x.device, dtype=x.dtype)\n",
    "        temp = torch.empty(bsize, basis.shape[0], device=x.device, dtype=x.dtype)\n",
    "\n",
    "        # we need batches to remove memory usage\n",
    "        for i in range(0, n, bsize):\n",
    "            torch.matmul(x[i:i+bsize], basis.T, out=temp)\n",
    "            if noise:\n",
    "                torch.add(temp, base, out=h[i:i+bsize])#h[i:i+bsize]=temp# torch.add(temp, self.base, out=h[i:i+bsize])\n",
    "            else:\n",
    "                h[i:i+bsize]=temp\n",
    "            h[i:i+bsize].cos_()#.mul_(temp.sin_())\n",
    "        # print(h.shape)\n",
    "        return h\n",
    "\n",
    "# Class: HD_encoder\n",
    "# Use: take in a basis and a noise flag to create instance, call functions to with data to encode\n",
    "class HD_encoder:\n",
    "    def __init__(self, basis, noise=False):\n",
    "        # set basis to encode with\n",
    "        self.basis = basis\n",
    "        self.base = torch.empty(basis.shape[0]).uniform_(0.0, 2*math.pi)\n",
    "        # hypervector dimension\n",
    "        self.D = basis.shape[0]\n",
    "        self.noise=noise\n",
    "        #### Noise not implemented yet\n",
    "        # self.noises = []  \n",
    "        # if noise:\n",
    "        #     self.noises = np.random.uniform(0, 2 * math.pi, self.D)\n",
    "        # else:\n",
    "        #     self.noises = np.zeros(self.D)\n",
    "\n",
    "    #encode one vector/sample into a HD vector\n",
    "    def encodeDatum(self, datum):\n",
    "        #generate outputs\n",
    "        encoded = np.matmul(self.basis, datum)\n",
    "        #nonlinear activation function\n",
    "        encoded = np.cos(encoded)\n",
    "        #return results\n",
    "        return encoded\n",
    "    def encodeData(self, data):\n",
    "        # print(self.basis.shape)\n",
    "        # print(data.shape)\n",
    "        #Changed it to do matmul for all data at once\n",
    "        # encoded = np.matmul(self.basis,data.T).T\n",
    "        # #nonlinear activation function\n",
    "        # encoded = np.cos(encoded)\n",
    "        # print(encoded.shape)\n",
    "        return encode(torch.from_numpy(data).float(),torch.from_numpy(self.basis).float(),self.base,self.noise).numpy()#encoded\n",
    "        # start = time.time()\n",
    "        #no matrix multiplication errors\n",
    "        assert data.shape[1] == self.basis.shape[1]\n",
    "        # noises = []\n",
    "        encoded = []\n",
    "\n",
    "        for i in range(len(data)):\n",
    "            encoded.append(self.encodeDatum(data[i]))\n",
    "\n",
    "        # end = time.time()\n",
    "        #sys.stderr.write(\"Time spent: %d sec\\n\" % int(end - start))\n",
    "        return np.asarray(encoded)\n",
    "\n",
    "    # Replace basis of the HDE\n",
    "    def updateBasis(self, basis):\n",
    "        self.basis = basis"
   ]
  },
  {
   "cell_type": "code",
   "execution_count": 31,
   "metadata": {},
   "outputs": [],
   "source": [
    "\n",
    "\n",
    "class NeuralHD:\n",
    "    def __init__(self, classes : int, features : int, dim : int = 400):\n",
    "        #Configure for hdb, hdc, and hde classes\n",
    "        self.param=Config.config\n",
    "        self.param['nClasses'] = classes\n",
    "        self.param['nFeatures']= features\n",
    "        #hypervector size\n",
    "        self.param['D']=dim\n",
    "        #encoder\n",
    "        self.hde=None\n",
    "        #classifier\n",
    "        self.hdc=None\n",
    "        # Initialize basis\n",
    "        basis = vanilla(self.param)\n",
    "        # make encoder based on basis\n",
    "        self.hde = HD_encoder(basis)\n",
    "        # Initialize classification hypervectors\n",
    "        self.hdc = HD_classifier(self.param[\"D\"], self.param[\"nClasses\"], 0)\n",
    "    def __call__(self, x : torch.Tensor):\n",
    "        #True iff the model has been trained\n",
    "        assert self.hde!=None and self.hdc!=None\n",
    "        #return predicted values\n",
    "        return self.predict(x)\n",
    "    def predict(self,x):\n",
    "        # print(x.shape)\n",
    "        #Get hypervectors for all data points\n",
    "        trainencoded=self.hde.encodeData(x)\n",
    "        #return predictions based on similarity to classification hypervectors\n",
    "        return np.array(self.hdc.predict(trainencoded))\n",
    "    def fit(self,traindata, trainlabels,\n",
    "                   epochs,\n",
    "                   regenloops,  # list of effective dimensions to reach \n",
    "                   percentDrop # drop/regen rate \n",
    "                    ):\n",
    "        \n",
    "        # find encoded training vectors\n",
    "        trainencoded = self.hde.encodeData(traindata)\n",
    "\n",
    "        # calculate amount of dropped dimensions based on percent and original dimension\n",
    "        amountDrop = int(percentDrop * self.hdc.D)#self.param.D?\n",
    "        # print(\"Updating times:\", regenloops)\n",
    "\n",
    "        for i in range(regenloops+1): # For each eDs to reach, will checkpoints\n",
    "            # print(\"regenloop: \" + str(i))\n",
    "            # train for x epochs\n",
    "            perfect=self.trainreploop(epochs,trainencoded,trainlabels)\n",
    "            #if its the last regeneration training, stop before doing another dimension drop; stop if 100% accuracy\n",
    "            if i==regenloops or perfect:\n",
    "                return #self.hdc,self.hde - unnecessary now that hdc and hde are within a class\n",
    "            # print(i)\n",
    "            #do the dimension drop and regeneration\n",
    "            trainencoded=self.regen(self.hde.basis,amountDrop,traindata)\n",
    "        return \"error\",\"error\"\n",
    "    \n",
    "    def trainreploop(self,epochs,trainencoded,trainlabels):\n",
    "        # Do the train \n",
    "        for j in range(epochs):\n",
    "            # do one pass of training\n",
    "            train_acc = 100 * self.hdc.fit(trainencoded, trainlabels, self.param)\n",
    "            #Test accuracy used to be in here but I took it out because we dont usually know it\n",
    "            # print(\"Train: %.2f \\t \\t Test: \"%(train_acc))\n",
    "            # If accuracy is 100, finish\n",
    "            if train_acc == 100:\n",
    "                return True\n",
    "        return False\n",
    "    def regen(self,basis,amountDrop,traindata):\n",
    "        #make order of dimensions according to variaince; also store variances <-- unnecessary?\n",
    "        var, orders = self.hdc.evaluateBasis()\n",
    "        #drop dimensions with lowest variance\n",
    "        # print(sum(var)/len(var))\n",
    "        # plt.plot(range(0,len(var)),var[orders])\n",
    "        # plt.show()\n",
    "        \n",
    "\n",
    "        toDrop = orders[:amountDrop]\n",
    "        # print(\"Variances stats: max %.2f, min %.2f, mean %.2f\"%(max(var),min(var),np.mean(var)))\n",
    "        #update basis by randomizing dimension\n",
    "        updateBasis(basis,self.param,toDrop)\n",
    "        # move the new basis into the encoder\n",
    "        self.hde.updateBasis(basis)\n",
    "        # normalize previous classes so retrain has enough effect\n",
    "        self.hdc.updateClasses()\n",
    "        # get new encoded training data\n",
    "        return self.hde.encodeData(traindata)    "
   ]
  },
  {
   "cell_type": "code",
   "execution_count": 6,
   "metadata": {},
   "outputs": [
    {
     "ename": "NameError",
     "evalue": "name 'NeuralHD' is not defined",
     "output_type": "error",
     "traceback": [
      "\u001b[0;31m---------------------------------------------------------------------------\u001b[0m",
      "\u001b[0;31mNameError\u001b[0m                                 Traceback (most recent call last)",
      "\u001b[0;32m<ipython-input-6-de126b519156>\u001b[0m in \u001b[0;36m<module>\u001b[0;34m\u001b[0m\n\u001b[1;32m      6\u001b[0m \u001b[0mdropoutratio\u001b[0m\u001b[0;34m=\u001b[0m\u001b[0;36m.1\u001b[0m\u001b[0;34m\u001b[0m\u001b[0;34m\u001b[0m\u001b[0m\n\u001b[1;32m      7\u001b[0m \u001b[0msetup\u001b[0m\u001b[0;34m=\u001b[0m\u001b[0;34m\"model=NeuralHD(len(np.unique(y_test)),xtrain.shape[1],\"\u001b[0m\u001b[0;34m+\u001b[0m \u001b[0mstr\u001b[0m\u001b[0;34m(\u001b[0m\u001b[0mdimension\u001b[0m\u001b[0;34m)\u001b[0m \u001b[0;34m+\u001b[0m\u001b[0;34m\")\"\u001b[0m\u001b[0;34m\u001b[0m\u001b[0;34m\u001b[0m\u001b[0m\n\u001b[0;32m----> 8\u001b[0;31m \u001b[0mexec\u001b[0m\u001b[0;34m(\u001b[0m\u001b[0msetup\u001b[0m\u001b[0;34m)\u001b[0m\u001b[0;34m\u001b[0m\u001b[0;34m\u001b[0m\u001b[0m\n\u001b[0m\u001b[1;32m      9\u001b[0m \u001b[0mtraining\u001b[0m\u001b[0;34m=\u001b[0m\u001b[0;34m\"model.fit(xtrain,ytrain,\"\u001b[0m\u001b[0;34m+\u001b[0m\u001b[0mstr\u001b[0m\u001b[0;34m(\u001b[0m\u001b[0miterations\u001b[0m\u001b[0;34m)\u001b[0m\u001b[0;34m+\u001b[0m\u001b[0;34m\",\"\u001b[0m\u001b[0;34m+\u001b[0m\u001b[0mstr\u001b[0m\u001b[0;34m(\u001b[0m\u001b[0mregens\u001b[0m\u001b[0;34m)\u001b[0m\u001b[0;34m+\u001b[0m\u001b[0;34m\",\"\u001b[0m\u001b[0;34m+\u001b[0m\u001b[0mstr\u001b[0m\u001b[0;34m(\u001b[0m\u001b[0mdropoutratio\u001b[0m\u001b[0;34m)\u001b[0m\u001b[0;34m+\u001b[0m\u001b[0;34m\")\"\u001b[0m \u001b[0;31m#6,10\u001b[0m\u001b[0;34m\u001b[0m\u001b[0;34m\u001b[0m\u001b[0m\n\u001b[1;32m     10\u001b[0m \u001b[0mexec\u001b[0m\u001b[0;34m(\u001b[0m\u001b[0mtraining\u001b[0m\u001b[0;34m)\u001b[0m\u001b[0;34m\u001b[0m\u001b[0;34m\u001b[0m\u001b[0m\n",
      "\u001b[0;32m<string>\u001b[0m in \u001b[0;36m<module>\u001b[0;34m\u001b[0m\n",
      "\u001b[0;31mNameError\u001b[0m: name 'NeuralHD' is not defined"
     ]
    }
   ],
   "source": [
    "# model=NeuralHD(9,xtrain.shape[1],3000)\n",
    "modelname=\"NeuralHD\"\n",
    "dimension=presets[datasetname][modelname][0]\n",
    "iterations=5\n",
    "regens=5\n",
    "dropoutratio=.1\n",
    "setup=\"model=NeuralHD(len(np.unique(y_test)),xtrain.shape[1],\"+ str(dimension) +\")\"\n",
    "exec(setup)\n",
    "training=\"model.fit(xtrain,ytrain,\"+str(iterations)+\",\"+str(regens)+\",\"+str(dropoutratio)+\")\" #6,10\n",
    "exec(training)\n",
    "modeldict[modelname]=[setup,training]"
   ]
  },
  {
   "cell_type": "code",
   "execution_count": 388,
   "metadata": {},
   "outputs": [
    {
     "data": {
      "image/png": "[encoded data removed]",
      "text/plain": [
       "<Figure size 432x288 with 1 Axes>"
      ]
     },
     "metadata": {
      "needs_background": "light"
     },
     "output_type": "display_data"
    }
   ],
   "source": [
    "plt.plot(range(0,len(accuracies)),accuracies)\n",
    "plt.show()"
   ]
  },
  {
   "cell_type": "markdown",
   "metadata": {},
   "source": [
    "Can we alleviate the randomness with backwards dropout rates?"
   ]
  },
  {
   "cell_type": "code",
   "execution_count": 393,
   "metadata": {},
   "outputs": [
    {
     "data": {
      "text/plain": [
       "0.9032020610967979"
      ]
     },
     "execution_count": 393,
     "metadata": {},
     "output_type": "execute_result"
    }
   ],
   "source": [
    "get_class_accuracy_breakdown(model,x_test,y_test)"
   ]
  },
  {
   "cell_type": "code",
   "execution_count": 25,
   "metadata": {},
   "outputs": [],
   "source": [
    "import onlinehd as Onlinehd\n",
    "import warnings\n",
    "modelname=\"OnlineHD\"\n",
    "dimension=presets[datasetname][modelname][0]\n",
    "bootstrap=64\n",
    "learningrate=presets[datasetname][modelname][2]\n",
    "epochs=150\n",
    "one_pass_fit=False\n",
    "warnings.filterwarnings('ignore')\n",
    "setup = \"model = Onlinehd.OnlineHD(len(np.unique(y_test)), x_test.shape[1], dim=\"+str(dimension)+\")\"\n",
    "exec(setup)\n",
    "training=\"model.fit(torch.from_numpy(xtrain),torch.from_numpy(ytrain), bootstrap=\"+str(bootstrap)+\", lr=\"+str(learningrate)+\", epochs=\"+str(epochs)+\", one_pass_fit=\"+str(one_pass_fit)+\")\"\n",
    "exec(training)\n",
    "modeldict[modelname]=[setup,training]"
   ]
  },
  {
   "cell_type": "code",
   "execution_count": 70,
   "metadata": {},
   "outputs": [
    {
     "name": "stdout",
     "output_type": "stream",
     "text": [
      "tensor(0.9308)\n",
      "tensor(0.9474)\n",
      "tensor(0.9238)\n",
      "tensor(0.9510)\n",
      "tensor(0.9430)\n",
      "tensor(0.9426)\n",
      "tensor(0.9463)\n",
      "tensor(0.9518)\n",
      "tensor(0.9308)\n",
      "tensor(0.9242)\n"
     ]
    }
   ],
   "source": [
    "for i in range(0,10):\n",
    "    model=None\n",
    "    model = Onlinehd.OnlineHD(len(np.unique(y_test)), x_test.shape[1], dim=1000)\n",
    "    model.fit(torch.from_numpy(xtrain),torch.from_numpy(ytrain), bootstrap=bootstrap, lr=.037, epochs=50, one_pass_fit=False)\n",
    "    print(get_class_accuracy_breakdown(model,x_test,y_test))"
   ]
  },
  {
   "cell_type": "code",
   "execution_count": 10,
   "metadata": {},
   "outputs": [],
   "source": [
    "accuracies=[]\n",
    "trainingtimes=[]\n",
    "for i in range(0,11):\n",
    "    bootstrap=2**i\n",
    "    start=time.time()\n",
    "    setup = \"model = Onlinehd.OnlineHD(len(np.unique(y_test)), x_test.shape[1], dim=\"+str(dimension)+\")\"\n",
    "    exec(setup)\n",
    "    training=\"model.fit(torch.from_numpy(xtrain),torch.from_numpy(ytrain), bootstrap=\"+str(bootstrap)+\", lr=\"+str(learningrate)+\", epochs=\"+str(epochs)+\", one_pass_fit=\"+str(one_pass_fit)+\")\"\n",
    "    exec(training)\n",
    "    end=time.time()\n",
    "    accuracies.append(get_class_accuracy_breakdown(model,x_test,y_test))\n",
    "    trainingtimes.append(end-start)"
   ]
  },
  {
   "cell_type": "code",
   "execution_count": 68,
   "metadata": {},
   "outputs": [
    {
     "data": {
      "text/plain": [
       "tensor(0.9492)"
      ]
     },
     "execution_count": 68,
     "metadata": {},
     "output_type": "execute_result"
    }
   ],
   "source": [
    "get_class_accuracy_breakdown(model,x_test,y_test)"
   ]
  },
  {
   "cell_type": "code",
   "execution_count": 66,
   "metadata": {},
   "outputs": [
    {
     "name": "stdout",
     "output_type": "stream",
     "text": [
      "0.03975105285644531\n"
     ]
    }
   ],
   "source": [
    "start=time.time()\n",
    "model.predict(torch.from_numpy(x_test))\n",
    "end=time.time()\n",
    "print(end-start)"
   ]
  },
  {
   "cell_type": "code",
   "execution_count": 21,
   "metadata": {},
   "outputs": [
    {
     "data": {
      "text/plain": [
       "[51.90499210357666,\n",
       " 35.233017921447754,\n",
       " 23.574031114578247,\n",
       " 15.629335880279541,\n",
       " 12.23548412322998,\n",
       " 7.438483953475952,\n",
       " 4.913514137268066,\n",
       " 3.434682846069336,\n",
       " 2.3217811584472656,\n",
       " 1.8649909496307373,\n",
       " 1.5347990989685059]"
      ]
     },
     "execution_count": 21,
     "metadata": {},
     "output_type": "execute_result"
    }
   ],
   "source": [
    "trainingtimes"
   ]
  },
  {
   "cell_type": "code",
   "execution_count": 74,
   "metadata": {},
   "outputs": [
    {
     "name": "stdout",
     "output_type": "stream",
     "text": [
      "Model: \"sequential_6\"\n",
      "_________________________________________________________________\n",
      "Layer (type)                 Output Shape              Param #   \n",
      "=================================================================\n",
      "dense_18 (Dense)             (None, 257)               66306     \n",
      "_________________________________________________________________\n",
      "dense_19 (Dense)             (None, 128)               33024     \n",
      "_________________________________________________________________\n",
      "dense_20 (Dense)             (None, 9)                 1161      \n",
      "=================================================================\n",
      "Total params: 100,491\n",
      "Trainable params: 100,491\n",
      "Non-trainable params: 0\n",
      "_________________________________________________________________\n",
      "(8151, 257) (8151, 9)\n",
      "Epoch 1/30\n",
      "66/66 [==============================] - 1s 4ms/step - loss: 1.2149 - accuracy: 0.6521 - val_loss: 0.8952 - val_accuracy: 0.7394\n",
      "Epoch 2/30\n",
      "66/66 [==============================] - 0s 2ms/step - loss: 0.7625 - accuracy: 0.7725 - val_loss: 0.7224 - val_accuracy: 0.7805\n",
      "Epoch 3/30\n",
      "66/66 [==============================] - 0s 2ms/step - loss: 0.6354 - accuracy: 0.8103 - val_loss: 0.6556 - val_accuracy: 0.8026\n",
      "Epoch 4/30\n",
      "66/66 [==============================] - 0s 2ms/step - loss: 0.5578 - accuracy: 0.8342 - val_loss: 0.5796 - val_accuracy: 0.8197\n",
      "Epoch 5/30\n",
      "66/66 [==============================] - 0s 1ms/step - loss: 0.4906 - accuracy: 0.8494 - val_loss: 0.4917 - val_accuracy: 0.8608\n",
      "Epoch 6/30\n",
      "66/66 [==============================] - 0s 2ms/step - loss: 0.4292 - accuracy: 0.8775 - val_loss: 0.4483 - val_accuracy: 0.8590\n",
      "Epoch 7/30\n",
      "66/66 [==============================] - 0s 2ms/step - loss: 0.3800 - accuracy: 0.8972 - val_loss: 0.3922 - val_accuracy: 0.8958\n",
      "Epoch 8/30\n",
      "66/66 [==============================] - 0s 2ms/step - loss: 0.3383 - accuracy: 0.9087 - val_loss: 0.4291 - val_accuracy: 0.8817\n",
      "Epoch 9/30\n",
      "66/66 [==============================] - 0s 4ms/step - loss: 0.3086 - accuracy: 0.9202 - val_loss: 0.4240 - val_accuracy: 0.8835\n",
      "Epoch 10/30\n",
      "66/66 [==============================] - 0s 2ms/step - loss: 0.2867 - accuracy: 0.9222 - val_loss: 0.3324 - val_accuracy: 0.9099\n",
      "Epoch 11/30\n",
      "66/66 [==============================] - 0s 2ms/step - loss: 0.2658 - accuracy: 0.9259 - val_loss: 0.3119 - val_accuracy: 0.9178\n",
      "Epoch 12/30\n",
      "66/66 [==============================] - 0s 2ms/step - loss: 0.2546 - accuracy: 0.9281 - val_loss: 0.2963 - val_accuracy: 0.9191\n",
      "Epoch 13/30\n",
      "66/66 [==============================] - 0s 2ms/step - loss: 0.2401 - accuracy: 0.9314 - val_loss: 0.2938 - val_accuracy: 0.9234\n",
      "Epoch 14/30\n",
      "66/66 [==============================] - 0s 2ms/step - loss: 0.2277 - accuracy: 0.9336 - val_loss: 0.2823 - val_accuracy: 0.9307\n",
      "Epoch 15/30\n",
      "66/66 [==============================] - 0s 2ms/step - loss: 0.2216 - accuracy: 0.9322 - val_loss: 0.3084 - val_accuracy: 0.9166\n",
      "Epoch 16/30\n",
      "66/66 [==============================] - 0s 2ms/step - loss: 0.2121 - accuracy: 0.9350 - val_loss: 0.2752 - val_accuracy: 0.9252\n",
      "Epoch 17/30\n",
      "66/66 [==============================] - 0s 2ms/step - loss: 0.2052 - accuracy: 0.9371 - val_loss: 0.2500 - val_accuracy: 0.9301\n",
      "Epoch 18/30\n",
      "66/66 [==============================] - 0s 2ms/step - loss: 0.1963 - accuracy: 0.9393 - val_loss: 0.2541 - val_accuracy: 0.9350\n",
      "Epoch 19/30\n",
      "66/66 [==============================] - 0s 2ms/step - loss: 0.1913 - accuracy: 0.9429 - val_loss: 0.2596 - val_accuracy: 0.9234\n",
      "Epoch 20/30\n",
      "66/66 [==============================] - 0s 2ms/step - loss: 0.1849 - accuracy: 0.9454 - val_loss: 0.2456 - val_accuracy: 0.9319\n",
      "Epoch 21/30\n",
      "66/66 [==============================] - 0s 2ms/step - loss: 0.1793 - accuracy: 0.9471 - val_loss: 0.2484 - val_accuracy: 0.9307\n",
      "Epoch 22/30\n",
      "66/66 [==============================] - 0s 2ms/step - loss: 0.1697 - accuracy: 0.9485 - val_loss: 0.2377 - val_accuracy: 0.9301\n",
      "Epoch 23/30\n",
      "66/66 [==============================] - 0s 2ms/step - loss: 0.1686 - accuracy: 0.9482 - val_loss: 0.2662 - val_accuracy: 0.9289\n",
      "Epoch 24/30\n",
      "66/66 [==============================] - 0s 2ms/step - loss: 0.1628 - accuracy: 0.9500 - val_loss: 0.2673 - val_accuracy: 0.9227\n",
      "Epoch 25/30\n",
      "66/66 [==============================] - 0s 2ms/step - loss: 0.1602 - accuracy: 0.9506 - val_loss: 0.2412 - val_accuracy: 0.9344\n",
      "Epoch 26/30\n",
      "66/66 [==============================] - 0s 2ms/step - loss: 0.1550 - accuracy: 0.9543 - val_loss: 0.3939 - val_accuracy: 0.9142\n",
      "Epoch 27/30\n",
      "66/66 [==============================] - 0s 2ms/step - loss: 0.1510 - accuracy: 0.9541 - val_loss: 0.2955 - val_accuracy: 0.9105\n",
      "Epoch 28/30\n",
      "66/66 [==============================] - 0s 2ms/step - loss: 0.1462 - accuracy: 0.9540 - val_loss: 0.2273 - val_accuracy: 0.9368\n",
      "Epoch 29/30\n",
      "66/66 [==============================] - 0s 2ms/step - loss: 0.1445 - accuracy: 0.9580 - val_loss: 0.2170 - val_accuracy: 0.9375\n",
      "Epoch 30/30\n",
      "66/66 [==============================] - 0s 2ms/step - loss: 0.1395 - accuracy: 0.9594 - val_loss: 0.2068 - val_accuracy: 0.9350\n",
      "Final Accuracy: 0.9593558311462402\n"
     ]
    },
    {
     "data": {
      "image/png": "[encoded data removed]",
      "text/plain": [
       "<Figure size 432x288 with 1 Axes>"
      ]
     },
     "metadata": {
      "needs_background": "light"
     },
     "output_type": "display_data"
    }
   ],
   "source": [
    "modelname=\"MLP\"\n",
    "batchsize=presets[datasetname][modelname][0]\n",
    "epochs=presets[datasetname][modelname][1]\n",
    "learningrate=presets[datasetname][modelname][2]\n",
    "def plot_accuracies(hist):\n",
    "    print(\"Final Accuracy: \" + str(hist.history['accuracy'][len(hist.history['accuracy'])-1]))\n",
    "    plt.plot(hist.history['accuracy'])\n",
    "    plt.plot(hist.history['val_accuracy'])\n",
    "    if len(hist.history['accuracy'])==1:\n",
    "        plt.plot([0], [hist.history['accuracy'][0]], marker='o', markersize=3, color=\"blue\")\n",
    "        plt.plot([0], [hist.history['val_accuracy'][0]], marker='o', markersize=3, color=\"orange\")\n",
    "\n",
    "    plt.title('Model Accuracy')\n",
    "    plt.ylabel('Accuracy')\n",
    "    plt.xlabel('Epoch')\n",
    "    plt.legend(['Train', 'Val'])\n",
    "    plt.show()\n",
    "def runTraining(model, x_train, y_train, batchSize, epochs, learningRate):\n",
    "  opt = RMSprop(learning_rate= learningRate)\n",
    "  model.compile(optimizer = opt, loss= 'categorical_crossentropy', metrics = ['accuracy'])\n",
    "  model.summary()\n",
    "  print(np.shape(x_train), np.shape(y_train))\n",
    "  history = model.fit(x_train, y_train,\n",
    "                    batch_size = batchSize,\n",
    "                    epochs = epochs, validation_split = .2, verbose = 1)\n",
    "  plot_accuracies(history)\n",
    "  return history.history['accuracy'][len(history.history['accuracy'])-1]\n",
    "\n",
    "def setup_():\n",
    "  model = Sequential()\n",
    "  model.add(Dense(xtrain.shape[1], activation='relu', input_shape=(xtrain.shape[1],)))\n",
    "  model.add(Dense(int(xtrain.shape[1]/2), activation='relu'))\n",
    "  model.add(Dense(len(np.unique(y_test)), activation=\"softmax\"))\n",
    "  return model\n",
    "def fit(model,xtrain,ytrain,batchsize,epochs,learningrate):\n",
    "  ohe = sklearn.preprocessing.OneHotEncoder()\n",
    "  transformed = ohe.fit_transform(np.expand_dims(ytrain,1))\n",
    "  runTraining(model, xtrain, transformed.toarray(), batchsize, epochs, learningrate)\n",
    "setup=\"model=setup_()\"\n",
    "exec(setup)\n",
    "training=\"fit(model,xtrain,ytrain,\"+str(batchsize)+\",\"+str(epochs)+\",\"+str(learningrate)+\")\"#100,30,.001\n",
    "exec(training)\n",
    "modeldict[modelname]=[setup,training]"
   ]
  },
  {
   "cell_type": "code",
   "execution_count": 75,
   "metadata": {},
   "outputs": [
    {
     "name": "stdout",
     "output_type": "stream",
     "text": [
      "[8 8 8 8 8 8 8 8 8 8 8 8 8 8 8 8 8 8 0 8 8 8 8 8 8 8 8 8 3 8]\n"
     ]
    },
    {
     "data": {
      "image/png": "[encoded data removed]",
      "text/plain": [
       "<Figure size 432x288 with 1 Axes>"
      ]
     },
     "metadata": {
      "needs_background": "light"
     },
     "output_type": "display_data"
    }
   ],
   "source": [
    "get_class_accuracy_breakdown(model,x_test,y_test)"
   ]
  },
  {
   "cell_type": "code",
   "execution_count": 76,
   "metadata": {},
   "outputs": [],
   "source": [
    "from sklearn import pipeline\n",
    "modelname=\"SVM\"\n",
    "datalimit=presets[datasetname][modelname][0]\n",
    "setup=\"model = sklearn.pipeline.make_pipeline(sklearn.preprocessing.StandardScaler(), sklearn.svm.SVC(gamma='auto'))\"\n",
    "exec(setup)\n",
    "training=\"model.fit(xtrain[:\"+ str(datalimit or \"\") +\"], ytrain[:\"+str(datalimit or \"\") +\"])\"\n",
    "exec(training)\n",
    "modeldict[modelname]=[setup,training]"
   ]
  },
  {
   "cell_type": "code",
   "execution_count": 77,
   "metadata": {},
   "outputs": [
    {
     "name": "stdout",
     "output_type": "stream",
     "text": [
      "[8 8 8 1 8 8 8 1 8 8 8 8 8 8 8 8 8 8 0 1 8 8 8 8 8 8 8 8 2 1]\n"
     ]
    },
    {
     "data": {
      "image/png": "[encoded data removed]",
      "text/plain": [
       "<Figure size 432x288 with 1 Axes>"
      ]
     },
     "metadata": {
      "needs_background": "light"
     },
     "output_type": "display_data"
    }
   ],
   "source": [
    "get_class_accuracy_breakdown(model,x_test,y_test)"
   ]
  },
  {
   "cell_type": "code",
   "execution_count": 158,
   "metadata": {},
   "outputs": [],
   "source": [
    "\n",
    "modelexecs=[]\n",
    "modelnames=[]\n",
    "for key,value in modeldict.items():\n",
    "    modelexecs.append(value)\n",
    "    modelnames.append(key)"
   ]
  },
  {
   "cell_type": "code",
   "execution_count": 159,
   "metadata": {},
   "outputs": [
    {
     "name": "stdout",
     "output_type": "stream",
     "text": [
      "0\n",
      "model = Onlinehd.OnlineHD(len(np.unique(y_test)), x_test.shape[1], dim=3000)\n",
      "ekans <class 'onlinehd.onlinehd.OnlineHD'>\n",
      "2.093048095703125\n",
      "0.09137797355651855\n",
      "tensor(0.8266)\n",
      "1\n",
      "model=setup_()\n",
      "ekans <class 'tensorflow.python.keras.engine.sequential.Sequential'>\n",
      "Model: \"sequential_16\"\n",
      "_________________________________________________________________\n",
      "Layer (type)                 Output Shape              Param #   \n",
      "=================================================================\n",
      "dense_48 (Dense)             (None, 257)               66306     \n",
      "_________________________________________________________________\n",
      "dense_49 (Dense)             (None, 128)               33024     \n",
      "_________________________________________________________________\n",
      "dense_50 (Dense)             (None, 9)                 1161      \n",
      "=================================================================\n",
      "Total params: 100,491\n",
      "Trainable params: 100,491\n",
      "Non-trainable params: 0\n",
      "_________________________________________________________________\n",
      "(8151, 257) (8151, 9)\n",
      "Epoch 1/30\n",
      "66/66 [==============================] - 1s 3ms/step - loss: 1.2397 - accuracy: 0.6066 - val_loss: 0.9397 - val_accuracy: 0.6996\n",
      "Epoch 2/30\n",
      "66/66 [==============================] - 0s 2ms/step - loss: 0.7912 - accuracy: 0.7601 - val_loss: 0.7914 - val_accuracy: 0.7756\n",
      "Epoch 3/30\n",
      "66/66 [==============================] - 0s 2ms/step - loss: 0.6597 - accuracy: 0.8051 - val_loss: 0.6467 - val_accuracy: 0.8087\n",
      "Epoch 4/30\n",
      "66/66 [==============================] - 0s 2ms/step - loss: 0.5734 - accuracy: 0.8325 - val_loss: 0.5865 - val_accuracy: 0.8418\n",
      "Epoch 5/30\n",
      "66/66 [==============================] - 0s 2ms/step - loss: 0.5028 - accuracy: 0.8537 - val_loss: 0.5164 - val_accuracy: 0.8437\n",
      "Epoch 6/30\n",
      "66/66 [==============================] - 0s 2ms/step - loss: 0.4435 - accuracy: 0.8647 - val_loss: 0.5101 - val_accuracy: 0.8633\n",
      "Epoch 7/30\n",
      "66/66 [==============================] - 0s 2ms/step - loss: 0.3910 - accuracy: 0.8920 - val_loss: 0.4354 - val_accuracy: 0.9044\n",
      "Epoch 8/30\n",
      "66/66 [==============================] - 0s 2ms/step - loss: 0.3472 - accuracy: 0.9080 - val_loss: 0.4055 - val_accuracy: 0.9001\n",
      "Epoch 9/30\n",
      "66/66 [==============================] - 0s 2ms/step - loss: 0.3158 - accuracy: 0.9149 - val_loss: 0.3265 - val_accuracy: 0.9123\n",
      "Epoch 10/30\n",
      "66/66 [==============================] - 0s 2ms/step - loss: 0.2854 - accuracy: 0.9229 - val_loss: 0.3130 - val_accuracy: 0.9234\n",
      "Epoch 11/30\n",
      "66/66 [==============================] - 0s 2ms/step - loss: 0.2634 - accuracy: 0.9279 - val_loss: 0.3047 - val_accuracy: 0.9178\n",
      "Epoch 12/30\n",
      "66/66 [==============================] - 0s 2ms/step - loss: 0.2488 - accuracy: 0.9313 - val_loss: 0.3929 - val_accuracy: 0.8970\n",
      "Epoch 13/30\n",
      "66/66 [==============================] - 0s 2ms/step - loss: 0.2365 - accuracy: 0.9310 - val_loss: 0.2961 - val_accuracy: 0.9270\n",
      "Epoch 14/30\n",
      "66/66 [==============================] - 0s 2ms/step - loss: 0.2242 - accuracy: 0.9359 - val_loss: 0.2556 - val_accuracy: 0.9295\n",
      "Epoch 15/30\n",
      "66/66 [==============================] - 0s 2ms/step - loss: 0.2138 - accuracy: 0.9376 - val_loss: 0.3414 - val_accuracy: 0.9001\n",
      "Epoch 16/30\n",
      "66/66 [==============================] - 0s 2ms/step - loss: 0.2090 - accuracy: 0.9377 - val_loss: 0.2583 - val_accuracy: 0.9307\n",
      "Epoch 17/30\n",
      "66/66 [==============================] - 0s 2ms/step - loss: 0.1985 - accuracy: 0.9396 - val_loss: 0.2539 - val_accuracy: 0.9301\n",
      "Epoch 18/30\n",
      "66/66 [==============================] - 0s 2ms/step - loss: 0.1902 - accuracy: 0.9397 - val_loss: 0.2495 - val_accuracy: 0.9086\n",
      "Epoch 19/30\n",
      "66/66 [==============================] - 0s 2ms/step - loss: 0.1843 - accuracy: 0.9436 - val_loss: 0.2540 - val_accuracy: 0.9356\n",
      "Epoch 20/30\n",
      "66/66 [==============================] - 0s 2ms/step - loss: 0.1778 - accuracy: 0.9449 - val_loss: 0.2441 - val_accuracy: 0.9344\n",
      "Epoch 21/30\n",
      "66/66 [==============================] - 0s 2ms/step - loss: 0.1714 - accuracy: 0.9477 - val_loss: 0.3063 - val_accuracy: 0.9111\n",
      "Epoch 22/30\n",
      "66/66 [==============================] - 0s 2ms/step - loss: 0.1684 - accuracy: 0.9503 - val_loss: 0.2392 - val_accuracy: 0.9338\n",
      "Epoch 23/30\n",
      "66/66 [==============================] - 0s 2ms/step - loss: 0.1636 - accuracy: 0.9492 - val_loss: 0.2319 - val_accuracy: 0.9362\n",
      "Epoch 24/30\n",
      "66/66 [==============================] - 0s 2ms/step - loss: 0.1564 - accuracy: 0.9526 - val_loss: 0.2525 - val_accuracy: 0.9319\n",
      "Epoch 25/30\n",
      "66/66 [==============================] - 0s 2ms/step - loss: 0.1535 - accuracy: 0.9525 - val_loss: 0.2155 - val_accuracy: 0.9424\n",
      "Epoch 26/30\n",
      "66/66 [==============================] - 0s 2ms/step - loss: 0.1507 - accuracy: 0.9563 - val_loss: 0.2296 - val_accuracy: 0.9387\n",
      "Epoch 27/30\n",
      "66/66 [==============================] - 0s 2ms/step - loss: 0.1465 - accuracy: 0.9557 - val_loss: 0.2657 - val_accuracy: 0.9289\n",
      "Epoch 28/30\n",
      "66/66 [==============================] - 0s 2ms/step - loss: 0.1425 - accuracy: 0.9571 - val_loss: 0.2113 - val_accuracy: 0.9418\n",
      "Epoch 29/30\n",
      "66/66 [==============================] - 0s 2ms/step - loss: 0.1347 - accuracy: 0.9606 - val_loss: 0.2094 - val_accuracy: 0.9454\n",
      "Epoch 30/30\n",
      "66/66 [==============================] - 0s 2ms/step - loss: 0.1337 - accuracy: 0.9586 - val_loss: 0.2195 - val_accuracy: 0.9424\n",
      "Final Accuracy: 0.9585889577865601\n"
     ]
    },
    {
     "data": {
      "image/png": "[encoded data removed]",
      "text/plain": [
       "<Figure size 432x288 with 1 Axes>"
      ]
     },
     "metadata": {
      "needs_background": "light"
     },
     "output_type": "display_data"
    },
    {
     "name": "stdout",
     "output_type": "stream",
     "text": [
      "4.224864959716797\n",
      "0.08707523345947266\n",
      "0.9466323150533676\n",
      "2\n",
      "model = sklearn.pipeline.make_pipeline(sklearn.preprocessing.StandardScaler(), sklearn.svm.SVC(gamma='auto'))\n",
      "ekans <class 'sklearn.pipeline.Pipeline'>\n",
      "2.647629976272583\n",
      "2.2856240272521973\n",
      "0.8906882591093117\n",
      "3\n",
      "model=NeuralHD(len(np.unique(y_test)),xtrain.shape[1],3000)\n",
      "ekans <class '__main__.NeuralHD'>\n",
      "Updating times: 6\n",
      "regenloop: 0\n",
      "regeneration\n",
      "Updating basis......\n",
      "regenloop: 1\n",
      "regeneration\n",
      "Updating basis......\n",
      "regenloop: 2\n",
      "regeneration\n",
      "Updating basis......\n",
      "regenloop: 3\n",
      "regeneration\n",
      "Updating basis......\n",
      "regenloop: 4\n",
      "regeneration\n",
      "Updating basis......\n",
      "regenloop: 5\n",
      "regeneration\n",
      "Updating basis......\n",
      "regenloop: 6\n",
      "11.120788812637329\n",
      "0.13581609725952148\n",
      "0.9068825910931174\n"
     ]
    },
    {
     "data": {
      "image/png": "[encoded data removed]",
      "text/plain": [
       "<Figure size 432x288 with 1 Axes>"
      ]
     },
     "metadata": {
      "needs_background": "light"
     },
     "output_type": "display_data"
    },
    {
     "data": {
      "image/png": "[encoded data removed]",
      "text/plain": [
       "<Figure size 432x288 with 1 Axes>"
      ]
     },
     "metadata": {
      "needs_background": "light"
     },
     "output_type": "display_data"
    },
    {
     "data": {
      "image/png": "[encoded data removed]",
      "text/plain": [
       "<Figure size 432x288 with 1 Axes>"
      ]
     },
     "metadata": {
      "needs_background": "light"
     },
     "output_type": "display_data"
    }
   ],
   "source": [
    "traininglatencies=[]\n",
    "inferencelatencies=[]\n",
    "accs=[]\n",
    "for i in range(0,len(modelexecs)):\n",
    "    yhat=None\n",
    "    print(i)\n",
    "    print(modelexecs[i][0])\n",
    "    exec(modelexecs[i][0])\n",
    "    print(\"ekans\", type(model))\n",
    "    start=time.time()\n",
    "    exec(modelexecs[i][1])\n",
    "    end = time.time()\n",
    "    traininglatency=end-start\n",
    "    print(traininglatency)\n",
    "    traininglatencies.append(traininglatency)\n",
    "    try:\n",
    "        start=time.time()\n",
    "        yhat=model.predict(x_test)\n",
    "        end=time.time()\n",
    "    except:\n",
    "        start=time.time()\n",
    "        yhat=model.predict(torch.from_numpy((x_test)))\n",
    "        end=time.time()\n",
    "    inferencelatency=end-start\n",
    "    print(inferencelatency)\n",
    "    inferencelatencies.append(inferencelatency)\n",
    "    if len(yhat.shape)==2:\n",
    "        yhat=np.array([row.argmax() for row in yhat])\n",
    "    eval=[yhat[i]==y_test[i] for i in range(len(y_test))]\n",
    "    acc=sum(eval)/len(y_test)\n",
    "    print(acc)\n",
    "    accs.append(acc)\n",
    "plt.bar(modelnames,accs)\n",
    "plt.title(\"Accuracy by model\")\n",
    "plt.show()\n",
    "plt.bar(modelnames,inferencelatencies)\n",
    "plt.title(\"Inference Latency by model\")\n",
    "plt.show()\n",
    "plt.bar(modelnames,traininglatencies)\n",
    "plt.title(\"Training Latency by model\")\n",
    "plt.show()"
   ]
  },
  {
   "cell_type": "code",
   "execution_count": 83,
   "metadata": {},
   "outputs": [
    {
     "data": {
      "text/plain": [
       "tensor([0.0896, 3.6227, 4.3752, 4.9817, 2.8063, 1.9133, 3.2085, 3.7869, 5.1253,\n",
       "        3.3032, 3.0802, 1.4958, 5.2226, 5.8879, 4.7670, 1.1844, 2.0562, 3.9958,\n",
       "        2.8611, 5.7673, 4.4283, 2.0349, 5.9857, 0.3350, 4.2482, 2.2704, 5.7467,\n",
       "        1.3365, 2.3431, 3.9906, 0.1821, 0.2825, 2.1377, 2.1720, 4.0624, 0.7961,\n",
       "        2.5138, 2.5185, 5.7470, 1.6266, 3.4089, 4.7303, 4.3464, 4.9270, 2.5466,\n",
       "        0.5581, 2.9040, 2.2172, 1.3333, 2.2763, 0.0282, 1.2282, 5.8908, 2.4658,\n",
       "        0.0348, 2.8463, 0.2769, 5.9795, 3.9533, 0.8936, 0.4039, 3.7111, 2.5136,\n",
       "        4.8631, 3.0907, 1.3999, 5.3088, 1.2471, 3.5218, 0.7728, 0.1808, 6.0663,\n",
       "        6.0172, 5.7376, 1.9721, 1.3541, 1.9518, 0.8433, 2.9055, 0.2385, 1.2330,\n",
       "        6.0237, 1.7741, 2.2801, 4.9309, 1.8257, 4.7559, 2.2793, 2.4129, 3.7286,\n",
       "        2.3983, 6.1740, 6.1402, 2.2429, 0.1174, 2.8097, 1.9495, 0.9414, 2.4161,\n",
       "        4.7952])"
      ]
     },
     "execution_count": 83,
     "metadata": {},
     "output_type": "execute_result"
    }
   ],
   "source": [
    "base = torch.empty(100).uniform_(0.0, 2*math.pi)\n",
    "base"
   ]
  },
  {
   "cell_type": "code",
   "execution_count": 22,
   "metadata": {},
   "outputs": [
    {
     "data": {
      "text/plain": [
       "array([[0.00417331, 0.00198674, 0.00199447, ..., 0.0019977 , 0.00228069,\n",
       "        0.9994875 ],\n",
       "       [0.17400144, 0.10067265, 0.09362896, ..., 0.01913799, 0.11678842,\n",
       "        0.02776203],\n",
       "       [0.00329874, 0.00185255, 0.0013376 , ..., 0.0013139 , 0.00219299,\n",
       "        0.999762  ],\n",
       "       ...,\n",
       "       [0.1428496 , 0.10276667, 0.10178689, ..., 0.01244535, 0.05796117,\n",
       "        0.00994436],\n",
       "       [0.44145522, 0.02774305, 0.01506805, ..., 0.03137317, 0.17785567,\n",
       "        0.39391887],\n",
       "       [0.00325393, 0.00178576, 0.00136776, ..., 0.00132639, 0.00216282,\n",
       "        0.9997621 ]], dtype=float32)"
      ]
     },
     "execution_count": 22,
     "metadata": {},
     "output_type": "execute_result"
    }
   ],
   "source": [
    "xtrain"
   ]
  }
 ],
 "metadata": {
  "interpreter": {
   "hash": "aee8b7b246df8f9039afb4144a1f6fd8d2ca17a180786b69acc140d282b71a49"
  },
  "kernelspec": {
   "display_name": "Python 3.9.13 64-bit",
   "language": "python",
   "name": "python3"
  },
  "language_info": {
   "codemirror_mode": {
    "name": "ipython",
    "version": 3
   },
   "file_extension": ".py",
   "mimetype": "text/x-python",
   "name": "python",
   "nbconvert_exporter": "python",
   "pygments_lexer": "ipython3",
   "version": "3.9.13"
  },
  "orig_nbformat": 4
 },
 "nbformat": 4,
 "nbformat_minor": 2
}
