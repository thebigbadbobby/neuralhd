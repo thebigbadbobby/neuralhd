{
 "cells": [
  {
   "cell_type": "code",
   "execution_count": 7,
   "metadata": {},
   "outputs": [],
   "source": [
    "from OnlineHDv1test import OnlineHDv1\n",
    "from OnlineHDv2 import OnlineHDv2\n",
    "import time\n",
    "import numpy as np\n",
    "import torch\n",
    "import matplotlib.pyplot as plt"
   ]
  },
  {
   "cell_type": "code",
   "execution_count": 8,
   "metadata": {},
   "outputs": [],
   "source": [
    "path=\"../../../Data/malware-classification/\"\n",
    "with open(path+'data11.npy', 'rb') as f:\n",
    "    transxtrain=np.load(f)\n",
    "    transx_test=np.load(f)\n",
    "    transytrain=np.load(f)\n",
    "    transy_test=np.load(f)\n",
    "xtr=torch.from_numpy(transxtrain).float()\n",
    "xte=torch.from_numpy(transx_test).float()\n",
    "ytr=torch.from_numpy(transytrain).long()\n",
    "yte=torch.from_numpy(transy_test).long()"
   ]
  },
  {
   "cell_type": "code",
   "execution_count": 39,
   "metadata": {},
   "outputs": [
    {
     "name": "stderr",
     "output_type": "stream",
     "text": [
      "/Users/bobbymissirian/Files/Research/Cybersecurity/Experiments/OnlineHDv1test.py:52: UserWarning: An output with one or more elements was resized since it had shape [257, 10], which does not match the required output shape [8, 10].This behavior is deprecated, and in a future PyTorch release outputs will not be resized unless they have zero elements. You can explicitly reuse an out tensor t by resizing it, inplace, to zero elements with t.resize_(0). (Triggered internally at  ../aten/src/ATen/native/Resize.cpp:23.)\n",
      "  torch.matmul(x[i:i+bsize], self.basis.T, out=temp)\n",
      "/Users/bobbymissirian/Files/Research/Cybersecurity/Experiments/OnlineHDv2.py:53: UserWarning: An output with one or more elements was resized since it had shape [257, 10], which does not match the required output shape [8, 10].This behavior is deprecated, and in a future PyTorch release outputs will not be resized unless they have zero elements. You can explicitly reuse an out tensor t by resizing it, inplace, to zero elements with t.resize_(0). (Triggered internally at  ../aten/src/ATen/native/Resize.cpp:23.)\n",
      "  torch.matmul(x[i:i+bsize], self.basis.T, out=temp)\n"
     ]
    }
   ],
   "source": [
    "diffs=[]\n",
    "model1classes=[]\n",
    "model2classes=[]\n",
    "for ekans in range(0,13):\n",
    "    model=OnlineHDv1(classes =9, features =257, dim = 10, batch_size=1,lr=.0001)\n",
    "    model2=OnlineHDv2(classes =9, features =257, dim = 10, batch_size=1,lr=.0001)\n",
    "    model2.basis=model.basis[:]\n",
    "    model2.base=model.base[:]\n",
    "    cat=2**7\n",
    "    model.fit(xtr[0:cat],ytr[0:cat],ekans)\n",
    "    model2.fit(xtr[0:cat],ytr[0:cat],ekans)\n",
    "    # print(model2.classes)\n",
    "    # model1classes.append(torch.mean(torch.abs()))\n",
    "    model1classes.append(float(torch.mean(torch.abs(model.classes))))\n",
    "    model2classes.append(float(torch.mean(torch.abs(model2.classes))))\n",
    "    diffs.append(float(torch.mean(torch.abs(model.classes-model2.classes))))"
   ]
  },
  {
   "cell_type": "code",
   "execution_count": 40,
   "metadata": {},
   "outputs": [
    {
     "data": {
      "text/plain": [
       "[0.0,\n",
       " 3.877984359416248e-13,\n",
       " 2.779011558633887e-13,\n",
       " 4.0421987046630747e-13,\n",
       " 1.8189894306509108e-13,\n",
       " 2.2737367544323206e-13,\n",
       " 5.709605423002972e-13,\n",
       " 3.840088782982448e-13,\n",
       " 4.446418548024328e-13,\n",
       " 1.331399183610027e-12,\n",
       " 1.3364518909944612e-12,\n",
       " 4.256940394804787e-13,\n",
       " 1.6168795089702842e-13]"
      ]
     },
     "execution_count": 40,
     "metadata": {},
     "output_type": "execute_result"
    }
   ],
   "source": [
    "diffs"
   ]
  },
  {
   "cell_type": "code",
   "execution_count": 37,
   "metadata": {},
   "outputs": [
    {
     "data": {
      "text/plain": [
       "[0.0,\n",
       " 0.00033512836671434343,\n",
       " 0.0004071789444424212,\n",
       " 0.0009068091167137027,\n",
       " 0.0009234388126060367,\n",
       " 0.0012996941804885864,\n",
       " 0.0017686679493635893,\n",
       " 0.002221085363999009,\n",
       " 0.0034792718943208456,\n",
       " 0.0012991379480808973,\n",
       " 0.0021813237108290195,\n",
       " 0.0032628586050122976,\n",
       " 0.003858668962493539]"
      ]
     },
     "execution_count": 37,
     "metadata": {},
     "output_type": "execute_result"
    }
   ],
   "source": [
    "model1classes"
   ]
  },
  {
   "cell_type": "code",
   "execution_count": 38,
   "metadata": {},
   "outputs": [
    {
     "data": {
      "text/plain": [
       "[0.0,\n",
       " 0.00033509370405226946,\n",
       " 0.0004274880629964173,\n",
       " 0.0009033878450281918,\n",
       " 0.0009195975726470351,\n",
       " 0.0013335969997569919,\n",
       " 0.0017179114511236548,\n",
       " 0.002244184724986553,\n",
       " 0.0034508483950048685,\n",
       " 0.0012936226557940245,\n",
       " 0.0021421604324132204,\n",
       " 0.0033055248204618692,\n",
       " 0.0038111568428575993]"
      ]
     },
     "execution_count": 38,
     "metadata": {},
     "output_type": "execute_result"
    }
   ],
   "source": [
    "model2classes"
   ]
  }
 ],
 "metadata": {
  "kernelspec": {
   "display_name": "Python 3.9.13 64-bit",
   "language": "python",
   "name": "python3"
  },
  "language_info": {
   "codemirror_mode": {
    "name": "ipython",
    "version": 3
   },
   "file_extension": ".py",
   "mimetype": "text/x-python",
   "name": "python",
   "nbconvert_exporter": "python",
   "pygments_lexer": "ipython3",
   "version": "3.9.13"
  },
  "orig_nbformat": 4,
  "vscode": {
   "interpreter": {
    "hash": "aee8b7b246df8f9039afb4144a1f6fd8d2ca17a180786b69acc140d282b71a49"
   }
  }
 },
 "nbformat": 4,
 "nbformat_minor": 2
}
