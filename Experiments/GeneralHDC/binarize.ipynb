{
 "cells": [
  {
   "cell_type": "code",
   "execution_count": 137,
   "metadata": {},
   "outputs": [],
   "source": [
    "from Module import *\n",
    "from TrainAlgorithms import *\n",
    "from keras.datasets import mnist\n",
    "import time\n",
    "from sklearn import preprocessing"
   ]
  },
  {
   "cell_type": "code",
   "execution_count": 138,
   "metadata": {},
   "outputs": [],
   "source": [
    "path=\"../../../../Data/malware-classification/\"\n",
    "with open(path+'data11.npy', 'rb') as f:\n",
    "    transxtrain=np.load(f)\n",
    "    transx_test=np.load(f)\n",
    "    transytrain=np.load(f)\n",
    "    transy_test=np.load(f)\n",
    "xtr=torch.from_numpy(transxtrain).float()\n",
    "xte=torch.from_numpy(transx_test).float()\n",
    "ytr=torch.from_numpy(transytrain).long()\n",
    "yte=torch.from_numpy(transy_test).long()\n",
    "scaler = preprocessing.Normalizer().fit(xtr)\n",
    "x_tr = torch.tensor(scaler.transform(xtr))\n",
    "x_te = torch.tensor(scaler.transform(xte))"
   ]
  },
  {
   "cell_type": "code",
   "execution_count": 139,
   "metadata": {},
   "outputs": [],
   "source": [
    "(x_train, y_train), (x_test, y_test) = mnist.load_data()\n",
    "x_train=torch.from_numpy(x_train).float().reshape(60000,784)\n",
    "x_test=torch.from_numpy(x_test).float().reshape(10000,784)\n",
    "y_train=torch.from_numpy(y_train).long()\n",
    "y_test=torch.from_numpy(y_test).long()\n",
    "scaler = preprocessing.Normalizer().fit(x_train)\n",
    "x_train = torch.tensor(scaler.transform(x_train))\n",
    "x_test = torch.tensor(scaler.transform(x_test))"
   ]
  },
  {
   "cell_type": "code",
   "execution_count": 68,
   "metadata": {},
   "outputs": [],
   "source": [
    "def binary(y_train, label):\n",
    "    y_new=torch.ones((y_train.shape))\n",
    "    for i in range(y_train.shape[0]):\n",
    "        if y_train[i]==label:\n",
    "            y_new[i]=0\n",
    "        else:\n",
    "            y_train[i]=1\n",
    "    return y_new"
   ]
  },
  {
   "cell_type": "code",
   "execution_count": 134,
   "metadata": {},
   "outputs": [],
   "source": [
    "model=HDCModel(9,257,2048)\n",
    "# train_start(model,NeuralHDv2(15,4,4,.0001,.1),xtr,ytr)\n",
    "# train_start(model,Normalize(),xtr,ytr)\n",
    "# train_start(model,ClassicVersion2(1,.0001),xtr,binary(ytr,0).long())"
   ]
  },
  {
   "cell_type": "code",
   "execution_count": 135,
   "metadata": {},
   "outputs": [
    {
     "data": {
      "text/plain": [
       "tensor(0.1399)"
      ]
     },
     "execution_count": 135,
     "metadata": {},
     "output_type": "execute_result"
    }
   ],
   "source": [
    "eval_acc(model,xte,yte)"
   ]
  },
  {
   "cell_type": "code",
   "execution_count": 120,
   "metadata": {},
   "outputs": [
    {
     "data": {
      "text/plain": [
       "torch.Size([2048, 257])"
      ]
     },
     "execution_count": 120,
     "metadata": {},
     "output_type": "execute_result"
    }
   ],
   "source": [
    "model.basis.shape"
   ]
  },
  {
   "cell_type": "code",
   "execution_count": 124,
   "metadata": {},
   "outputs": [
    {
     "name": "stderr",
     "output_type": "stream",
     "text": [
      "<ipython-input-124-bdd91d1510ba>:13: UserWarning: An output with one or more elements was resized since it had shape [8151, 1], which does not match the required output shape [8151, 2048].This behavior is deprecated, and in a future PyTorch release outputs will not be resized unless they have zero elements. You can explicitly reuse an out tensor t by resizing it, inplace, to zero elements with t.resize_(0). (Triggered internally at  ../aten/src/ATen/native/Resize.cpp:23.)\n",
      "  torch.add(temp, model.base, out=h[j:j+n])#h[i:i+bsize]=temp# torch.add(temp, self.base, out=h[i:i+bsize])\n"
     ]
    }
   ],
   "source": [
    "full=model.encode(xtr)\n",
    "def encode(model,xtr,i):\n",
    "    n = xtr.size(0)\n",
    "    h = torch.empty(n, model.basis[i:i+1].shape[0], device=xtr.device, dtype=xtr.dtype)\n",
    "    temp = torch.empty(n, model.basis[i:i+1].shape[0], device=xtr.device, dtype=xtr.dtype)\n",
    "\n",
    "    # we need batches to remove memory usage\n",
    "    for j in range(0, n, n):\n",
    "        torch.matmul(xtr[j:j+n], model.basis[i:i+1].T, out=temp)\n",
    "\n",
    "        # self.noise ... I haven't seen any indication that it works better \n",
    "        # if self.noise:\n",
    "        torch.add(temp, model.base, out=h[j:j+n])#h[i:i+bsize]=temp# torch.add(temp, self.base, out=h[i:i+bsize])\n",
    "        # else:\n",
    "        # h[i:i+bsize]=temp\n",
    "        h[j:j+n].cos_().mul_(temp.sin_())\n",
    "    return h\n",
    "accs=torch.zeros((model.dimensionality,))\n",
    "for i in range(0,model.dimensionality):\n",
    "    yhat=cos_cdist(encode(model,xtr,i), model.classes[:,i:i+1]).argmax(1)#full[:,i:i+1]\n",
    "    eval=[yhat[i]==yte[i] for i in range(len(yte))]\n",
    "    accs[i]=sum(eval)/len(yte)"
   ]
  },
  {
   "cell_type": "code",
   "execution_count": 125,
   "metadata": {},
   "outputs": [
    {
     "data": {
      "text/plain": [
       "tensor([0.1399, 0.1399, 0.1399,  ..., 0.1399, 0.1399, 0.1399])"
      ]
     },
     "execution_count": 125,
     "metadata": {},
     "output_type": "execute_result"
    }
   ],
   "source": [
    "accs"
   ]
  },
  {
   "cell_type": "code",
   "execution_count": 141,
   "metadata": {},
   "outputs": [
    {
     "data": {
      "text/plain": [
       "<matplotlib.collections.PathCollection at 0x1ae727520>"
      ]
     },
     "execution_count": 141,
     "metadata": {},
     "output_type": "execute_result"
    },
    {
     "data": {
      "image/png": "[encoded data removed]",
      "text/plain": [
       "<Figure size 432x288 with 1 Axes>"
      ]
     },
     "metadata": {
      "needs_background": "light"
     },
     "output_type": "display_data"
    }
   ],
   "source": [
    "normed_classes=torch.nn.functional.normalize(model.classes)\n",
    "var = torch.var(normed_classes, 0) \n",
    "# assert len(var) == self.dimensionality\n",
    "# rank each entry in variances from smallest to largest\n",
    "order = torch.argsort(accs)\n",
    "x=model.encode(xtr[:200])[:,order[0]]\n",
    "y=model.encode(xtr[:200])[:,order[1]]\n",
    "plt.scatter(x,y,c=yte[:200])"
   ]
  },
  {
   "cell_type": "code",
   "execution_count": 76,
   "metadata": {},
   "outputs": [
    {
     "name": "stdout",
     "output_type": "stream",
     "text": [
      "tensor([0.0593, 0.0626, 0.0626,  ..., 0.2083, 0.2102, 0.2109])\n"
     ]
    }
   ],
   "source": [
    "model.basis"
   ]
  }
 ],
 "metadata": {
  "kernelspec": {
   "display_name": "Python 3.9.13 64-bit",
   "language": "python",
   "name": "python3"
  },
  "language_info": {
   "codemirror_mode": {
    "name": "ipython",
    "version": 3
   },
   "file_extension": ".py",
   "mimetype": "text/x-python",
   "name": "python",
   "nbconvert_exporter": "python",
   "pygments_lexer": "ipython3",
   "version": "3.9.13"
  },
  "orig_nbformat": 4,
  "vscode": {
   "interpreter": {
    "hash": "aee8b7b246df8f9039afb4144a1f6fd8d2ca17a180786b69acc140d282b71a49"
   }
  }
 },
 "nbformat": 4,
 "nbformat_minor": 2
}
