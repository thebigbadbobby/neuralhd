{
 "cells": [
  {
   "cell_type": "code",
   "execution_count": 1,
   "metadata": {},
   "outputs": [],
   "source": [
    "from Module import *\n",
    "from TrainAlgorithms import *\n",
    "from keras.datasets import mnist\n",
    "import time\n",
    "from sklearn import preprocessing"
   ]
  },
  {
   "cell_type": "code",
   "execution_count": 2,
   "metadata": {},
   "outputs": [],
   "source": [
    "# def sum(x):\n",
    "#     return x.sum(0)"
   ]
  },
  {
   "cell_type": "code",
   "execution_count": 3,
   "metadata": {},
   "outputs": [],
   "source": [
    "path=\"../../../../Data/malware-classification/\"\n",
    "with open(path+'data11.npy', 'rb') as f:\n",
    "    transxtrain=np.load(f)\n",
    "    transx_test=np.load(f)\n",
    "    transytrain=np.load(f)\n",
    "    transy_test=np.load(f)\n",
    "xtr=torch.from_numpy(transxtrain).float()\n",
    "xte=torch.from_numpy(transx_test).float()\n",
    "ytr=torch.from_numpy(transytrain).long()\n",
    "yte=torch.from_numpy(transy_test).long()\n",
    "# scaler = preprocessing.Normalizer().fit(xtr)\n",
    "# x_tr = torch.tensor(scaler.transform(xtr))\n",
    "# x_te = torch.tensor(scaler.transform(xte))"
   ]
  },
  {
   "cell_type": "code",
   "execution_count": 4,
   "metadata": {},
   "outputs": [],
   "source": [
    "(x_train, y_train), (x_test, y_test) = mnist.load_data()\n",
    "x_train=torch.from_numpy(x_train).float().reshape(60000,784)\n",
    "x_test=torch.from_numpy(x_test).float().reshape(10000,784)\n",
    "y_train=torch.from_numpy(y_train).long()\n",
    "y_test=torch.from_numpy(y_test).long()\n",
    "scaler = preprocessing.Normalizer().fit(x_train)\n",
    "x_train = torch.tensor(scaler.transform(x_train))\n",
    "x_test = torch.tensor(scaler.transform(x_test))"
   ]
  },
  {
   "cell_type": "code",
   "execution_count": 17,
   "metadata": {},
   "outputs": [
    {
     "name": "stdout",
     "output_type": "stream",
     "text": [
      "0.58795\n",
      "0.597825\n"
     ]
    }
   ],
   "source": [
    "#with midway neuralhd\n",
    "print(np.mean(accs))\n",
    "print(np.median(accs))"
   ]
  },
  {
   "cell_type": "code",
   "execution_count": 19,
   "metadata": {},
   "outputs": [
    {
     "name": "stdout",
     "output_type": "stream",
     "text": [
      "0.58062994\n",
      "0.58117497\n"
     ]
    }
   ],
   "source": [
    "print(np.mean(accs))\n",
    "print(np.median(accs))"
   ]
  },
  {
   "cell_type": "code",
   "execution_count": 18,
   "metadata": {},
   "outputs": [
    {
     "name": "stderr",
     "output_type": "stream",
     "text": [
      "/Users/bobbymissirian/Files/Research/Cybersecurity/Experiments/GeneralHDC/Module.py:62: UserWarning: An output with one or more elements was resized since it had shape [784, 1000], which does not match the required output shape [10, 1000].This behavior is deprecated, and in a future PyTorch release outputs will not be resized unless they have zero elements. You can explicitly reuse an out tensor t by resizing it, inplace, to zero elements with t.resize_(0). (Triggered internally at  ../aten/src/ATen/native/Resize.cpp:23.)\n",
      "  torch.matmul(x[i:i+bsize], self.basis.T, out=temp)\n",
      "/Users/bobbymissirian/Files/Research/Cybersecurity/Experiments/GeneralHDC/Module.py:62: UserWarning: An output with one or more elements was resized since it had shape [784, 1000], which does not match the required output shape [416, 1000].This behavior is deprecated, and in a future PyTorch release outputs will not be resized unless they have zero elements. You can explicitly reuse an out tensor t by resizing it, inplace, to zero elements with t.resize_(0). (Triggered internally at  ../aten/src/ATen/native/Resize.cpp:23.)\n",
      "  torch.matmul(x[i:i+bsize], self.basis.T, out=temp)\n"
     ]
    },
    {
     "name": "stdout",
     "output_type": "stream",
     "text": [
      "tensor(0.0824)\n",
      "tensor(0.6770)\n",
      "tensor(0.8662)\n",
      "tensor(0.9140)\n",
      "tensor(0.9320)\n",
      "tensor(0.9426)\n",
      "tensor(0.9474)\n",
      "tensor(0.9518)\n",
      "tensor(0.9632)\n",
      "tensor(0.9769)\n",
      "tensor(0.9868)\n",
      "tensor(0.9910)\n",
      "tensor(0.9938)\n",
      "tensor(0.9954)\n",
      "tensor(0.9965)\n",
      "tensor(0.9972)\n",
      "tensor(0.9980)\n",
      "tensor(0.9982)\n",
      "tensor(0.9987)\n",
      "tensor(0.9990)\n",
      "tensor(0.6172)\n",
      "tensor(0.0803)\n",
      "tensor(0.6737)\n",
      "tensor(0.8583)\n",
      "tensor(0.9253)\n",
      "tensor(0.9481)\n",
      "tensor(0.9556)\n",
      "tensor(0.9640)\n",
      "tensor(0.9712)\n",
      "tensor(0.9765)\n",
      "tensor(0.9802)\n",
      "tensor(0.9842)\n",
      "tensor(0.9874)\n",
      "tensor(0.9890)\n",
      "tensor(0.9900)\n",
      "tensor(0.9912)\n",
      "tensor(0.9917)\n",
      "tensor(0.9914)\n",
      "tensor(0.9909)\n",
      "tensor(0.9903)\n",
      "tensor(0.9893)\n",
      "tensor(0.5562)\n",
      "tensor(0.0617)\n",
      "tensor(0.6791)\n",
      "tensor(0.8660)\n",
      "tensor(0.9239)\n",
      "tensor(0.9419)\n",
      "tensor(0.9514)\n",
      "tensor(0.9596)\n",
      "tensor(0.9671)\n",
      "tensor(0.9722)\n",
      "tensor(0.9752)\n",
      "tensor(0.9796)\n",
      "tensor(0.9831)\n",
      "tensor(0.9860)\n",
      "tensor(0.9876)\n",
      "tensor(0.9903)\n",
      "tensor(0.9916)\n",
      "tensor(0.9923)\n",
      "tensor(0.9930)\n",
      "tensor(0.9934)\n",
      "tensor(0.9940)\n",
      "tensor(0.6298)\n",
      "tensor(0.0843)\n",
      "tensor(0.6661)\n",
      "tensor(0.8652)\n",
      "tensor(0.9237)\n",
      "tensor(0.9418)\n",
      "tensor(0.9464)\n",
      "tensor(0.9557)\n",
      "tensor(0.9694)\n",
      "tensor(0.9771)\n",
      "tensor(0.9813)\n",
      "tensor(0.9832)\n",
      "tensor(0.9844)\n",
      "tensor(0.9847)\n",
      "tensor(0.9853)\n",
      "tensor(0.9865)\n",
      "tensor(0.9864)\n",
      "tensor(0.9864)\n",
      "tensor(0.9865)\n",
      "tensor(0.9858)\n",
      "tensor(0.9857)\n",
      "tensor(0.5603)\n",
      "tensor(0.0647)\n",
      "tensor(0.6576)\n",
      "tensor(0.8705)\n",
      "tensor(0.9386)\n",
      "tensor(0.9609)\n",
      "tensor(0.9690)\n",
      "tensor(0.9750)\n",
      "tensor(0.9827)\n",
      "tensor(0.9872)\n",
      "tensor(0.9899)\n",
      "tensor(0.9921)\n",
      "tensor(0.9938)\n",
      "tensor(0.9947)\n",
      "tensor(0.9959)\n",
      "tensor(0.9965)\n",
      "tensor(0.9972)\n",
      "tensor(0.9979)\n",
      "tensor(0.9980)\n",
      "tensor(0.9983)\n",
      "tensor(0.9984)\n",
      "tensor(0.5322)\n",
      "tensor(0.0579)\n",
      "tensor(0.6975)\n",
      "tensor(0.8762)\n",
      "tensor(0.9264)\n",
      "tensor(0.9516)\n",
      "tensor(0.9628)\n",
      "tensor(0.9691)\n",
      "tensor(0.9776)\n",
      "tensor(0.9846)\n",
      "tensor(0.9890)\n",
      "tensor(0.9909)\n",
      "tensor(0.9921)\n",
      "tensor(0.9933)\n",
      "tensor(0.9939)\n",
      "tensor(0.9946)\n",
      "tensor(0.9950)\n",
      "tensor(0.9957)\n",
      "tensor(0.9960)\n",
      "tensor(0.9963)\n",
      "tensor(0.9968)\n",
      "tensor(0.5631)\n",
      "tensor(0.0680)\n",
      "tensor(0.6729)\n",
      "tensor(0.8598)\n",
      "tensor(0.9208)\n",
      "tensor(0.9369)\n",
      "tensor(0.9440)\n",
      "tensor(0.9614)\n",
      "tensor(0.9723)\n",
      "tensor(0.9802)\n",
      "tensor(0.9848)\n",
      "tensor(0.9873)\n",
      "tensor(0.9892)\n",
      "tensor(0.9906)\n",
      "tensor(0.9918)\n",
      "tensor(0.9923)\n",
      "tensor(0.9932)\n",
      "tensor(0.9941)\n",
      "tensor(0.9946)\n",
      "tensor(0.9955)\n",
      "tensor(0.9955)\n",
      "tensor(0.5728)\n",
      "tensor(0.0666)\n",
      "tensor(0.6660)\n",
      "tensor(0.8565)\n",
      "tensor(0.9022)\n",
      "tensor(0.9218)\n",
      "tensor(0.9403)\n",
      "tensor(0.9582)\n",
      "tensor(0.9702)\n",
      "tensor(0.9784)\n",
      "tensor(0.9843)\n",
      "tensor(0.9885)\n",
      "tensor(0.9917)\n",
      "tensor(0.9929)\n",
      "tensor(0.9942)\n",
      "tensor(0.9954)\n",
      "tensor(0.9956)\n",
      "tensor(0.9956)\n",
      "tensor(0.9954)\n",
      "tensor(0.9951)\n",
      "tensor(0.9948)\n",
      "tensor(0.5934)\n",
      "tensor(0.0794)\n",
      "tensor(0.6452)\n",
      "tensor(0.8560)\n",
      "tensor(0.9161)\n",
      "tensor(0.9474)\n",
      "tensor(0.9636)\n",
      "tensor(0.9728)\n",
      "tensor(0.9776)\n",
      "tensor(0.9809)\n",
      "tensor(0.9834)\n",
      "tensor(0.9847)\n",
      "tensor(0.9845)\n",
      "tensor(0.9852)\n",
      "tensor(0.9847)\n",
      "tensor(0.9841)\n",
      "tensor(0.9833)\n",
      "tensor(0.9820)\n",
      "tensor(0.9825)\n",
      "tensor(0.9844)\n",
      "tensor(0.9851)\n",
      "tensor(0.5895)\n",
      "tensor(0.0615)\n",
      "tensor(0.6791)\n",
      "tensor(0.8702)\n",
      "tensor(0.9197)\n",
      "tensor(0.9433)\n",
      "tensor(0.9577)\n",
      "tensor(0.9656)\n",
      "tensor(0.9699)\n",
      "tensor(0.9740)\n",
      "tensor(0.9768)\n",
      "tensor(0.9796)\n",
      "tensor(0.9815)\n",
      "tensor(0.9816)\n",
      "tensor(0.9812)\n",
      "tensor(0.9814)\n",
      "tensor(0.9830)\n",
      "tensor(0.9840)\n",
      "tensor(0.9858)\n",
      "tensor(0.9873)\n",
      "tensor(0.9892)\n",
      "tensor(0.5917)\n"
     ]
    }
   ],
   "source": [
    "accs=[]\n",
    "for i in range(0,10):\n",
    "    model=HDCModel(10,784,1000, classh=gaussian_kernel(0,1,10,784))\n",
    "    model.classes=model.encode(x_train[:10])\n",
    "    block=TrainBlock([FebHDVersion2(64,.0001)])#32,.0001),ResetLowVarianceDims(.1),FebHDVersion2(32,.0001)])\n",
    "    train_start(model,FebHDRepeater(block,maxreps=20),x_train,y_train)\n",
    "    acc=eval_inferred_acc(model,x_train,y_train)\n",
    "    print(acc)\n",
    "    accs.append(acc)"
   ]
  },
  {
   "cell_type": "code",
   "execution_count": 10,
   "metadata": {},
   "outputs": [
    {
     "data": {
      "text/plain": [
       "<matplotlib.collections.PathCollection at 0x1ac5e0970>"
      ]
     },
     "execution_count": 10,
     "metadata": {},
     "output_type": "execute_result"
    },
    {
     "data": {
      "image/png": "[encoded data removed]",
      "text/plain": [
       "<Figure size 432x288 with 1 Axes>"
      ]
     },
     "metadata": {
      "needs_background": "light"
     },
     "output_type": "display_data"
    }
   ],
   "source": [
    "normed_classes=torch.nn.functional.normalize(model.classes)\n",
    "var = torch.var(normed_classes, 0) \n",
    "# assert len(var) == self.dimensionality\n",
    "# rank each entry in variances from smallest to largest\n",
    "order = torch.argsort(var)\n",
    "x=model.encode(x_train[:200])[:,order[-1]]\n",
    "y=model.encode(x_train[:200])[:,order[-2]]\n",
    "plt.scatter(x,y,c=model(x_train[:200]))"
   ]
  },
  {
   "cell_type": "code",
   "execution_count": 11,
   "metadata": {},
   "outputs": [
    {
     "data": {
      "text/plain": [
       "tensor(1)"
      ]
     },
     "execution_count": 11,
     "metadata": {},
     "output_type": "execute_result"
    }
   ],
   "source": [
    "torch.mode(y_train).values"
   ]
  },
  {
   "cell_type": "code",
   "execution_count": 12,
   "metadata": {},
   "outputs": [
    {
     "data": {
      "text/plain": [
       "tensor(0.6185)"
      ]
     },
     "execution_count": 12,
     "metadata": {},
     "output_type": "execute_result"
    }
   ],
   "source": []
  },
  {
   "cell_type": "code",
   "execution_count": 159,
   "metadata": {},
   "outputs": [
    {
     "data": {
      "image/png": "[encoded data removed]",
      "text/plain": [
       "<Figure size 432x288 with 1 Axes>"
      ]
     },
     "metadata": {
      "needs_background": "light"
     },
     "output_type": "display_data"
    },
    {
     "data": {
      "image/png": "[encoded data removed]",
      "text/plain": [
       "<Figure size 432x288 with 1 Axes>"
      ]
     },
     "metadata": {
      "needs_background": "light"
     },
     "output_type": "display_data"
    },
    {
     "data": {
      "image/png": "[encoded data removed]",
      "text/plain": [
       "<Figure size 432x288 with 1 Axes>"
      ]
     },
     "metadata": {
      "needs_background": "light"
     },
     "output_type": "display_data"
    },
    {
     "data": {
      "image/png": "[encoded data removed]",
      "text/plain": [
       "<Figure size 432x288 with 1 Axes>"
      ]
     },
     "metadata": {
      "needs_background": "light"
     },
     "output_type": "display_data"
    },
    {
     "data": {
      "image/png": "[encoded data removed]",
      "text/plain": [
       "<Figure size 432x288 with 1 Axes>"
      ]
     },
     "metadata": {
      "needs_background": "light"
     },
     "output_type": "display_data"
    },
    {
     "data": {
      "image/png": "[encoded data removed]",
      "text/plain": [
       "<Figure size 432x288 with 1 Axes>"
      ]
     },
     "metadata": {
      "needs_background": "light"
     },
     "output_type": "display_data"
    },
    {
     "data": {
      "image/png": "[encoded data removed]",
      "text/plain": [
       "<Figure size 432x288 with 1 Axes>"
      ]
     },
     "metadata": {
      "needs_background": "light"
     },
     "output_type": "display_data"
    },
    {
     "data": {
      "image/png": "[encoded data removed]",
      "text/plain": [
       "<Figure size 432x288 with 1 Axes>"
      ]
     },
     "metadata": {
      "needs_background": "light"
     },
     "output_type": "display_data"
    },
    {
     "data": {
      "image/png": "[encoded data removed]",
      "text/plain": [
       "<Figure size 432x288 with 1 Axes>"
      ]
     },
     "metadata": {
      "needs_background": "light"
     },
     "output_type": "display_data"
    },
    {
     "data": {
      "image/png": "[encoded data removed]",
      "text/plain": [
       "<Figure size 432x288 with 1 Axes>"
      ]
     },
     "metadata": {
      "needs_background": "light"
     },
     "output_type": "display_data"
    }
   ],
   "source": [
    "for i in range(0,10):\n",
    "    plt.imshow(x_train[labels==4][i].reshape(28,28))\n",
    "    plt.show()\n"
   ]
  },
  {
   "cell_type": "code",
   "execution_count": 93,
   "metadata": {},
   "outputs": [],
   "source": [
    "model=HDCModel(10,784,1000)\n",
    "smallnet=OnlineHDv2(15,4,.0001)\n",
    "train_start(model,smallnet,x_train,labels)"
   ]
  },
  {
   "cell_type": "code",
   "execution_count": 94,
   "metadata": {},
   "outputs": [
    {
     "data": {
      "text/plain": [
       "tensor(0.9607)"
      ]
     },
     "execution_count": 94,
     "metadata": {},
     "output_type": "execute_result"
    }
   ],
   "source": [
    "eval_acc(model,x_train,labels)"
   ]
  },
  {
   "cell_type": "code",
   "execution_count": 95,
   "metadata": {},
   "outputs": [
    {
     "data": {
      "text/plain": [
       "torch.Size([10, 1000])"
      ]
     },
     "execution_count": 95,
     "metadata": {},
     "output_type": "execute_result"
    }
   ],
   "source": [
    "model.classes.shape"
   ]
  },
  {
   "cell_type": "code",
   "execution_count": 96,
   "metadata": {},
   "outputs": [
    {
     "data": {
      "text/plain": [
       "<matplotlib.collections.PathCollection at 0x1a8d3bf70>"
      ]
     },
     "execution_count": 96,
     "metadata": {},
     "output_type": "execute_result"
    },
    {
     "data": {
      "image/png": "[encoded data removed]",
      "text/plain": [
       "<Figure size 432x288 with 1 Axes>"
      ]
     },
     "metadata": {
      "needs_background": "light"
     },
     "output_type": "display_data"
    }
   ],
   "source": [
    "normed_classes=torch.nn.functional.normalize(model.classes[0:2])\n",
    "var = torch.var(normed_classes, 0) \n",
    "# assert len(var) == self.dimensionality\n",
    "# rank each entry in variances from smallest to largest\n",
    "order = torch.argsort(var)\n",
    "x=model.encode(x_train[:200])[:,order[-1]]\n",
    "y=model.encode(x_train[:200])[:,order[-2]]\n",
    "plt.scatter(x,y,c=model(x_train[:200]))"
   ]
  },
  {
   "cell_type": "code",
   "execution_count": 28,
   "metadata": {},
   "outputs": [
    {
     "data": {
      "text/plain": [
       "torch.Size([1, 784])"
      ]
     },
     "execution_count": 28,
     "metadata": {},
     "output_type": "execute_result"
    }
   ],
   "source": [
    "x_train.mean(0).unsqueeze(0).shape"
   ]
  },
  {
   "cell_type": "code",
   "execution_count": 38,
   "metadata": {},
   "outputs": [
    {
     "data": {
      "text/plain": [
       "tensor([[0.9645, 1.0320, 0.9918, 1.0242, 0.9849, 1.0150, 1.0066, 0.9608, 1.0338,\n",
       "         1.0102]])"
      ]
     },
     "execution_count": 38,
     "metadata": {},
     "output_type": "execute_result"
    }
   ],
   "source": [
    "cos_cdist(model.encode(x_train[19:20]),model.classes)/cos_cdist(model.encode(x_train),model.classes).mean(0).unsqueeze(0)"
   ]
  },
  {
   "cell_type": "code",
   "execution_count": 22,
   "metadata": {},
   "outputs": [
    {
     "data": {
      "text/plain": [
       "tensor([0, 1, 2, 3, 4, 5, 6, 7, 8, 9, 2, 2, 2, 2, 2, 2, 2, 2, 2, 2])"
      ]
     },
     "execution_count": 22,
     "metadata": {},
     "output_type": "execute_result"
    }
   ],
   "source": [
    "model(x_train[:20])"
   ]
  },
  {
   "cell_type": "code",
   "execution_count": null,
   "metadata": {},
   "outputs": [],
   "source": [
    "def binary(y_train, label):\n",
    "    y_new=torch.ones((y_train.shape))\n",
    "    for i in range(y_train.shape[0]):\n",
    "        if y_train[i]==label:\n",
    "            y_new[i]=0\n",
    "        else:\n",
    "            y_train[i]=1\n",
    "    return y_new\n"
   ]
  },
  {
   "cell_type": "code",
   "execution_count": 11,
   "metadata": {},
   "outputs": [
    {
     "name": "stdout",
     "output_type": "stream",
     "text": [
      "lap 0\n",
      "0\n",
      "starting training\n",
      "model done\n",
      "end inner loop\n",
      "0\n",
      "starting training\n",
      "model done\n",
      "end inner loop\n",
      "0\n",
      "starting training\n",
      "model done\n",
      "end inner loop\n",
      "0\n",
      "starting training\n",
      "model done\n",
      "end inner loop\n",
      "0\n",
      "starting training\n",
      "model done\n",
      "end inner loop\n",
      "0\n",
      "starting training\n",
      "model done\n",
      "end inner loop\n",
      "0\n",
      "starting training\n",
      "model done\n",
      "end inner loop\n",
      "0\n",
      "starting training\n",
      "model done\n",
      "end inner loop\n",
      "0\n",
      "starting training\n",
      "model done\n",
      "end inner loop\n",
      "0\n",
      "starting training\n",
      "model done\n",
      "end inner loop\n",
      "0\n",
      "starting training\n",
      "model done\n",
      "end inner loop\n",
      "0\n",
      "starting training\n",
      "model done\n",
      "end inner loop\n",
      "0\n",
      "starting training\n",
      "model done\n",
      "end inner loop\n",
      "0\n",
      "starting training\n",
      "model done\n",
      "end inner loop\n",
      "0\n",
      "starting training\n",
      "model done\n",
      "end inner loop\n",
      "0\n",
      "starting training\n",
      "model done\n",
      "end inner loop\n",
      "0\n",
      "starting training\n",
      "model done\n",
      "end inner loop\n",
      "0\n",
      "starting training\n",
      "model done\n",
      "end inner loop\n",
      "0\n",
      "starting training\n",
      "model done\n",
      "end inner loop\n",
      "0\n",
      "starting training\n",
      "model done\n",
      "end inner loop\n",
      "0\n",
      "starting training\n",
      "model done\n",
      "end inner loop\n",
      "0\n",
      "starting training\n",
      "model done\n",
      "end inner loop\n",
      "0\n",
      "starting training\n",
      "model done\n",
      "end inner loop\n",
      "0\n",
      "starting training\n",
      "model done\n",
      "end inner loop\n",
      "0\n",
      "starting training\n",
      "model done\n",
      "end inner loop\n",
      "0\n",
      "starting training\n",
      "model done\n",
      "end inner loop\n",
      "0\n",
      "starting training\n",
      "model done\n",
      "end inner loop\n",
      "0\n",
      "starting training\n",
      "model done\n",
      "end inner loop\n",
      "0\n",
      "starting training\n",
      "model done\n",
      "end inner loop\n",
      "0\n",
      "starting training\n",
      "model done\n",
      "end inner loop\n",
      "0\n",
      "starting training\n",
      "model done\n",
      "end inner loop\n",
      "0\n",
      "starting training\n",
      "model done\n",
      "end inner loop\n",
      "0\n",
      "starting training\n",
      "model done\n",
      "end inner loop\n",
      "0\n",
      "starting training\n",
      "model done\n",
      "end inner loop\n",
      "0\n",
      "starting training\n",
      "model done\n",
      "end inner loop\n",
      "0\n",
      "starting training\n",
      "model done\n",
      "end inner loop\n",
      "0\n",
      "starting training\n",
      "model done\n",
      "end inner loop\n",
      "0\n",
      "starting training\n",
      "model done\n",
      "end inner loop\n",
      "0\n",
      "starting training\n",
      "model done\n",
      "end inner loop\n",
      "0\n",
      "starting training\n",
      "model done\n",
      "end inner loop\n",
      "0\n",
      "starting training\n",
      "model done\n",
      "end inner loop\n",
      "0\n",
      "starting training\n",
      "model done\n",
      "end inner loop\n",
      "0\n",
      "starting training\n",
      "model done\n",
      "end inner loop\n",
      "0\n",
      "starting training\n",
      "model done\n",
      "end inner loop\n",
      "0\n",
      "starting training\n",
      "model done\n",
      "end inner loop\n",
      "0\n",
      "starting training\n",
      "model done\n",
      "end inner loop\n",
      "0\n",
      "starting training\n",
      "model done\n",
      "end inner loop\n",
      "0\n",
      "starting training\n",
      "model done\n",
      "end inner loop\n",
      "0\n",
      "starting training\n",
      "model done\n",
      "end inner loop\n",
      "0\n",
      "starting training\n",
      "model done\n",
      "end inner loop\n",
      "started analysis\n",
      "started analysis\n",
      "lap 1\n",
      "1\n",
      "starting training\n",
      "model done\n",
      "end inner loop\n",
      "1\n",
      "starting training\n",
      "model done\n",
      "end inner loop\n",
      "1\n",
      "starting training\n",
      "model done\n",
      "end inner loop\n",
      "1\n",
      "starting training\n",
      "model done\n",
      "end inner loop\n",
      "1\n",
      "starting training\n",
      "model done\n",
      "end inner loop\n",
      "1\n",
      "starting training\n",
      "model done\n",
      "end inner loop\n",
      "1\n",
      "starting training\n",
      "model done\n",
      "end inner loop\n",
      "1\n",
      "starting training\n",
      "model done\n",
      "end inner loop\n",
      "1\n",
      "starting training\n",
      "model done\n",
      "end inner loop\n",
      "1\n",
      "starting training\n",
      "model done\n",
      "end inner loop\n",
      "1\n",
      "starting training\n",
      "model done\n",
      "end inner loop\n",
      "1\n",
      "starting training\n",
      "model done\n",
      "end inner loop\n",
      "1\n",
      "starting training\n",
      "model done\n",
      "end inner loop\n",
      "1\n",
      "starting training\n",
      "model done\n",
      "end inner loop\n",
      "1\n",
      "starting training\n",
      "model done\n",
      "end inner loop\n",
      "1\n",
      "starting training\n",
      "model done\n",
      "end inner loop\n",
      "1\n",
      "starting training\n",
      "model done\n",
      "end inner loop\n",
      "1\n",
      "starting training\n",
      "model done\n",
      "end inner loop\n",
      "1\n",
      "starting training\n",
      "model done\n",
      "end inner loop\n",
      "1\n",
      "starting training\n",
      "model done\n",
      "end inner loop\n",
      "1\n",
      "starting training\n",
      "model done\n",
      "end inner loop\n",
      "1\n",
      "starting training\n",
      "model done\n",
      "end inner loop\n",
      "1\n",
      "starting training\n",
      "model done\n",
      "end inner loop\n",
      "1\n",
      "starting training\n",
      "model done\n",
      "end inner loop\n",
      "1\n",
      "starting training\n",
      "model done\n",
      "end inner loop\n",
      "1\n",
      "starting training\n",
      "model done\n",
      "end inner loop\n",
      "1\n",
      "starting training\n",
      "model done\n",
      "end inner loop\n",
      "1\n",
      "starting training\n",
      "model done\n",
      "end inner loop\n",
      "1\n",
      "starting training\n",
      "model done\n",
      "end inner loop\n",
      "1\n",
      "starting training\n",
      "model done\n",
      "end inner loop\n",
      "1\n",
      "starting training\n",
      "model done\n",
      "end inner loop\n",
      "1\n",
      "starting training\n",
      "model done\n",
      "end inner loop\n",
      "1\n",
      "starting training\n",
      "model done\n",
      "end inner loop\n",
      "1\n",
      "starting training\n",
      "model done\n",
      "end inner loop\n",
      "1\n",
      "starting training\n",
      "model done\n",
      "end inner loop\n",
      "1\n",
      "starting training\n",
      "model done\n",
      "end inner loop\n",
      "1\n",
      "starting training\n",
      "model done\n",
      "end inner loop\n",
      "1\n",
      "starting training\n",
      "model done\n",
      "end inner loop\n",
      "1\n",
      "starting training\n",
      "model done\n",
      "end inner loop\n",
      "1\n",
      "starting training\n",
      "model done\n",
      "end inner loop\n",
      "1\n",
      "starting training\n",
      "model done\n",
      "end inner loop\n",
      "1\n",
      "starting training\n",
      "model done\n",
      "end inner loop\n",
      "1\n",
      "starting training\n",
      "model done\n",
      "end inner loop\n",
      "1\n",
      "starting training\n",
      "model done\n",
      "end inner loop\n",
      "1\n",
      "starting training\n",
      "model done\n",
      "end inner loop\n",
      "1\n",
      "starting training\n",
      "model done\n",
      "end inner loop\n",
      "1\n",
      "starting training\n",
      "model done\n",
      "end inner loop\n",
      "1\n",
      "starting training\n",
      "model done\n",
      "end inner loop\n",
      "1\n",
      "starting training\n",
      "model done\n",
      "end inner loop\n",
      "1\n",
      "starting training\n",
      "model done\n",
      "end inner loop\n",
      "started analysis\n",
      "started analysis\n",
      "lap 2\n",
      "2\n",
      "starting training\n",
      "model done\n",
      "end inner loop\n",
      "2\n",
      "starting training\n",
      "model done\n",
      "end inner loop\n",
      "2\n",
      "starting training\n",
      "model done\n",
      "end inner loop\n",
      "2\n",
      "starting training\n",
      "model done\n",
      "end inner loop\n",
      "2\n",
      "starting training\n",
      "model done\n",
      "end inner loop\n",
      "2\n",
      "starting training\n",
      "model done\n",
      "end inner loop\n",
      "2\n",
      "starting training\n",
      "model done\n",
      "end inner loop\n",
      "2\n",
      "starting training\n",
      "model done\n",
      "end inner loop\n",
      "2\n",
      "starting training\n",
      "model done\n",
      "end inner loop\n",
      "2\n",
      "starting training\n",
      "model done\n",
      "end inner loop\n",
      "2\n",
      "starting training\n",
      "model done\n",
      "end inner loop\n",
      "2\n",
      "starting training\n",
      "model done\n",
      "end inner loop\n",
      "2\n",
      "starting training\n",
      "model done\n",
      "end inner loop\n",
      "2\n",
      "starting training\n",
      "model done\n",
      "end inner loop\n",
      "2\n",
      "starting training\n",
      "model done\n",
      "end inner loop\n",
      "2\n",
      "starting training\n",
      "model done\n",
      "end inner loop\n",
      "2\n",
      "starting training\n",
      "model done\n",
      "end inner loop\n",
      "2\n",
      "starting training\n",
      "model done\n",
      "end inner loop\n",
      "2\n",
      "starting training\n",
      "model done\n",
      "end inner loop\n",
      "2\n",
      "starting training\n",
      "model done\n",
      "end inner loop\n",
      "2\n",
      "starting training\n",
      "model done\n",
      "end inner loop\n",
      "2\n",
      "starting training\n",
      "model done\n",
      "end inner loop\n",
      "2\n",
      "starting training\n",
      "model done\n",
      "end inner loop\n",
      "2\n",
      "starting training\n",
      "model done\n",
      "end inner loop\n",
      "2\n",
      "starting training\n",
      "model done\n",
      "end inner loop\n",
      "2\n",
      "starting training\n",
      "model done\n",
      "end inner loop\n",
      "2\n",
      "starting training\n",
      "model done\n",
      "end inner loop\n",
      "2\n",
      "starting training\n",
      "model done\n",
      "end inner loop\n",
      "2\n",
      "starting training\n",
      "model done\n",
      "end inner loop\n",
      "2\n",
      "starting training\n",
      "model done\n",
      "end inner loop\n",
      "2\n",
      "starting training\n",
      "model done\n",
      "end inner loop\n",
      "2\n",
      "starting training\n",
      "model done\n",
      "end inner loop\n",
      "2\n",
      "starting training\n",
      "model done\n",
      "end inner loop\n",
      "2\n",
      "starting training\n",
      "model done\n",
      "end inner loop\n",
      "2\n",
      "starting training\n",
      "model done\n",
      "end inner loop\n",
      "2\n",
      "starting training\n",
      "model done\n",
      "end inner loop\n",
      "2\n",
      "starting training\n",
      "model done\n",
      "end inner loop\n",
      "2\n",
      "starting training\n",
      "model done\n",
      "end inner loop\n",
      "2\n",
      "starting training\n",
      "model done\n",
      "end inner loop\n",
      "2\n",
      "starting training\n",
      "model done\n",
      "end inner loop\n",
      "2\n",
      "starting training\n",
      "model done\n",
      "end inner loop\n",
      "2\n",
      "starting training\n",
      "model done\n",
      "end inner loop\n",
      "2\n",
      "starting training\n",
      "model done\n",
      "end inner loop\n",
      "2\n",
      "starting training\n",
      "model done\n",
      "end inner loop\n",
      "2\n",
      "starting training\n",
      "model done\n",
      "end inner loop\n",
      "2\n",
      "starting training\n",
      "model done\n",
      "end inner loop\n",
      "2\n",
      "starting training\n",
      "model done\n",
      "end inner loop\n",
      "2\n",
      "starting training\n",
      "model done\n",
      "end inner loop\n",
      "2\n",
      "starting training\n",
      "model done\n",
      "end inner loop\n",
      "2\n",
      "starting training\n",
      "model done\n",
      "end inner loop\n",
      "started analysis\n",
      "started analysis\n",
      "lap 3\n",
      "3\n",
      "starting training\n",
      "model done\n",
      "end inner loop\n",
      "3\n",
      "starting training\n",
      "model done\n",
      "end inner loop\n",
      "3\n",
      "starting training\n",
      "model done\n",
      "end inner loop\n",
      "3\n",
      "starting training\n",
      "model done\n",
      "end inner loop\n",
      "3\n",
      "starting training\n",
      "model done\n",
      "end inner loop\n",
      "3\n",
      "starting training\n",
      "model done\n",
      "end inner loop\n",
      "3\n",
      "starting training\n",
      "model done\n",
      "end inner loop\n",
      "3\n",
      "starting training\n",
      "model done\n",
      "end inner loop\n",
      "3\n",
      "starting training\n",
      "model done\n",
      "end inner loop\n",
      "3\n",
      "starting training\n",
      "model done\n",
      "end inner loop\n",
      "3\n",
      "starting training\n",
      "model done\n",
      "end inner loop\n",
      "3\n",
      "starting training\n",
      "model done\n",
      "end inner loop\n",
      "3\n",
      "starting training\n",
      "model done\n",
      "end inner loop\n",
      "3\n",
      "starting training\n",
      "model done\n",
      "end inner loop\n",
      "3\n",
      "starting training\n",
      "model done\n",
      "end inner loop\n",
      "3\n",
      "starting training\n",
      "model done\n",
      "end inner loop\n",
      "3\n",
      "starting training\n",
      "model done\n",
      "end inner loop\n",
      "3\n",
      "starting training\n",
      "model done\n",
      "end inner loop\n",
      "3\n",
      "starting training\n",
      "model done\n",
      "end inner loop\n",
      "3\n",
      "starting training\n",
      "model done\n",
      "end inner loop\n",
      "3\n",
      "starting training\n",
      "model done\n",
      "end inner loop\n",
      "3\n",
      "starting training\n",
      "model done\n",
      "end inner loop\n",
      "3\n",
      "starting training\n",
      "model done\n",
      "end inner loop\n",
      "3\n",
      "starting training\n",
      "model done\n",
      "end inner loop\n",
      "3\n",
      "starting training\n",
      "model done\n",
      "end inner loop\n",
      "3\n",
      "starting training\n",
      "model done\n",
      "end inner loop\n",
      "3\n",
      "starting training\n",
      "model done\n",
      "end inner loop\n",
      "3\n",
      "starting training\n",
      "model done\n",
      "end inner loop\n",
      "3\n",
      "starting training\n",
      "model done\n",
      "end inner loop\n",
      "3\n",
      "starting training\n",
      "model done\n",
      "end inner loop\n",
      "3\n",
      "starting training\n",
      "model done\n",
      "end inner loop\n",
      "3\n",
      "starting training\n",
      "model done\n",
      "end inner loop\n",
      "3\n",
      "starting training\n",
      "model done\n",
      "end inner loop\n",
      "3\n",
      "starting training\n",
      "model done\n",
      "end inner loop\n",
      "3\n",
      "starting training\n",
      "model done\n",
      "end inner loop\n",
      "3\n",
      "starting training\n",
      "model done\n",
      "end inner loop\n",
      "3\n",
      "starting training\n",
      "model done\n",
      "end inner loop\n",
      "3\n",
      "starting training\n",
      "model done\n",
      "end inner loop\n",
      "3\n",
      "starting training\n",
      "model done\n",
      "end inner loop\n",
      "3\n",
      "starting training\n",
      "model done\n",
      "end inner loop\n",
      "3\n",
      "starting training\n",
      "model done\n",
      "end inner loop\n",
      "3\n",
      "starting training\n",
      "model done\n",
      "end inner loop\n",
      "3\n",
      "starting training\n",
      "model done\n",
      "end inner loop\n",
      "3\n",
      "starting training\n",
      "model done\n",
      "end inner loop\n",
      "3\n",
      "starting training\n",
      "model done\n",
      "end inner loop\n",
      "3\n",
      "starting training\n",
      "model done\n",
      "end inner loop\n",
      "3\n",
      "starting training\n",
      "model done\n",
      "end inner loop\n",
      "3\n",
      "starting training\n",
      "model done\n",
      "end inner loop\n",
      "3\n",
      "starting training\n",
      "model done\n",
      "end inner loop\n",
      "3\n",
      "starting training\n",
      "model done\n",
      "end inner loop\n",
      "started analysis\n",
      "started analysis\n",
      "lap 4\n",
      "4\n",
      "starting training\n",
      "model done\n",
      "end inner loop\n",
      "4\n",
      "starting training\n",
      "model done\n",
      "end inner loop\n",
      "4\n",
      "starting training\n",
      "model done\n",
      "end inner loop\n",
      "4\n",
      "starting training\n",
      "model done\n",
      "end inner loop\n",
      "4\n",
      "starting training\n",
      "model done\n",
      "end inner loop\n",
      "4\n",
      "starting training\n",
      "model done\n",
      "end inner loop\n",
      "4\n",
      "starting training\n",
      "model done\n",
      "end inner loop\n",
      "4\n",
      "starting training\n",
      "model done\n",
      "end inner loop\n",
      "4\n",
      "starting training\n",
      "model done\n",
      "end inner loop\n",
      "4\n",
      "starting training\n",
      "model done\n",
      "end inner loop\n",
      "4\n",
      "starting training\n",
      "model done\n",
      "end inner loop\n",
      "4\n",
      "starting training\n",
      "model done\n",
      "end inner loop\n",
      "4\n",
      "starting training\n",
      "model done\n",
      "end inner loop\n",
      "4\n",
      "starting training\n",
      "model done\n",
      "end inner loop\n",
      "4\n",
      "starting training\n",
      "model done\n",
      "end inner loop\n",
      "4\n",
      "starting training\n",
      "model done\n",
      "end inner loop\n",
      "4\n",
      "starting training\n",
      "model done\n",
      "end inner loop\n",
      "4\n",
      "starting training\n",
      "model done\n",
      "end inner loop\n",
      "4\n",
      "starting training\n",
      "model done\n",
      "end inner loop\n",
      "4\n",
      "starting training\n",
      "model done\n",
      "end inner loop\n",
      "4\n",
      "starting training\n",
      "model done\n",
      "end inner loop\n",
      "4\n",
      "starting training\n",
      "model done\n",
      "end inner loop\n",
      "4\n",
      "starting training\n",
      "model done\n",
      "end inner loop\n",
      "4\n",
      "starting training\n",
      "model done\n",
      "end inner loop\n",
      "4\n",
      "starting training\n",
      "model done\n",
      "end inner loop\n",
      "4\n",
      "starting training\n",
      "model done\n",
      "end inner loop\n",
      "4\n",
      "starting training\n",
      "model done\n",
      "end inner loop\n",
      "4\n",
      "starting training\n",
      "model done\n",
      "end inner loop\n",
      "4\n",
      "starting training\n",
      "model done\n",
      "end inner loop\n",
      "4\n",
      "starting training\n",
      "model done\n",
      "end inner loop\n",
      "4\n",
      "starting training\n",
      "model done\n",
      "end inner loop\n",
      "4\n",
      "starting training\n",
      "model done\n",
      "end inner loop\n",
      "4\n",
      "starting training\n",
      "model done\n",
      "end inner loop\n",
      "4\n",
      "starting training\n",
      "model done\n",
      "end inner loop\n",
      "4\n",
      "starting training\n",
      "model done\n",
      "end inner loop\n",
      "4\n",
      "starting training\n",
      "model done\n",
      "end inner loop\n",
      "4\n",
      "starting training\n",
      "model done\n",
      "end inner loop\n",
      "4\n",
      "starting training\n",
      "model done\n",
      "end inner loop\n",
      "4\n",
      "starting training\n",
      "model done\n",
      "end inner loop\n",
      "4\n",
      "starting training\n",
      "model done\n",
      "end inner loop\n",
      "4\n",
      "starting training\n",
      "model done\n",
      "end inner loop\n",
      "4\n",
      "starting training\n",
      "model done\n",
      "end inner loop\n",
      "4\n",
      "starting training\n",
      "model done\n",
      "end inner loop\n",
      "4\n",
      "starting training\n",
      "model done\n",
      "end inner loop\n",
      "4\n",
      "starting training\n",
      "model done\n",
      "end inner loop\n",
      "4\n",
      "starting training\n",
      "model done\n",
      "end inner loop\n",
      "4\n",
      "starting training\n",
      "model done\n",
      "end inner loop\n",
      "4\n",
      "starting training\n",
      "model done\n",
      "end inner loop\n",
      "4\n",
      "starting training\n",
      "model done\n",
      "end inner loop\n",
      "4\n",
      "starting training\n",
      "model done\n",
      "end inner loop\n",
      "started analysis\n",
      "started analysis\n"
     ]
    }
   ],
   "source": [
    "medians=[]\n",
    "means=[]\n",
    "timemeans=[]\n",
    "for j in range(0,5):\n",
    "    print(\"lap \" + str(j))\n",
    "    accs=[]\n",
    "    times=[]\n",
    "    for _ in range(0,50):\n",
    "        print(j)\n",
    "        # trainblock=TrainBlock()\n",
    "        # trainblock.append_component(ClassicVersion2(64,.0001))\n",
    "        # trainblock.append_component(Normalize())\n",
    "        # trainblock=TrainBlock(\n",
    "        #     [Normalize(),TrainRepeater(ClassicVersion2(64,.0001),15)]\n",
    "        # )\n",
    "        # neuralHD=TrainRepeater(trainblock,5)\n",
    "        # encodedprinter=DebugPrinter(\"train\",sum)\n",
    "        model=HDCModel(10,257,2048)\n",
    "        print(\"starting training\")\n",
    "        start=time.time()\n",
    "        # print(\"a\")\n",
    "        train_start(model,SingleStopv2(50,j,4,.0001,.0001),xtr,ytr) \n",
    "        # print(eval_acc(model,xtr,ytr))\n",
    "        # print(\"c\")\n",
    "        # print(j)\n",
    "        # train_start(model,Normalize(),xtr,ytr)\n",
    "        # train_start(model,OnlineHDv2(1,1,.0001),xtr,ytr) \n",
    "        print(\"model done\")\n",
    "        end=time.time()\n",
    "        acc=eval_acc(model,xte,yte)\n",
    "        accs.append(acc)\n",
    "        time_=end-start\n",
    "        times.append(time_)\n",
    "        print(\"end inner loop\")\n",
    "\n",
    "    print(\"started analysis\")\n",
    "    medians.append(np.median(accs))\n",
    "    means.append(np.mean(accs))\n",
    "    timemeans.append(np.mean(times))\n",
    "    print(\"started analysis\")\n"
   ]
  },
  {
   "cell_type": "code",
   "execution_count": 12,
   "metadata": {},
   "outputs": [
    {
     "name": "stdout",
     "output_type": "stream",
     "text": [
      "[0.9486566, 0.95951414, 0.96117043, 0.9606183, 0.96135443]\n",
      "[0.93659186, 0.9594553, 0.9609791, 0.9607434, 0.96128815]\n"
     ]
    }
   ],
   "source": [
    "print(medians)\n",
    "print(means)"
   ]
  },
  {
   "cell_type": "code",
   "execution_count": 10,
   "metadata": {},
   "outputs": [
    {
     "name": "stdout",
     "output_type": "stream",
     "text": [
      "[0.9493927, 0.95933014, 0.96153843, 0.96117043, 0.9617225]\n",
      "[0.93806404, 0.9595363, 0.9613397, 0.9617593, 0.9620759]\n"
     ]
    }
   ],
   "source": [
    "print(medians)\n",
    "print(means)"
   ]
  },
  {
   "cell_type": "code",
   "execution_count": 8,
   "metadata": {},
   "outputs": [
    {
     "name": "stdout",
     "output_type": "stream",
     "text": [
      "[0.9412955, 0.95951414, 0.96190655, 0.9604343, 0.9635627]\n",
      "[0.91564226, 0.9603607, 0.96161205, 0.9600295, 0.9634155]\n"
     ]
    }
   ],
   "source": [
    "print(medians)\n",
    "print(means)"
   ]
  },
  {
   "cell_type": "code",
   "execution_count": 6,
   "metadata": {},
   "outputs": [
    {
     "name": "stdout",
     "output_type": "stream",
     "text": [
      "[0.9409275, 0.9609864, 0.9596982, 0.9631947, 0.9598822]\n",
      "[0.9290762, 0.96054476, 0.95977175, 0.96315795, 0.95973504]\n"
     ]
    }
   ],
   "source": [
    "print(medians)\n",
    "print(means)"
   ]
  },
  {
   "cell_type": "code",
   "execution_count": 11,
   "metadata": {},
   "outputs": [
    {
     "name": "stdout",
     "output_type": "stream",
     "text": [
      "[0.9471844, 0.95914614, 0.96117043, 0.96153843, 0.95951414]\n",
      "[0.9433199, 0.959919, 0.96039754, 0.96094954, 0.9602135]\n"
     ]
    }
   ],
   "source": [
    "print(medians)\n",
    "print(means)"
   ]
  },
  {
   "cell_type": "code",
   "execution_count": null,
   "metadata": {},
   "outputs": [],
   "source": [
    "#ep1,bs4096\n",
    "#[tensor(0.8896), tensor(0.9139), tensor(0.8360), tensor(0.9037), tensor(0.9137), tensor(0.8855), tensor(0.9116), tensor(0.9074), tensor(0.9140), tensor(0.9164)]\n",
    "print(medians)\n",
    "print(means)"
   ]
  },
  {
   "cell_type": "code",
   "execution_count": 193,
   "metadata": {},
   "outputs": [
    {
     "name": "stdout",
     "output_type": "stream",
     "text": [
      "[0.953]\n",
      "[0.95290005]\n"
     ]
    }
   ],
   "source": [
    "#ep1,bs1024\n",
    "#[tensor(0.9558), tensor(0.9554), tensor(0.9528), tensor(0.9533), tensor(0.9503), tensor(0.9530), tensor(0.9538), tensor(0.9506), tensor(0.9530), tensor(0.9510)]\n",
    "print(medians)\n",
    "print(means)"
   ]
  },
  {
   "cell_type": "code",
   "execution_count": 191,
   "metadata": {},
   "outputs": [
    {
     "name": "stdout",
     "output_type": "stream",
     "text": [
      "[0.9625]\n",
      "[0.96156996]\n"
     ]
    }
   ],
   "source": [
    "#ep1,bs256\n",
    "#[tensor(0.9591), tensor(0.9588), tensor(0.9652), tensor(0.9479), tensor(0.9612), tensor(0.9671), tensor(0.9636), tensor(0.9661), tensor(0.9653), tensor(0.9614)]\n",
    "print(medians)\n",
    "print(means)"
   ]
  },
  {
   "cell_type": "code",
   "execution_count": 188,
   "metadata": {},
   "outputs": [
    {
     "name": "stdout",
     "output_type": "stream",
     "text": [
      "[0.9593]\n",
      "[0.95866996]\n"
     ]
    }
   ],
   "source": [
    "#ep1,bs64\n",
    "#[tensor(0.9528), tensor(0.9680), tensor(0.9593), tensor(0.9593), tensor(0.9564), tensor(0.9601), tensor(0.9627), tensor(0.9619), tensor(0.9576), tensor(0.9486)]\n",
    "print(medians)\n",
    "print(means)"
   ]
  },
  {
   "cell_type": "code",
   "execution_count": 186,
   "metadata": {},
   "outputs": [
    {
     "name": "stdout",
     "output_type": "stream",
     "text": [
      "[0.95515]\n",
      "[0.95718]\n"
     ]
    }
   ],
   "source": [
    "#ep1,bs16\n",
    "#[tensor(0.9577), tensor(0.9673), tensor(0.9526), tensor(0.9460), tensor(0.9511), tensor(0.9620), tensor(0.9702), tensor(0.9457), tensor(0.9499), tensor(0.9693)]\n",
    "print(medians)\n",
    "print(means)"
   ]
  },
  {
   "cell_type": "code",
   "execution_count": 184,
   "metadata": {},
   "outputs": [
    {
     "name": "stdout",
     "output_type": "stream",
     "text": [
      "[0.9625]\n",
      "[0.95675004]\n"
     ]
    }
   ],
   "source": [
    "#ep1,bs4\n",
    "#[tensor(0.9634), tensor(0.9619), tensor(0.9656), tensor(0.9533), tensor(0.9322), tensor(0.9638), tensor(0.9631), tensor(0.9679), tensor(0.9496), tensor(0.9467)]\n",
    "print(medians)\n",
    "print(means)"
   ]
  },
  {
   "cell_type": "code",
   "execution_count": 182,
   "metadata": {},
   "outputs": [
    {
     "name": "stdout",
     "output_type": "stream",
     "text": [
      "[0.94945]\n",
      "[0.95025]\n"
     ]
    }
   ],
   "source": [
    "#ep1,bs1\n",
    "#[tensor(0.9376), tensor(0.9460), tensor(0.9488), tensor(0.9513), tensor(0.9546), tensor(0.9426), tensor(0.9618), tensor(0.9448), tensor(0.9501), tensor(0.9649)]\n",
    "print(medians)\n",
    "print(means)"
   ]
  },
  {
   "cell_type": "code",
   "execution_count": 83,
   "metadata": {},
   "outputs": [
    {
     "data": {
      "text/plain": [
       "torch.Size([8151, 257])"
      ]
     },
     "execution_count": 83,
     "metadata": {},
     "output_type": "execute_result"
    }
   ],
   "source": [
    "xtr.shape"
   ]
  },
  {
   "cell_type": "code",
   "execution_count": 84,
   "metadata": {},
   "outputs": [
    {
     "data": {
      "text/plain": [
       "torch.Size([8151, 2048])"
      ]
     },
     "execution_count": 84,
     "metadata": {},
     "output_type": "execute_result"
    }
   ],
   "source": [
    "model.encode(xtr).shape"
   ]
  },
  {
   "cell_type": "code",
   "execution_count": 88,
   "metadata": {},
   "outputs": [
    {
     "name": "stderr",
     "output_type": "stream",
     "text": [
      "/Users/bobbymissirian/Files/Research/Cybersecurity/Experiments/GeneralHDC/Module.py:62: UserWarning: An output with one or more elements was resized since it had shape [257, 2048], which does not match the required output shape [184, 2048].This behavior is deprecated, and in a future PyTorch release outputs will not be resized unless they have zero elements. You can explicitly reuse an out tensor t by resizing it, inplace, to zero elements with t.resize_(0). (Triggered internally at  ../aten/src/ATen/native/Resize.cpp:23.)\n",
      "  torch.matmul(x[i:i+bsize], self.basis.T, out=temp)\n",
      "/Users/bobbymissirian/Files/Research/Cybersecurity/Experiments/GeneralHDC/Module.py:62: UserWarning: An output with one or more elements was resized since it had shape [257, 2048], which does not match the required output shape [184, 2048].This behavior is deprecated, and in a future PyTorch release outputs will not be resized unless they have zero elements. You can explicitly reuse an out tensor t by resizing it, inplace, to zero elements with t.resize_(0). (Triggered internally at  ../aten/src/ATen/native/Resize.cpp:23.)\n",
      "  torch.matmul(x[i:i+bsize], self.basis.T, out=temp)\n",
      "/Users/bobbymissirian/Files/Research/Cybersecurity/Experiments/GeneralHDC/Module.py:62: UserWarning: An output with one or more elements was resized since it had shape [257, 2048], which does not match the required output shape [147, 2048].This behavior is deprecated, and in a future PyTorch release outputs will not be resized unless they have zero elements. You can explicitly reuse an out tensor t by resizing it, inplace, to zero elements with t.resize_(0). (Triggered internally at  ../aten/src/ATen/native/Resize.cpp:23.)\n",
      "  torch.matmul(x[i:i+bsize], self.basis.T, out=temp)\n",
      "/Users/bobbymissirian/Files/Research/Cybersecurity/Experiments/GeneralHDC/Module.py:62: UserWarning: An output with one or more elements was resized since it had shape [1024, 2048], which does not match the required output shape [983, 2048].This behavior is deprecated, and in a future PyTorch release outputs will not be resized unless they have zero elements. You can explicitly reuse an out tensor t by resizing it, inplace, to zero elements with t.resize_(0). (Triggered internally at  ../aten/src/ATen/native/Resize.cpp:23.)\n",
      "  torch.matmul(x[i:i+bsize], self.basis.T, out=temp)\n"
     ]
    }
   ],
   "source": [
    "model_=HDCModel(10,2048,2048)\n",
    "scaler = preprocessing.Normalizer().fit(model.encode(xtr))\n",
    "xtr_ = torch.tensor(scaler.transform(model.encode(xtr)))\n",
    "xte_ = torch.tensor(scaler.transform(model.encode(xte)))\n",
    "train_start(model_,OnlineHDv2(51,4,.0001),xtr_,ytr) \n",
    "train_start(model_,Normalize(),xtr_,ytr)\n",
    "train_start(model_,OnlineHDv2(1,1,.0001),xtr_,ytr) \n"
   ]
  },
  {
   "cell_type": "code",
   "execution_count": 24,
   "metadata": {},
   "outputs": [
    {
     "data": {
      "text/plain": [
       "[0.1019, 0.1012, 0.1017, 0.1013, 0.1023]"
      ]
     },
     "execution_count": 24,
     "metadata": {},
     "output_type": "execute_result"
    }
   ],
   "source": [
    "means"
   ]
  },
  {
   "cell_type": "code",
   "execution_count": 25,
   "metadata": {},
   "outputs": [
    {
     "data": {
      "text/plain": [
       "[24.53918218612671,\n",
       " 25.691676139831543,\n",
       " 25.76329278945923,\n",
       " 27.414631843566895,\n",
       " 27.638856887817383]"
      ]
     },
     "execution_count": 25,
     "metadata": {},
     "output_type": "execute_result"
    }
   ],
   "source": [
    "timemeans"
   ]
  },
  {
   "cell_type": "code",
   "execution_count": null,
   "metadata": {},
   "outputs": [],
   "source": [
    "tensor(0.9584)\n",
    "tensor(0.9643)\n",
    "tensor(0.9621)\n",
    "tensor(0.9603)\n",
    "tensor(0.9610)\n",
    "tensor(0.9621)\n",
    "tensor(0.9647)\n",
    "tensor(0.9610)\n",
    "tensor(0.9603)\n",
    "tensor(0.9621)"
   ]
  },
  {
   "cell_type": "code",
   "execution_count": 63,
   "metadata": {},
   "outputs": [
    {
     "data": {
      "text/plain": [
       "-0.01748252"
      ]
     },
     "execution_count": 63,
     "metadata": {},
     "output_type": "execute_result"
    }
   ],
   "source": [
    "np.median(diffs)"
   ]
  },
  {
   "cell_type": "code",
   "execution_count": 61,
   "metadata": {},
   "outputs": [
    {
     "data": {
      "text/plain": [
       "-0.019506812"
      ]
     },
     "execution_count": 61,
     "metadata": {},
     "output_type": "execute_result"
    }
   ],
   "source": [
    "np.median(diffs)"
   ]
  },
  {
   "cell_type": "code",
   "execution_count": 59,
   "metadata": {},
   "outputs": [
    {
     "data": {
      "text/plain": [
       "-0.008833259"
      ]
     },
     "execution_count": 59,
     "metadata": {},
     "output_type": "execute_result"
    }
   ],
   "source": [
    "np.median(diffs)"
   ]
  },
  {
   "cell_type": "code",
   "execution_count": 57,
   "metadata": {},
   "outputs": [
    {
     "data": {
      "text/plain": [
       "-0.014906168"
      ]
     },
     "execution_count": 57,
     "metadata": {},
     "output_type": "execute_result"
    }
   ],
   "source": [
    "np.median(diffs)"
   ]
  },
  {
   "cell_type": "code",
   "execution_count": null,
   "metadata": {},
   "outputs": [],
   "source": [
    "model=HDCModel(9,257,1000)"
   ]
  },
  {
   "cell_type": "code",
   "execution_count": 48,
   "metadata": {},
   "outputs": [],
   "source": [
    "# model=HDCModel(9,257,1000)\n",
    "train_start(model,OnlineHDv2(10,64,.0001),xtr,ytr)\n",
    "train_start(model,Normalize(),xtr,ytr)"
   ]
  },
  {
   "cell_type": "code",
   "execution_count": 46,
   "metadata": {},
   "outputs": [],
   "source": [
    "model.basis[:]=model.basis+torch.normal(0,1,(1000,257))"
   ]
  },
  {
   "cell_type": "code",
   "execution_count": 49,
   "metadata": {},
   "outputs": [
    {
     "name": "stdout",
     "output_type": "stream",
     "text": [
      "tensor(0.8693)\n"
     ]
    }
   ],
   "source": [
    "print(eval_acc(model,xte,yte))"
   ]
  },
  {
   "cell_type": "code",
   "execution_count": 7,
   "metadata": {},
   "outputs": [
    {
     "name": "stderr",
     "output_type": "stream",
     "text": [
      "/Users/bobbymissirian/Files/Research/Cybersecurity/Experiments/GeneralHDC/Module.py:59: UserWarning: An output with one or more elements was resized since it had shape [257, 1000], which does not match the required output shape [184, 1000].This behavior is deprecated, and in a future PyTorch release outputs will not be resized unless they have zero elements. You can explicitly reuse an out tensor t by resizing it, inplace, to zero elements with t.resize_(0). (Triggered internally at  ../aten/src/ATen/native/Resize.cpp:23.)\n",
      "  torch.matmul(x[i:i+bsize], self.basis.T, out=temp)\n",
      "/Users/bobbymissirian/Files/Research/Cybersecurity/Experiments/GeneralHDC/Module.py:59: UserWarning: An output with one or more elements was resized since it had shape [257, 1000], which does not match the required output shape [147, 1000].This behavior is deprecated, and in a future PyTorch release outputs will not be resized unless they have zero elements. You can explicitly reuse an out tensor t by resizing it, inplace, to zero elements with t.resize_(0). (Triggered internally at  ../aten/src/ATen/native/Resize.cpp:23.)\n",
      "  torch.matmul(x[i:i+bsize], self.basis.T, out=temp)\n"
     ]
    },
    {
     "name": "stdout",
     "output_type": "stream",
     "text": [
      "tensor(0.9477)\n",
      "tensor(0.9529)\n",
      "tensor(0.9481)\n",
      "tensor(0.9547)\n",
      "tensor(0.9518)\n",
      "tensor(0.9481)\n",
      "tensor(0.9514)\n",
      "tensor(0.9452)\n",
      "tensor(0.9474)\n",
      "tensor(0.9466)\n"
     ]
    }
   ],
   "source": [
    "\n",
    "for i in range(0,10):\n",
    "    # trainblock=TrainBlock()\n",
    "    # trainblock.append_component(ClassicVersion2(64,.0001))\n",
    "    # trainblock.append_component(Normalize())\n",
    "    trainblock=TrainBlock(\n",
    "        [Normalize(),TrainRepeater(ClassicVersion2(64,.0001),15)]\n",
    "    )\n",
    "    neuralHD=TrainRepeater(trainblock,5)\n",
    "    encodedprinter=DebugPrinter(\"train\",sum)\n",
    "    model=HDCModel(9,257,1000, kernel=None)\n",
    "\n",
    "    train_start(model,neuralHD,xtr,ytr)\n",
    "\n",
    "    print(eval_acc(model,xte,yte))"
   ]
  },
  {
   "cell_type": "code",
   "execution_count": 10,
   "metadata": {},
   "outputs": [
    {
     "data": {
      "text/plain": [
       "257"
      ]
     },
     "execution_count": 10,
     "metadata": {},
     "output_type": "execute_result"
    }
   ],
   "source": [
    "xtr.size(1)"
   ]
  },
  {
   "cell_type": "code",
   "execution_count": null,
   "metadata": {},
   "outputs": [],
   "source": [
    "kwargs=kwargs\n",
    "trainblock.apply(model,)"
   ]
  },
  {
   "cell_type": "code",
   "execution_count": 6,
   "metadata": {},
   "outputs": [],
   "source": [
    "def test_args_kwargs(arg1, arg2):\n",
    "    print(\"arg1:\", arg1)\n",
    "    print(\"arg2:\", arg2)\n",
    "    print(\"arg3:\", arg3)"
   ]
  },
  {
   "cell_type": "code",
   "execution_count": 10,
   "metadata": {},
   "outputs": [
    {
     "data": {
      "text/plain": [
       "torch.Size([1000, 257])"
      ]
     },
     "execution_count": 10,
     "metadata": {},
     "output_type": "execute_result"
    }
   ],
   "source": [
    "model.basis.shape"
   ]
  },
  {
   "cell_type": "code",
   "execution_count": 34,
   "metadata": {},
   "outputs": [],
   "source": [
    "array=torch.zeros(3,5)"
   ]
  },
  {
   "cell_type": "code",
   "execution_count": 35,
   "metadata": {},
   "outputs": [],
   "source": [
    "def changearray(array):\n",
    "    array[:]=torch.ones(3,5)"
   ]
  },
  {
   "cell_type": "code",
   "execution_count": 36,
   "metadata": {},
   "outputs": [],
   "source": [
    "changearray(array)"
   ]
  },
  {
   "cell_type": "code",
   "execution_count": 37,
   "metadata": {},
   "outputs": [
    {
     "data": {
      "text/plain": [
       "tensor([[1., 1., 1., 1., 1.],\n",
       "        [1., 1., 1., 1., 1.],\n",
       "        [1., 1., 1., 1., 1.]])"
      ]
     },
     "execution_count": 37,
     "metadata": {},
     "output_type": "execute_result"
    }
   ],
   "source": [
    "array"
   ]
  },
  {
   "cell_type": "code",
   "execution_count": null,
   "metadata": {},
   "outputs": [],
   "source": []
  }
 ],
 "metadata": {
  "kernelspec": {
   "display_name": "Python 3.9.13 64-bit",
   "language": "python",
   "name": "python3"
  },
  "language_info": {
   "codemirror_mode": {
    "name": "ipython",
    "version": 3
   },
   "file_extension": ".py",
   "mimetype": "text/x-python",
   "name": "python",
   "nbconvert_exporter": "python",
   "pygments_lexer": "ipython3",
   "version": "3.9.13"
  },
  "orig_nbformat": 4,
  "vscode": {
   "interpreter": {
    "hash": "aee8b7b246df8f9039afb4144a1f6fd8d2ca17a180786b69acc140d282b71a49"
   }
  }
 },
 "nbformat": 4,
 "nbformat_minor": 2
}
