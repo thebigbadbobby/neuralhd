{
 "cells": [
  {
   "cell_type": "code",
   "execution_count": 1,
   "metadata": {},
   "outputs": [],
   "source": [
    "from flexHD import NeuralHDDev\n",
    "import time\n",
    "import numpy as np\n",
    "import torch\n",
    "import matplotlib.pyplot as plt"
   ]
  },
  {
   "cell_type": "code",
   "execution_count": 2,
   "metadata": {},
   "outputs": [],
   "source": [
    "path=\"../../../../Data/malware-classification/\"\n",
    "with open(path+'data11.npy', 'rb') as f:\n",
    "    transxtrain=np.load(f)\n",
    "    transx_test=np.load(f)\n",
    "    transytrain=np.load(f)\n",
    "    transy_test=np.load(f)\n",
    "xtr=torch.from_numpy(transxtrain).float()\n",
    "xte=torch.from_numpy(transx_test).float()\n",
    "ytr=torch.from_numpy(transytrain).long()\n",
    "yte=torch.from_numpy(transy_test).long()"
   ]
  },
  {
   "cell_type": "code",
   "execution_count": 54,
   "metadata": {},
   "outputs": [
    {
     "name": "stdout",
     "output_type": "stream",
     "text": [
      "test\n",
      "0.0001\n",
      "4\n",
      "test\n",
      "0.0001\n",
      "4\n",
      "test\n",
      "0.0001\n",
      "4\n",
      "test\n",
      "0.0001\n",
      "4\n",
      "test\n",
      "0.0001\n",
      "4\n",
      "test\n",
      "0.0001\n",
      "4\n",
      "test\n",
      "0.0001\n",
      "4\n",
      "test\n",
      "0.0001\n",
      "4\n",
      "test\n",
      "0.0001\n",
      "4\n",
      "test\n",
      "0.0001\n",
      "4\n",
      "test\n",
      "0.0001\n",
      "4\n",
      "test\n",
      "0.0001\n",
      "4\n",
      "test\n",
      "0.0001\n",
      "4\n",
      "test\n",
      "0.0001\n",
      "4\n",
      "test\n",
      "0.0001\n",
      "4\n",
      "test\n",
      "0.0001\n",
      "4\n"
     ]
    }
   ],
   "source": [
    "newbasis=torch.zeros(2048,257)\n",
    "divisor=16\n",
    "for i in range(0,16):\n",
    "    start=time.time()\n",
    "    model=NeuralHDDev(9,257,2048,trainopt=2,bestinclass=True, multiencoder=True)\n",
    "    model.fit(xtr[:int(transxtrain.shape[0]*.05)],ytr[:int(transxtrain.shape[0]*.05)],36,5,.1,.0001,4,1)\n",
    "    # model.fit(xtr[:int(transxtrain.shape[0]*.05)],ytr[:int(transxtrain.shape[0]*.05)],45,0,0,.0001,64,1)#Initial training\n",
    "    # # model.fit(xtr,ytr,5,0,0,.0001,1,1)\n",
    "    # model.fit(xtr[:int(transxtrain.shape[0]*.05)],ytr[:int(transxtrain.shape[0]*.05)],3,1,0,.0001,1,1)\n",
    "    # yhat=model(xte)\n",
    "    # eval=[yhat[i]==transy_test[i] for i in range(len(transy_test))]\n",
    "    # sum(eval)/len(transy_test)\n",
    "    var = torch.var(model.classes, 0) \n",
    "    # rank each entry in variances from smallest to largest\n",
    "    order = torch.argsort(var)\n",
    "    #drop amountDrop bases\n",
    "    toKeep = order[int(2048-2048/divisor):]\n",
    "    newbasis[int((2048/divisor)*i):int((2048/divisor)*(i+1)),:]=model.basis[toKeep]\n"
   ]
  },
  {
   "cell_type": "code",
   "execution_count": 13,
   "metadata": {},
   "outputs": [
    {
     "data": {
      "text/plain": [
       "1920.0"
      ]
     },
     "execution_count": 13,
     "metadata": {},
     "output_type": "execute_result"
    }
   ],
   "source": [
    "2048-2048/divisor"
   ]
  },
  {
   "cell_type": "code",
   "execution_count": 35,
   "metadata": {},
   "outputs": [
    {
     "data": {
      "text/plain": [
       "tensor([[ 5.6169e-01,  4.8091e-01, -1.4811e-02,  ..., -1.1905e+00,\n",
       "         -4.5212e-01, -7.2722e-01],\n",
       "        [-1.4242e+00,  1.1021e-03,  8.9791e-02,  ...,  5.4448e-01,\n",
       "         -2.0166e-02,  4.3194e-01],\n",
       "        [-2.4255e+00, -2.0490e+00,  2.0743e+00,  ..., -9.4929e-01,\n",
       "         -2.9277e-01,  2.1659e-01],\n",
       "        ...,\n",
       "        [-3.2871e-01, -1.2115e+00, -5.5505e-01,  ...,  2.5260e-01,\n",
       "          8.3947e-01,  1.7925e+00],\n",
       "        [-8.0205e-01, -8.7783e-01, -6.6722e-01,  ..., -2.4998e+00,\n",
       "          1.7775e+00,  1.3202e+00],\n",
       "        [-1.9468e+00,  8.7705e-01,  3.9242e-01,  ...,  4.2448e-01,\n",
       "         -3.1677e-01,  1.5560e+00]])"
      ]
     },
     "execution_count": 35,
     "metadata": {},
     "output_type": "execute_result"
    }
   ],
   "source": [
    "newbasis"
   ]
  },
  {
   "cell_type": "code",
   "execution_count": 64,
   "metadata": {},
   "outputs": [
    {
     "name": "stdout",
     "output_type": "stream",
     "text": [
      "test\n",
      "0.0001\n",
      "4\n"
     ]
    },
    {
     "data": {
      "text/plain": [
       "tensor(0.8907)"
      ]
     },
     "execution_count": 64,
     "metadata": {},
     "output_type": "execute_result"
    }
   ],
   "source": [
    "model=NeuralHDDev(9,257,2048,trainopt=2,bestinclass=True, multiencoder=True)\n",
    "model.basis=newbasis[:]\n",
    "model.fit(xtr[:int(transxtrain.shape[0]*.05)],ytr[:int(transxtrain.shape[0]*.05)],36,5,.1,.0001,4,1)#Initial training\n",
    "# model.fit(xtr,ytr,5,0,0,.0001,1,1)\n",
    "# model.fit(xtr,ytr,6,1,0,.0001,1,1)\n",
    "yhat=model(xte)\n",
    "eval=[yhat[i]==transy_test[i] for i in range(len(transy_test))]\n",
    "sum(eval)/len(transy_test)"
   ]
  },
  {
   "cell_type": "code",
   "execution_count": 50,
   "metadata": {},
   "outputs": [
    {
     "data": {
      "text/plain": [
       "tensor(0.8870)"
      ]
     },
     "execution_count": 50,
     "metadata": {},
     "output_type": "execute_result"
    }
   ],
   "source": []
  },
  {
   "cell_type": "code",
   "execution_count": 27,
   "metadata": {},
   "outputs": [
    {
     "name": "stdout",
     "output_type": "stream",
     "text": [
      "test\n",
      "0.0001\n",
      "64\n",
      "0.0001\n",
      "1\n",
      "0.0001\n",
      "1\n"
     ]
    },
    {
     "name": "stderr",
     "output_type": "stream",
     "text": [
      "/Users/bobbymissirian/Files/Research/Cybersecurity/Experiments/StitchHD/flexHD.py:61: UserWarning: An output with one or more elements was resized since it had shape [257, 2048], which does not match the required output shape [147, 2048].This behavior is deprecated, and in a future PyTorch release outputs will not be resized unless they have zero elements. You can explicitly reuse an out tensor t by resizing it, inplace, to zero elements with t.resize_(0). (Triggered internally at  ../aten/src/ATen/native/Resize.cpp:23.)\n",
      "  torch.matmul(x[i:i+bsize], self.basis.T, out=temp)\n"
     ]
    },
    {
     "name": "stdout",
     "output_type": "stream",
     "text": [
      "test\n",
      "0.0001\n",
      "64\n",
      "0.0001\n",
      "1\n",
      "0.0001\n",
      "1\n",
      "test\n",
      "0.0001\n",
      "64\n",
      "0.0001\n",
      "1\n",
      "0.0001\n",
      "1\n",
      "test\n",
      "0.0001\n",
      "64\n",
      "0.0001\n",
      "1\n",
      "0.0001\n",
      "1\n",
      "test\n",
      "0.0001\n",
      "64\n",
      "0.0001\n",
      "1\n",
      "0.0001\n",
      "1\n",
      "test\n",
      "0.0001\n",
      "64\n",
      "0.0001\n",
      "1\n",
      "0.0001\n",
      "1\n",
      "test\n",
      "0.0001\n",
      "64\n",
      "0.0001\n",
      "1\n",
      "0.0001\n",
      "1\n",
      "test\n",
      "0.0001\n",
      "64\n",
      "0.0001\n",
      "1\n",
      "0.0001\n",
      "1\n",
      "test\n",
      "0.0001\n",
      "64\n",
      "0.0001\n",
      "1\n",
      "0.0001\n",
      "1\n",
      "test\n",
      "0.0001\n",
      "64\n",
      "0.0001\n",
      "1\n",
      "0.0001\n",
      "1\n"
     ]
    }
   ],
   "source": [
    "accs=[]\n",
    "for i in range(0,10):\n",
    "    model=NeuralHDDev(9,257,2048,trainopt=2,bestinclass=True, multiencoder=True)\n",
    "    model.basis=newbasis[:]\n",
    "    model.fit(xtr,ytr,45,0,0,.0001,64,1)#Initial training\n",
    "    model.fit(xtr,ytr,5,0,0,.0001,1,1)\n",
    "    model.fit(xtr,ytr,6,1,0,.0001,1,1)\n",
    "    yhat=model(xte)\n",
    "    eval=[yhat[i]==transy_test[i] for i in range(len(transy_test))]\n",
    "    accs.append(sum(eval)/len(transy_test))"
   ]
  },
  {
   "cell_type": "code",
   "execution_count": 28,
   "metadata": {},
   "outputs": [
    {
     "data": {
      "text/plain": [
       "[tensor(0.9639),\n",
       " tensor(0.9625),\n",
       " tensor(0.9658),\n",
       " tensor(0.9658),\n",
       " tensor(0.9621),\n",
       " tensor(0.9636),\n",
       " tensor(0.9643),\n",
       " tensor(0.9643),\n",
       " tensor(0.9654),\n",
       " tensor(0.9665)]"
      ]
     },
     "execution_count": 28,
     "metadata": {},
     "output_type": "execute_result"
    }
   ],
   "source": [
    "accs"
   ]
  },
  {
   "cell_type": "code",
   "execution_count": 29,
   "metadata": {},
   "outputs": [
    {
     "name": "stdout",
     "output_type": "stream",
     "text": [
      "test\n",
      "0.0001\n",
      "64\n",
      "0.0001\n",
      "1\n",
      "0.0001\n",
      "1\n",
      "test\n",
      "0.0001\n",
      "64\n",
      "0.0001\n",
      "1\n",
      "0.0001\n",
      "1\n",
      "test\n",
      "0.0001\n",
      "64\n",
      "0.0001\n",
      "1\n",
      "0.0001\n",
      "1\n",
      "test\n",
      "0.0001\n",
      "64\n",
      "0.0001\n",
      "1\n",
      "0.0001\n",
      "1\n",
      "test\n",
      "0.0001\n",
      "64\n",
      "0.0001\n",
      "1\n",
      "0.0001\n",
      "1\n",
      "test\n",
      "0.0001\n",
      "64\n",
      "0.0001\n",
      "1\n",
      "0.0001\n",
      "1\n",
      "test\n",
      "0.0001\n",
      "64\n",
      "0.0001\n",
      "1\n",
      "0.0001\n",
      "1\n",
      "test\n",
      "0.0001\n",
      "64\n",
      "0.0001\n",
      "1\n",
      "0.0001\n",
      "1\n",
      "test\n",
      "0.0001\n",
      "64\n",
      "0.0001\n",
      "1\n",
      "0.0001\n",
      "1\n",
      "test\n",
      "0.0001\n",
      "64\n",
      "0.0001\n",
      "1\n",
      "0.0001\n",
      "1\n"
     ]
    }
   ],
   "source": [
    "accs=[]\n",
    "for i in range(0,10):\n",
    "    model=NeuralHDDev(9,257,2048,trainopt=2,bestinclass=True, multiencoder=True)\n",
    "    model.fit(xtr,ytr,45,0,0,.0001,64,1)#Initial training\n",
    "    model.fit(xtr,ytr,5,0,0,.0001,1,1)\n",
    "    model.fit(xtr,ytr,6,1,0,.0001,1,1)\n",
    "    yhat=model(xte)\n",
    "    eval=[yhat[i]==transy_test[i] for i in range(len(transy_test))]\n",
    "    accs.append(sum(eval)/len(transy_test))"
   ]
  },
  {
   "cell_type": "code",
   "execution_count": 25,
   "metadata": {},
   "outputs": [
    {
     "data": {
      "text/plain": [
       "[tensor(0.9614),\n",
       " tensor(0.9632),\n",
       " tensor(0.9650),\n",
       " tensor(0.9588),\n",
       " tensor(0.9614),\n",
       " tensor(0.9595),\n",
       " tensor(0.9584),\n",
       " tensor(0.9606),\n",
       " tensor(0.9606),\n",
       " tensor(0.9584)]"
      ]
     },
     "execution_count": 25,
     "metadata": {},
     "output_type": "execute_result"
    }
   ],
   "source": [
    "accs"
   ]
  },
  {
   "cell_type": "code",
   "execution_count": 30,
   "metadata": {},
   "outputs": [],
   "source": [
    "torch.save(newbasis, 'basis.pt')"
   ]
  }
 ],
 "metadata": {
  "kernelspec": {
   "display_name": "Python 3.9.13 64-bit",
   "language": "python",
   "name": "python3"
  },
  "language_info": {
   "codemirror_mode": {
    "name": "ipython",
    "version": 3
   },
   "file_extension": ".py",
   "mimetype": "text/x-python",
   "name": "python",
   "nbconvert_exporter": "python",
   "pygments_lexer": "ipython3",
   "version": "3.9.13"
  },
  "orig_nbformat": 4,
  "vscode": {
   "interpreter": {
    "hash": "aee8b7b246df8f9039afb4144a1f6fd8d2ca17a180786b69acc140d282b71a49"
   }
  }
 },
 "nbformat": 4,
 "nbformat_minor": 2
}
