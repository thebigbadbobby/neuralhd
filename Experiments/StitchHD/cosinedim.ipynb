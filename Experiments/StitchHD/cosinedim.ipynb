{
 "cells": [
  {
   "cell_type": "code",
   "execution_count": 163,
   "metadata": {},
   "outputs": [],
   "source": [
    "import math\n",
    "import copy\n",
    "import torch\n",
    "import numpy as np"
   ]
  },
  {
   "cell_type": "code",
   "execution_count": 168,
   "metadata": {},
   "outputs": [],
   "source": [
    "sample=1-2*torch.rand(5,10)\n",
    "classes=1-2*torch.rand(2,10)"
   ]
  },
  {
   "cell_type": "code",
   "execution_count": 165,
   "metadata": {},
   "outputs": [],
   "source": [
    "def cos_cdist(x1 : torch.Tensor, x2 : torch.Tensor, eps : float = 1e-8):\n",
    "    #Cosine Similarity\n",
    "    eps = torch.tensor(eps, device=x1.device)\n",
    "    norms1 = x1.norm(dim=1).unsqueeze_(1).max(eps)\n",
    "    norms2 = x2.norm(dim=1).unsqueeze_(0).max(eps)\n",
    "    cdist = x1 @ x2.T\n",
    "    cdist.div_(norms1).div_(norms2)\n",
    "    return cdist\n",
    "def dropdimension(i):\n",
    "    sample[:,i]=torch.zeros(len(sample))"
   ]
  },
  {
   "cell_type": "code",
   "execution_count": 175,
   "metadata": {},
   "outputs": [
    {
     "data": {
      "text/plain": [
       "[tensor([-0.6893,  0.8005,  0.3373, -0.0500, -1.1712, -0.2175, -0.1003, -0.4059,\n",
       "         -0.0541, -0.0312]),\n",
       " tensor([-0.4649,  1.3121,  0.3699,  0.0100, -1.6126, -0.0235,  0.1989,  0.2521,\n",
       "         -0.2660, -0.0109])]"
      ]
     },
     "execution_count": 175,
     "metadata": {},
     "output_type": "execute_result"
    }
   ],
   "source": [
    "[(sample*class_).sum(0) for class_ in classes]"
   ]
  },
  {
   "cell_type": "code",
   "execution_count": 174,
   "metadata": {},
   "outputs": [
    {
     "data": {
      "text/plain": [
       "tensor([-0.6893,  0.8005,  0.3373, -0.0500, -1.1712, -0.2175, -0.1003, -0.4059,\n",
       "        -0.0541, -0.0312])"
      ]
     },
     "execution_count": 174,
     "metadata": {},
     "output_type": "execute_result"
    }
   ],
   "source": [
    "meter"
   ]
  },
  {
   "cell_type": "code",
   "execution_count": 170,
   "metadata": {},
   "outputs": [
    {
     "data": {
      "text/plain": [
       "tensor([[-0.3755,  0.2589,  0.1771, -0.3840, -0.3114, -0.2242, -0.1877,  0.5299,\n",
       "         -0.0129,  0.0764],\n",
       "        [-0.0313,  0.2411,  0.2384, -0.1176, -0.1694,  0.4961,  0.3819, -0.3945,\n",
       "          0.0104,  0.1950],\n",
       "        [-0.3859,  0.1779, -0.0042,  0.1539, -0.6791, -0.2842, -0.4754,  0.0706,\n",
       "         -0.0106,  0.2298],\n",
       "        [ 0.3443,  0.1285, -0.2461, -0.0754, -0.3701,  0.1389, -0.2350, -0.3801,\n",
       "         -0.0075, -0.3490],\n",
       "        [-0.2410, -0.0058,  0.1721,  0.3731,  0.3588, -0.3440,  0.4159, -0.2319,\n",
       "         -0.0334, -0.1835]])"
      ]
     },
     "execution_count": 170,
     "metadata": {},
     "output_type": "execute_result"
    }
   ],
   "source": [
    "meter0"
   ]
  },
  {
   "cell_type": "code",
   "execution_count": 161,
   "metadata": {},
   "outputs": [],
   "source": [
    "meter0=(sample*classes[0])\n",
    "meter1=(sample*classes[1])\n",
    "metrics=meter0-meter1\n",
    "low=metrics.argmin()\n",
    "dropdimension(low)"
   ]
  },
  {
   "cell_type": "code",
   "execution_count": 162,
   "metadata": {},
   "outputs": [
    {
     "data": {
      "text/plain": [
       "tensor([[ 0.0000,  0.0788, -0.0894,  0.0349,  0.4658,  1.7087, -0.0846, -0.0278,\n",
       "          0.0000, -0.0348]])"
      ]
     },
     "execution_count": 162,
     "metadata": {},
     "output_type": "execute_result"
    }
   ],
   "source": [
    "metrics"
   ]
  },
  {
   "cell_type": "code",
   "execution_count": 146,
   "metadata": {},
   "outputs": [
    {
     "data": {
      "text/plain": [
       "tensor([0.2749, 0.1928])"
      ]
     },
     "execution_count": 146,
     "metadata": {},
     "output_type": "execute_result"
    }
   ],
   "source": [
    "(sample*classes).sum(1)/sample.norm(dim=1)/classes.norm(dim=1)"
   ]
  },
  {
   "cell_type": "code",
   "execution_count": 147,
   "metadata": {},
   "outputs": [
    {
     "data": {
      "text/plain": [
       "tensor([[0.2749, 0.1928]])"
      ]
     },
     "execution_count": 147,
     "metadata": {},
     "output_type": "execute_result"
    }
   ],
   "source": [
    "cos_cdist(sample, classes)"
   ]
  },
  {
   "cell_type": "code",
   "execution_count": null,
   "metadata": {},
   "outputs": [],
   "source": []
  }
 ],
 "metadata": {
  "kernelspec": {
   "display_name": "Python 3.9.13 64-bit",
   "language": "python",
   "name": "python3"
  },
  "language_info": {
   "codemirror_mode": {
    "name": "ipython",
    "version": 3
   },
   "file_extension": ".py",
   "mimetype": "text/x-python",
   "name": "python",
   "nbconvert_exporter": "python",
   "pygments_lexer": "ipython3",
   "version": "3.9.13"
  },
  "orig_nbformat": 4,
  "vscode": {
   "interpreter": {
    "hash": "aee8b7b246df8f9039afb4144a1f6fd8d2ca17a180786b69acc140d282b71a49"
   }
  }
 },
 "nbformat": 4,
 "nbformat_minor": 2
}
