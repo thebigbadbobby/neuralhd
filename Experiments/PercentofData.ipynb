{
 "cells": [
  {
   "cell_type": "code",
   "execution_count": 1,
   "metadata": {},
   "outputs": [],
   "source": [
    "from SVM import SVM\n",
    "from MLP import MLP\n",
    "from OnlineHDv1 import OnlineHDv1\n",
    "from OnlineHDv2 import OnlineHDv2\n",
    "from NeuralHDv1 import NeuralHDv1\n",
    "from NeuralHDv2 import NeuralHDv2\n",
    "from testcode import NeuralHDSpecial\n",
    "import numpy as np\n",
    "import torch\n",
    "import matplotlib.pyplot as plt"
   ]
  },
  {
   "cell_type": "code",
   "execution_count": 2,
   "metadata": {},
   "outputs": [],
   "source": [
    "path=\"../../../Data/malware-classification/\"\n",
    "with open(path+'data11.npy', 'rb') as f:\n",
    "    transxtrain=np.load(f)\n",
    "    transx_test=np.load(f)\n",
    "    transytrain=np.load(f)\n",
    "    transy_test=np.load(f)\n",
    "xtr=torch.from_numpy(transxtrain).float()\n",
    "xte=torch.from_numpy(transx_test).float()\n",
    "ytr=torch.from_numpy(transytrain).long()\n",
    "yte=torch.from_numpy(transy_test).long()"
   ]
  },
  {
   "cell_type": "code",
   "execution_count": 3,
   "metadata": {},
   "outputs": [
    {
     "name": "stdout",
     "output_type": "stream",
     "text": [
      "0.05\n",
      "[0.7721751932278248]\n",
      "0.1\n",
      "[0.8034596981965403]\n",
      "0.2\n",
      "[0.8317997791682002]\n",
      "0.3\n",
      "[0.8428413691571587]\n",
      "0.4\n",
      "[0.8759661391240339]\n",
      "0.5\n",
      "[0.8807508281192492]\n",
      "0.6\n",
      "[0.8833271991166728]\n",
      "0.7\n",
      "[0.8899521531100478]\n",
      "0.8\n",
      "[0.8940007361059993]\n",
      "0.9\n",
      "[0.8951048951048951]\n",
      "1\n",
      "[0.895472948104527]\n"
     ]
    }
   ],
   "source": [
    "factors=[.05,.1,.2,.3,.4,.5,.6,.7,.8,.9,1]\n",
    "means=[]\n",
    "medians=[]\n",
    "deviations=[]\n",
    "repetitions=1\n",
    "for factor in factors:\n",
    "    accs=[]\n",
    "    print(factor)\n",
    "    for repetition in range(0,repetitions):\n",
    "        model=SVM()\n",
    "        model.fit(transxtrain[:int(transxtrain.shape[0]*factor),:],transytrain[:int(transxtrain.shape[0]*factor)])\n",
    "        yhat=model(transx_test)\n",
    "        eval=[yhat[i]==transy_test[i] for i in range(len(transy_test))]\n",
    "        acc=sum(eval)/len(transy_test)\n",
    "        accs.append(acc)\n",
    "    print(accs)\n",
    "    acc=np.mean(accs)\n",
    "    median=np.median(accs)\n",
    "    std=np.std(accs)\n",
    "    means.append(acc)\n",
    "    deviations.append(std)\n",
    "    medians.append(median)"
   ]
  },
  {
   "cell_type": "code",
   "execution_count": 4,
   "metadata": {},
   "outputs": [
    {
     "name": "stdout",
     "output_type": "stream",
     "text": [
      "SVM\n",
      "[0.7721751932278248, 0.8034596981965403, 0.8317997791682002, 0.8428413691571587, 0.8759661391240339, 0.8807508281192492, 0.8833271991166728, 0.8899521531100478, 0.8940007361059993, 0.8951048951048951, 0.895472948104527]\n"
     ]
    },
    {
     "data": {
      "image/png": "[encoded data removed]",
      "text/plain": [
       "<Figure size 432x288 with 1 Axes>"
      ]
     },
     "metadata": {
      "needs_background": "light"
     },
     "output_type": "display_data"
    },
    {
     "name": "stdout",
     "output_type": "stream",
     "text": [
      "[0.7721751932278248, 0.8034596981965403, 0.8317997791682002, 0.8428413691571587, 0.8759661391240339, 0.8807508281192492, 0.8833271991166728, 0.8899521531100478, 0.8940007361059993, 0.8951048951048951, 0.895472948104527]\n"
     ]
    },
    {
     "data": {
      "image/png": "[encoded data removed]",
      "text/plain": [
       "<Figure size 432x288 with 1 Axes>"
      ]
     },
     "metadata": {
      "needs_background": "light"
     },
     "output_type": "display_data"
    },
    {
     "name": "stdout",
     "output_type": "stream",
     "text": [
      "[0.0, 0.0, 0.0, 0.0, 0.0, 0.0, 0.0, 0.0, 0.0, 0.0, 0.0]\n"
     ]
    },
    {
     "data": {
      "image/png": "[encoded data removed]",
      "text/plain": [
       "<Figure size 432x288 with 1 Axes>"
      ]
     },
     "metadata": {
      "needs_background": "light"
     },
     "output_type": "display_data"
    }
   ],
   "source": [
    "print(\"SVM\")\n",
    "plt.plot(factors,medians)\n",
    "print(medians)\n",
    "plt.show()\n",
    "plt.plot(factors,means)\n",
    "print(means)\n",
    "plt.show()\n",
    "plt.plot(factors,deviations)\n",
    "print(deviations)"
   ]
  },
  {
   "cell_type": "code",
   "execution_count": 3,
   "metadata": {},
   "outputs": [
    {
     "name": "stdout",
     "output_type": "stream",
     "text": [
      "0.05\n",
      "(407, 257) (407, 9)\n",
      "(407, 257) (407, 9)\n",
      "(407, 257) (407, 9)\n",
      "(407, 257) (407, 9)\n",
      "(407, 257) (407, 9)\n",
      "(407, 257) (407, 9)\n",
      "(407, 257) (407, 9)\n",
      "(407, 257) (407, 9)\n",
      "(407, 257) (407, 9)\n",
      "(407, 257) (407, 9)\n",
      "0.1\n",
      "(815, 257) (815, 9)\n",
      "(815, 257) (815, 9)\n",
      "(815, 257) (815, 9)\n",
      "(815, 257) (815, 9)\n",
      "(815, 257) (815, 9)\n",
      "(815, 257) (815, 9)\n",
      "(815, 257) (815, 9)\n",
      "(815, 257) (815, 9)\n",
      "(815, 257) (815, 9)\n",
      "(815, 257) (815, 9)\n",
      "0.2\n",
      "(1630, 257) (1630, 9)\n",
      "(1630, 257) (1630, 9)\n",
      "(1630, 257) (1630, 9)\n",
      "(1630, 257) (1630, 9)\n",
      "(1630, 257) (1630, 9)\n",
      "(1630, 257) (1630, 9)\n",
      "(1630, 257) (1630, 9)\n",
      "(1630, 257) (1630, 9)\n",
      "(1630, 257) (1630, 9)\n",
      "(1630, 257) (1630, 9)\n",
      "0.3\n",
      "(2445, 257) (2445, 9)\n",
      "(2445, 257) (2445, 9)\n",
      "(2445, 257) (2445, 9)\n",
      "(2445, 257) (2445, 9)\n",
      "(2445, 257) (2445, 9)\n",
      "(2445, 257) (2445, 9)\n",
      "(2445, 257) (2445, 9)\n",
      "(2445, 257) (2445, 9)\n",
      "(2445, 257) (2445, 9)\n",
      "(2445, 257) (2445, 9)\n",
      "0.4\n",
      "(3260, 257) (3260, 9)\n",
      "(3260, 257) (3260, 9)\n",
      "(3260, 257) (3260, 9)\n",
      "(3260, 257) (3260, 9)\n",
      "(3260, 257) (3260, 9)\n",
      "(3260, 257) (3260, 9)\n",
      "(3260, 257) (3260, 9)\n",
      "(3260, 257) (3260, 9)\n",
      "(3260, 257) (3260, 9)\n",
      "(3260, 257) (3260, 9)\n",
      "0.5\n",
      "(4075, 257) (4075, 9)\n",
      "(4075, 257) (4075, 9)\n",
      "(4075, 257) (4075, 9)\n",
      "(4075, 257) (4075, 9)\n",
      "(4075, 257) (4075, 9)\n",
      "(4075, 257) (4075, 9)\n",
      "(4075, 257) (4075, 9)\n",
      "(4075, 257) (4075, 9)\n",
      "(4075, 257) (4075, 9)\n",
      "(4075, 257) (4075, 9)\n",
      "0.6\n",
      "(4890, 257) (4890, 9)\n",
      "(4890, 257) (4890, 9)\n",
      "(4890, 257) (4890, 9)\n",
      "(4890, 257) (4890, 9)\n",
      "(4890, 257) (4890, 9)\n",
      "(4890, 257) (4890, 9)\n",
      "(4890, 257) (4890, 9)\n",
      "(4890, 257) (4890, 9)\n",
      "(4890, 257) (4890, 9)\n",
      "(4890, 257) (4890, 9)\n",
      "0.7\n",
      "(5705, 257) (5705, 9)\n",
      "(5705, 257) (5705, 9)\n",
      "(5705, 257) (5705, 9)\n",
      "(5705, 257) (5705, 9)\n",
      "(5705, 257) (5705, 9)\n",
      "(5705, 257) (5705, 9)\n",
      "(5705, 257) (5705, 9)\n",
      "(5705, 257) (5705, 9)\n",
      "(5705, 257) (5705, 9)\n",
      "(5705, 257) (5705, 9)\n",
      "0.8\n",
      "(6520, 257) (6520, 9)\n",
      "(6520, 257) (6520, 9)\n",
      "(6520, 257) (6520, 9)\n",
      "(6520, 257) (6520, 9)\n",
      "(6520, 257) (6520, 9)\n",
      "(6520, 257) (6520, 9)\n",
      "(6520, 257) (6520, 9)\n",
      "(6520, 257) (6520, 9)\n",
      "(6520, 257) (6520, 9)\n",
      "(6520, 257) (6520, 9)\n",
      "0.9\n",
      "(7335, 257) (7335, 9)\n",
      "(7335, 257) (7335, 9)\n",
      "(7335, 257) (7335, 9)\n",
      "(7335, 257) (7335, 9)\n",
      "(7335, 257) (7335, 9)\n",
      "(7335, 257) (7335, 9)\n",
      "(7335, 257) (7335, 9)\n",
      "(7335, 257) (7335, 9)\n",
      "(7335, 257) (7335, 9)\n",
      "(7335, 257) (7335, 9)\n",
      "1\n",
      "(8151, 257) (8151, 9)\n",
      "(8151, 257) (8151, 9)\n",
      "(8151, 257) (8151, 9)\n",
      "(8151, 257) (8151, 9)\n",
      "(8151, 257) (8151, 9)\n",
      "(8151, 257) (8151, 9)\n",
      "(8151, 257) (8151, 9)\n",
      "(8151, 257) (8151, 9)\n",
      "(8151, 257) (8151, 9)\n",
      "(8151, 257) (8151, 9)\n"
     ]
    }
   ],
   "source": [
    "factors=[.05,.1,.2,.3,.4,.5,.6,.7,.8,.9,1]\n",
    "means=[]\n",
    "medians=[]\n",
    "deviations=[]\n",
    "repetitions=10\n",
    "for factor in factors:\n",
    "    accs=[]\n",
    "    print(factor)\n",
    "    for repetition in range(0,repetitions):\n",
    "        model=MLP(classes =9, features=257, dim = 1024)\n",
    "        model.fit(transxtrain[:int(transxtrain.shape[0]*factor),:],transytrain[:int(transxtrain.shape[0]*factor)],64,75,.003)\n",
    "        yhat=model(transx_test)\n",
    "        eval=[yhat[i]==transy_test[i] for i in range(len(transy_test))]\n",
    "        acc=sum(eval)/len(transy_test)\n",
    "        accs.append(acc)\n",
    "    acc=np.mean(accs)\n",
    "    median=np.median(accs)\n",
    "    std=np.std(accs)\n",
    "    means.append(acc)\n",
    "    deviations.append(std)\n",
    "    medians.append(median)"
   ]
  },
  {
   "cell_type": "code",
   "execution_count": 4,
   "metadata": {},
   "outputs": [
    {
     "name": "stdout",
     "output_type": "stream",
     "text": [
      "MLP\n",
      "[0.8463378726536621, 0.8809348546190652, 0.9063305115936695, 0.9262053735737946, 0.930806036069194, 0.9423997055576003, 0.9488406330511594, 0.9503128450496872, 0.9523371365476628, 0.9563857195436143, 0.9600662495399338]\n"
     ]
    },
    {
     "data": {
      "image/png": "[encoded data removed]",
      "text/plain": [
       "<Figure size 432x288 with 1 Axes>"
      ]
     },
     "metadata": {
      "needs_background": "light"
     },
     "output_type": "display_data"
    },
    {
     "name": "stdout",
     "output_type": "stream",
     "text": [
      "[0.8401545822598454, 0.8790945896209053, 0.9066249539933751, 0.9252116304747883, 0.933051159366949, 0.942694147957306, 0.9492822966507177, 0.946117040853883, 0.9505704821494294, 0.9503128450496872, 0.9594773647405226]\n"
     ]
    },
    {
     "data": {
      "image/png": "[encoded data removed]",
      "text/plain": [
       "<Figure size 432x288 with 1 Axes>"
      ]
     },
     "metadata": {
      "needs_background": "light"
     },
     "output_type": "display_data"
    },
    {
     "name": "stdout",
     "output_type": "stream",
     "text": [
      "[0.01784965981232291, 0.006913618681150947, 0.007421631539957113, 0.005107323889201807, 0.005216623830313396, 0.0031189098715319013, 0.0015423133485282894, 0.01282092958826779, 0.00737953148014229, 0.01417649189448104, 0.002928046095428621]\n"
     ]
    },
    {
     "data": {
      "image/png": "[encoded data removed]",
      "text/plain": [
       "<Figure size 432x288 with 1 Axes>"
      ]
     },
     "metadata": {
      "needs_background": "light"
     },
     "output_type": "display_data"
    }
   ],
   "source": [
    "print(\"MLP\")\n",
    "plt.plot(factors,medians)\n",
    "print(medians)\n",
    "plt.show()\n",
    "plt.plot(factors,means)\n",
    "print(means)\n",
    "plt.show()\n",
    "plt.plot(factors,deviations)\n",
    "print(deviations)"
   ]
  },
  {
   "cell_type": "code",
   "execution_count": 5,
   "metadata": {},
   "outputs": [
    {
     "name": "stdout",
     "output_type": "stream",
     "text": [
      "0.05\n"
     ]
    },
    {
     "name": "stderr",
     "output_type": "stream",
     "text": [
      "/Users/bobbymissirian/Files/Research/Cybersecurity/Experiments/OnlineHDv1.py:53: UserWarning: An output with one or more elements was resized since it had shape [5, 1024], which does not match the required output shape [2, 1024].This behavior is deprecated, and in a future PyTorch release outputs will not be resized unless they have zero elements. You can explicitly reuse an out tensor t by resizing it, inplace, to zero elements with t.resize_(0). (Triggered internally at  ../aten/src/ATen/native/Resize.cpp:23.)\n",
      "  torch.matmul(x[i:i+bsize], self.basis.T, out=temp)\n",
      "/Users/bobbymissirian/Files/Research/Cybersecurity/Experiments/OnlineHDv1.py:53: UserWarning: An output with one or more elements was resized since it had shape [28, 1024], which does not match the required output shape [1, 1024].This behavior is deprecated, and in a future PyTorch release outputs will not be resized unless they have zero elements. You can explicitly reuse an out tensor t by resizing it, inplace, to zero elements with t.resize_(0). (Triggered internally at  ../aten/src/ATen/native/Resize.cpp:23.)\n",
      "  torch.matmul(x[i:i+bsize], self.basis.T, out=temp)\n"
     ]
    },
    {
     "name": "stdout",
     "output_type": "stream",
     "text": [
      "[tensor(0.8660), tensor(0.5583), tensor(0.8145), tensor(0.8454), tensor(0.8417), tensor(0.8447), tensor(0.8734), tensor(0.7865), tensor(0.8469), tensor(0.8447)]\n",
      "0.1\n"
     ]
    },
    {
     "name": "stderr",
     "output_type": "stream",
     "text": [
      "/Users/bobbymissirian/Files/Research/Cybersecurity/Experiments/OnlineHDv1.py:53: UserWarning: An output with one or more elements was resized since it had shape [9, 1024], which does not match the required output shape [5, 1024].This behavior is deprecated, and in a future PyTorch release outputs will not be resized unless they have zero elements. You can explicitly reuse an out tensor t by resizing it, inplace, to zero elements with t.resize_(0). (Triggered internally at  ../aten/src/ATen/native/Resize.cpp:23.)\n",
      "  torch.matmul(x[i:i+bsize], self.basis.T, out=temp)\n"
     ]
    },
    {
     "name": "stdout",
     "output_type": "stream",
     "text": [
      "[tensor(0.9080), tensor(0.8531), tensor(0.8826), tensor(0.8697), tensor(0.7795), tensor(0.8627), tensor(0.8377), tensor(0.8554), tensor(0.7979), tensor(0.9120)]\n",
      "0.2\n"
     ]
    },
    {
     "name": "stderr",
     "output_type": "stream",
     "text": [
      "/Users/bobbymissirian/Files/Research/Cybersecurity/Experiments/OnlineHDv1.py:53: UserWarning: An output with one or more elements was resized since it had shape [17, 1024], which does not match the required output shape [15, 1024].This behavior is deprecated, and in a future PyTorch release outputs will not be resized unless they have zero elements. You can explicitly reuse an out tensor t by resizing it, inplace, to zero elements with t.resize_(0). (Triggered internally at  ../aten/src/ATen/native/Resize.cpp:23.)\n",
      "  torch.matmul(x[i:i+bsize], self.basis.T, out=temp)\n"
     ]
    },
    {
     "name": "stdout",
     "output_type": "stream",
     "text": [
      "[tensor(0.8487), tensor(0.9128), tensor(0.9165), tensor(0.9153), tensor(0.9084), tensor(0.8977), tensor(0.9117), tensor(0.9069), tensor(0.9006), tensor(0.9168)]\n",
      "0.3\n"
     ]
    },
    {
     "name": "stderr",
     "output_type": "stream",
     "text": [
      "/Users/bobbymissirian/Files/Research/Cybersecurity/Experiments/OnlineHDv1.py:53: UserWarning: An output with one or more elements was resized since it had shape [25, 1024], which does not match the required output shape [20, 1024].This behavior is deprecated, and in a future PyTorch release outputs will not be resized unless they have zero elements. You can explicitly reuse an out tensor t by resizing it, inplace, to zero elements with t.resize_(0). (Triggered internally at  ../aten/src/ATen/native/Resize.cpp:23.)\n",
      "  torch.matmul(x[i:i+bsize], self.basis.T, out=temp)\n"
     ]
    },
    {
     "name": "stdout",
     "output_type": "stream",
     "text": [
      "[tensor(0.9187), tensor(0.9223), tensor(0.8715), tensor(0.9220), tensor(0.8763), tensor(0.9006), tensor(0.9102), tensor(0.9131), tensor(0.9135), tensor(0.9168)]\n",
      "0.4\n"
     ]
    },
    {
     "name": "stderr",
     "output_type": "stream",
     "text": [
      "/Users/bobbymissirian/Files/Research/Cybersecurity/Experiments/OnlineHDv1.py:53: UserWarning: An output with one or more elements was resized since it had shape [33, 1024], which does not match the required output shape [26, 1024].This behavior is deprecated, and in a future PyTorch release outputs will not be resized unless they have zero elements. You can explicitly reuse an out tensor t by resizing it, inplace, to zero elements with t.resize_(0). (Triggered internally at  ../aten/src/ATen/native/Resize.cpp:23.)\n",
      "  torch.matmul(x[i:i+bsize], self.basis.T, out=temp)\n"
     ]
    },
    {
     "name": "stdout",
     "output_type": "stream",
     "text": [
      "[tensor(0.9190), tensor(0.9209), tensor(0.9245), tensor(0.9220), tensor(0.9312), tensor(0.9268), tensor(0.9286), tensor(0.9238), tensor(0.9231), tensor(0.9242)]\n",
      "0.5\n"
     ]
    },
    {
     "name": "stderr",
     "output_type": "stream",
     "text": [
      "/Users/bobbymissirian/Files/Research/Cybersecurity/Experiments/OnlineHDv1.py:53: UserWarning: An output with one or more elements was resized since it had shape [41, 1024], which does not match the required output shape [16, 1024].This behavior is deprecated, and in a future PyTorch release outputs will not be resized unless they have zero elements. You can explicitly reuse an out tensor t by resizing it, inplace, to zero elements with t.resize_(0). (Triggered internally at  ../aten/src/ATen/native/Resize.cpp:23.)\n",
      "  torch.matmul(x[i:i+bsize], self.basis.T, out=temp)\n"
     ]
    },
    {
     "name": "stdout",
     "output_type": "stream",
     "text": [
      "[tensor(0.9326), tensor(0.9260), tensor(0.9253), tensor(0.9345), tensor(0.9231), tensor(0.9205), tensor(0.9338), tensor(0.9238), tensor(0.9323), tensor(0.8900)]\n",
      "0.6\n"
     ]
    },
    {
     "name": "stderr",
     "output_type": "stream",
     "text": [
      "/Users/bobbymissirian/Files/Research/Cybersecurity/Experiments/OnlineHDv1.py:53: UserWarning: An output with one or more elements was resized since it had shape [49, 1024], which does not match the required output shape [39, 1024].This behavior is deprecated, and in a future PyTorch release outputs will not be resized unless they have zero elements. You can explicitly reuse an out tensor t by resizing it, inplace, to zero elements with t.resize_(0). (Triggered internally at  ../aten/src/ATen/native/Resize.cpp:23.)\n",
      "  torch.matmul(x[i:i+bsize], self.basis.T, out=temp)\n"
     ]
    },
    {
     "name": "stdout",
     "output_type": "stream",
     "text": [
      "[tensor(0.9308), tensor(0.9319), tensor(0.9260), tensor(0.9176), tensor(0.9374), tensor(0.9238), tensor(0.9338), tensor(0.9389), tensor(0.9301), tensor(0.9220)]\n",
      "0.7\n"
     ]
    },
    {
     "name": "stderr",
     "output_type": "stream",
     "text": [
      "/Users/bobbymissirian/Files/Research/Cybersecurity/Experiments/OnlineHDv1.py:53: UserWarning: An output with one or more elements was resized since it had shape [58, 1024], which does not match the required output shape [21, 1024].This behavior is deprecated, and in a future PyTorch release outputs will not be resized unless they have zero elements. You can explicitly reuse an out tensor t by resizing it, inplace, to zero elements with t.resize_(0). (Triggered internally at  ../aten/src/ATen/native/Resize.cpp:23.)\n",
      "  torch.matmul(x[i:i+bsize], self.basis.T, out=temp)\n"
     ]
    },
    {
     "name": "stdout",
     "output_type": "stream",
     "text": [
      "[tensor(0.9382), tensor(0.9231), tensor(0.9304), tensor(0.9264), tensor(0.9470), tensor(0.9363), tensor(0.9433), tensor(0.9481), tensor(0.9374), tensor(0.9349)]\n",
      "0.8\n"
     ]
    },
    {
     "name": "stderr",
     "output_type": "stream",
     "text": [
      "/Users/bobbymissirian/Files/Research/Cybersecurity/Experiments/OnlineHDv1.py:53: UserWarning: An output with one or more elements was resized since it had shape [66, 1024], which does not match the required output shape [52, 1024].This behavior is deprecated, and in a future PyTorch release outputs will not be resized unless they have zero elements. You can explicitly reuse an out tensor t by resizing it, inplace, to zero elements with t.resize_(0). (Triggered internally at  ../aten/src/ATen/native/Resize.cpp:23.)\n",
      "  torch.matmul(x[i:i+bsize], self.basis.T, out=temp)\n"
     ]
    },
    {
     "name": "stdout",
     "output_type": "stream",
     "text": [
      "[tensor(0.9385), tensor(0.9352), tensor(0.9418), tensor(0.9389), tensor(0.9389), tensor(0.9426), tensor(0.9407), tensor(0.9470), tensor(0.9448), tensor(0.9418)]\n",
      "0.9\n"
     ]
    },
    {
     "name": "stderr",
     "output_type": "stream",
     "text": [
      "/Users/bobbymissirian/Files/Research/Cybersecurity/Experiments/OnlineHDv1.py:53: UserWarning: An output with one or more elements was resized since it had shape [74, 1024], which does not match the required output shape [9, 1024].This behavior is deprecated, and in a future PyTorch release outputs will not be resized unless they have zero elements. You can explicitly reuse an out tensor t by resizing it, inplace, to zero elements with t.resize_(0). (Triggered internally at  ../aten/src/ATen/native/Resize.cpp:23.)\n",
      "  torch.matmul(x[i:i+bsize], self.basis.T, out=temp)\n"
     ]
    },
    {
     "name": "stdout",
     "output_type": "stream",
     "text": [
      "[tensor(0.9349), tensor(0.9488), tensor(0.9396), tensor(0.9418), tensor(0.9382), tensor(0.9400), tensor(0.9474), tensor(0.9411), tensor(0.9433), tensor(0.9441)]\n",
      "1\n"
     ]
    },
    {
     "name": "stderr",
     "output_type": "stream",
     "text": [
      "/Users/bobbymissirian/Files/Research/Cybersecurity/Experiments/OnlineHDv1.py:53: UserWarning: An output with one or more elements was resized since it had shape [82, 1024], which does not match the required output shape [33, 1024].This behavior is deprecated, and in a future PyTorch release outputs will not be resized unless they have zero elements. You can explicitly reuse an out tensor t by resizing it, inplace, to zero elements with t.resize_(0). (Triggered internally at  ../aten/src/ATen/native/Resize.cpp:23.)\n",
      "  torch.matmul(x[i:i+bsize], self.basis.T, out=temp)\n"
     ]
    },
    {
     "name": "stdout",
     "output_type": "stream",
     "text": [
      "[tensor(0.9356), tensor(0.9444), tensor(0.9396), tensor(0.9485), tensor(0.9349), tensor(0.9522), tensor(0.9441), tensor(0.9510), tensor(0.9466), tensor(0.9499)]\n"
     ]
    }
   ],
   "source": [
    "factors=[.05,.1,.2,.3,.4,.5,.6,.7,.8,.9,1]\n",
    "means=[]\n",
    "medians=[]\n",
    "deviations=[]\n",
    "repetitions=10\n",
    "for factor in factors:\n",
    "    accs=[]\n",
    "    print(factor)\n",
    "    for repetition in range(0,repetitions):\n",
    "        model=OnlineHDv1(classes =9, features =257, dim = 1024, batch_size=64,lr=.0003)\n",
    "        model.fit(xtr[:int(transxtrain.shape[0]*factor),:],ytr[:int(transxtrain.shape[0]*factor)],75)\n",
    "        yhat=model(xte)\n",
    "        eval=[yhat[i]==transy_test[i] for i in range(len(transy_test))]\n",
    "        acc=sum(eval)/len(transy_test)\n",
    "        accs.append(acc)\n",
    "    print(accs)\n",
    "    acc=np.mean(accs)\n",
    "    median=np.median(accs)\n",
    "    std=np.std(accs)\n",
    "    means.append(acc)\n",
    "    deviations.append(std)\n",
    "    medians.append(median)"
   ]
  },
  {
   "cell_type": "code",
   "execution_count": 6,
   "metadata": {},
   "outputs": [
    {
     "name": "stdout",
     "output_type": "stream",
     "text": [
      "OnlineHDv1 .0037 lr 75 epoch 64 batch_size\n",
      "[0.8446816, 0.85903573, 0.91001105, 0.9133235, 0.92399704, 0.9256533, 0.930438, 0.9368789, 0.9412955, 0.94147956, 0.94552815]\n"
     ]
    },
    {
     "data": {
      "image/png": "[encoded data removed]",
      "text/plain": [
       "<Figure size 432x288 with 1 Axes>"
      ]
     },
     "metadata": {
      "needs_background": "light"
     },
     "output_type": "display_data"
    },
    {
     "name": "stdout",
     "output_type": "stream",
     "text": [
      "[0.8122193, 0.8558704, 0.90353334, 0.9065145, 0.9244019, 0.92418116, 0.9292234, 0.93651086, 0.94103795, 0.94192123, 0.9446815]\n"
     ]
    },
    {
     "data": {
      "image/png": "[encoded data removed]",
      "text/plain": [
       "<Figure size 432x288 with 1 Axes>"
      ]
     },
     "metadata": {
      "needs_background": "light"
     },
     "output_type": "display_data"
    },
    {
     "name": "stdout",
     "output_type": "stream",
     "text": [
      "[0.08777364, 0.04042798, 0.019274496, 0.017371166, 0.0034416418, 0.012353638, 0.006482441, 0.00785472, 0.0032035387, 0.003970194, 0.0058935545]\n"
     ]
    },
    {
     "data": {
      "image/png": "[encoded data removed]",
      "text/plain": [
       "<Figure size 432x288 with 1 Axes>"
      ]
     },
     "metadata": {
      "needs_background": "light"
     },
     "output_type": "display_data"
    }
   ],
   "source": [
    "print(\"OnlineHDv1 .0037 lr 75 epoch 64 batch_size\")\n",
    "plt.plot(factors,medians)\n",
    "print(medians)\n",
    "plt.show()\n",
    "plt.plot(factors,means)\n",
    "print(means)\n",
    "plt.show()\n",
    "plt.plot(factors,deviations)\n",
    "print(deviations)"
   ]
  },
  {
   "cell_type": "code",
   "execution_count": 7,
   "metadata": {},
   "outputs": [
    {
     "name": "stdout",
     "output_type": "stream",
     "text": [
      "0.05\n"
     ]
    },
    {
     "name": "stderr",
     "output_type": "stream",
     "text": [
      "/Users/bobbymissirian/Files/Research/Cybersecurity/Experiments/OnlineHDv2.py:53: UserWarning: An output with one or more elements was resized since it had shape [5, 1024], which does not match the required output shape [2, 1024].This behavior is deprecated, and in a future PyTorch release outputs will not be resized unless they have zero elements. You can explicitly reuse an out tensor t by resizing it, inplace, to zero elements with t.resize_(0). (Triggered internally at  ../aten/src/ATen/native/Resize.cpp:23.)\n",
      "  torch.matmul(x[i:i+bsize], self.basis.T, out=temp)\n",
      "/Users/bobbymissirian/Files/Research/Cybersecurity/Experiments/OnlineHDv2.py:53: UserWarning: An output with one or more elements was resized since it had shape [28, 1024], which does not match the required output shape [1, 1024].This behavior is deprecated, and in a future PyTorch release outputs will not be resized unless they have zero elements. You can explicitly reuse an out tensor t by resizing it, inplace, to zero elements with t.resize_(0). (Triggered internally at  ../aten/src/ATen/native/Resize.cpp:23.)\n",
      "  torch.matmul(x[i:i+bsize], self.basis.T, out=temp)\n"
     ]
    },
    {
     "name": "stdout",
     "output_type": "stream",
     "text": [
      "[tensor(0.8439), tensor(0.8819), tensor(0.8399), tensor(0.8782), tensor(0.8888), tensor(0.5926), tensor(0.8646), tensor(0.8859), tensor(0.8693), tensor(0.8911)]\n",
      "0.1\n"
     ]
    },
    {
     "name": "stderr",
     "output_type": "stream",
     "text": [
      "/Users/bobbymissirian/Files/Research/Cybersecurity/Experiments/OnlineHDv2.py:53: UserWarning: An output with one or more elements was resized since it had shape [9, 1024], which does not match the required output shape [5, 1024].This behavior is deprecated, and in a future PyTorch release outputs will not be resized unless they have zero elements. You can explicitly reuse an out tensor t by resizing it, inplace, to zero elements with t.resize_(0). (Triggered internally at  ../aten/src/ATen/native/Resize.cpp:23.)\n",
      "  torch.matmul(x[i:i+bsize], self.basis.T, out=temp)\n"
     ]
    },
    {
     "name": "stdout",
     "output_type": "stream",
     "text": [
      "[tensor(0.8999), tensor(0.8947), tensor(0.8230), tensor(0.9021), tensor(0.8980), tensor(0.9039), tensor(0.8756), tensor(0.8819), tensor(0.8767), tensor(0.8811)]\n",
      "0.2\n"
     ]
    },
    {
     "name": "stderr",
     "output_type": "stream",
     "text": [
      "/Users/bobbymissirian/Files/Research/Cybersecurity/Experiments/OnlineHDv2.py:53: UserWarning: An output with one or more elements was resized since it had shape [17, 1024], which does not match the required output shape [15, 1024].This behavior is deprecated, and in a future PyTorch release outputs will not be resized unless they have zero elements. You can explicitly reuse an out tensor t by resizing it, inplace, to zero elements with t.resize_(0). (Triggered internally at  ../aten/src/ATen/native/Resize.cpp:23.)\n",
      "  torch.matmul(x[i:i+bsize], self.basis.T, out=temp)\n"
     ]
    },
    {
     "name": "stdout",
     "output_type": "stream",
     "text": [
      "[tensor(0.8995), tensor(0.9157), tensor(0.8955), tensor(0.8969), tensor(0.9238), tensor(0.8896), tensor(0.9268), tensor(0.9165), tensor(0.9014), tensor(0.8922)]\n",
      "0.3\n"
     ]
    },
    {
     "name": "stderr",
     "output_type": "stream",
     "text": [
      "/Users/bobbymissirian/Files/Research/Cybersecurity/Experiments/OnlineHDv2.py:53: UserWarning: An output with one or more elements was resized since it had shape [25, 1024], which does not match the required output shape [20, 1024].This behavior is deprecated, and in a future PyTorch release outputs will not be resized unless they have zero elements. You can explicitly reuse an out tensor t by resizing it, inplace, to zero elements with t.resize_(0). (Triggered internally at  ../aten/src/ATen/native/Resize.cpp:23.)\n",
      "  torch.matmul(x[i:i+bsize], self.basis.T, out=temp)\n"
     ]
    },
    {
     "name": "stdout",
     "output_type": "stream",
     "text": [
      "[tensor(0.9091), tensor(0.9058), tensor(0.9098), tensor(0.9264), tensor(0.8903), tensor(0.9198), tensor(0.9036), tensor(0.9242), tensor(0.9253), tensor(0.9238)]\n",
      "0.4\n"
     ]
    },
    {
     "name": "stderr",
     "output_type": "stream",
     "text": [
      "/Users/bobbymissirian/Files/Research/Cybersecurity/Experiments/OnlineHDv2.py:53: UserWarning: An output with one or more elements was resized since it had shape [33, 1024], which does not match the required output shape [26, 1024].This behavior is deprecated, and in a future PyTorch release outputs will not be resized unless they have zero elements. You can explicitly reuse an out tensor t by resizing it, inplace, to zero elements with t.resize_(0). (Triggered internally at  ../aten/src/ATen/native/Resize.cpp:23.)\n",
      "  torch.matmul(x[i:i+bsize], self.basis.T, out=temp)\n"
     ]
    },
    {
     "name": "stdout",
     "output_type": "stream",
     "text": [
      "[tensor(0.9360), tensor(0.9153), tensor(0.8719), tensor(0.9172), tensor(0.9117), tensor(0.9371), tensor(0.9275), tensor(0.9242), tensor(0.9227), tensor(0.9183)]\n",
      "0.5\n"
     ]
    },
    {
     "name": "stderr",
     "output_type": "stream",
     "text": [
      "/Users/bobbymissirian/Files/Research/Cybersecurity/Experiments/OnlineHDv2.py:53: UserWarning: An output with one or more elements was resized since it had shape [41, 1024], which does not match the required output shape [16, 1024].This behavior is deprecated, and in a future PyTorch release outputs will not be resized unless they have zero elements. You can explicitly reuse an out tensor t by resizing it, inplace, to zero elements with t.resize_(0). (Triggered internally at  ../aten/src/ATen/native/Resize.cpp:23.)\n",
      "  torch.matmul(x[i:i+bsize], self.basis.T, out=temp)\n"
     ]
    },
    {
     "name": "stdout",
     "output_type": "stream",
     "text": [
      "[tensor(0.9205), tensor(0.9257), tensor(0.9415), tensor(0.9345), tensor(0.8988), tensor(0.9374), tensor(0.9470), tensor(0.9363), tensor(0.9205), tensor(0.9345)]\n",
      "0.6\n"
     ]
    },
    {
     "name": "stderr",
     "output_type": "stream",
     "text": [
      "/Users/bobbymissirian/Files/Research/Cybersecurity/Experiments/OnlineHDv2.py:53: UserWarning: An output with one or more elements was resized since it had shape [49, 1024], which does not match the required output shape [39, 1024].This behavior is deprecated, and in a future PyTorch release outputs will not be resized unless they have zero elements. You can explicitly reuse an out tensor t by resizing it, inplace, to zero elements with t.resize_(0). (Triggered internally at  ../aten/src/ATen/native/Resize.cpp:23.)\n",
      "  torch.matmul(x[i:i+bsize], self.basis.T, out=temp)\n"
     ]
    },
    {
     "name": "stdout",
     "output_type": "stream",
     "text": [
      "[tensor(0.9212), tensor(0.9441), tensor(0.9418), tensor(0.9470), tensor(0.9352), tensor(0.9223), tensor(0.9466), tensor(0.9135), tensor(0.9444), tensor(0.9426)]\n",
      "0.7\n"
     ]
    },
    {
     "name": "stderr",
     "output_type": "stream",
     "text": [
      "/Users/bobbymissirian/Files/Research/Cybersecurity/Experiments/OnlineHDv2.py:53: UserWarning: An output with one or more elements was resized since it had shape [58, 1024], which does not match the required output shape [21, 1024].This behavior is deprecated, and in a future PyTorch release outputs will not be resized unless they have zero elements. You can explicitly reuse an out tensor t by resizing it, inplace, to zero elements with t.resize_(0). (Triggered internally at  ../aten/src/ATen/native/Resize.cpp:23.)\n",
      "  torch.matmul(x[i:i+bsize], self.basis.T, out=temp)\n"
     ]
    },
    {
     "name": "stdout",
     "output_type": "stream",
     "text": [
      "[tensor(0.9363), tensor(0.9319), tensor(0.9301), tensor(0.9393), tensor(0.9488), tensor(0.9393), tensor(0.9444), tensor(0.9463), tensor(0.9499), tensor(0.9146)]\n",
      "0.8\n"
     ]
    },
    {
     "name": "stderr",
     "output_type": "stream",
     "text": [
      "/Users/bobbymissirian/Files/Research/Cybersecurity/Experiments/OnlineHDv2.py:53: UserWarning: An output with one or more elements was resized since it had shape [66, 1024], which does not match the required output shape [52, 1024].This behavior is deprecated, and in a future PyTorch release outputs will not be resized unless they have zero elements. You can explicitly reuse an out tensor t by resizing it, inplace, to zero elements with t.resize_(0). (Triggered internally at  ../aten/src/ATen/native/Resize.cpp:23.)\n",
      "  torch.matmul(x[i:i+bsize], self.basis.T, out=temp)\n"
     ]
    },
    {
     "name": "stdout",
     "output_type": "stream",
     "text": [
      "[tensor(0.9382), tensor(0.9407), tensor(0.9437), tensor(0.9411), tensor(0.9463), tensor(0.9433), tensor(0.9492), tensor(0.9444), tensor(0.9260), tensor(0.9212)]\n",
      "0.9\n"
     ]
    },
    {
     "name": "stderr",
     "output_type": "stream",
     "text": [
      "/Users/bobbymissirian/Files/Research/Cybersecurity/Experiments/OnlineHDv2.py:53: UserWarning: An output with one or more elements was resized since it had shape [74, 1024], which does not match the required output shape [9, 1024].This behavior is deprecated, and in a future PyTorch release outputs will not be resized unless they have zero elements. You can explicitly reuse an out tensor t by resizing it, inplace, to zero elements with t.resize_(0). (Triggered internally at  ../aten/src/ATen/native/Resize.cpp:23.)\n",
      "  torch.matmul(x[i:i+bsize], self.basis.T, out=temp)\n"
     ]
    },
    {
     "name": "stdout",
     "output_type": "stream",
     "text": [
      "[tensor(0.9367), tensor(0.9168), tensor(0.9437), tensor(0.9415), tensor(0.9393), tensor(0.9139), tensor(0.9481), tensor(0.9407), tensor(0.9522), tensor(0.9378)]\n",
      "1\n"
     ]
    },
    {
     "name": "stderr",
     "output_type": "stream",
     "text": [
      "/Users/bobbymissirian/Files/Research/Cybersecurity/Experiments/OnlineHDv2.py:53: UserWarning: An output with one or more elements was resized since it had shape [82, 1024], which does not match the required output shape [33, 1024].This behavior is deprecated, and in a future PyTorch release outputs will not be resized unless they have zero elements. You can explicitly reuse an out tensor t by resizing it, inplace, to zero elements with t.resize_(0). (Triggered internally at  ../aten/src/ATen/native/Resize.cpp:23.)\n",
      "  torch.matmul(x[i:i+bsize], self.basis.T, out=temp)\n"
     ]
    },
    {
     "name": "stdout",
     "output_type": "stream",
     "text": [
      "[tensor(0.9253), tensor(0.9529), tensor(0.9540), tensor(0.9474), tensor(0.9161), tensor(0.9536), tensor(0.9522), tensor(0.9323), tensor(0.9492), tensor(0.9422)]\n"
     ]
    }
   ],
   "source": [
    "factors=[.05,.1,.2,.3,.4,.5,.6,.7,.8,.9,1]\n",
    "means=[]\n",
    "medians=[]\n",
    "deviations=[]\n",
    "repetitions=10\n",
    "for factor in factors:\n",
    "    accs=[]\n",
    "    print(factor)\n",
    "    for repetition in range(0,repetitions):\n",
    "        model=OnlineHDv2(classes =9, features =257, dim = 1024, batch_size=64,lr=.0003)\n",
    "        model.fit(xtr[:int(transxtrain.shape[0]*factor),:],ytr[:int(transxtrain.shape[0]*factor)],75)\n",
    "        yhat=model(xte)\n",
    "        eval=[yhat[i]==transy_test[i] for i in range(len(transy_test))]\n",
    "        acc=sum(eval)/len(transy_test)\n",
    "        accs.append(acc)\n",
    "    print(accs)\n",
    "    acc=np.mean(accs)\n",
    "    median=np.median(accs)\n",
    "    std=np.std(accs)\n",
    "    means.append(acc)\n",
    "    deviations.append(std)\n",
    "    medians.append(median)"
   ]
  },
  {
   "cell_type": "code",
   "execution_count": 8,
   "metadata": {},
   "outputs": [
    {
     "name": "stdout",
     "output_type": "stream",
     "text": [
      "OnlineHDv2 .0003 lr 75 epoch 64 batch_size\n",
      "[0.87375784, 0.8882959, 0.90044165, 0.91479576, 0.9205005, 0.93448657, 0.9422157, 0.9392713, 0.9422157, 0.9400073, 0.94828856]\n"
     ]
    },
    {
     "data": {
      "image/png": "[encoded data removed]",
      "text/plain": [
       "<Figure size 432x288 with 1 Axes>"
      ]
     },
     "metadata": {
      "needs_background": "light"
     },
     "output_type": "display_data"
    },
    {
     "name": "stdout",
     "output_type": "stream",
     "text": [
      "[0.8436143, 0.8836953, 0.9057784, 0.91380197, 0.9181818, 0.9296651, 0.93588513, 0.9380935, 0.9394185, 0.9370629, 0.9425101]\n"
     ]
    },
    {
     "data": {
      "image/png": "[encoded data removed]",
      "text/plain": [
       "<Figure size 432x288 with 1 Axes>"
      ]
     },
     "metadata": {
      "needs_background": "light"
     },
     "output_type": "display_data"
    },
    {
     "name": "stdout",
     "output_type": "stream",
     "text": [
      "[0.08537091, 0.022696067, 0.01291756, 0.011367783, 0.01734233, 0.013148766, 0.011654915, 0.01011282, 0.008470344, 0.011745441, 0.012745263]\n"
     ]
    },
    {
     "data": {
      "image/png": "[encoded data removed]",
      "text/plain": [
       "<Figure size 432x288 with 1 Axes>"
      ]
     },
     "metadata": {
      "needs_background": "light"
     },
     "output_type": "display_data"
    }
   ],
   "source": [
    "print(\"OnlineHDv2 .0003 lr 75 epoch 64 batch_size\")\n",
    "plt.plot(factors,medians)\n",
    "print(medians)\n",
    "plt.show()\n",
    "plt.plot(factors,means)\n",
    "print(means)\n",
    "plt.show()\n",
    "plt.plot(factors,deviations)\n",
    "print(deviations)"
   ]
  },
  {
   "cell_type": "code",
   "execution_count": 11,
   "metadata": {},
   "outputs": [
    {
     "name": "stdout",
     "output_type": "stream",
     "text": [
      "0.05\n"
     ]
    },
    {
     "name": "stderr",
     "output_type": "stream",
     "text": [
      "/Users/bobbymissirian/Files/Research/Cybersecurity/Experiments/NeuralHDv1.py:53: UserWarning: An output with one or more elements was resized since it had shape [5, 1024], which does not match the required output shape [2, 1024].This behavior is deprecated, and in a future PyTorch release outputs will not be resized unless they have zero elements. You can explicitly reuse an out tensor t by resizing it, inplace, to zero elements with t.resize_(0). (Triggered internally at  ../aten/src/ATen/native/Resize.cpp:23.)\n",
      "  torch.matmul(x[i:i+bsize], self.basis.T, out=temp)\n",
      "/Users/bobbymissirian/Files/Research/Cybersecurity/Experiments/NeuralHDv1.py:53: UserWarning: An output with one or more elements was resized since it had shape [28, 1024], which does not match the required output shape [1, 1024].This behavior is deprecated, and in a future PyTorch release outputs will not be resized unless they have zero elements. You can explicitly reuse an out tensor t by resizing it, inplace, to zero elements with t.resize_(0). (Triggered internally at  ../aten/src/ATen/native/Resize.cpp:23.)\n",
      "  torch.matmul(x[i:i+bsize], self.basis.T, out=temp)\n"
     ]
    },
    {
     "name": "stdout",
     "output_type": "stream",
     "text": [
      "[tensor(0.8373), tensor(0.8046), tensor(0.8031), tensor(0.8152), tensor(0.8355), tensor(0.8057), tensor(0.8322), tensor(0.8395), tensor(0.8230), tensor(0.8362)]\n",
      "0.1\n"
     ]
    },
    {
     "name": "stderr",
     "output_type": "stream",
     "text": [
      "/Users/bobbymissirian/Files/Research/Cybersecurity/Experiments/NeuralHDv1.py:53: UserWarning: An output with one or more elements was resized since it had shape [9, 1024], which does not match the required output shape [5, 1024].This behavior is deprecated, and in a future PyTorch release outputs will not be resized unless they have zero elements. You can explicitly reuse an out tensor t by resizing it, inplace, to zero elements with t.resize_(0). (Triggered internally at  ../aten/src/ATen/native/Resize.cpp:23.)\n",
      "  torch.matmul(x[i:i+bsize], self.basis.T, out=temp)\n"
     ]
    },
    {
     "name": "stdout",
     "output_type": "stream",
     "text": [
      "[tensor(0.8079), tensor(0.8075), tensor(0.8322), tensor(0.8259), tensor(0.8388), tensor(0.8347), tensor(0.8163), tensor(0.8296), tensor(0.8090), tensor(0.8204)]\n",
      "0.2\n"
     ]
    },
    {
     "name": "stderr",
     "output_type": "stream",
     "text": [
      "/Users/bobbymissirian/Files/Research/Cybersecurity/Experiments/NeuralHDv1.py:53: UserWarning: An output with one or more elements was resized since it had shape [17, 1024], which does not match the required output shape [15, 1024].This behavior is deprecated, and in a future PyTorch release outputs will not be resized unless they have zero elements. You can explicitly reuse an out tensor t by resizing it, inplace, to zero elements with t.resize_(0). (Triggered internally at  ../aten/src/ATen/native/Resize.cpp:23.)\n",
      "  torch.matmul(x[i:i+bsize], self.basis.T, out=temp)\n"
     ]
    },
    {
     "name": "stdout",
     "output_type": "stream",
     "text": [
      "[tensor(0.8388), tensor(0.8933), tensor(0.8704), tensor(0.8922), tensor(0.8428), tensor(0.8572), tensor(0.8837), tensor(0.8859), tensor(0.8410), tensor(0.8668)]\n",
      "0.3\n"
     ]
    },
    {
     "name": "stderr",
     "output_type": "stream",
     "text": [
      "/Users/bobbymissirian/Files/Research/Cybersecurity/Experiments/NeuralHDv1.py:53: UserWarning: An output with one or more elements was resized since it had shape [25, 1024], which does not match the required output shape [20, 1024].This behavior is deprecated, and in a future PyTorch release outputs will not be resized unless they have zero elements. You can explicitly reuse an out tensor t by resizing it, inplace, to zero elements with t.resize_(0). (Triggered internally at  ../aten/src/ATen/native/Resize.cpp:23.)\n",
      "  torch.matmul(x[i:i+bsize], self.basis.T, out=temp)\n"
     ]
    },
    {
     "name": "stdout",
     "output_type": "stream",
     "text": [
      "[tensor(0.9017), tensor(0.9124), tensor(0.8712), tensor(0.9043), tensor(0.8771), tensor(0.8811), tensor(0.9058), tensor(0.8966), tensor(0.8962), tensor(0.8933)]\n",
      "0.4\n"
     ]
    },
    {
     "name": "stderr",
     "output_type": "stream",
     "text": [
      "/Users/bobbymissirian/Files/Research/Cybersecurity/Experiments/NeuralHDv1.py:53: UserWarning: An output with one or more elements was resized since it had shape [33, 1024], which does not match the required output shape [26, 1024].This behavior is deprecated, and in a future PyTorch release outputs will not be resized unless they have zero elements. You can explicitly reuse an out tensor t by resizing it, inplace, to zero elements with t.resize_(0). (Triggered internally at  ../aten/src/ATen/native/Resize.cpp:23.)\n",
      "  torch.matmul(x[i:i+bsize], self.basis.T, out=temp)\n"
     ]
    },
    {
     "name": "stdout",
     "output_type": "stream",
     "text": [
      "[tensor(0.9117), tensor(0.9212), tensor(0.9172), tensor(0.9212), tensor(0.9257), tensor(0.9198), tensor(0.9153), tensor(0.9039), tensor(0.9076), tensor(0.9223)]\n",
      "0.5\n"
     ]
    },
    {
     "name": "stderr",
     "output_type": "stream",
     "text": [
      "/Users/bobbymissirian/Files/Research/Cybersecurity/Experiments/NeuralHDv1.py:53: UserWarning: An output with one or more elements was resized since it had shape [41, 1024], which does not match the required output shape [16, 1024].This behavior is deprecated, and in a future PyTorch release outputs will not be resized unless they have zero elements. You can explicitly reuse an out tensor t by resizing it, inplace, to zero elements with t.resize_(0). (Triggered internally at  ../aten/src/ATen/native/Resize.cpp:23.)\n",
      "  torch.matmul(x[i:i+bsize], self.basis.T, out=temp)\n"
     ]
    },
    {
     "name": "stdout",
     "output_type": "stream",
     "text": [
      "[tensor(0.9271), tensor(0.9367), tensor(0.9315), tensor(0.9312), tensor(0.9319), tensor(0.9282), tensor(0.9054), tensor(0.9271), tensor(0.9326), tensor(0.9249)]\n",
      "0.6\n"
     ]
    },
    {
     "name": "stderr",
     "output_type": "stream",
     "text": [
      "/Users/bobbymissirian/Files/Research/Cybersecurity/Experiments/NeuralHDv1.py:53: UserWarning: An output with one or more elements was resized since it had shape [49, 1024], which does not match the required output shape [39, 1024].This behavior is deprecated, and in a future PyTorch release outputs will not be resized unless they have zero elements. You can explicitly reuse an out tensor t by resizing it, inplace, to zero elements with t.resize_(0). (Triggered internally at  ../aten/src/ATen/native/Resize.cpp:23.)\n",
      "  torch.matmul(x[i:i+bsize], self.basis.T, out=temp)\n"
     ]
    },
    {
     "name": "stdout",
     "output_type": "stream",
     "text": [
      "[tensor(0.9098), tensor(0.9385), tensor(0.9334), tensor(0.9025), tensor(0.9352), tensor(0.9400), tensor(0.9279), tensor(0.9216), tensor(0.9135), tensor(0.9363)]\n",
      "0.7\n"
     ]
    },
    {
     "name": "stderr",
     "output_type": "stream",
     "text": [
      "/Users/bobbymissirian/Files/Research/Cybersecurity/Experiments/NeuralHDv1.py:53: UserWarning: An output with one or more elements was resized since it had shape [58, 1024], which does not match the required output shape [21, 1024].This behavior is deprecated, and in a future PyTorch release outputs will not be resized unless they have zero elements. You can explicitly reuse an out tensor t by resizing it, inplace, to zero elements with t.resize_(0). (Triggered internally at  ../aten/src/ATen/native/Resize.cpp:23.)\n",
      "  torch.matmul(x[i:i+bsize], self.basis.T, out=temp)\n"
     ]
    },
    {
     "name": "stdout",
     "output_type": "stream",
     "text": [
      "[tensor(0.9315), tensor(0.9374), tensor(0.9400), tensor(0.9396), tensor(0.9367), tensor(0.9396), tensor(0.9367), tensor(0.9474), tensor(0.9308), tensor(0.9400)]\n",
      "0.8\n"
     ]
    },
    {
     "name": "stderr",
     "output_type": "stream",
     "text": [
      "/Users/bobbymissirian/Files/Research/Cybersecurity/Experiments/NeuralHDv1.py:53: UserWarning: An output with one or more elements was resized since it had shape [66, 1024], which does not match the required output shape [52, 1024].This behavior is deprecated, and in a future PyTorch release outputs will not be resized unless they have zero elements. You can explicitly reuse an out tensor t by resizing it, inplace, to zero elements with t.resize_(0). (Triggered internally at  ../aten/src/ATen/native/Resize.cpp:23.)\n",
      "  torch.matmul(x[i:i+bsize], self.basis.T, out=temp)\n"
     ]
    },
    {
     "name": "stdout",
     "output_type": "stream",
     "text": [
      "[tensor(0.9418), tensor(0.9430), tensor(0.9463), tensor(0.9507), tensor(0.9433), tensor(0.9422), tensor(0.9441), tensor(0.9474), tensor(0.9371), tensor(0.9418)]\n",
      "0.9\n"
     ]
    },
    {
     "name": "stderr",
     "output_type": "stream",
     "text": [
      "/Users/bobbymissirian/Files/Research/Cybersecurity/Experiments/NeuralHDv1.py:53: UserWarning: An output with one or more elements was resized since it had shape [74, 1024], which does not match the required output shape [9, 1024].This behavior is deprecated, and in a future PyTorch release outputs will not be resized unless they have zero elements. You can explicitly reuse an out tensor t by resizing it, inplace, to zero elements with t.resize_(0). (Triggered internally at  ../aten/src/ATen/native/Resize.cpp:23.)\n",
      "  torch.matmul(x[i:i+bsize], self.basis.T, out=temp)\n"
     ]
    },
    {
     "name": "stdout",
     "output_type": "stream",
     "text": [
      "[tensor(0.9503), tensor(0.9488), tensor(0.9426), tensor(0.9433), tensor(0.9481), tensor(0.9499), tensor(0.9463), tensor(0.9485), tensor(0.9477), tensor(0.9481)]\n",
      "1\n"
     ]
    },
    {
     "name": "stderr",
     "output_type": "stream",
     "text": [
      "/Users/bobbymissirian/Files/Research/Cybersecurity/Experiments/NeuralHDv1.py:53: UserWarning: An output with one or more elements was resized since it had shape [82, 1024], which does not match the required output shape [33, 1024].This behavior is deprecated, and in a future PyTorch release outputs will not be resized unless they have zero elements. You can explicitly reuse an out tensor t by resizing it, inplace, to zero elements with t.resize_(0). (Triggered internally at  ../aten/src/ATen/native/Resize.cpp:23.)\n",
      "  torch.matmul(x[i:i+bsize], self.basis.T, out=temp)\n"
     ]
    },
    {
     "name": "stdout",
     "output_type": "stream",
     "text": [
      "[tensor(0.9507), tensor(0.9503), tensor(0.9448), tensor(0.9488), tensor(0.9455), tensor(0.9411), tensor(0.9448), tensor(0.9525), tensor(0.9481), tensor(0.9452)]\n"
     ]
    }
   ],
   "source": [
    "factors=[.05,.1,.2,.3,.4,.5,.6,.7,.8,.9,1]\n",
    "means=[]\n",
    "medians=[]\n",
    "deviations=[]\n",
    "repetitions=10\n",
    "for factor in factors:\n",
    "    accs=[]\n",
    "    print(factor)\n",
    "    for repetition in range(0,repetitions):\n",
    "        model=NeuralHDv1(classes =9, features =257, dim = 1024, batch_size=64,lr=.0001)\n",
    "        model.fit(xtr[:int(transxtrain.shape[0]*factor),:],ytr[:int(transxtrain.shape[0]*factor)],15,4,.1)\n",
    "        yhat=model(xte)\n",
    "        eval=[yhat[i]==transy_test[i] for i in range(len(transy_test))]\n",
    "        acc=sum(eval)/len(transy_test)\n",
    "        accs.append(acc)\n",
    "        \n",
    "    print(accs)\n",
    "    acc=np.mean(accs)\n",
    "    median=np.median(accs)\n",
    "    std=np.std(accs)\n",
    "    means.append(acc)\n",
    "    deviations.append(std)\n",
    "    medians.append(median)"
   ]
  },
  {
   "cell_type": "code",
   "execution_count": 12,
   "metadata": {},
   "outputs": [
    {
     "name": "stdout",
     "output_type": "stream",
     "text": [
      "NeuralHDv1 .0001 lr 15 epochs x5 (4 regens) 64 batch_size\n",
      "[0.82756716, 0.8231505, 0.86860514, 0.89639306, 0.9184762, 0.9297019, 0.930622, 0.93853515, 0.94313586, 0.9481045, 0.9468163]\n"
     ]
    },
    {
     "data": {
      "image/png": "[encoded data removed]",
      "text/plain": [
       "<Figure size 432x288 with 1 Axes>"
      ]
     },
     "metadata": {
      "needs_background": "light"
     },
     "output_type": "display_data"
    },
    {
     "name": "stdout",
     "output_type": "stream",
     "text": [
      "[0.82322407, 0.82223034, 0.86720645, 0.89396393, 0.91659915, 0.9276775, 0.9258741, 0.93798304, 0.9437615, 0.94736844, 0.9471844]\n"
     ]
    },
    {
     "data": {
      "image/png": "[encoded data removed]",
      "text/plain": [
       "<Figure size 432x288 with 1 Axes>"
      ]
     },
     "metadata": {
      "needs_background": "light"
     },
     "output_type": "display_data"
    },
    {
     "name": "stdout",
     "output_type": "stream",
     "text": [
      "[0.01410373, 0.011107641, 0.020302255, 0.012761891, 0.0065966677, 0.008095919, 0.012623959, 0.0044540567, 0.0035025117, 0.0024579703, 0.003305317]\n"
     ]
    },
    {
     "data": {
      "image/png": "[encoded data removed]",
      "text/plain": [
       "<Figure size 432x288 with 1 Axes>"
      ]
     },
     "metadata": {
      "needs_background": "light"
     },
     "output_type": "display_data"
    }
   ],
   "source": [
    "print(\"NeuralHDv1 .0001 lr 15 epochs x5 (4 regens) 64 batch_size\")\n",
    "plt.plot(factors,medians)\n",
    "print(medians)\n",
    "plt.show()\n",
    "plt.plot(factors,means)\n",
    "print(means)\n",
    "plt.show()\n",
    "plt.plot(factors,deviations)\n",
    "print(deviations)"
   ]
  },
  {
   "cell_type": "code",
   "execution_count": 13,
   "metadata": {},
   "outputs": [
    {
     "name": "stdout",
     "output_type": "stream",
     "text": [
      "0.05\n"
     ]
    },
    {
     "name": "stderr",
     "output_type": "stream",
     "text": [
      "/Users/bobbymissirian/Files/Research/Cybersecurity/Experiments/NeuralHDv2.py:53: UserWarning: An output with one or more elements was resized since it had shape [5, 1024], which does not match the required output shape [2, 1024].This behavior is deprecated, and in a future PyTorch release outputs will not be resized unless they have zero elements. You can explicitly reuse an out tensor t by resizing it, inplace, to zero elements with t.resize_(0). (Triggered internally at  ../aten/src/ATen/native/Resize.cpp:23.)\n",
      "  torch.matmul(x[i:i+bsize], self.basis.T, out=temp)\n",
      "/Users/bobbymissirian/Files/Research/Cybersecurity/Experiments/NeuralHDv2.py:53: UserWarning: An output with one or more elements was resized since it had shape [28, 1024], which does not match the required output shape [1, 1024].This behavior is deprecated, and in a future PyTorch release outputs will not be resized unless they have zero elements. You can explicitly reuse an out tensor t by resizing it, inplace, to zero elements with t.resize_(0). (Triggered internally at  ../aten/src/ATen/native/Resize.cpp:23.)\n",
      "  torch.matmul(x[i:i+bsize], self.basis.T, out=temp)\n"
     ]
    },
    {
     "name": "stdout",
     "output_type": "stream",
     "text": [
      "[tensor(0.8793), tensor(0.8837), tensor(0.8635), tensor(0.8782), tensor(0.8657), tensor(0.8723), tensor(0.8450), tensor(0.8576), tensor(0.8399), tensor(0.8819)]\n",
      "0.1\n"
     ]
    },
    {
     "name": "stderr",
     "output_type": "stream",
     "text": [
      "/Users/bobbymissirian/Files/Research/Cybersecurity/Experiments/NeuralHDv2.py:53: UserWarning: An output with one or more elements was resized since it had shape [9, 1024], which does not match the required output shape [5, 1024].This behavior is deprecated, and in a future PyTorch release outputs will not be resized unless they have zero elements. You can explicitly reuse an out tensor t by resizing it, inplace, to zero elements with t.resize_(0). (Triggered internally at  ../aten/src/ATen/native/Resize.cpp:23.)\n",
      "  torch.matmul(x[i:i+bsize], self.basis.T, out=temp)\n"
     ]
    },
    {
     "name": "stdout",
     "output_type": "stream",
     "text": [
      "[tensor(0.8623), tensor(0.8767), tensor(0.8745), tensor(0.8723), tensor(0.8671), tensor(0.8833), tensor(0.8852), tensor(0.8796), tensor(0.8756), tensor(0.8907)]\n",
      "0.2\n"
     ]
    },
    {
     "name": "stderr",
     "output_type": "stream",
     "text": [
      "/Users/bobbymissirian/Files/Research/Cybersecurity/Experiments/NeuralHDv2.py:53: UserWarning: An output with one or more elements was resized since it had shape [17, 1024], which does not match the required output shape [15, 1024].This behavior is deprecated, and in a future PyTorch release outputs will not be resized unless they have zero elements. You can explicitly reuse an out tensor t by resizing it, inplace, to zero elements with t.resize_(0). (Triggered internally at  ../aten/src/ATen/native/Resize.cpp:23.)\n",
      "  torch.matmul(x[i:i+bsize], self.basis.T, out=temp)\n"
     ]
    },
    {
     "name": "stdout",
     "output_type": "stream",
     "text": [
      "[tensor(0.9124), tensor(0.9043), tensor(0.9106), tensor(0.9043), tensor(0.8918), tensor(0.9058), tensor(0.9014), tensor(0.9028), tensor(0.9087), tensor(0.8992)]\n",
      "0.3\n"
     ]
    },
    {
     "name": "stderr",
     "output_type": "stream",
     "text": [
      "/Users/bobbymissirian/Files/Research/Cybersecurity/Experiments/NeuralHDv2.py:53: UserWarning: An output with one or more elements was resized since it had shape [25, 1024], which does not match the required output shape [20, 1024].This behavior is deprecated, and in a future PyTorch release outputs will not be resized unless they have zero elements. You can explicitly reuse an out tensor t by resizing it, inplace, to zero elements with t.resize_(0). (Triggered internally at  ../aten/src/ATen/native/Resize.cpp:23.)\n",
      "  torch.matmul(x[i:i+bsize], self.basis.T, out=temp)\n"
     ]
    },
    {
     "name": "stdout",
     "output_type": "stream",
     "text": [
      "[tensor(0.9293), tensor(0.9312), tensor(0.9326), tensor(0.9253), tensor(0.9220), tensor(0.9315), tensor(0.9058), tensor(0.9242), tensor(0.9234), tensor(0.9028)]\n",
      "0.4\n"
     ]
    },
    {
     "name": "stderr",
     "output_type": "stream",
     "text": [
      "/Users/bobbymissirian/Files/Research/Cybersecurity/Experiments/NeuralHDv2.py:53: UserWarning: An output with one or more elements was resized since it had shape [33, 1024], which does not match the required output shape [26, 1024].This behavior is deprecated, and in a future PyTorch release outputs will not be resized unless they have zero elements. You can explicitly reuse an out tensor t by resizing it, inplace, to zero elements with t.resize_(0). (Triggered internally at  ../aten/src/ATen/native/Resize.cpp:23.)\n",
      "  torch.matmul(x[i:i+bsize], self.basis.T, out=temp)\n"
     ]
    },
    {
     "name": "stdout",
     "output_type": "stream",
     "text": [
      "[tensor(0.9378), tensor(0.9268), tensor(0.9349), tensor(0.9396), tensor(0.9312), tensor(0.9363), tensor(0.9367), tensor(0.9349), tensor(0.9308), tensor(0.9360)]\n",
      "0.5\n"
     ]
    },
    {
     "name": "stderr",
     "output_type": "stream",
     "text": [
      "/Users/bobbymissirian/Files/Research/Cybersecurity/Experiments/NeuralHDv2.py:53: UserWarning: An output with one or more elements was resized since it had shape [41, 1024], which does not match the required output shape [16, 1024].This behavior is deprecated, and in a future PyTorch release outputs will not be resized unless they have zero elements. You can explicitly reuse an out tensor t by resizing it, inplace, to zero elements with t.resize_(0). (Triggered internally at  ../aten/src/ATen/native/Resize.cpp:23.)\n",
      "  torch.matmul(x[i:i+bsize], self.basis.T, out=temp)\n"
     ]
    },
    {
     "name": "stdout",
     "output_type": "stream",
     "text": [
      "[tensor(0.9411), tensor(0.9345), tensor(0.9400), tensor(0.9371), tensor(0.9415), tensor(0.9334), tensor(0.9338), tensor(0.9382), tensor(0.9400), tensor(0.9367)]\n",
      "0.6\n"
     ]
    },
    {
     "name": "stderr",
     "output_type": "stream",
     "text": [
      "/Users/bobbymissirian/Files/Research/Cybersecurity/Experiments/NeuralHDv2.py:53: UserWarning: An output with one or more elements was resized since it had shape [49, 1024], which does not match the required output shape [39, 1024].This behavior is deprecated, and in a future PyTorch release outputs will not be resized unless they have zero elements. You can explicitly reuse an out tensor t by resizing it, inplace, to zero elements with t.resize_(0). (Triggered internally at  ../aten/src/ATen/native/Resize.cpp:23.)\n",
      "  torch.matmul(x[i:i+bsize], self.basis.T, out=temp)\n"
     ]
    },
    {
     "name": "stdout",
     "output_type": "stream",
     "text": [
      "[tensor(0.9407), tensor(0.9389), tensor(0.9415), tensor(0.9422), tensor(0.9363), tensor(0.9433), tensor(0.9437), tensor(0.9396), tensor(0.9404), tensor(0.9418)]\n",
      "0.7\n"
     ]
    },
    {
     "name": "stderr",
     "output_type": "stream",
     "text": [
      "/Users/bobbymissirian/Files/Research/Cybersecurity/Experiments/NeuralHDv2.py:53: UserWarning: An output with one or more elements was resized since it had shape [58, 1024], which does not match the required output shape [21, 1024].This behavior is deprecated, and in a future PyTorch release outputs will not be resized unless they have zero elements. You can explicitly reuse an out tensor t by resizing it, inplace, to zero elements with t.resize_(0). (Triggered internally at  ../aten/src/ATen/native/Resize.cpp:23.)\n",
      "  torch.matmul(x[i:i+bsize], self.basis.T, out=temp)\n"
     ]
    },
    {
     "name": "stdout",
     "output_type": "stream",
     "text": [
      "[tensor(0.9463), tensor(0.9385), tensor(0.9441), tensor(0.9448), tensor(0.9345), tensor(0.9418), tensor(0.9426), tensor(0.9426), tensor(0.9481), tensor(0.9430)]\n",
      "0.8\n"
     ]
    },
    {
     "name": "stderr",
     "output_type": "stream",
     "text": [
      "/Users/bobbymissirian/Files/Research/Cybersecurity/Experiments/NeuralHDv2.py:53: UserWarning: An output with one or more elements was resized since it had shape [66, 1024], which does not match the required output shape [52, 1024].This behavior is deprecated, and in a future PyTorch release outputs will not be resized unless they have zero elements. You can explicitly reuse an out tensor t by resizing it, inplace, to zero elements with t.resize_(0). (Triggered internally at  ../aten/src/ATen/native/Resize.cpp:23.)\n",
      "  torch.matmul(x[i:i+bsize], self.basis.T, out=temp)\n"
     ]
    },
    {
     "name": "stdout",
     "output_type": "stream",
     "text": [
      "[tensor(0.9433), tensor(0.9455), tensor(0.9415), tensor(0.9422), tensor(0.9293), tensor(0.9415), tensor(0.9385), tensor(0.9466), tensor(0.9389), tensor(0.9404)]\n",
      "0.9\n"
     ]
    },
    {
     "name": "stderr",
     "output_type": "stream",
     "text": [
      "/Users/bobbymissirian/Files/Research/Cybersecurity/Experiments/NeuralHDv2.py:53: UserWarning: An output with one or more elements was resized since it had shape [74, 1024], which does not match the required output shape [9, 1024].This behavior is deprecated, and in a future PyTorch release outputs will not be resized unless they have zero elements. You can explicitly reuse an out tensor t by resizing it, inplace, to zero elements with t.resize_(0). (Triggered internally at  ../aten/src/ATen/native/Resize.cpp:23.)\n",
      "  torch.matmul(x[i:i+bsize], self.basis.T, out=temp)\n"
     ]
    },
    {
     "name": "stdout",
     "output_type": "stream",
     "text": [
      "[tensor(0.9488), tensor(0.9448), tensor(0.9426), tensor(0.9444), tensor(0.9477), tensor(0.9455), tensor(0.9496), tensor(0.9470), tensor(0.9474), tensor(0.9488)]\n",
      "1\n"
     ]
    },
    {
     "name": "stderr",
     "output_type": "stream",
     "text": [
      "/Users/bobbymissirian/Files/Research/Cybersecurity/Experiments/NeuralHDv2.py:53: UserWarning: An output with one or more elements was resized since it had shape [82, 1024], which does not match the required output shape [33, 1024].This behavior is deprecated, and in a future PyTorch release outputs will not be resized unless they have zero elements. You can explicitly reuse an out tensor t by resizing it, inplace, to zero elements with t.resize_(0). (Triggered internally at  ../aten/src/ATen/native/Resize.cpp:23.)\n",
      "  torch.matmul(x[i:i+bsize], self.basis.T, out=temp)\n"
     ]
    },
    {
     "name": "stdout",
     "output_type": "stream",
     "text": [
      "[tensor(0.9499), tensor(0.9382), tensor(0.9503), tensor(0.9522), tensor(0.9477), tensor(0.9510), tensor(0.9510), tensor(0.9499), tensor(0.9514), tensor(0.9455)]\n"
     ]
    }
   ],
   "source": [
    "factors=[.05,.1,.2,.3,.4,.5,.6,.7,.8,.9,1]\n",
    "means=[]\n",
    "medians=[]\n",
    "deviations=[]\n",
    "repetitions=10\n",
    "for factor in factors:\n",
    "    accs=[]\n",
    "    print(factor)\n",
    "    for repetition in range(0,repetitions):\n",
    "        model=NeuralHDv2(classes =9, features =257, dim = 1024, batch_size=64,lr=.0001)\n",
    "        model.fit(xtr[:int(transxtrain.shape[0]*factor),:],ytr[:int(transxtrain.shape[0]*factor)],15,4,.1)\n",
    "        yhat=model(xte)\n",
    "        eval=[yhat[i]==transy_test[i] for i in range(len(transy_test))]\n",
    "        acc=sum(eval)/len(transy_test)\n",
    "        accs.append(acc)\n",
    "        \n",
    "    print(accs)\n",
    "    acc=np.mean(accs)\n",
    "    median=np.median(accs)\n",
    "    std=np.std(accs)\n",
    "    means.append(acc)\n",
    "    deviations.append(std)\n",
    "    medians.append(median)"
   ]
  },
  {
   "cell_type": "code",
   "execution_count": 14,
   "metadata": {},
   "outputs": [
    {
     "name": "stdout",
     "output_type": "stream",
     "text": [
      "NeuralHDv2 .0001 lr 15 epochs x5 (4 regens) 64 batch_size\n",
      "[0.86897314, 0.87615013, 0.90430623, 0.92473316, 0.9354067, 0.93761504, 0.9411115, 0.94276774, 0.94147956, 0.94718444, 0.9501288]\n"
     ]
    },
    {
     "data": {
      "image/png": "[encoded data removed]",
      "text/plain": [
       "<Figure size 432x288 with 1 Axes>"
      ]
     },
     "metadata": {
      "needs_background": "light"
     },
     "output_type": "display_data"
    },
    {
     "name": "stdout",
     "output_type": "stream",
     "text": [
      "[0.86669123, 0.876739, 0.90412223, 0.9228193, 0.93448657, 0.93761504, 0.9408539, 0.9426206, 0.9407803, 0.9466692, 0.9487303]\n"
     ]
    },
    {
     "data": {
      "image/png": "[encoded data removed]",
      "text/plain": [
       "<Figure size 432x288 with 1 Axes>"
      ]
     },
     "metadata": {
      "needs_background": "light"
     },
     "output_type": "display_data"
    },
    {
     "name": "stdout",
     "output_type": "stream",
     "text": [
      "[0.01456654, 0.008018907, 0.005657134, 0.009918401, 0.003639818, 0.0028757695, 0.0020823576, 0.0036563368, 0.004539011, 0.0021489398, 0.0039744633]\n"
     ]
    },
    {
     "data": {
      "image/png": "[encoded data removed]",
      "text/plain": [
       "<Figure size 432x288 with 1 Axes>"
      ]
     },
     "metadata": {
      "needs_background": "light"
     },
     "output_type": "display_data"
    }
   ],
   "source": [
    "print(\"NeuralHDv2 .0001 lr 15 epochs x5 (4 regens) 64 batch_size\")\n",
    "plt.plot(factors,medians)\n",
    "print(medians)\n",
    "plt.show()\n",
    "plt.plot(factors,means)\n",
    "print(means)\n",
    "plt.show()\n",
    "plt.plot(factors,deviations)\n",
    "print(deviations)"
   ]
  },
  {
   "cell_type": "code",
   "execution_count": 15,
   "metadata": {},
   "outputs": [
    {
     "name": "stdout",
     "output_type": "stream",
     "text": [
      "0.05\n",
      "test\n"
     ]
    },
    {
     "name": "stderr",
     "output_type": "stream",
     "text": [
      "/Users/bobbymissirian/Files/Research/Cybersecurity/Experiments/testcode.py:60: UserWarning: An output with one or more elements was resized since it had shape [5, 1024], which does not match the required output shape [2, 1024].This behavior is deprecated, and in a future PyTorch release outputs will not be resized unless they have zero elements. You can explicitly reuse an out tensor t by resizing it, inplace, to zero elements with t.resize_(0). (Triggered internally at  ../aten/src/ATen/native/Resize.cpp:23.)\n",
      "  torch.matmul(x[i:i+bsize], self.basis.T, out=temp)\n",
      "/Users/bobbymissirian/Files/Research/Cybersecurity/Experiments/testcode.py:60: UserWarning: An output with one or more elements was resized since it had shape [28, 1024], which does not match the required output shape [1, 1024].This behavior is deprecated, and in a future PyTorch release outputs will not be resized unless they have zero elements. You can explicitly reuse an out tensor t by resizing it, inplace, to zero elements with t.resize_(0). (Triggered internally at  ../aten/src/ATen/native/Resize.cpp:23.)\n",
      "  torch.matmul(x[i:i+bsize], self.basis.T, out=temp)\n"
     ]
    },
    {
     "name": "stdout",
     "output_type": "stream",
     "text": [
      "test\n",
      "test\n",
      "test\n",
      "test\n",
      "test\n",
      "test\n",
      "test\n",
      "test\n",
      "test\n",
      "[tensor(0.8738), tensor(0.8793), tensor(0.8833), tensor(0.8789), tensor(0.8528), tensor(0.8815), tensor(0.8730), tensor(0.8749), tensor(0.8734), tensor(0.8870)]\n",
      "0.1\n",
      "test\n"
     ]
    },
    {
     "name": "stderr",
     "output_type": "stream",
     "text": [
      "/Users/bobbymissirian/Files/Research/Cybersecurity/Experiments/testcode.py:60: UserWarning: An output with one or more elements was resized since it had shape [9, 1024], which does not match the required output shape [5, 1024].This behavior is deprecated, and in a future PyTorch release outputs will not be resized unless they have zero elements. You can explicitly reuse an out tensor t by resizing it, inplace, to zero elements with t.resize_(0). (Triggered internally at  ../aten/src/ATen/native/Resize.cpp:23.)\n",
      "  torch.matmul(x[i:i+bsize], self.basis.T, out=temp)\n"
     ]
    },
    {
     "name": "stdout",
     "output_type": "stream",
     "text": [
      "test\n",
      "test\n",
      "test\n",
      "test\n",
      "test\n",
      "test\n",
      "test\n",
      "test\n",
      "test\n",
      "[tensor(0.8863), tensor(0.8804), tensor(0.8877), tensor(0.8922), tensor(0.8804), tensor(0.8892), tensor(0.8815), tensor(0.8837), tensor(0.8830), tensor(0.8815)]\n",
      "0.2\n",
      "test\n"
     ]
    },
    {
     "name": "stderr",
     "output_type": "stream",
     "text": [
      "/Users/bobbymissirian/Files/Research/Cybersecurity/Experiments/testcode.py:60: UserWarning: An output with one or more elements was resized since it had shape [17, 1024], which does not match the required output shape [15, 1024].This behavior is deprecated, and in a future PyTorch release outputs will not be resized unless they have zero elements. You can explicitly reuse an out tensor t by resizing it, inplace, to zero elements with t.resize_(0). (Triggered internally at  ../aten/src/ATen/native/Resize.cpp:23.)\n",
      "  torch.matmul(x[i:i+bsize], self.basis.T, out=temp)\n"
     ]
    },
    {
     "name": "stdout",
     "output_type": "stream",
     "text": [
      "test\n",
      "test\n",
      "test\n",
      "test\n",
      "test\n",
      "test\n",
      "test\n",
      "test\n",
      "test\n",
      "[tensor(0.9098), tensor(0.9109), tensor(0.9028), tensor(0.9039), tensor(0.8888), tensor(0.9069), tensor(0.9036), tensor(0.8855), tensor(0.9054), tensor(0.9021)]\n",
      "0.3\n",
      "test\n"
     ]
    },
    {
     "name": "stderr",
     "output_type": "stream",
     "text": [
      "/Users/bobbymissirian/Files/Research/Cybersecurity/Experiments/testcode.py:60: UserWarning: An output with one or more elements was resized since it had shape [25, 1024], which does not match the required output shape [20, 1024].This behavior is deprecated, and in a future PyTorch release outputs will not be resized unless they have zero elements. You can explicitly reuse an out tensor t by resizing it, inplace, to zero elements with t.resize_(0). (Triggered internally at  ../aten/src/ATen/native/Resize.cpp:23.)\n",
      "  torch.matmul(x[i:i+bsize], self.basis.T, out=temp)\n"
     ]
    },
    {
     "name": "stdout",
     "output_type": "stream",
     "text": [
      "test\n",
      "test\n",
      "test\n",
      "test\n",
      "test\n",
      "test\n",
      "test\n",
      "test\n",
      "test\n",
      "[tensor(0.9179), tensor(0.9249), tensor(0.9279), tensor(0.9326), tensor(0.9161), tensor(0.9168), tensor(0.9209), tensor(0.9275), tensor(0.9128), tensor(0.9187)]\n",
      "0.4\n",
      "test\n"
     ]
    },
    {
     "name": "stderr",
     "output_type": "stream",
     "text": [
      "/Users/bobbymissirian/Files/Research/Cybersecurity/Experiments/testcode.py:60: UserWarning: An output with one or more elements was resized since it had shape [33, 1024], which does not match the required output shape [26, 1024].This behavior is deprecated, and in a future PyTorch release outputs will not be resized unless they have zero elements. You can explicitly reuse an out tensor t by resizing it, inplace, to zero elements with t.resize_(0). (Triggered internally at  ../aten/src/ATen/native/Resize.cpp:23.)\n",
      "  torch.matmul(x[i:i+bsize], self.basis.T, out=temp)\n"
     ]
    },
    {
     "name": "stdout",
     "output_type": "stream",
     "text": [
      "test\n",
      "test\n",
      "test\n",
      "test\n",
      "test\n",
      "test\n",
      "test\n",
      "test\n",
      "test\n",
      "[tensor(0.9360), tensor(0.9319), tensor(0.9260), tensor(0.9268), tensor(0.9323), tensor(0.9319), tensor(0.9319), tensor(0.9275), tensor(0.9290), tensor(0.9212)]\n",
      "0.5\n",
      "test\n"
     ]
    },
    {
     "name": "stderr",
     "output_type": "stream",
     "text": [
      "/Users/bobbymissirian/Files/Research/Cybersecurity/Experiments/testcode.py:60: UserWarning: An output with one or more elements was resized since it had shape [41, 1024], which does not match the required output shape [16, 1024].This behavior is deprecated, and in a future PyTorch release outputs will not be resized unless they have zero elements. You can explicitly reuse an out tensor t by resizing it, inplace, to zero elements with t.resize_(0). (Triggered internally at  ../aten/src/ATen/native/Resize.cpp:23.)\n",
      "  torch.matmul(x[i:i+bsize], self.basis.T, out=temp)\n"
     ]
    },
    {
     "name": "stdout",
     "output_type": "stream",
     "text": [
      "test\n",
      "test\n",
      "test\n",
      "test\n",
      "test\n",
      "test\n",
      "test\n",
      "test\n",
      "test\n",
      "[tensor(0.9360), tensor(0.9352), tensor(0.9374), tensor(0.9341), tensor(0.9385), tensor(0.9407), tensor(0.9396), tensor(0.9367), tensor(0.9363), tensor(0.9363)]\n",
      "0.6\n",
      "test\n"
     ]
    },
    {
     "name": "stderr",
     "output_type": "stream",
     "text": [
      "/Users/bobbymissirian/Files/Research/Cybersecurity/Experiments/testcode.py:60: UserWarning: An output with one or more elements was resized since it had shape [49, 1024], which does not match the required output shape [39, 1024].This behavior is deprecated, and in a future PyTorch release outputs will not be resized unless they have zero elements. You can explicitly reuse an out tensor t by resizing it, inplace, to zero elements with t.resize_(0). (Triggered internally at  ../aten/src/ATen/native/Resize.cpp:23.)\n",
      "  torch.matmul(x[i:i+bsize], self.basis.T, out=temp)\n"
     ]
    },
    {
     "name": "stdout",
     "output_type": "stream",
     "text": [
      "test\n",
      "test\n",
      "test\n",
      "test\n",
      "test\n",
      "test\n",
      "test\n",
      "test\n",
      "test\n",
      "[tensor(0.9382), tensor(0.9422), tensor(0.9415), tensor(0.9345), tensor(0.9393), tensor(0.9382), tensor(0.9360), tensor(0.9411), tensor(0.9396), tensor(0.9374)]\n",
      "0.7\n",
      "test\n"
     ]
    },
    {
     "name": "stderr",
     "output_type": "stream",
     "text": [
      "/Users/bobbymissirian/Files/Research/Cybersecurity/Experiments/testcode.py:60: UserWarning: An output with one or more elements was resized since it had shape [58, 1024], which does not match the required output shape [21, 1024].This behavior is deprecated, and in a future PyTorch release outputs will not be resized unless they have zero elements. You can explicitly reuse an out tensor t by resizing it, inplace, to zero elements with t.resize_(0). (Triggered internally at  ../aten/src/ATen/native/Resize.cpp:23.)\n",
      "  torch.matmul(x[i:i+bsize], self.basis.T, out=temp)\n"
     ]
    },
    {
     "name": "stdout",
     "output_type": "stream",
     "text": [
      "test\n",
      "test\n",
      "test\n",
      "test\n",
      "test\n",
      "test\n",
      "test\n",
      "test\n",
      "test\n",
      "[tensor(0.9433), tensor(0.9407), tensor(0.9422), tensor(0.9393), tensor(0.9418), tensor(0.9404), tensor(0.9463), tensor(0.9459), tensor(0.9433), tensor(0.9444)]\n",
      "0.8\n",
      "test\n"
     ]
    },
    {
     "name": "stderr",
     "output_type": "stream",
     "text": [
      "/Users/bobbymissirian/Files/Research/Cybersecurity/Experiments/testcode.py:60: UserWarning: An output with one or more elements was resized since it had shape [66, 1024], which does not match the required output shape [52, 1024].This behavior is deprecated, and in a future PyTorch release outputs will not be resized unless they have zero elements. You can explicitly reuse an out tensor t by resizing it, inplace, to zero elements with t.resize_(0). (Triggered internally at  ../aten/src/ATen/native/Resize.cpp:23.)\n",
      "  torch.matmul(x[i:i+bsize], self.basis.T, out=temp)\n"
     ]
    },
    {
     "name": "stdout",
     "output_type": "stream",
     "text": [
      "test\n",
      "test\n",
      "test\n",
      "test\n",
      "test\n",
      "test\n",
      "test\n",
      "test\n",
      "test\n",
      "[tensor(0.9433), tensor(0.9396), tensor(0.9393), tensor(0.9426), tensor(0.9452), tensor(0.9441), tensor(0.9492), tensor(0.9378), tensor(0.9400), tensor(0.9400)]\n",
      "0.9\n",
      "test\n"
     ]
    },
    {
     "name": "stderr",
     "output_type": "stream",
     "text": [
      "/Users/bobbymissirian/Files/Research/Cybersecurity/Experiments/testcode.py:60: UserWarning: An output with one or more elements was resized since it had shape [74, 1024], which does not match the required output shape [9, 1024].This behavior is deprecated, and in a future PyTorch release outputs will not be resized unless they have zero elements. You can explicitly reuse an out tensor t by resizing it, inplace, to zero elements with t.resize_(0). (Triggered internally at  ../aten/src/ATen/native/Resize.cpp:23.)\n",
      "  torch.matmul(x[i:i+bsize], self.basis.T, out=temp)\n"
     ]
    },
    {
     "name": "stdout",
     "output_type": "stream",
     "text": [
      "test\n",
      "test\n",
      "test\n",
      "test\n",
      "test\n",
      "test\n",
      "test\n",
      "test\n",
      "test\n",
      "[tensor(0.9496), tensor(0.9452), tensor(0.9448), tensor(0.9393), tensor(0.9374), tensor(0.9455), tensor(0.9455), tensor(0.9433), tensor(0.9418), tensor(0.9452)]\n",
      "1\n",
      "test\n"
     ]
    },
    {
     "name": "stderr",
     "output_type": "stream",
     "text": [
      "/Users/bobbymissirian/Files/Research/Cybersecurity/Experiments/testcode.py:60: UserWarning: An output with one or more elements was resized since it had shape [82, 1024], which does not match the required output shape [33, 1024].This behavior is deprecated, and in a future PyTorch release outputs will not be resized unless they have zero elements. You can explicitly reuse an out tensor t by resizing it, inplace, to zero elements with t.resize_(0). (Triggered internally at  ../aten/src/ATen/native/Resize.cpp:23.)\n",
      "  torch.matmul(x[i:i+bsize], self.basis.T, out=temp)\n"
     ]
    },
    {
     "name": "stdout",
     "output_type": "stream",
     "text": [
      "test\n",
      "test\n",
      "test\n",
      "test\n",
      "test\n",
      "test\n",
      "test\n",
      "test\n",
      "test\n",
      "[tensor(0.9525), tensor(0.9474), tensor(0.9481), tensor(0.9474), tensor(0.9481), tensor(0.9492), tensor(0.9455), tensor(0.9529), tensor(0.9430), tensor(0.9463)]\n"
     ]
    }
   ],
   "source": [
    "factors=[.05,.1,.2,.3,.4,.5,.6,.7,.8,.9,1]\n",
    "means=[]\n",
    "medians=[]\n",
    "deviations=[]\n",
    "repetitions=10\n",
    "for factor in factors:\n",
    "    accs=[]\n",
    "    print(factor)\n",
    "    for repetition in range(0,repetitions):\n",
    "        model=NeuralHDSpecial(9,257,1024,batch_size=64,trainopt=2,bestinclass=True,lr=.0001)\n",
    "        model.fit(xtr[:int(transxtrain.shape[0]*factor),:],ytr[:int(transxtrain.shape[0]*factor)],15,4,0.1)\n",
    "        yhat=model(xte)\n",
    "        eval=[yhat[i]==transy_test[i] for i in range(len(transy_test))]\n",
    "        acc=sum(eval)/len(transy_test)\n",
    "        accs.append(acc)\n",
    "        \n",
    "    print(accs)\n",
    "    acc=np.mean(accs)\n",
    "    median=np.median(accs)\n",
    "    std=np.std(accs)\n",
    "    means.append(acc)\n",
    "    deviations.append(std)\n",
    "    medians.append(median)"
   ]
  },
  {
   "cell_type": "code",
   "execution_count": 16,
   "metadata": {},
   "outputs": [
    {
     "name": "stdout",
     "output_type": "stream",
     "text": [
      "NeuralHDSpecial .0001 lr 15 epochs x5 (4 regens) 64 batch_size BIC=True\n",
      "[0.87688625, 0.8833272, 0.9037541, 0.9197644, 0.930438, 0.9365108, 0.93871915, 0.94276774, 0.94129556, 0.9449761, 0.9477365]\n"
     ]
    },
    {
     "data": {
      "image/png": "[encoded data removed]",
      "text/plain": [
       "<Figure size 432x288 with 1 Axes>"
      ]
     },
     "metadata": {
      "needs_background": "light"
     },
     "output_type": "display_data"
    },
    {
     "name": "stdout",
     "output_type": "stream",
     "text": [
      "[0.8757822, 0.8845786, 0.90198743, 0.92160475, 0.9294443, 0.93709975, 0.9387928, 0.94276774, 0.9421052, 0.94376147, 0.94803095]\n"
     ]
    },
    {
     "data": {
      "image/png": "[encoded data removed]",
      "text/plain": [
       "<Figure size 432x288 with 1 Axes>"
      ]
     },
     "metadata": {
      "needs_background": "light"
     },
     "output_type": "display_data"
    },
    {
     "name": "stdout",
     "output_type": "stream",
     "text": [
      "[0.008859684, 0.0038678842, 0.007921342, 0.0060072658, 0.0039880862, 0.0019227026, 0.0023338704, 0.0022037146, 0.0032673804, 0.0033034652, 0.0028499675]\n"
     ]
    },
    {
     "data": {
      "image/png": "[encoded data removed]",
      "text/plain": [
       "<Figure size 432x288 with 1 Axes>"
      ]
     },
     "metadata": {
      "needs_background": "light"
     },
     "output_type": "display_data"
    }
   ],
   "source": [
    "print(\"NeuralHDSpecial .0001 lr 15 epochs x5 (4 regens) 64 batch_size BIC=True\")\n",
    "plt.plot(factors,medians)\n",
    "print(medians)\n",
    "plt.show()\n",
    "plt.plot(factors,means)\n",
    "print(means)\n",
    "plt.show()\n",
    "plt.plot(factors,deviations)\n",
    "print(deviations)"
   ]
  },
  {
   "cell_type": "code",
   "execution_count": 17,
   "metadata": {},
   "outputs": [
    {
     "name": "stdout",
     "output_type": "stream",
     "text": [
      "0.05\n",
      "test\n",
      "test\n",
      "test\n",
      "test\n",
      "test\n",
      "test\n",
      "test\n",
      "test\n",
      "test\n",
      "test\n",
      "[tensor(0.8907), tensor(0.9014), tensor(0.8925), tensor(0.8785), tensor(0.8903), tensor(0.8782), tensor(0.8760), tensor(0.8929), tensor(0.8888), tensor(0.8892)]\n",
      "0.1\n",
      "test\n",
      "test\n",
      "test\n",
      "test\n",
      "test\n",
      "test\n",
      "test\n",
      "test\n",
      "test\n",
      "test\n",
      "[tensor(0.9032), tensor(0.8984), tensor(0.8988), tensor(0.9025), tensor(0.9010), tensor(0.8992), tensor(0.8940), tensor(0.8911), tensor(0.9058), tensor(0.9014)]\n",
      "0.2\n",
      "test\n",
      "test\n",
      "test\n",
      "test\n",
      "test\n",
      "test\n",
      "test\n",
      "test\n",
      "test\n",
      "test\n",
      "[tensor(0.9179), tensor(0.9142), tensor(0.9142), tensor(0.9227), tensor(0.9172), tensor(0.9084), tensor(0.9113), tensor(0.9142), tensor(0.9183), tensor(0.9179)]\n",
      "0.3\n",
      "test\n",
      "test\n",
      "test\n",
      "test\n",
      "test\n",
      "test\n",
      "test\n",
      "test\n",
      "test\n",
      "test\n",
      "[tensor(0.9345), tensor(0.9360), tensor(0.9378), tensor(0.9312), tensor(0.9264), tensor(0.9304), tensor(0.9301), tensor(0.9330), tensor(0.9352), tensor(0.9338)]\n",
      "0.4\n",
      "test\n",
      "test\n",
      "test\n",
      "test\n",
      "test\n",
      "test\n",
      "test\n",
      "test\n",
      "test\n",
      "test\n",
      "[tensor(0.9444), tensor(0.9466), tensor(0.9426), tensor(0.9407), tensor(0.9371), tensor(0.9352), tensor(0.9367), tensor(0.9393), tensor(0.9345), tensor(0.9367)]\n",
      "0.5\n",
      "test\n",
      "test\n",
      "test\n",
      "test\n",
      "test\n",
      "test\n",
      "test\n",
      "test\n",
      "test\n",
      "test\n",
      "[tensor(0.9466), tensor(0.9466), tensor(0.9415), tensor(0.9422), tensor(0.9415), tensor(0.9466), tensor(0.9426), tensor(0.9393), tensor(0.9430), tensor(0.9378)]\n",
      "0.6\n",
      "test\n",
      "test\n",
      "test\n",
      "test\n",
      "test\n",
      "test\n",
      "test\n",
      "test\n",
      "test\n",
      "test\n",
      "[tensor(0.9385), tensor(0.9463), tensor(0.9463), tensor(0.9455), tensor(0.9485), tensor(0.9459), tensor(0.9466), tensor(0.9426), tensor(0.9437), tensor(0.9426)]\n",
      "0.7\n",
      "test\n",
      "test\n",
      "test\n",
      "test\n",
      "test\n",
      "test\n",
      "test\n",
      "test\n",
      "test\n",
      "test\n",
      "[tensor(0.9437), tensor(0.9488), tensor(0.9422), tensor(0.9459), tensor(0.9485), tensor(0.9488), tensor(0.9448), tensor(0.9415), tensor(0.9533), tensor(0.9485)]\n",
      "0.8\n",
      "test\n",
      "test\n",
      "test\n",
      "test\n",
      "test\n",
      "test\n",
      "test\n",
      "test\n",
      "test\n",
      "test\n",
      "[tensor(0.9533), tensor(0.9499), tensor(0.9514), tensor(0.9496), tensor(0.9510), tensor(0.9518), tensor(0.9496), tensor(0.9562), tensor(0.9477), tensor(0.9485)]\n",
      "0.9\n",
      "test\n",
      "test\n",
      "test\n",
      "test\n",
      "test\n",
      "test\n",
      "test\n",
      "test\n",
      "test\n",
      "test\n",
      "[tensor(0.9503), tensor(0.9510), tensor(0.9551), tensor(0.9510), tensor(0.9510), tensor(0.9474), tensor(0.9536), tensor(0.9569), tensor(0.9522), tensor(0.9463)]\n",
      "1\n",
      "test\n",
      "test\n",
      "test\n",
      "test\n",
      "test\n",
      "test\n",
      "test\n",
      "test\n",
      "test\n",
      "test\n",
      "[tensor(0.9518), tensor(0.9544), tensor(0.9514), tensor(0.9588), tensor(0.9580), tensor(0.9510), tensor(0.9499), tensor(0.9507), tensor(0.9569), tensor(0.9555)]\n"
     ]
    }
   ],
   "source": [
    "factors=[.05,.1,.2,.3,.4,.5,.6,.7,.8,.9,1]\n",
    "means=[]\n",
    "medians=[]\n",
    "deviations=[]\n",
    "repetitions=10\n",
    "for factor in factors:\n",
    "    accs=[]\n",
    "    print(factor)\n",
    "    for repetition in range(0,repetitions):\n",
    "        model=NeuralHDSpecial(9,257,1024,batch_size=4,trainopt=2,bestinclass=True,lr=.0001)\n",
    "        model.fit(xtr[:int(transxtrain.shape[0]*factor),:],ytr[:int(transxtrain.shape[0]*factor)],15,4,0.1)\n",
    "        yhat=model(xte)\n",
    "        eval=[yhat[i]==transy_test[i] for i in range(len(transy_test))]\n",
    "        acc=sum(eval)/len(transy_test)\n",
    "        accs.append(acc)\n",
    "        \n",
    "    print(accs)\n",
    "    acc=np.mean(accs)\n",
    "    median=np.median(accs)\n",
    "    std=np.std(accs)\n",
    "    means.append(acc)\n",
    "    deviations.append(std)\n",
    "    medians.append(median)"
   ]
  },
  {
   "cell_type": "code",
   "execution_count": 18,
   "metadata": {},
   "outputs": [
    {
     "name": "stdout",
     "output_type": "stream",
     "text": [
      "NeuralHDSpecial .0001 lr 15 epochs x5 (4 regens) 4 batch_size BIC=True\n",
      "[0.8897681, 0.90007365, 0.9157158, 0.9333824, 0.9381671, 0.94239974, 0.9457122, 0.9471844, 0.9504969, 0.951049, 0.95307326]\n"
     ]
    },
    {
     "data": {
      "image/png": "[encoded data removed]",
      "text/plain": [
       "<Figure size 432x288 with 1 Axes>"
      ]
     },
     "metadata": {
      "needs_background": "light"
     },
     "output_type": "display_data"
    },
    {
     "name": "stdout",
     "output_type": "stream",
     "text": [
      "[0.8878542, 0.89952147, 0.91564226, 0.93283033, 0.9393817, 0.9427678, 0.9446448, 0.94659555, 0.9509018, 0.9514906, 0.95384616]\n"
     ]
    },
    {
     "data": {
      "image/png": "[encoded data removed]",
      "text/plain": [
       "<Figure size 432x288 with 1 Axes>"
      ]
     },
     "metadata": {
      "needs_background": "light"
     },
     "output_type": "display_data"
    },
    {
     "name": "stdout",
     "output_type": "stream",
     "text": [
      "[0.0075393454, 0.004134666, 0.0038418754, 0.0031842466, 0.0038883206, 0.0029224933, 0.0027006113, 0.0034504791, 0.0023463129, 0.0030652385, 0.003123902]\n"
     ]
    },
    {
     "data": {
      "image/png": "[encoded data removed]",
      "text/plain": [
       "<Figure size 432x288 with 1 Axes>"
      ]
     },
     "metadata": {
      "needs_background": "light"
     },
     "output_type": "display_data"
    }
   ],
   "source": [
    "print(\"NeuralHDSpecial .0001 lr 15 epochs x5 (4 regens) 4 batch_size BIC=True\")\n",
    "plt.plot(factors,medians)\n",
    "print(medians)\n",
    "plt.show()\n",
    "plt.plot(factors,means)\n",
    "print(means)\n",
    "plt.show()\n",
    "plt.plot(factors,deviations)\n",
    "print(deviations)"
   ]
  },
  {
   "cell_type": "code",
   "execution_count": 19,
   "metadata": {},
   "outputs": [
    {
     "name": "stdout",
     "output_type": "stream",
     "text": [
      "0.05\n",
      "test\n",
      "test\n",
      "test\n",
      "test\n",
      "test\n",
      "test\n",
      "test\n",
      "test\n",
      "test\n",
      "test\n",
      "[tensor(0.8826), tensor(0.8771), tensor(0.8855), tensor(0.8752), tensor(0.8958), tensor(0.8877), tensor(0.8947), tensor(0.8800), tensor(0.8859), tensor(0.8749)]\n",
      "0.1\n",
      "test\n",
      "test\n",
      "test\n",
      "test\n",
      "test\n",
      "test\n",
      "test\n",
      "test\n",
      "test\n",
      "test\n",
      "[tensor(0.9017), tensor(0.8885), tensor(0.9113), tensor(0.9098), tensor(0.8977), tensor(0.9054), tensor(0.9006), tensor(0.9058), tensor(0.9043), tensor(0.8966)]\n",
      "0.2\n",
      "test\n",
      "test\n",
      "test\n",
      "test\n",
      "test\n",
      "test\n",
      "test\n",
      "test\n",
      "test\n",
      "test\n",
      "[tensor(0.9142), tensor(0.9043), tensor(0.9234), tensor(0.9194), tensor(0.9120), tensor(0.9260), tensor(0.9257), tensor(0.9131), tensor(0.9220), tensor(0.9194)]\n",
      "0.3\n",
      "test\n",
      "test\n",
      "test\n",
      "test\n",
      "test\n",
      "test\n",
      "test\n",
      "test\n",
      "test\n",
      "test\n",
      "[tensor(0.9349), tensor(0.9400), tensor(0.9341), tensor(0.9371), tensor(0.9360), tensor(0.9315), tensor(0.9374), tensor(0.9360), tensor(0.9352), tensor(0.9396)]\n",
      "0.4\n",
      "test\n",
      "test\n",
      "test\n",
      "test\n",
      "test\n",
      "test\n",
      "test\n",
      "test\n",
      "test\n",
      "test\n",
      "[tensor(0.9400), tensor(0.9371), tensor(0.9455), tensor(0.9334), tensor(0.9382), tensor(0.9444), tensor(0.9422), tensor(0.9319), tensor(0.9411), tensor(0.9459)]\n",
      "0.5\n",
      "test\n",
      "test\n",
      "test\n",
      "test\n",
      "test\n",
      "test\n",
      "test\n",
      "test\n",
      "test\n",
      "test\n",
      "[tensor(0.9407), tensor(0.9448), tensor(0.9433), tensor(0.9455), tensor(0.9459), tensor(0.9455), tensor(0.9441), tensor(0.9470), tensor(0.9400), tensor(0.9463)]\n",
      "0.6\n",
      "test\n",
      "test\n",
      "test\n",
      "test\n",
      "test\n",
      "test\n",
      "test\n",
      "test\n",
      "test\n",
      "test\n",
      "[tensor(0.9514), tensor(0.9407), tensor(0.9488), tensor(0.9496), tensor(0.9529), tensor(0.9459), tensor(0.9470), tensor(0.9525), tensor(0.9485), tensor(0.9481)]\n",
      "0.7\n",
      "test\n",
      "test\n",
      "test\n",
      "test\n",
      "test\n",
      "test\n",
      "test\n",
      "test\n",
      "test\n",
      "test\n",
      "[tensor(0.9496), tensor(0.9441), tensor(0.9411), tensor(0.9510), tensor(0.9492), tensor(0.9477), tensor(0.9496), tensor(0.9533), tensor(0.9463), tensor(0.9507)]\n",
      "0.8\n",
      "test\n",
      "test\n",
      "test\n",
      "test\n",
      "test\n",
      "test\n",
      "test\n",
      "test\n",
      "test\n",
      "test\n",
      "[tensor(0.9455), tensor(0.9448), tensor(0.9522), tensor(0.9455), tensor(0.9444), tensor(0.9488), tensor(0.9477), tensor(0.9437), tensor(0.9459), tensor(0.9529)]\n",
      "0.9\n",
      "test\n",
      "test\n",
      "test\n",
      "test\n",
      "test\n",
      "test\n",
      "test\n",
      "test\n",
      "test\n",
      "test\n",
      "[tensor(0.9488), tensor(0.9522), tensor(0.9544), tensor(0.9544), tensor(0.9477), tensor(0.9499), tensor(0.9544), tensor(0.9518), tensor(0.9510), tensor(0.9525)]\n",
      "1\n",
      "test\n",
      "test\n",
      "test\n",
      "test\n",
      "test\n",
      "test\n",
      "test\n",
      "test\n",
      "test\n",
      "test\n",
      "[tensor(0.9569), tensor(0.9540), tensor(0.9566), tensor(0.9573), tensor(0.9558), tensor(0.9547), tensor(0.9540), tensor(0.9580), tensor(0.9555), tensor(0.9584)]\n"
     ]
    }
   ],
   "source": [
    "factors=[.05,.1,.2,.3,.4,.5,.6,.7,.8,.9,1]\n",
    "means=[]\n",
    "medians=[]\n",
    "deviations=[]\n",
    "repetitions=10\n",
    "for factor in factors:\n",
    "    accs=[]\n",
    "    print(factor)\n",
    "    for repetition in range(0,repetitions):\n",
    "        model=NeuralHDSpecial(9,257,1024,batch_size=4,trainopt=2,bestinclass=True,lr=.0001)\n",
    "        model.fit(xtr[:int(transxtrain.shape[0]*factor),:],ytr[:int(transxtrain.shape[0]*factor)],15,4,0)\n",
    "        yhat=model(xte)\n",
    "        eval=[yhat[i]==transy_test[i] for i in range(len(transy_test))]\n",
    "        acc=sum(eval)/len(transy_test)\n",
    "        accs.append(acc)\n",
    "        \n",
    "    print(accs)\n",
    "    acc=np.mean(accs)\n",
    "    median=np.median(accs)\n",
    "    std=np.std(accs)\n",
    "    means.append(acc)\n",
    "    deviations.append(std)\n",
    "    medians.append(median)"
   ]
  },
  {
   "cell_type": "code",
   "execution_count": 20,
   "metadata": {},
   "outputs": [
    {
     "name": "stdout",
     "output_type": "stream",
     "text": [
      "NeuralHDSpecial .0001 lr 15 epochs x5 (4 regens) 4 batch_size BIC=True NO dropout\n",
      "[0.8840633, 0.903018, 0.9193964, 0.9359588, 0.94055945, 0.9451601, 0.94865656, 0.9493927, 0.9457122, 0.951969, 0.9562017]\n"
     ]
    },
    {
     "data": {
      "image/png": "[encoded data removed]",
      "text/plain": [
       "<Figure size 432x288 with 1 Axes>"
      ]
     },
     "metadata": {
      "needs_background": "light"
     },
     "output_type": "display_data"
    },
    {
     "name": "stdout",
     "output_type": "stream",
     "text": [
      "[0.8839528, 0.9021715, 0.917961, 0.93617964, 0.9399706, 0.94431365, 0.94854623, 0.9482517, 0.94714767, 0.9517115, 0.9561281]\n"
     ]
    },
    {
     "data": {
      "image/png": "[encoded data removed]",
      "text/plain": [
       "<Figure size 432x288 with 1 Axes>"
      ]
     },
     "metadata": {
      "needs_background": "light"
     },
     "output_type": "display_data"
    },
    {
     "name": "stdout",
     "output_type": "stream",
     "text": [
      "[0.0070835664, 0.00641468, 0.006580739, 0.0023977198, 0.0046071317, 0.0022147484, 0.0033844898, 0.003406039, 0.0030492868, 0.0022254263, 0.0015067697]\n"
     ]
    },
    {
     "data": {
      "image/png": "[encoded data removed]",
      "text/plain": [
       "<Figure size 432x288 with 1 Axes>"
      ]
     },
     "metadata": {
      "needs_background": "light"
     },
     "output_type": "display_data"
    }
   ],
   "source": [
    "print(\"NeuralHDSpecial .0001 lr 15 epochs x5 (4 regens) 4 batch_size BIC=True NO dropout\")\n",
    "plt.plot(factors,medians)\n",
    "print(medians)\n",
    "plt.show()\n",
    "plt.plot(factors,means)\n",
    "print(means)\n",
    "plt.show()\n",
    "plt.plot(factors,deviations)\n",
    "print(deviations)"
   ]
  },
  {
   "cell_type": "code",
   "execution_count": 21,
   "metadata": {},
   "outputs": [
    {
     "name": "stdout",
     "output_type": "stream",
     "text": [
      "0.05\n",
      "test\n",
      "test\n",
      "test\n",
      "test\n",
      "test\n",
      "test\n",
      "test\n",
      "test\n",
      "test\n",
      "test\n",
      "[tensor(0.8833), tensor(0.8866), tensor(0.9039), tensor(0.8885), tensor(0.8980), tensor(0.9006), tensor(0.8925), tensor(0.8984), tensor(0.8789), tensor(0.8848)]\n",
      "0.1\n",
      "test\n",
      "test\n",
      "test\n",
      "test\n",
      "test\n",
      "test\n",
      "test\n",
      "test\n",
      "test\n",
      "test\n",
      "[tensor(0.9209), tensor(0.9084), tensor(0.9201), tensor(0.9142), tensor(0.9113), tensor(0.9150), tensor(0.9117), tensor(0.9153), tensor(0.9198), tensor(0.9061)]\n",
      "0.2\n",
      "test\n",
      "test\n",
      "test\n",
      "test\n",
      "test\n",
      "test\n",
      "test\n",
      "test\n",
      "test\n",
      "test\n",
      "[tensor(0.9271), tensor(0.9308), tensor(0.9260), tensor(0.9227), tensor(0.9293), tensor(0.9268), tensor(0.9304), tensor(0.9231), tensor(0.9341), tensor(0.9352)]\n",
      "0.3\n",
      "test\n",
      "test\n",
      "test\n",
      "test\n",
      "test\n",
      "test\n",
      "test\n",
      "test\n",
      "test\n",
      "test\n",
      "[tensor(0.9345), tensor(0.9323), tensor(0.9363), tensor(0.9356), tensor(0.9326), tensor(0.9400), tensor(0.9441), tensor(0.9352), tensor(0.9345), tensor(0.9323)]\n",
      "0.4\n",
      "test\n",
      "test\n",
      "test\n",
      "test\n",
      "test\n",
      "test\n",
      "test\n",
      "test\n",
      "test\n",
      "test\n",
      "[tensor(0.9422), tensor(0.9448), tensor(0.9382), tensor(0.9455), tensor(0.9367), tensor(0.9334), tensor(0.9430), tensor(0.9404), tensor(0.9407), tensor(0.9389)]\n",
      "0.5\n",
      "test\n",
      "test\n",
      "test\n",
      "test\n",
      "test\n",
      "test\n",
      "test\n",
      "test\n",
      "test\n",
      "test\n",
      "[tensor(0.9448), tensor(0.9529), tensor(0.9422), tensor(0.9481), tensor(0.9407), tensor(0.9463), tensor(0.9485), tensor(0.9488), tensor(0.9470), tensor(0.9430)]\n",
      "0.6\n",
      "test\n",
      "test\n",
      "test\n",
      "test\n",
      "test\n",
      "test\n",
      "test\n",
      "test\n",
      "test\n",
      "test\n",
      "[tensor(0.9507), tensor(0.9466), tensor(0.9415), tensor(0.9470), tensor(0.9407), tensor(0.9459), tensor(0.9418), tensor(0.9496), tensor(0.9496), tensor(0.9496)]\n",
      "0.7\n",
      "test\n",
      "test\n",
      "test\n",
      "test\n",
      "test\n",
      "test\n",
      "test\n",
      "test\n",
      "test\n",
      "test\n",
      "[tensor(0.9514), tensor(0.9503), tensor(0.9518), tensor(0.9499), tensor(0.9503), tensor(0.9485), tensor(0.9437), tensor(0.9455), tensor(0.9503), tensor(0.9474)]\n",
      "0.8\n",
      "test\n",
      "test\n",
      "test\n",
      "test\n",
      "test\n",
      "test\n",
      "test\n",
      "test\n",
      "test\n",
      "test\n",
      "[tensor(0.9492), tensor(0.9503), tensor(0.9455), tensor(0.9466), tensor(0.9492), tensor(0.9418), tensor(0.9525), tensor(0.9507), tensor(0.9485), tensor(0.9481)]\n",
      "0.9\n",
      "test\n",
      "test\n",
      "test\n",
      "test\n",
      "test\n",
      "test\n",
      "test\n",
      "test\n",
      "test\n",
      "test\n",
      "[tensor(0.9525), tensor(0.9503), tensor(0.9485), tensor(0.9529), tensor(0.9569), tensor(0.9551), tensor(0.9573), tensor(0.9474), tensor(0.9496), tensor(0.9507)]\n",
      "1\n",
      "test\n",
      "test\n",
      "test\n",
      "test\n",
      "test\n",
      "test\n",
      "test\n",
      "test\n",
      "test\n",
      "test\n",
      "[tensor(0.9558), tensor(0.9584), tensor(0.9536), tensor(0.9536), tensor(0.9525), tensor(0.9569), tensor(0.9558), tensor(0.9488), tensor(0.9562), tensor(0.9466)]\n"
     ]
    }
   ],
   "source": [
    "factors=[.05,.1,.2,.3,.4,.5,.6,.7,.8,.9,1]\n",
    "means=[]\n",
    "medians=[]\n",
    "deviations=[]\n",
    "repetitions=10\n",
    "for factor in factors:\n",
    "    accs=[]\n",
    "    print(factor)\n",
    "    for repetition in range(0,repetitions):\n",
    "        model=NeuralHDSpecial(9,257,1024,batch_size=4,trainopt=2,bestinclass=True,lr=.0001)\n",
    "        model.fit(xtr[:int(transxtrain.shape[0]*factor),:],ytr[:int(transxtrain.shape[0]*factor)],75,0,0)\n",
    "        yhat=model(xte)\n",
    "        eval=[yhat[i]==transy_test[i] for i in range(len(transy_test))]\n",
    "        acc=sum(eval)/len(transy_test)\n",
    "        accs.append(acc)\n",
    "        \n",
    "    print(accs)\n",
    "    acc=np.mean(accs)\n",
    "    median=np.median(accs)\n",
    "    std=np.std(accs)\n",
    "    means.append(acc)\n",
    "    deviations.append(std)\n",
    "    medians.append(median)"
   ]
  },
  {
   "cell_type": "code",
   "execution_count": 22,
   "metadata": {},
   "outputs": [
    {
     "name": "stdout",
     "output_type": "stream",
     "text": [
      "OnlineHDv2 .0001 lr 15 epochs x5 (4 regens) 4 batch_size BIC=True NO dropout\n",
      "[0.89050424, 0.9146117, 0.9282297, 0.9348546, 0.9405594, 0.9466323, 0.9468163, 0.9501288, 0.9488406, 0.951601, 0.95472944]\n"
     ]
    },
    {
     "data": {
      "image/png": "[encoded data removed]",
      "text/plain": [
       "<Figure size 432x288 with 1 Axes>"
      ]
     },
     "metadata": {
      "needs_background": "light"
     },
     "output_type": "display_data"
    },
    {
     "name": "stdout",
     "output_type": "stream",
     "text": [
      "[0.8915715, 0.9142804, 0.9285609, 0.93573797, 0.94037545, 0.94622743, 0.946301, 0.94891423, 0.94825184, 0.9521162, 0.95384616]\n"
     ]
    },
    {
     "data": {
      "image/png": "[encoded data removed]",
      "text/plain": [
       "<Figure size 432x288 with 1 Axes>"
      ]
     },
     "metadata": {
      "needs_background": "light"
     },
     "output_type": "display_data"
    },
    {
     "name": "stdout",
     "output_type": "stream",
     "text": [
      "[0.007954038, 0.004757575, 0.0040063723, 0.003531, 0.0035455588, 0.003454405, 0.0035510978, 0.0025060012, 0.0028518757, 0.0032773234, 0.0035040474]\n"
     ]
    },
    {
     "data": {
      "image/png": "[encoded data removed]",
      "text/plain": [
       "<Figure size 432x288 with 1 Axes>"
      ]
     },
     "metadata": {
      "needs_background": "light"
     },
     "output_type": "display_data"
    }
   ],
   "source": [
    "print(\"OnlineHDv2 .0001 lr 15 epochs x5 (4 regens) 4 batch_size BIC=True NO dropout\")\n",
    "plt.plot(factors,medians)\n",
    "print(medians)\n",
    "plt.show()\n",
    "plt.plot(factors,means)\n",
    "print(means)\n",
    "plt.show()\n",
    "plt.plot(factors,deviations)\n",
    "print(deviations)\n",
    "plt.show()"
   ]
  },
  {
   "cell_type": "code",
   "execution_count": null,
   "metadata": {},
   "outputs": [],
   "source": []
  },
  {
   "cell_type": "code",
   "execution_count": null,
   "metadata": {},
   "outputs": [],
   "source": []
  }
 ],
 "metadata": {
  "interpreter": {
   "hash": "aee8b7b246df8f9039afb4144a1f6fd8d2ca17a180786b69acc140d282b71a49"
  },
  "kernelspec": {
   "display_name": "Python 3.9.13 64-bit",
   "language": "python",
   "name": "python3"
  },
  "language_info": {
   "codemirror_mode": {
    "name": "ipython",
    "version": 3
   },
   "file_extension": ".py",
   "mimetype": "text/x-python",
   "name": "python",
   "nbconvert_exporter": "python",
   "pygments_lexer": "ipython3",
   "version": "3.9.13"
  },
  "orig_nbformat": 4
 },
 "nbformat": 4,
 "nbformat_minor": 2
}
