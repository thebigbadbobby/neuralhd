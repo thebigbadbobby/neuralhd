{
 "cells": [
  {
   "cell_type": "code",
   "execution_count": 1,
   "metadata": {},
   "outputs": [],
   "source": [
    "from flexHD import NeuralHDDev\n",
    "import time\n",
    "import numpy as np\n",
    "import torch\n",
    "import matplotlib.pyplot as plt"
   ]
  },
  {
   "cell_type": "code",
   "execution_count": 2,
   "metadata": {},
   "outputs": [],
   "source": [
    "path=\"../../../Data/malware-classification/\"\n",
    "with open(path+'data11.npy', 'rb') as f:\n",
    "    transxtrain=np.load(f)\n",
    "    transx_test=np.load(f)\n",
    "    transytrain=np.load(f)\n",
    "    transy_test=np.load(f)\n",
    "xtr=torch.from_numpy(transxtrain).float()\n",
    "xte=torch.from_numpy(transx_test).float()\n",
    "ytr=torch.from_numpy(transytrain).long()\n",
    "yte=torch.from_numpy(transy_test).long()"
   ]
  },
  {
   "cell_type": "code",
   "execution_count": 3,
   "metadata": {},
   "outputs": [
    {
     "name": "stdout",
     "output_type": "stream",
     "text": [
      "0.05\n",
      "test\n",
      "0.0001\n",
      "1\n"
     ]
    },
    {
     "name": "stderr",
     "output_type": "stream",
     "text": [
      "/Users/bobbymissirian/Files/Research/Cybersecurity/Experiments/flexHD.py:61: UserWarning: An output with one or more elements was resized since it had shape [257, 1024], which does not match the required output shape [150, 1024].This behavior is deprecated, and in a future PyTorch release outputs will not be resized unless they have zero elements. You can explicitly reuse an out tensor t by resizing it, inplace, to zero elements with t.resize_(0). (Triggered internally at  ../aten/src/ATen/native/Resize.cpp:23.)\n",
      "  torch.matmul(x[i:i+bsize], self.basis.T, out=temp)\n"
     ]
    },
    {
     "name": "stdout",
     "output_type": "stream",
     "text": [
      "0.0001\n",
      "1\n"
     ]
    },
    {
     "name": "stderr",
     "output_type": "stream",
     "text": [
      "/Users/bobbymissirian/Files/Research/Cybersecurity/Experiments/flexHD.py:61: UserWarning: An output with one or more elements was resized since it had shape [257, 1024], which does not match the required output shape [147, 1024].This behavior is deprecated, and in a future PyTorch release outputs will not be resized unless they have zero elements. You can explicitly reuse an out tensor t by resizing it, inplace, to zero elements with t.resize_(0). (Triggered internally at  ../aten/src/ATen/native/Resize.cpp:23.)\n",
      "  torch.matmul(x[i:i+bsize], self.basis.T, out=temp)\n"
     ]
    },
    {
     "name": "stdout",
     "output_type": "stream",
     "text": [
      "test\n",
      "0.0001\n",
      "1\n",
      "0.0001\n",
      "1\n",
      "test\n",
      "0.0001\n",
      "1\n",
      "0.0001\n",
      "1\n",
      "test\n",
      "0.0001\n",
      "1\n",
      "0.0001\n",
      "1\n",
      "test\n",
      "0.0001\n",
      "1\n",
      "0.0001\n",
      "1\n",
      "test\n",
      "0.0001\n",
      "1\n",
      "0.0001\n",
      "1\n",
      "test\n",
      "0.0001\n",
      "1\n",
      "0.0001\n",
      "1\n",
      "test\n",
      "0.0001\n",
      "1\n",
      "0.0001\n",
      "1\n",
      "test\n",
      "0.0001\n",
      "1\n",
      "0.0001\n",
      "1\n",
      "test\n",
      "0.0001\n",
      "1\n",
      "0.0001\n",
      "1\n",
      "[tensor(0.8752), tensor(0.8962), tensor(0.8907), tensor(0.8944), tensor(0.8925), tensor(0.8903), tensor(0.8848), tensor(0.8940), tensor(0.8914), tensor(0.8992)]\n",
      "0.1\n",
      "test\n",
      "0.0001\n",
      "1\n"
     ]
    },
    {
     "name": "stderr",
     "output_type": "stream",
     "text": [
      "/Users/bobbymissirian/Files/Research/Cybersecurity/Experiments/flexHD.py:61: UserWarning: An output with one or more elements was resized since it had shape [257, 1024], which does not match the required output shape [44, 1024].This behavior is deprecated, and in a future PyTorch release outputs will not be resized unless they have zero elements. You can explicitly reuse an out tensor t by resizing it, inplace, to zero elements with t.resize_(0). (Triggered internally at  ../aten/src/ATen/native/Resize.cpp:23.)\n",
      "  torch.matmul(x[i:i+bsize], self.basis.T, out=temp)\n"
     ]
    },
    {
     "name": "stdout",
     "output_type": "stream",
     "text": [
      "0.0001\n",
      "1\n",
      "test\n",
      "0.0001\n",
      "1\n",
      "0.0001\n",
      "1\n",
      "test\n",
      "0.0001\n",
      "1\n",
      "0.0001\n",
      "1\n",
      "test\n",
      "0.0001\n",
      "1\n",
      "0.0001\n",
      "1\n",
      "test\n",
      "0.0001\n",
      "1\n",
      "0.0001\n",
      "1\n",
      "test\n",
      "0.0001\n",
      "1\n",
      "0.0001\n",
      "1\n",
      "test\n",
      "0.0001\n",
      "1\n",
      "0.0001\n",
      "1\n",
      "test\n",
      "0.0001\n",
      "1\n",
      "0.0001\n",
      "1\n",
      "test\n",
      "0.0001\n",
      "1\n",
      "0.0001\n",
      "1\n",
      "test\n",
      "0.0001\n",
      "1\n",
      "0.0001\n",
      "1\n",
      "[tensor(0.9095), tensor(0.9165), tensor(0.9098), tensor(0.9117), tensor(0.9183), tensor(0.9146), tensor(0.9146), tensor(0.9150), tensor(0.9190), tensor(0.9201)]\n",
      "0.2\n",
      "test\n",
      "0.0001\n",
      "1\n"
     ]
    },
    {
     "name": "stderr",
     "output_type": "stream",
     "text": [
      "/Users/bobbymissirian/Files/Research/Cybersecurity/Experiments/flexHD.py:61: UserWarning: An output with one or more elements was resized since it had shape [257, 1024], which does not match the required output shape [88, 1024].This behavior is deprecated, and in a future PyTorch release outputs will not be resized unless they have zero elements. You can explicitly reuse an out tensor t by resizing it, inplace, to zero elements with t.resize_(0). (Triggered internally at  ../aten/src/ATen/native/Resize.cpp:23.)\n",
      "  torch.matmul(x[i:i+bsize], self.basis.T, out=temp)\n"
     ]
    },
    {
     "name": "stdout",
     "output_type": "stream",
     "text": [
      "0.0001\n",
      "1\n",
      "test\n",
      "0.0001\n",
      "1\n",
      "0.0001\n",
      "1\n",
      "test\n",
      "0.0001\n",
      "1\n",
      "0.0001\n",
      "1\n",
      "test\n",
      "0.0001\n",
      "1\n",
      "0.0001\n",
      "1\n",
      "test\n",
      "0.0001\n",
      "1\n",
      "0.0001\n",
      "1\n",
      "test\n",
      "0.0001\n",
      "1\n",
      "0.0001\n",
      "1\n",
      "test\n",
      "0.0001\n",
      "1\n",
      "0.0001\n",
      "1\n",
      "test\n",
      "0.0001\n",
      "1\n",
      "0.0001\n",
      "1\n",
      "test\n",
      "0.0001\n",
      "1\n",
      "0.0001\n",
      "1\n",
      "test\n",
      "0.0001\n",
      "1\n",
      "0.0001\n",
      "1\n",
      "[tensor(0.9326), tensor(0.9315), tensor(0.9312), tensor(0.9315), tensor(0.9293), tensor(0.9249), tensor(0.9201), tensor(0.9323), tensor(0.9201), tensor(0.9257)]\n",
      "0.3\n",
      "test\n",
      "0.0001\n",
      "1\n"
     ]
    },
    {
     "name": "stderr",
     "output_type": "stream",
     "text": [
      "/Users/bobbymissirian/Files/Research/Cybersecurity/Experiments/flexHD.py:61: UserWarning: An output with one or more elements was resized since it had shape [257, 1024], which does not match the required output shape [132, 1024].This behavior is deprecated, and in a future PyTorch release outputs will not be resized unless they have zero elements. You can explicitly reuse an out tensor t by resizing it, inplace, to zero elements with t.resize_(0). (Triggered internally at  ../aten/src/ATen/native/Resize.cpp:23.)\n",
      "  torch.matmul(x[i:i+bsize], self.basis.T, out=temp)\n"
     ]
    },
    {
     "name": "stdout",
     "output_type": "stream",
     "text": [
      "0.0001\n",
      "1\n",
      "test\n",
      "0.0001\n",
      "1\n",
      "0.0001\n",
      "1\n",
      "test\n",
      "0.0001\n",
      "1\n",
      "0.0001\n",
      "1\n",
      "test\n",
      "0.0001\n",
      "1\n",
      "0.0001\n",
      "1\n",
      "test\n",
      "0.0001\n",
      "1\n",
      "0.0001\n",
      "1\n",
      "test\n",
      "0.0001\n",
      "1\n",
      "0.0001\n",
      "1\n",
      "test\n",
      "0.0001\n",
      "1\n",
      "0.0001\n",
      "1\n",
      "test\n",
      "0.0001\n",
      "1\n",
      "0.0001\n",
      "1\n",
      "test\n",
      "0.0001\n",
      "1\n",
      "0.0001\n",
      "1\n",
      "test\n",
      "0.0001\n",
      "1\n",
      "0.0001\n",
      "1\n",
      "[tensor(0.9371), tensor(0.9393), tensor(0.9349), tensor(0.9404), tensor(0.9378), tensor(0.9330), tensor(0.9430), tensor(0.9330), tensor(0.9378), tensor(0.9360)]\n",
      "0.4\n",
      "test\n",
      "0.0001\n",
      "1\n"
     ]
    },
    {
     "name": "stderr",
     "output_type": "stream",
     "text": [
      "/Users/bobbymissirian/Files/Research/Cybersecurity/Experiments/flexHD.py:61: UserWarning: An output with one or more elements was resized since it had shape [257, 1024], which does not match the required output shape [176, 1024].This behavior is deprecated, and in a future PyTorch release outputs will not be resized unless they have zero elements. You can explicitly reuse an out tensor t by resizing it, inplace, to zero elements with t.resize_(0). (Triggered internally at  ../aten/src/ATen/native/Resize.cpp:23.)\n",
      "  torch.matmul(x[i:i+bsize], self.basis.T, out=temp)\n"
     ]
    },
    {
     "name": "stdout",
     "output_type": "stream",
     "text": [
      "0.0001\n",
      "1\n",
      "test\n",
      "0.0001\n",
      "1\n",
      "0.0001\n",
      "1\n",
      "test\n",
      "0.0001\n",
      "1\n",
      "0.0001\n",
      "1\n",
      "test\n",
      "0.0001\n",
      "1\n",
      "0.0001\n",
      "1\n",
      "test\n",
      "0.0001\n",
      "1\n",
      "0.0001\n",
      "1\n",
      "test\n",
      "0.0001\n",
      "1\n",
      "0.0001\n",
      "1\n",
      "test\n",
      "0.0001\n",
      "1\n",
      "0.0001\n",
      "1\n",
      "test\n",
      "0.0001\n",
      "1\n",
      "0.0001\n",
      "1\n",
      "test\n",
      "0.0001\n",
      "1\n",
      "0.0001\n",
      "1\n",
      "test\n",
      "0.0001\n",
      "1\n",
      "0.0001\n",
      "1\n",
      "[tensor(0.9426), tensor(0.9404), tensor(0.9415), tensor(0.9455), tensor(0.9452), tensor(0.9437), tensor(0.9430), tensor(0.9371), tensor(0.9433), tensor(0.9474)]\n",
      "0.5\n",
      "test\n",
      "0.0001\n",
      "1\n"
     ]
    },
    {
     "name": "stderr",
     "output_type": "stream",
     "text": [
      "/Users/bobbymissirian/Files/Research/Cybersecurity/Experiments/flexHD.py:61: UserWarning: An output with one or more elements was resized since it had shape [257, 1024], which does not match the required output shape [220, 1024].This behavior is deprecated, and in a future PyTorch release outputs will not be resized unless they have zero elements. You can explicitly reuse an out tensor t by resizing it, inplace, to zero elements with t.resize_(0). (Triggered internally at  ../aten/src/ATen/native/Resize.cpp:23.)\n",
      "  torch.matmul(x[i:i+bsize], self.basis.T, out=temp)\n"
     ]
    },
    {
     "name": "stdout",
     "output_type": "stream",
     "text": [
      "0.0001\n",
      "1\n",
      "test\n",
      "0.0001\n",
      "1\n",
      "0.0001\n",
      "1\n",
      "test\n",
      "0.0001\n",
      "1\n",
      "0.0001\n",
      "1\n",
      "test\n",
      "0.0001\n",
      "1\n",
      "0.0001\n",
      "1\n",
      "test\n",
      "0.0001\n",
      "1\n",
      "0.0001\n",
      "1\n",
      "test\n",
      "0.0001\n",
      "1\n",
      "0.0001\n",
      "1\n",
      "test\n",
      "0.0001\n",
      "1\n",
      "0.0001\n",
      "1\n",
      "test\n",
      "0.0001\n",
      "1\n",
      "0.0001\n",
      "1\n",
      "test\n",
      "0.0001\n",
      "1\n",
      "0.0001\n",
      "1\n",
      "test\n",
      "0.0001\n",
      "1\n",
      "0.0001\n",
      "1\n",
      "[tensor(0.9488), tensor(0.9474), tensor(0.9418), tensor(0.9441), tensor(0.9393), tensor(0.9426), tensor(0.9470), tensor(0.9485), tensor(0.9481), tensor(0.9470)]\n",
      "0.6\n",
      "test\n",
      "0.0001\n",
      "1\n"
     ]
    },
    {
     "name": "stderr",
     "output_type": "stream",
     "text": [
      "/Users/bobbymissirian/Files/Research/Cybersecurity/Experiments/flexHD.py:61: UserWarning: An output with one or more elements was resized since it had shape [257, 1024], which does not match the required output shape [7, 1024].This behavior is deprecated, and in a future PyTorch release outputs will not be resized unless they have zero elements. You can explicitly reuse an out tensor t by resizing it, inplace, to zero elements with t.resize_(0). (Triggered internally at  ../aten/src/ATen/native/Resize.cpp:23.)\n",
      "  torch.matmul(x[i:i+bsize], self.basis.T, out=temp)\n"
     ]
    },
    {
     "name": "stdout",
     "output_type": "stream",
     "text": [
      "0.0001\n",
      "1\n",
      "test\n",
      "0.0001\n",
      "1\n",
      "0.0001\n",
      "1\n",
      "test\n",
      "0.0001\n",
      "1\n",
      "0.0001\n",
      "1\n",
      "test\n",
      "0.0001\n",
      "1\n",
      "0.0001\n",
      "1\n",
      "test\n",
      "0.0001\n",
      "1\n",
      "0.0001\n",
      "1\n",
      "test\n",
      "0.0001\n",
      "1\n",
      "0.0001\n",
      "1\n",
      "test\n",
      "0.0001\n",
      "1\n",
      "0.0001\n",
      "1\n",
      "test\n",
      "0.0001\n",
      "1\n",
      "0.0001\n",
      "1\n",
      "test\n",
      "0.0001\n",
      "1\n",
      "0.0001\n",
      "1\n",
      "test\n",
      "0.0001\n",
      "1\n",
      "0.0001\n",
      "1\n",
      "[tensor(0.9518), tensor(0.9444), tensor(0.9503), tensor(0.9533), tensor(0.9492), tensor(0.9492), tensor(0.9448), tensor(0.9444), tensor(0.9463), tensor(0.9522)]\n",
      "0.7\n",
      "test\n",
      "0.0001\n",
      "1\n"
     ]
    },
    {
     "name": "stderr",
     "output_type": "stream",
     "text": [
      "/Users/bobbymissirian/Files/Research/Cybersecurity/Experiments/flexHD.py:61: UserWarning: An output with one or more elements was resized since it had shape [257, 1024], which does not match the required output shape [51, 1024].This behavior is deprecated, and in a future PyTorch release outputs will not be resized unless they have zero elements. You can explicitly reuse an out tensor t by resizing it, inplace, to zero elements with t.resize_(0). (Triggered internally at  ../aten/src/ATen/native/Resize.cpp:23.)\n",
      "  torch.matmul(x[i:i+bsize], self.basis.T, out=temp)\n"
     ]
    },
    {
     "name": "stdout",
     "output_type": "stream",
     "text": [
      "0.0001\n",
      "1\n",
      "test\n",
      "0.0001\n",
      "1\n",
      "0.0001\n",
      "1\n",
      "test\n",
      "0.0001\n",
      "1\n",
      "0.0001\n",
      "1\n",
      "test\n",
      "0.0001\n",
      "1\n",
      "0.0001\n",
      "1\n",
      "test\n",
      "0.0001\n",
      "1\n",
      "0.0001\n",
      "1\n",
      "test\n",
      "0.0001\n",
      "1\n",
      "0.0001\n",
      "1\n",
      "test\n",
      "0.0001\n",
      "1\n",
      "0.0001\n",
      "1\n",
      "test\n",
      "0.0001\n",
      "1\n",
      "0.0001\n",
      "1\n",
      "test\n",
      "0.0001\n",
      "1\n",
      "0.0001\n",
      "1\n",
      "test\n",
      "0.0001\n",
      "1\n",
      "0.0001\n",
      "1\n",
      "[tensor(0.9547), tensor(0.9533), tensor(0.9555), tensor(0.9492), tensor(0.9533), tensor(0.9536), tensor(0.9529), tensor(0.9518), tensor(0.9525), tensor(0.9529)]\n",
      "0.8\n",
      "test\n",
      "0.0001\n",
      "1\n"
     ]
    },
    {
     "name": "stderr",
     "output_type": "stream",
     "text": [
      "/Users/bobbymissirian/Files/Research/Cybersecurity/Experiments/flexHD.py:61: UserWarning: An output with one or more elements was resized since it had shape [257, 1024], which does not match the required output shape [95, 1024].This behavior is deprecated, and in a future PyTorch release outputs will not be resized unless they have zero elements. You can explicitly reuse an out tensor t by resizing it, inplace, to zero elements with t.resize_(0). (Triggered internally at  ../aten/src/ATen/native/Resize.cpp:23.)\n",
      "  torch.matmul(x[i:i+bsize], self.basis.T, out=temp)\n"
     ]
    },
    {
     "name": "stdout",
     "output_type": "stream",
     "text": [
      "0.0001\n",
      "1\n",
      "test\n",
      "0.0001\n",
      "1\n",
      "0.0001\n",
      "1\n",
      "test\n",
      "0.0001\n",
      "1\n",
      "0.0001\n",
      "1\n",
      "test\n",
      "0.0001\n",
      "1\n",
      "0.0001\n",
      "1\n",
      "test\n",
      "0.0001\n",
      "1\n",
      "0.0001\n",
      "1\n",
      "test\n",
      "0.0001\n",
      "1\n",
      "0.0001\n",
      "1\n",
      "test\n",
      "0.0001\n",
      "1\n",
      "0.0001\n",
      "1\n",
      "test\n",
      "0.0001\n",
      "1\n",
      "0.0001\n",
      "1\n",
      "test\n",
      "0.0001\n",
      "1\n",
      "0.0001\n",
      "1\n",
      "test\n",
      "0.0001\n",
      "1\n",
      "0.0001\n",
      "1\n",
      "[tensor(0.9562), tensor(0.9529), tensor(0.9503), tensor(0.9599), tensor(0.9544), tensor(0.9566), tensor(0.9533), tensor(0.9566), tensor(0.9459), tensor(0.9544)]\n",
      "0.9\n",
      "test\n",
      "0.0001\n",
      "1\n"
     ]
    },
    {
     "name": "stderr",
     "output_type": "stream",
     "text": [
      "/Users/bobbymissirian/Files/Research/Cybersecurity/Experiments/flexHD.py:61: UserWarning: An output with one or more elements was resized since it had shape [257, 1024], which does not match the required output shape [139, 1024].This behavior is deprecated, and in a future PyTorch release outputs will not be resized unless they have zero elements. You can explicitly reuse an out tensor t by resizing it, inplace, to zero elements with t.resize_(0). (Triggered internally at  ../aten/src/ATen/native/Resize.cpp:23.)\n",
      "  torch.matmul(x[i:i+bsize], self.basis.T, out=temp)\n"
     ]
    },
    {
     "name": "stdout",
     "output_type": "stream",
     "text": [
      "0.0001\n",
      "1\n",
      "test\n",
      "0.0001\n",
      "1\n",
      "0.0001\n",
      "1\n",
      "test\n",
      "0.0001\n",
      "1\n",
      "0.0001\n",
      "1\n",
      "test\n",
      "0.0001\n",
      "1\n",
      "0.0001\n",
      "1\n",
      "test\n",
      "0.0001\n",
      "1\n",
      "0.0001\n",
      "1\n",
      "test\n",
      "0.0001\n",
      "1\n",
      "0.0001\n",
      "1\n",
      "test\n",
      "0.0001\n",
      "1\n",
      "0.0001\n",
      "1\n",
      "test\n",
      "0.0001\n",
      "1\n",
      "0.0001\n",
      "1\n",
      "test\n",
      "0.0001\n",
      "1\n",
      "0.0001\n",
      "1\n",
      "test\n",
      "0.0001\n",
      "1\n",
      "0.0001\n",
      "1\n",
      "[tensor(0.9499), tensor(0.9551), tensor(0.9499), tensor(0.9588), tensor(0.9610), tensor(0.9551), tensor(0.9540), tensor(0.9540), tensor(0.9577), tensor(0.9499)]\n",
      "1\n",
      "test\n",
      "0.0001\n",
      "1\n"
     ]
    },
    {
     "name": "stderr",
     "output_type": "stream",
     "text": [
      "/Users/bobbymissirian/Files/Research/Cybersecurity/Experiments/flexHD.py:61: UserWarning: An output with one or more elements was resized since it had shape [257, 1024], which does not match the required output shape [184, 1024].This behavior is deprecated, and in a future PyTorch release outputs will not be resized unless they have zero elements. You can explicitly reuse an out tensor t by resizing it, inplace, to zero elements with t.resize_(0). (Triggered internally at  ../aten/src/ATen/native/Resize.cpp:23.)\n",
      "  torch.matmul(x[i:i+bsize], self.basis.T, out=temp)\n"
     ]
    },
    {
     "name": "stdout",
     "output_type": "stream",
     "text": [
      "0.0001\n",
      "1\n",
      "test\n",
      "0.0001\n",
      "1\n",
      "0.0001\n",
      "1\n",
      "test\n",
      "0.0001\n",
      "1\n",
      "0.0001\n",
      "1\n",
      "test\n",
      "0.0001\n",
      "1\n",
      "0.0001\n",
      "1\n",
      "test\n",
      "0.0001\n",
      "1\n",
      "0.0001\n",
      "1\n",
      "test\n",
      "0.0001\n",
      "1\n",
      "0.0001\n",
      "1\n",
      "test\n",
      "0.0001\n",
      "1\n",
      "0.0001\n",
      "1\n",
      "test\n",
      "0.0001\n",
      "1\n",
      "0.0001\n",
      "1\n",
      "test\n",
      "0.0001\n",
      "1\n",
      "0.0001\n",
      "1\n",
      "test\n",
      "0.0001\n",
      "1\n",
      "0.0001\n",
      "1\n",
      "[tensor(0.9599), tensor(0.9595), tensor(0.9614), tensor(0.9562), tensor(0.9603), tensor(0.9525), tensor(0.9569), tensor(0.9551), tensor(0.9591), tensor(0.9595)]\n",
      "SingleStop 60:15 (45,15) batch size 1 lr=.0001\n",
      "[0.8919765, 0.91479576, 0.930254, 0.937431, 0.94313586, 0.9470004, 0.9492087, 0.95307326, 0.95436144, 0.9545455, 0.95933014]\n"
     ]
    },
    {
     "data": {
      "image/png": "[encoded data removed]",
      "text/plain": [
       "<Figure size 432x288 with 1 Axes>"
      ]
     },
     "metadata": {
      "needs_background": "light"
     },
     "output_type": "display_data"
    },
    {
     "name": "stdout",
     "output_type": "stream",
     "text": [
      "[0.8908723, 0.91490614, 0.92793524, 0.9372102, 0.94295186, 0.9454546, 0.948583, 0.9529629, 0.9540302, 0.9545454, 0.95804197]\n"
     ]
    },
    {
     "data": {
      "image/png": "[encoded data removed]",
      "text/plain": [
       "<Figure size 432x288 with 1 Axes>"
      ]
     },
     "metadata": {
      "needs_background": "light"
     },
     "output_type": "display_data"
    },
    {
     "name": "stdout",
     "output_type": "stream",
     "text": [
      "[0.0063562454, 0.0035256422, 0.004643305, 0.0030045442, 0.0027444118, 0.0031221604, 0.0032088242, 0.001602627, 0.003660039, 0.0036593068, 0.002618094]\n"
     ]
    },
    {
     "data": {
      "image/png": "[encoded data removed]",
      "text/plain": [
       "<Figure size 432x288 with 1 Axes>"
      ]
     },
     "metadata": {
      "needs_background": "light"
     },
     "output_type": "display_data"
    }
   ],
   "source": [
    "factors=[.05,.1,.2,.3,.4,.5,.6,.7,.8,.9,1]\n",
    "means=[]\n",
    "medians=[]\n",
    "deviations=[]\n",
    "repetitions=10\n",
    "for factor in factors:\n",
    "    accs=[]\n",
    "    print(factor)\n",
    "    for repetition in range(0,repetitions):\n",
    "        model=NeuralHDDev(9,257,1024,trainopt=2,bestinclass=True, multiencoder=True)\n",
    "        model.fit(xtr[:int(transxtrain.shape[0]*factor),:],ytr[:int(transxtrain.shape[0]*factor)],45,0,0,.0001,1)#45\n",
    "        model.fit(xtr[:int(transxtrain.shape[0]*factor),:],ytr[:int(transxtrain.shape[0]*factor)],6,4,0,.0001,1)#6,4\n",
    "        yhat=model(xte)\n",
    "        eval=[yhat[i]==transy_test[i] for i in range(len(transy_test))]\n",
    "        acc=sum(eval)/len(transy_test)\n",
    "        accs.append(acc)\n",
    "        \n",
    "    print(accs)\n",
    "    acc=np.mean(accs)\n",
    "    median=np.median(accs)\n",
    "    std=np.std(accs)\n",
    "    means.append(acc)\n",
    "    deviations.append(std)\n",
    "    medians.append(median)\n",
    "print(\"SingleStop 60:15 (45,15) batch size 1 lr=.0001\")\n",
    "plt.plot(factors,medians)\n",
    "print(medians)\n",
    "plt.show()\n",
    "plt.plot(factors,means)\n",
    "print(means)\n",
    "plt.show()\n",
    "plt.plot(factors,deviations)\n",
    "print(deviations)\n",
    "plt.show()"
   ]
  },
  {
   "cell_type": "code",
   "execution_count": 7,
   "metadata": {},
   "outputs": [
    {
     "name": "stdout",
     "output_type": "stream",
     "text": [
      "test\n",
      "0.0001\n",
      "1\n",
      "0.001\n",
      "1\n",
      "37.20020604133606\n",
      "inference\n",
      "0.02399277687072754\n",
      "tensor(0.9474)\n"
     ]
    },
    {
     "data": {
      "image/png": "[encoded data removed]",
      "text/plain": [
       "<Figure size 432x288 with 1 Axes>"
      ]
     },
     "metadata": {
      "needs_background": "light"
     },
     "output_type": "display_data"
    }
   ],
   "source": [
    "start=time.time()\n",
    "model=NeuralHDDev(9,257,1024,trainopt=2,bestinclass=True, multiencoder=True)\n",
    "model.fit(xtr,ytr,45,0,0,.0001,1)#45\n",
    "model.fit(xtr,ytr,6,4,0,.001,1)#6,4\n",
    "end=time.time()\n",
    "print(end-start)\n",
    "print(\"inference\")\n",
    "start=time.time()\n",
    "yhat=model(xte)\n",
    "end=time.time()\n",
    "print(end-start)\n",
    "eval=[yhat[i]==transy_test[i] for i in range(len(transy_test))]\n",
    "acc=sum(eval)/len(transy_test)\n",
    "print(acc)\n",
    "model.plot()"
   ]
  },
  {
   "cell_type": "code",
   "execution_count": 39,
   "metadata": {},
   "outputs": [
    {
     "name": "stdout",
     "output_type": "stream",
     "text": [
      "test\n",
      "0.0001\n",
      "64\n"
     ]
    },
    {
     "name": "stderr",
     "output_type": "stream",
     "text": [
      "/Users/bobbymissirian/Files/Research/Cybersecurity/Experiments/flexHD.py:61: UserWarning: An output with one or more elements was resized since it had shape [257, 2048], which does not match the required output shape [184, 2048].This behavior is deprecated, and in a future PyTorch release outputs will not be resized unless they have zero elements. You can explicitly reuse an out tensor t by resizing it, inplace, to zero elements with t.resize_(0). (Triggered internally at  ../aten/src/ATen/native/Resize.cpp:23.)\n",
      "  torch.matmul(x[i:i+bsize], self.basis.T, out=temp)\n"
     ]
    },
    {
     "name": "stdout",
     "output_type": "stream",
     "text": [
      "0.0001\n",
      "1\n",
      "27.688451051712036\n",
      "inference\n",
      "0.0501859188079834\n",
      "tensor(0.9599)\n"
     ]
    },
    {
     "name": "stderr",
     "output_type": "stream",
     "text": [
      "/Users/bobbymissirian/Files/Research/Cybersecurity/Experiments/flexHD.py:61: UserWarning: An output with one or more elements was resized since it had shape [257, 2048], which does not match the required output shape [147, 2048].This behavior is deprecated, and in a future PyTorch release outputs will not be resized unless they have zero elements. You can explicitly reuse an out tensor t by resizing it, inplace, to zero elements with t.resize_(0). (Triggered internally at  ../aten/src/ATen/native/Resize.cpp:23.)\n",
      "  torch.matmul(x[i:i+bsize], self.basis.T, out=temp)\n"
     ]
    },
    {
     "data": {
      "image/png": "[encoded data removed]",
      "text/plain": [
       "<Figure size 432x288 with 1 Axes>"
      ]
     },
     "metadata": {
      "needs_background": "light"
     },
     "output_type": "display_data"
    }
   ],
   "source": [
    "start=time.time()\n",
    "model=NeuralHDDev(9,257,2048,trainopt=2,bestinclass=True, multiencoder=True)\n",
    "model.fit(xtr,ytr,45,0,0,.0001,64,1)#45\n",
    "# model.fit(xtr,ytr,20,1,0,.0001,4,1)#45\n",
    "model.fit(xtr,ytr,15,1,0,.0001,1,1)#6,4\n",
    "# model.fit(xtr,ytr,6,1,0,.0001,64)#6,4\n",
    "end=time.time()\n",
    "print(end-start)\n",
    "print(\"inference\")\n",
    "start=time.time()\n",
    "yhat=model(xte)\n",
    "end=time.time()\n",
    "print(end-start)\n",
    "eval=[yhat[i]==transy_test[i] for i in range(len(transy_test))]\n",
    "acc=sum(eval)/len(transy_test)\n",
    "print(acc)\n",
    "model.plot()"
   ]
  },
  {
   "cell_type": "code",
   "execution_count": null,
   "metadata": {},
   "outputs": [],
   "source": []
  }
 ],
 "metadata": {
  "interpreter": {
   "hash": "aee8b7b246df8f9039afb4144a1f6fd8d2ca17a180786b69acc140d282b71a49"
  },
  "kernelspec": {
   "display_name": "Python 3.9.13 64-bit",
   "language": "python",
   "name": "python3"
  },
  "language_info": {
   "codemirror_mode": {
    "name": "ipython",
    "version": 3
   },
   "file_extension": ".py",
   "mimetype": "text/x-python",
   "name": "python",
   "nbconvert_exporter": "python",
   "pygments_lexer": "ipython3",
   "version": "3.9.13"
  },
  "orig_nbformat": 4
 },
 "nbformat": 4,
 "nbformat_minor": 2
}
