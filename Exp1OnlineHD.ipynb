{
 "cells": [
  {
   "cell_type": "code",
   "execution_count": 5,
   "metadata": {},
   "outputs": [],
   "source": [
    "from time import time\n",
    "\n",
    "import os\n",
    "import pandas as pd\n",
    "import numpy as np\n",
    "import matplotlib.pyplot as plt\n",
    "# import seaborn as sns\n",
    "import time\n",
    "import torch\n",
    "import sklearn.datasets\n",
    "import sklearn.preprocessing\n",
    "import sklearn.model_selection\n",
    "import numpy as np\n",
    "import math\n",
    "import matplotlib.pyplot as plt\n",
    "from torchvision.datasets import MNIST\n",
    "from torchvision.datasets import FashionMNIST as FMNIST\n",
    "from torchvision.datasets import EMNIST\n",
    "import torchvision.transforms as transforms\n",
    "import tensorflow as tf\n",
    "import random as r\n",
    "import matplotlib.pyplot as plt\n",
    "import numpy as np\n",
    "from tensorflow.keras import backend as K\n",
    "from tensorflow.keras.models import Sequential\n",
    "from tensorflow.keras.layers import Dense\n",
    "from tensorflow.keras.optimizers import Adam, SGD, Adagrad, Adadelta, RMSprop\n",
    "from tensorflow.keras.utils import to_categorical\n",
    "from tensorflow.keras.layers import Dropout, Flatten, Activation, BatchNormalization\n",
    "import sklearn\n",
    "from sklearn.discriminant_analysis import LinearDiscriminantAnalysis\n",
    "from sklearn.decomposition import PCA\n",
    "import time\n",
    "import sys\n",
    "import math\n",
    "import numpy as np\n",
    "import random\n",
    "import joblib\n",
    "from tqdm import tqdm_notebook\n",
    "import copy\n",
    "\n",
    "import Config\n",
    "import Dataloader as DL\n",
    "\n",
    "import matplotlib.pyplot as plt\n",
    "import warnings\n",
    "warnings.filterwarnings('ignore')"
   ]
  },
  {
   "cell_type": "code",
   "execution_count": 6,
   "metadata": {},
   "outputs": [],
   "source": [
    "datasets=[\n",
    "    \"KDD Cup 1999\",                            #0\n",
    "    \"Microsoft Challenge BIG 2015\"             #1\n",
    "]\n",
    "presets = {\n",
    "    \"KDD Cup 1999\": {\n",
    "        \"NeuralHD\": [300,2,3,.1],\n",
    "        \"OnlineHD\": [300,1.0,.1,30,True],\n",
    "        \"MLP\": [100,5,.001],\n",
    "        \"SVM\": [10000]\n",
    "    },\n",
    "    \"Microsoft Challenge BIG 2015\": {\n",
    "        \"NeuralHD\": [3000,6,10,.1],\n",
    "        \"OnlineHD\": [3000,1.0,.1,30,True],\n",
    "        \"MLP\": [100,30,.001],\n",
    "        \"SVM\": [None]\n",
    "    }\n",
    "}\n",
    "def normalized(x,y):\n",
    "    xtrain, x_test, ytrain, y_test = None,None,None,None\n",
    "    x, x_test, y, y_test = sklearn.model_selection.train_test_split(x, y, shuffle=True)\n",
    "    scaler = sklearn.preprocessing.Normalizer().fit(x)\n",
    "    x = scaler.transform(x)\n",
    "    x_test = scaler.transform(x_test)\n",
    "\n",
    "    # changes data to pytorch's tensors\n",
    "    x = torch.from_numpy(x).float()\n",
    "    y = torch.from_numpy(y).long()\n",
    "    x_test = torch.from_numpy(x_test).float()\n",
    "    y_test = torch.from_numpy(y_test).long()\n",
    "    return x.numpy(), x_test.numpy(), y.numpy(), y_test.numpy(), scaler\n",
    "def getuniquevalues(columnname,df):\n",
    "    values={}\n",
    "    i=0\n",
    "    for entry in df[columnname]:\n",
    "        if entry not in values:\n",
    "            values[entry]=i\n",
    "            i+=1\n",
    "    return values\n",
    "def get_dataset(name):\n",
    "    if name==datasets[0]:\n",
    "        path=\"../../Data/\"\n",
    "        attacks_types = {\n",
    "            'normal': 'normal','back': 'dos','buffer_overflow': 'u2r','ftp_write': 'r2l','guess_passwd': 'r2l',\n",
    "        'imap': 'r2l','ipsweep': 'probe','land': 'dos','loadmodule': 'u2r','multihop': 'r2l','neptune': 'dos',\n",
    "        'nmap': 'probe','perl': 'u2r','phf': 'r2l','pod': 'dos','portsweep': 'probe','rootkit': 'u2r','satan': 'probe',\n",
    "        'smurf': 'dos','spy': 'r2l','teardrop': 'dos','warezclient': 'r2l','warezmaster': 'r2l',\n",
    "        }\n",
    "        cols =\"\"\"duration,protocol_type,service,flag,src_bytes,dst_bytes,land,wrong_fragment,\n",
    "        urgent,hot,num_failed_logins,logged_in,num_compromised,root_shell,su_attempted,num_root,\n",
    "        num_file_creations,num_shells,num_access_files,num_outbound_cmds,is_host_login,is_guest_login,\n",
    "        count,srv_count,serror_rate,srv_serror_rate,rerror_rate,srv_rerror_rate,same_srv_rate,\n",
    "        diff_srv_rate,srv_diff_host_rate,dst_host_count,dst_host_srv_count,dst_host_same_srv_rate,\n",
    "        dst_host_diff_srv_rate,dst_host_same_src_port_rate,dst_host_srv_diff_host_rate,\n",
    "        dst_host_serror_rate,dst_host_srv_serror_rate,dst_host_rerror_rate,dst_host_srv_rerror_rate\"\"\"\n",
    "        \n",
    "        columns =[]\n",
    "        for c in cols.split(','):\n",
    "            if(c.strip()):\n",
    "                columns.append(c.strip())\n",
    "        print(len(columns))\n",
    "        columns.append('target')\n",
    "        print(len(columns))\n",
    "\n",
    "        attack_categories=[\"dos\",\"u2r\",\"r2l\",'probe','normal']\n",
    "        df = pd.read_csv(path+\"kddcup.data_10_percent.gz\", names = columns)\n",
    "        df['Attack Type'] = df.target.apply(lambda r:attacks_types[r[:-1]])\n",
    "        del df['target']\n",
    "        df.head()\n",
    "        num_cols = df._get_numeric_data().columns\n",
    "        \n",
    "        cate_cols = list(set(df.columns)-set(num_cols))\n",
    "        cate_cols.remove('Attack Type')\n",
    "        for col in cate_cols:\n",
    "            df[col]=df[col].map(getuniquevalues(col,df))\n",
    "        data=df.to_numpy()\n",
    "        Y=df['Attack Type'].map(getuniquevalues('Attack Type',df))\n",
    "        Y=Y.to_numpy()\n",
    "        X=data[:,:-1]\n",
    "        print(Y.shape)\n",
    "        print(X.shape)\n",
    "        print(getuniquevalues('Attack Type',df))\n",
    "        xtrain, x_test, ytrain, y_test,scaler= normalized(X,Y)\n",
    "    if name==datasets[1]:\n",
    "        path=\"../../Data/malware-classification/\"\n",
    "        map={}\n",
    "        mapping=pd.read_csv(path + \"trainLabels.csv\")\n",
    "        Y=mapping[\"Class\"].to_numpy()\n",
    "        for i in range(0,len(Y)):\n",
    "            map[mapping[\"Id\"][i]]=mapping[\"Class\"][i]-1\n",
    "        byte_features=pd.read_csv(path+\"result.csv\")\n",
    "        byte_features['ID']  = byte_features['ID'].str.split('.').str[0]\n",
    "        byte_features.head(3)\n",
    "        byte_features['ID']=byte_features['ID'].map(map)\n",
    "        data=byte_features.to_numpy()\n",
    "        X=data[:,1:]\n",
    "        Y=data[:,0]\n",
    "        xtrain, x_test, ytrain, y_test,scaler= normalized(X,Y)\n",
    "    return xtrain,x_test,ytrain,y_test"
   ]
  },
  {
   "cell_type": "code",
   "execution_count": 7,
   "metadata": {},
   "outputs": [],
   "source": [
    "datasetname=\"Microsoft Challenge BIG 2015\"\n",
    "\n",
    "xtrain,x_test,ytrain,y_test=get_dataset(datasetname)"
   ]
  },
  {
   "cell_type": "code",
   "execution_count": 8,
   "metadata": {},
   "outputs": [],
   "source": [
    "def get_class_accuracy_breakdown(model,x_test,y_test, output=False):\n",
    "    acc=[]\n",
    "    points=[]\n",
    "    try:\n",
    "        for i in range (0,len(np.unique(y_test))):\n",
    "            yhat= model.predict(x_test[y_test==i])\n",
    "            if len(yhat.shape)==2:\n",
    "                yhat=np.array([row.argmax() for row in yhat])\n",
    "            acc.append((yhat==i).mean())\n",
    "            points.append(len(yhat))\n",
    "    except:\n",
    "        for i in range (0,len(np.unique(y_test))):\n",
    "            yhat= model.predict(torch.from_numpy(x_test[y_test==i]))\n",
    "            acc.append((yhat==i).float().mean())\n",
    "            points.append(len(yhat))\n",
    "    # print(yhat[:30])\n",
    "    totacc=sum([acc[i]*points[i] for i in range(0,len(acc))])/sum(points)\n",
    "    if output:\n",
    "        plt.bar(range(0,len(acc)),acc,color=np.random.rand(3,))\n",
    "        plt.title(\"Accuracy Total: \" + str(totacc))\n",
    "        plt.show()\n",
    "    return totacc"
   ]
  },
  {
   "cell_type": "code",
   "execution_count": 9,
   "metadata": {},
   "outputs": [],
   "source": [
    "xtraintorch=torch.from_numpy(xtrain)\n",
    "ytraintorch=torch.from_numpy(ytrain)\n",
    "x_testtorch=torch.from_numpy(x_test)\n",
    "y_testtorch=torch.from_numpy(y_test)"
   ]
  },
  {
   "cell_type": "code",
   "execution_count": 12,
   "metadata": {},
   "outputs": [
    {
     "name": "stdout",
     "output_type": "stream",
     "text": [
      "tensor(0.8885)\n",
      "tensor(0.8848)\n",
      "tensor(0.8888)\n",
      "tensor(0.8822)\n",
      "tensor(0.8852)\n",
      "tensor(0.8771)\n",
      "tensor(0.8760)\n",
      "tensor(0.8896)\n",
      "tensor(0.8826)\n",
      "tensor(0.8866)\n"
     ]
    }
   ],
   "source": [
    "import onlinehd as Onlinehd\n",
    "import warnings\n",
    "for i in range(0,10):\n",
    "    model = Onlinehd.OnlineHD(len(np.unique(y_test)), x_test.shape[1], dim=1000)\n",
    "    model.fit(torch.from_numpy(xtrain),torch.from_numpy(ytrain), bootstrap=4, lr=.037, epochs=50, one_pass_fit=False)\n",
    "    print(get_class_accuracy_breakdown(model,x_test,y_test))"
   ]
  },
  {
   "cell_type": "code",
   "execution_count": 16,
   "metadata": {},
   "outputs": [
    {
     "name": "stdout",
     "output_type": "stream",
     "text": [
      "tensor(0.9179)\n",
      "tensor(0.9172)\n",
      "tensor(0.9323)\n",
      "tensor(0.9245)\n",
      "tensor(0.9297)\n",
      "tensor(0.9223)\n",
      "tensor(0.9242)\n",
      "tensor(0.9286)\n",
      "tensor(0.9326)\n",
      "tensor(0.9220)\n"
     ]
    }
   ],
   "source": [
    "import onlinehd as Onlinehd\n",
    "import warnings\n",
    "for i in range(0,10):\n",
    "    model = Onlinehd.OnlineHD(len(np.unique(y_test)), x_test.shape[1], dim=1000)\n",
    "    model.fit(torch.from_numpy(xtrain),torch.from_numpy(ytrain), bootstrap=16, lr=.037, epochs=50, one_pass_fit=False)\n",
    "    print(get_class_accuracy_breakdown(model,x_test,y_test))"
   ]
  },
  {
   "cell_type": "code",
   "execution_count": 19,
   "metadata": {},
   "outputs": [
    {
     "ename": "KeyboardInterrupt",
     "evalue": "",
     "output_type": "error",
     "traceback": [
      "\u001b[0;31m---------------------------------------------------------------------------\u001b[0m",
      "\u001b[0;31mKeyboardInterrupt\u001b[0m                         Traceback (most recent call last)",
      "\u001b[0;32m<ipython-input-19-51b22b5cffdf>\u001b[0m in \u001b[0;36m<module>\u001b[0;34m\u001b[0m\n\u001b[1;32m      3\u001b[0m \u001b[0;32mfor\u001b[0m \u001b[0mi\u001b[0m \u001b[0;32min\u001b[0m \u001b[0mrange\u001b[0m\u001b[0;34m(\u001b[0m\u001b[0;36m0\u001b[0m\u001b[0;34m,\u001b[0m\u001b[0;36m10\u001b[0m\u001b[0;34m)\u001b[0m\u001b[0;34m:\u001b[0m\u001b[0;34m\u001b[0m\u001b[0;34m\u001b[0m\u001b[0m\n\u001b[1;32m      4\u001b[0m     \u001b[0mmodel\u001b[0m \u001b[0;34m=\u001b[0m \u001b[0mOnlinehd\u001b[0m\u001b[0;34m.\u001b[0m\u001b[0mOnlineHD\u001b[0m\u001b[0;34m(\u001b[0m\u001b[0mlen\u001b[0m\u001b[0;34m(\u001b[0m\u001b[0mnp\u001b[0m\u001b[0;34m.\u001b[0m\u001b[0munique\u001b[0m\u001b[0;34m(\u001b[0m\u001b[0my_test\u001b[0m\u001b[0;34m)\u001b[0m\u001b[0;34m)\u001b[0m\u001b[0;34m,\u001b[0m \u001b[0mx_test\u001b[0m\u001b[0;34m.\u001b[0m\u001b[0mshape\u001b[0m\u001b[0;34m[\u001b[0m\u001b[0;36m1\u001b[0m\u001b[0;34m]\u001b[0m\u001b[0;34m,\u001b[0m \u001b[0mdim\u001b[0m\u001b[0;34m=\u001b[0m\u001b[0;36m1000\u001b[0m\u001b[0;34m)\u001b[0m\u001b[0;34m\u001b[0m\u001b[0;34m\u001b[0m\u001b[0m\n\u001b[0;32m----> 5\u001b[0;31m     \u001b[0mmodel\u001b[0m\u001b[0;34m.\u001b[0m\u001b[0mfit\u001b[0m\u001b[0;34m(\u001b[0m\u001b[0mtorch\u001b[0m\u001b[0;34m.\u001b[0m\u001b[0mfrom_numpy\u001b[0m\u001b[0;34m(\u001b[0m\u001b[0mxtrain\u001b[0m\u001b[0;34m)\u001b[0m\u001b[0;34m,\u001b[0m\u001b[0mtorch\u001b[0m\u001b[0;34m.\u001b[0m\u001b[0mfrom_numpy\u001b[0m\u001b[0;34m(\u001b[0m\u001b[0mytrain\u001b[0m\u001b[0;34m)\u001b[0m\u001b[0;34m,\u001b[0m \u001b[0mbootstrap\u001b[0m\u001b[0;34m=\u001b[0m\u001b[0;36m64\u001b[0m\u001b[0;34m,\u001b[0m \u001b[0mlr\u001b[0m\u001b[0;34m=\u001b[0m\u001b[0;36m.037\u001b[0m\u001b[0;34m,\u001b[0m \u001b[0mepochs\u001b[0m\u001b[0;34m=\u001b[0m\u001b[0;36m50\u001b[0m\u001b[0;34m,\u001b[0m \u001b[0mone_pass_fit\u001b[0m\u001b[0;34m=\u001b[0m\u001b[0;32mFalse\u001b[0m\u001b[0;34m)\u001b[0m\u001b[0;34m\u001b[0m\u001b[0;34m\u001b[0m\u001b[0m\n\u001b[0m\u001b[1;32m      6\u001b[0m     \u001b[0mprint\u001b[0m\u001b[0;34m(\u001b[0m\u001b[0mget_class_accuracy_breakdown\u001b[0m\u001b[0;34m(\u001b[0m\u001b[0mmodel\u001b[0m\u001b[0;34m,\u001b[0m\u001b[0mx_test\u001b[0m\u001b[0;34m,\u001b[0m\u001b[0my_test\u001b[0m\u001b[0;34m)\u001b[0m\u001b[0;34m)\u001b[0m\u001b[0;34m\u001b[0m\u001b[0;34m\u001b[0m\u001b[0m\n",
      "\u001b[0;32m~/Files/Research/Cybersecurity/onlinehd/onlinehd.py\u001b[0m in \u001b[0;36mfit\u001b[0;34m(self, x, y, encoded, lr, epochs, batch_size, one_pass_fit, bootstrap)\u001b[0m\n\u001b[1;32m    182\u001b[0m         \u001b[0;32mif\u001b[0m \u001b[0mone_pass_fit\u001b[0m\u001b[0;34m:\u001b[0m\u001b[0;34m\u001b[0m\u001b[0;34m\u001b[0m\u001b[0m\n\u001b[1;32m    183\u001b[0m             \u001b[0mself\u001b[0m\u001b[0;34m.\u001b[0m\u001b[0m_one_pass_fit\u001b[0m\u001b[0;34m(\u001b[0m\u001b[0mh\u001b[0m\u001b[0;34m,\u001b[0m \u001b[0my\u001b[0m\u001b[0;34m,\u001b[0m \u001b[0mlr\u001b[0m\u001b[0;34m,\u001b[0m \u001b[0mbootstrap\u001b[0m\u001b[0;34m)\u001b[0m\u001b[0;34m\u001b[0m\u001b[0;34m\u001b[0m\u001b[0m\n\u001b[0;32m--> 184\u001b[0;31m         \u001b[0mself\u001b[0m\u001b[0;34m.\u001b[0m\u001b[0m_iterative_fit\u001b[0m\u001b[0;34m(\u001b[0m\u001b[0mh\u001b[0m\u001b[0;34m,\u001b[0m \u001b[0my\u001b[0m\u001b[0;34m,\u001b[0m \u001b[0mlr\u001b[0m\u001b[0;34m,\u001b[0m \u001b[0mepochs\u001b[0m\u001b[0;34m,\u001b[0m \u001b[0mbootstrap\u001b[0m\u001b[0;34m)\u001b[0m\u001b[0;34m\u001b[0m\u001b[0;34m\u001b[0m\u001b[0m\n\u001b[0m\u001b[1;32m    185\u001b[0m         \u001b[0;32mreturn\u001b[0m \u001b[0mself\u001b[0m\u001b[0;34m\u001b[0m\u001b[0;34m\u001b[0m\u001b[0m\n\u001b[1;32m    186\u001b[0m \u001b[0;34m\u001b[0m\u001b[0m\n",
      "\u001b[0;32m~/Files/Research/Cybersecurity/onlinehd/onlinehd.py\u001b[0m in \u001b[0;36m_iterative_fit\u001b[0;34m(self, h, y, lr, epochs, batch_size)\u001b[0m\n\u001b[1;32m    257\u001b[0m                     \u001b[0mm2\u001b[0m \u001b[0;34m=\u001b[0m \u001b[0mwrong\u001b[0m \u001b[0;34m&\u001b[0m \u001b[0;34m(\u001b[0m\u001b[0my_pred\u001b[0m \u001b[0;34m==\u001b[0m \u001b[0mlbl\u001b[0m\u001b[0;34m)\u001b[0m \u001b[0;31m# mask of wrong preds\u001b[0m\u001b[0;34m\u001b[0m\u001b[0;34m\u001b[0m\u001b[0m\n\u001b[1;32m    258\u001b[0m                     \u001b[0mself\u001b[0m\u001b[0;34m.\u001b[0m\u001b[0mmodel\u001b[0m\u001b[0;34m[\u001b[0m\u001b[0mlbl\u001b[0m\u001b[0;34m]\u001b[0m \u001b[0;34m+=\u001b[0m \u001b[0mlr\u001b[0m\u001b[0;34m*\u001b[0m\u001b[0;34m(\u001b[0m\u001b[0malpha1\u001b[0m\u001b[0;34m[\u001b[0m\u001b[0mm1\u001b[0m\u001b[0;34m]\u001b[0m\u001b[0;34m*\u001b[0m\u001b[0mh_\u001b[0m\u001b[0;34m[\u001b[0m\u001b[0mm1\u001b[0m\u001b[0;34m]\u001b[0m\u001b[0;34m)\u001b[0m\u001b[0;34m.\u001b[0m\u001b[0msum\u001b[0m\u001b[0;34m(\u001b[0m\u001b[0;36m0\u001b[0m\u001b[0;34m)\u001b[0m\u001b[0;34m\u001b[0m\u001b[0;34m\u001b[0m\u001b[0m\n\u001b[0;32m--> 259\u001b[0;31m                     \u001b[0mself\u001b[0m\u001b[0;34m.\u001b[0m\u001b[0mmodel\u001b[0m\u001b[0;34m[\u001b[0m\u001b[0mlbl\u001b[0m\u001b[0;34m]\u001b[0m \u001b[0;34m+=\u001b[0m \u001b[0mlr\u001b[0m\u001b[0;34m*\u001b[0m\u001b[0;34m(\u001b[0m\u001b[0malpha2\u001b[0m\u001b[0;34m[\u001b[0m\u001b[0mm2\u001b[0m\u001b[0;34m]\u001b[0m\u001b[0;34m*\u001b[0m\u001b[0mh_\u001b[0m\u001b[0;34m[\u001b[0m\u001b[0mm2\u001b[0m\u001b[0;34m]\u001b[0m\u001b[0;34m)\u001b[0m\u001b[0;34m.\u001b[0m\u001b[0msum\u001b[0m\u001b[0;34m(\u001b[0m\u001b[0;36m0\u001b[0m\u001b[0;34m)\u001b[0m\u001b[0;34m\u001b[0m\u001b[0;34m\u001b[0m\u001b[0m\n\u001b[0m",
      "\u001b[0;31mKeyboardInterrupt\u001b[0m: "
     ]
    }
   ],
   "source": [
    "import onlinehd as Onlinehd\n",
    "import warnings\n",
    "for i in range(0,10):\n",
    "    model = Onlinehd.OnlineHD(len(np.unique(y_test)), x_test.shape[1], dim=1000)\n",
    "    model.fit(torch.from_numpy(xtrain),torch.from_numpy(ytrain), bootstrap=64, lr=.037, epochs=50, one_pass_fit=False)\n",
    "    print(get_class_accuracy_breakdown(model,x_test,y_test))"
   ]
  },
  {
   "cell_type": "code",
   "execution_count": 26,
   "metadata": {},
   "outputs": [
    {
     "name": "stdout",
     "output_type": "stream",
     "text": [
      "tensor(0.9525)\n",
      "tensor(0.9514)\n",
      "tensor(0.9496)\n",
      "tensor(0.9558)\n",
      "tensor(0.9485)\n",
      "tensor(0.9463)\n",
      "tensor(0.9382)\n",
      "tensor(0.9452)\n",
      "tensor(0.9529)\n",
      "tensor(0.9555)\n"
     ]
    }
   ],
   "source": [
    "import onlinehd as Onlinehd\n",
    "import warnings\n",
    "for i in range(0,10):\n",
    "    model = Onlinehd.OnlineHD(len(np.unique(y_test)), x_test.shape[1], dim=1000)\n",
    "    model.fit(torch.from_numpy(xtrain),torch.from_numpy(ytrain), encoded = False, lr = 3e-3, epochs = 128, bootstrap = 64, one_pass_fit = False)\n",
    "    print(get_class_accuracy_breakdown(model,x_test,y_test))"
   ]
  },
  {
   "cell_type": "code",
   "execution_count": 32,
   "metadata": {},
   "outputs": [
    {
     "name": "stdout",
     "output_type": "stream",
     "text": [
      "tensor(0.9529)\n",
      "tensor(0.9580)\n",
      "tensor(0.9566)\n",
      "tensor(0.9573)\n",
      "tensor(0.9533)\n",
      "tensor(0.9330)\n",
      "tensor(0.9488)\n",
      "tensor(0.9540)\n",
      "tensor(0.9544)\n",
      "tensor(0.9555)\n"
     ]
    }
   ],
   "source": [
    "for i in range(0,10):\n",
    "    model = Onlinehd.OnlineHD(len(np.unique(y_test)), x_test.shape[1], dim=1000)\n",
    "    for j in range(0,128):\n",
    "        model.fit(torch.from_numpy(xtrain),torch.from_numpy(ytrain), encoded = False, lr = 3e-3, epochs = 1, bootstrap = 64, one_pass_fit = False)\n",
    "    print(get_class_accuracy_breakdown(model,x_test,y_test))"
   ]
  },
  {
   "cell_type": "code",
   "execution_count": 55,
   "metadata": {},
   "outputs": [
    {
     "name": "stdout",
     "output_type": "stream",
     "text": [
      "tensor(0.9499)\n"
     ]
    }
   ],
   "source": [
    "accs=[]\n",
    "model = Onlinehd.OnlineHD(len(np.unique(y_test)), x_test.shape[1], dim=1000)\n",
    "for j in range(0,128):\n",
    "    model.fit(torch.from_numpy(xtrain),torch.from_numpy(ytrain), encoded = False, lr = 3e-3, epochs = 1, bootstrap = 64, one_pass_fit = False)\n",
    "    accs.append(float(get_class_accuracy_breakdown(model,x_test,y_test).unsqueeze(0)))\n",
    "print(get_class_accuracy_breakdown(model,x_test,y_test))"
   ]
  },
  {
   "cell_type": "code",
   "execution_count": 59,
   "metadata": {},
   "outputs": [
    {
     "data": {
      "text/plain": [
       "(8151, 257)"
      ]
     },
     "execution_count": 59,
     "metadata": {},
     "output_type": "execute_result"
    }
   ],
   "source": [
    "def split(xtrain,ytrain,num,div):\n",
    "    start=num-1*xtrain.size(0)/div\n",
    "    end=num*xtrain.size(0)/div\n",
    "    return xtrain2,ytrain2"
   ]
  },
  {
   "cell_type": "code",
   "execution_count": 56,
   "metadata": {},
   "outputs": [
    {
     "data": {
      "text/plain": [
       "[<matplotlib.lines.Line2D at 0x1acb47bb0>]"
      ]
     },
     "execution_count": 56,
     "metadata": {},
     "output_type": "execute_result"
    },
    {
     "data": {
      "image/png": "[encoded data removed]",
      "text/plain": [
       "<Figure size 432x288 with 1 Axes>"
      ]
     },
     "metadata": {
      "needs_background": "light"
     },
     "output_type": "display_data"
    }
   ],
   "source": [
    "plt.plot(range(0,128),accs)"
   ]
  }
 ],
 "metadata": {
  "interpreter": {
   "hash": "aee8b7b246df8f9039afb4144a1f6fd8d2ca17a180786b69acc140d282b71a49"
  },
  "kernelspec": {
   "display_name": "Python 3.9.13 64-bit",
   "language": "python",
   "name": "python3"
  },
  "language_info": {
   "codemirror_mode": {
    "name": "ipython",
    "version": 3
   },
   "file_extension": ".py",
   "mimetype": "text/x-python",
   "name": "python",
   "nbconvert_exporter": "python",
   "pygments_lexer": "ipython3",
   "version": "3.9.13"
  },
  "orig_nbformat": 4
 },
 "nbformat": 4,
 "nbformat_minor": 2
}
