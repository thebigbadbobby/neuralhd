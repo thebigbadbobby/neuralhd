{
 "cells": [
  {
   "cell_type": "code",
   "execution_count": 5,
   "id": "1510e5ef-247e-4270-b4cd-f234376fc1fa",
   "metadata": {},
   "outputs": [
    {
     "data": {
      "text/plain": [
       "<torch._C.Generator at 0x10d0c2810>"
      ]
     },
     "execution_count": 5,
     "metadata": {},
     "output_type": "execute_result"
    }
   ],
   "source": [
    "from time import time\n",
    "\n",
    "import torch\n",
    "import sklearn.datasets\n",
    "import sklearn.preprocessing\n",
    "import sklearn.model_selection\n",
    "import numpy as np\n",
    "import math\n",
    "import matplotlib.pyplot as plt\n",
    "\n",
    "from torchvision.datasets import MNIST\n",
    "from torchvision.datasets import FashionMNIST as FMNIST\n",
    "from torchvision.datasets import EMNIST\n",
    "import torchvision.transforms as transforms\n",
    "\n",
    "import onlinehd as Onlinehd\n",
    "\n",
    "SEED = 1234\n",
    "device = 'cuda' if torch.cuda.is_available() else 'cpu'\n",
    "np.random.seed(SEED)\n",
    "torch.manual_seed(SEED)"
   ]
  },
  {
   "cell_type": "markdown",
   "id": "cc94615f-19b3-461b-b412-25cb33476003",
   "metadata": {},
   "source": [
    "### Load Function MNIST(Digits), FMNIST, EMNIST(Letters)"
   ]
  },
  {
   "cell_type": "code",
   "execution_count": 6,
   "id": "01a7bbc3-4d2a-4486-b6bc-e817755c0d54",
   "metadata": {},
   "outputs": [],
   "source": [
    "# loads simple mnist dataset\n",
    "def load():\n",
    "    # fetches data\n",
    "    x, y = sklearn.datasets.fetch_openml('mnist_784', return_X_y=True)\n",
    "    x = x.astype(np.float)\n",
    "    y = y.astype(np.int)\n",
    "    y = np.array(y)\n",
    "    print(y)\n",
    "    # split and normalize\n",
    "    x, x_test, y, y_test = sklearn.model_selection.train_test_split(x, y)\n",
    "    scaler = sklearn.preprocessing.Normalizer().fit(x)\n",
    "    x = scaler.transform(x)\n",
    "    x_test = scaler.transform(x_test)\n",
    "\n",
    "    # changes data to pytorch's tensors\n",
    "    x = torch.from_numpy(x).float()\n",
    "    y = torch.from_numpy(y).long()\n",
    "    x_test = torch.from_numpy(x_test).float()\n",
    "    y_test = torch.from_numpy(y_test).long()\n",
    "\n",
    "    return x, x_test, y, y_test, scaler"
   ]
  },
  {
   "cell_type": "markdown",
   "id": "662ffa47-7828-46fc-a6d4-8050a6b5ed3c",
   "metadata": {},
   "source": [
    "# MNIST"
   ]
  },
  {
   "cell_type": "markdown",
   "id": "e4d4ffe6-95e7-467d-b08b-a6979e04b602",
   "metadata": {},
   "source": [
    "## Normalize\n",
    "\n",
    "OnlineHD is very sensitive to Normalize.\n",
    "Therefore, it should be applied"
   ]
  },
  {
   "cell_type": "code",
   "execution_count": 4,
   "id": "61a749b3-1c69-46b5-9795-55530a1ef0ed",
   "metadata": {
    "tags": []
   },
   "outputs": [
    {
     "name": "stdout",
     "output_type": "stream",
     "text": [
      "[5 0 4 ... 4 5 6]\n"
     ]
    }
   ],
   "source": [
    "x, x_test, y, y_test, scaler = load()"
   ]
  },
  {
   "cell_type": "code",
   "execution_count": 7,
   "id": "2d2fce3d-ec6d-4807-8b6d-ed8e866a9d80",
   "metadata": {},
   "outputs": [],
   "source": [
    "x = x.reshape(-1, 784)\n",
    "x_test = x_test.reshape(-1, 784)\n",
    "\n",
    "scaler = sklearn.preprocessing.Normalizer().fit(x.reshape(-1, 784))\n",
    "x = torch.tensor(scaler.transform(x.reshape(-1, 784)))\n",
    "x_test = torch.tensor(scaler.transform(x_test.reshape(-1, 784)))"
   ]
  },
  {
   "cell_type": "code",
   "execution_count": 14,
   "id": "9d97797a-e6f0-47fe-98c7-40f5ee85afb6",
   "metadata": {},
   "outputs": [
    {
     "name": "stdout",
     "output_type": "stream",
     "text": [
      "<class 'torch.Tensor'>\n",
      "torch.Size([52500, 784])\n",
      "tensor([0, 1, 2, 3, 4, 5, 6, 7, 8, 9])\n",
      "784\n",
      "Training...\n",
      "torch.Size([52500, 784])\n"
     ]
    },
    {
     "ename": "KeyboardInterrupt",
     "evalue": "",
     "output_type": "error",
     "traceback": [
      "\u001b[0;31m---------------------------------------------------------------------------\u001b[0m",
      "\u001b[0;31mKeyboardInterrupt\u001b[0m                         Traceback (most recent call last)",
      "\u001b[0;32m<ipython-input-14-9cbd3a007dfe>\u001b[0m in \u001b[0;36m<module>\u001b[0;34m\u001b[0m\n\u001b[1;32m     18\u001b[0m \u001b[0mt\u001b[0m \u001b[0;34m=\u001b[0m \u001b[0mtime\u001b[0m\u001b[0;34m(\u001b[0m\u001b[0;34m)\u001b[0m\u001b[0;34m\u001b[0m\u001b[0;34m\u001b[0m\u001b[0m\n\u001b[1;32m     19\u001b[0m \u001b[0mprint\u001b[0m\u001b[0;34m(\u001b[0m\u001b[0mx\u001b[0m\u001b[0;34m.\u001b[0m\u001b[0mshape\u001b[0m\u001b[0;34m)\u001b[0m\u001b[0;34m\u001b[0m\u001b[0;34m\u001b[0m\u001b[0m\n\u001b[0;32m---> 20\u001b[0;31m \u001b[0mmodel\u001b[0m \u001b[0;34m=\u001b[0m \u001b[0mmodel\u001b[0m\u001b[0;34m.\u001b[0m\u001b[0mfit\u001b[0m\u001b[0;34m(\u001b[0m\u001b[0mx\u001b[0m\u001b[0;34m,\u001b[0m \u001b[0my\u001b[0m\u001b[0;34m,\u001b[0m \u001b[0mbootstrap\u001b[0m\u001b[0;34m=\u001b[0m\u001b[0;36m1.0\u001b[0m\u001b[0;34m,\u001b[0m \u001b[0mlr\u001b[0m\u001b[0;34m=\u001b[0m\u001b[0;36m0.035\u001b[0m\u001b[0;34m,\u001b[0m \u001b[0mepochs\u001b[0m\u001b[0;34m=\u001b[0m\u001b[0;36m20\u001b[0m\u001b[0;34m)\u001b[0m\u001b[0;34m\u001b[0m\u001b[0;34m\u001b[0m\u001b[0m\n\u001b[0m\u001b[1;32m     21\u001b[0m \u001b[0mt\u001b[0m \u001b[0;34m=\u001b[0m \u001b[0mtime\u001b[0m\u001b[0;34m(\u001b[0m\u001b[0;34m)\u001b[0m \u001b[0;34m-\u001b[0m \u001b[0mt\u001b[0m\u001b[0;34m\u001b[0m\u001b[0;34m\u001b[0m\u001b[0m\n",
      "\u001b[0;32m~/Files/Research/Cybersecurity/onlinehd/onlinehd.py\u001b[0m in \u001b[0;36mfit\u001b[0;34m(self, x, y, encoded, lr, epochs, batch_size, one_pass_fit, bootstrap)\u001b[0m\n\u001b[1;32m    179\u001b[0m         '''\n\u001b[1;32m    180\u001b[0m \u001b[0;34m\u001b[0m\u001b[0m\n\u001b[0;32m--> 181\u001b[0;31m         \u001b[0mh\u001b[0m \u001b[0;34m=\u001b[0m \u001b[0mx\u001b[0m \u001b[0;32mif\u001b[0m \u001b[0mencoded\u001b[0m \u001b[0;32melse\u001b[0m \u001b[0mself\u001b[0m\u001b[0;34m.\u001b[0m\u001b[0mencode\u001b[0m\u001b[0;34m(\u001b[0m\u001b[0mx\u001b[0m\u001b[0;34m)\u001b[0m\u001b[0;34m\u001b[0m\u001b[0;34m\u001b[0m\u001b[0m\n\u001b[0m\u001b[1;32m    182\u001b[0m         \u001b[0;32mif\u001b[0m \u001b[0mone_pass_fit\u001b[0m\u001b[0;34m:\u001b[0m\u001b[0;34m\u001b[0m\u001b[0;34m\u001b[0m\u001b[0m\n\u001b[1;32m    183\u001b[0m             \u001b[0mself\u001b[0m\u001b[0;34m.\u001b[0m\u001b[0m_one_pass_fit\u001b[0m\u001b[0;34m(\u001b[0m\u001b[0mh\u001b[0m\u001b[0;34m,\u001b[0m \u001b[0my\u001b[0m\u001b[0;34m,\u001b[0m \u001b[0mlr\u001b[0m\u001b[0;34m,\u001b[0m \u001b[0mbootstrap\u001b[0m\u001b[0;34m)\u001b[0m\u001b[0;34m\u001b[0m\u001b[0;34m\u001b[0m\u001b[0m\n",
      "\u001b[0;32m~/Files/Research/Cybersecurity/onlinehd/onlinehd.py\u001b[0m in \u001b[0;36mencode\u001b[0;34m(self, x)\u001b[0m\n\u001b[1;32m    129\u001b[0m         '''\n\u001b[1;32m    130\u001b[0m \u001b[0;34m\u001b[0m\u001b[0m\n\u001b[0;32m--> 131\u001b[0;31m         \u001b[0;32mreturn\u001b[0m \u001b[0mself\u001b[0m\u001b[0;34m.\u001b[0m\u001b[0mencoder\u001b[0m\u001b[0;34m(\u001b[0m\u001b[0mx\u001b[0m\u001b[0;34m)\u001b[0m\u001b[0;34m\u001b[0m\u001b[0;34m\u001b[0m\u001b[0m\n\u001b[0m\u001b[1;32m    132\u001b[0m \u001b[0;34m\u001b[0m\u001b[0m\n\u001b[1;32m    133\u001b[0m     def fit(self,\n",
      "\u001b[0;32m~/Files/Research/Cybersecurity/onlinehd/encoder.py\u001b[0m in \u001b[0;36m__call__\u001b[0;34m(self, x)\u001b[0m\n\u001b[1;32m     59\u001b[0m         \u001b[0;31m# we need batches to remove memory usage\u001b[0m\u001b[0;34m\u001b[0m\u001b[0;34m\u001b[0m\u001b[0m\n\u001b[1;32m     60\u001b[0m         \u001b[0;32mfor\u001b[0m \u001b[0mi\u001b[0m \u001b[0;32min\u001b[0m \u001b[0mrange\u001b[0m\u001b[0;34m(\u001b[0m\u001b[0;36m0\u001b[0m\u001b[0;34m,\u001b[0m \u001b[0mn\u001b[0m\u001b[0;34m,\u001b[0m \u001b[0mbsize\u001b[0m\u001b[0;34m)\u001b[0m\u001b[0;34m:\u001b[0m\u001b[0;34m\u001b[0m\u001b[0;34m\u001b[0m\u001b[0m\n\u001b[0;32m---> 61\u001b[0;31m             \u001b[0mtorch\u001b[0m\u001b[0;34m.\u001b[0m\u001b[0mmatmul\u001b[0m\u001b[0;34m(\u001b[0m\u001b[0mx\u001b[0m\u001b[0;34m[\u001b[0m\u001b[0mi\u001b[0m\u001b[0;34m:\u001b[0m\u001b[0mi\u001b[0m\u001b[0;34m+\u001b[0m\u001b[0mbsize\u001b[0m\u001b[0;34m]\u001b[0m\u001b[0;34m,\u001b[0m \u001b[0mself\u001b[0m\u001b[0;34m.\u001b[0m\u001b[0mbasis\u001b[0m\u001b[0;34m.\u001b[0m\u001b[0mT\u001b[0m\u001b[0;34m,\u001b[0m \u001b[0mout\u001b[0m\u001b[0;34m=\u001b[0m\u001b[0mtemp\u001b[0m\u001b[0;34m)\u001b[0m\u001b[0;34m\u001b[0m\u001b[0;34m\u001b[0m\u001b[0m\n\u001b[0m\u001b[1;32m     62\u001b[0m             \u001b[0mtorch\u001b[0m\u001b[0;34m.\u001b[0m\u001b[0madd\u001b[0m\u001b[0;34m(\u001b[0m\u001b[0mtemp\u001b[0m\u001b[0;34m,\u001b[0m \u001b[0mself\u001b[0m\u001b[0;34m.\u001b[0m\u001b[0mbase\u001b[0m\u001b[0;34m,\u001b[0m \u001b[0mout\u001b[0m\u001b[0;34m=\u001b[0m\u001b[0mh\u001b[0m\u001b[0;34m[\u001b[0m\u001b[0mi\u001b[0m\u001b[0;34m:\u001b[0m\u001b[0mi\u001b[0m\u001b[0;34m+\u001b[0m\u001b[0mbsize\u001b[0m\u001b[0;34m]\u001b[0m\u001b[0;34m)\u001b[0m\u001b[0;34m\u001b[0m\u001b[0;34m\u001b[0m\u001b[0m\n\u001b[1;32m     63\u001b[0m             \u001b[0mh\u001b[0m\u001b[0;34m[\u001b[0m\u001b[0mi\u001b[0m\u001b[0;34m:\u001b[0m\u001b[0mi\u001b[0m\u001b[0;34m+\u001b[0m\u001b[0mbsize\u001b[0m\u001b[0;34m]\u001b[0m\u001b[0;34m.\u001b[0m\u001b[0mcos_\u001b[0m\u001b[0;34m(\u001b[0m\u001b[0;34m)\u001b[0m\u001b[0;34m.\u001b[0m\u001b[0mmul_\u001b[0m\u001b[0;34m(\u001b[0m\u001b[0mtemp\u001b[0m\u001b[0;34m.\u001b[0m\u001b[0msin_\u001b[0m\u001b[0;34m(\u001b[0m\u001b[0;34m)\u001b[0m\u001b[0;34m)\u001b[0m\u001b[0;34m\u001b[0m\u001b[0;34m\u001b[0m\u001b[0m\n",
      "\u001b[0;31mKeyboardInterrupt\u001b[0m: "
     ]
    }
   ],
   "source": [
    "print(type(y))\n",
    "print(x.shape)\n",
    "classes = y.unique().size(0)\n",
    "print(y.unique())\n",
    "features = x.size(1)\n",
    "print(features)\n",
    "model = Onlinehd.OnlineHD(classes, features, dim=10000)\n",
    "\n",
    "if torch.cuda.is_available():\n",
    "    x = x.cuda()\n",
    "    y = y.cuda()\n",
    "    x_test = x_test.cuda()\n",
    "    y_test = y_test.cuda()\n",
    "    model = model.to('cuda')\n",
    "    print('Using GPU!')\n",
    "\n",
    "print('Training...')\n",
    "t = time()\n",
    "print(x.shape)\n",
    "model = model.fit(x, y, bootstrap=1.0, lr=0.035, epochs=20)\n",
    "t = time() - t"
   ]
  },
  {
   "cell_type": "code",
   "execution_count": 8,
   "id": "0d4dfe5d-1970-4c5a-8b9b-8347060c4521",
   "metadata": {},
   "outputs": [
    {
     "name": "stdout",
     "output_type": "stream",
     "text": [
      "Validating...\n",
      "acc = 0.945410\n",
      "acc_test = 0.935429\n",
      "t = 22.263634\n"
     ]
    }
   ],
   "source": [
    "print('Validating...')\n",
    "yhat = model(x)\n",
    "yhat_test = model(x_test)\n",
    "acc = (y == yhat).float().mean()\n",
    "acc_test = (y_test == yhat_test).float().mean()\n",
    "print(f'{acc = :6f}')\n",
    "print(f'{acc_test = :6f}')\n",
    "print(f'{t = :6f}')"
   ]
  },
  {
   "cell_type": "markdown",
   "id": "9653f102-7a99-4c9b-9999-858c938e8311",
   "metadata": {},
   "source": [
    "# Generate FGSM"
   ]
  },
  {
   "cell_type": "code",
   "execution_count": 8,
   "id": "eadb915f-afeb-453c-b8fe-919131cb16f5",
   "metadata": {},
   "outputs": [],
   "source": [
    "def fgsm_attack(x_original, epsilon, gradient):\n",
    "    # Get Gradient sign\n",
    "    grad_sign = gradient.sign()\n",
    "    # Add epsilon*grad_sign perturbation to the original input\n",
    "    perturbation = epsilon*grad_sign\n",
    "    x_perturbed = x_original + perturbation\n",
    "    return x_perturbed, perturbation"
   ]
  },
  {
   "cell_type": "code",
   "execution_count": 9,
   "id": "4511336d-55e5-4363-8144-e6319afe9999",
   "metadata": {},
   "outputs": [],
   "source": [
    "import torch.nn as nn\n",
    "import time\n",
    "\n",
    "epsilons = torch.Tensor([0.01, 0.03, 0.07, 0.1])\n",
    "acc_results_non = dict()\n",
    "verbose = False\n",
    "criterion = nn.CosineEmbeddingLoss()\n",
    "N_VAL_SAMPLES = x_test.data.shape[0]"
   ]
  },
  {
   "cell_type": "code",
   "execution_count": 10,
   "id": "894c50ea-0579-40e5-879c-783b246305aa",
   "metadata": {},
   "outputs": [
    {
     "data": {
      "text/plain": [
       "<matplotlib.image.AxesImage at 0x7f8448d93df0>"
      ]
     },
     "execution_count": 10,
     "metadata": {},
     "output_type": "execute_result"
    },
    {
     "data": {
      "image/png": "[encoded data removed]",
      "text/plain": [
       "<Figure size 432x288 with 1 Axes>"
      ]
     },
     "metadata": {
      "needs_background": "light"
     },
     "output_type": "display_data"
    }
   ],
   "source": [
    "plt.imshow(x_test[-1].reshape(28, 28), cmap='gray')"
   ]
  },
  {
   "cell_type": "code",
   "execution_count": 13,
   "id": "2ba8c2d3-a652-434b-9bdc-961e550b8d29",
   "metadata": {
    "tags": []
   },
   "outputs": [
    {
     "name": "stderr",
     "output_type": "stream",
     "text": [
      "100%|█████████████████████████████████████| 17500/17500 [02:59<00:00, 97.59it/s]\n"
     ]
    },
    {
     "data": {
      "image/png": "[encoded data removed]",
      "text/plain": [
       "<Figure size 432x288 with 2 Axes>"
      ]
     },
     "metadata": {
      "needs_background": "light"
     },
     "output_type": "display_data"
    },
    {
     "name": "stdout",
     "output_type": "stream",
     "text": [
      "\n",
      "FGSM Attack with epsilon = 0.01000 | Elapsed time: 179.50 seconds.\n",
      "Accuracy: Before the attack -> 93.54%\t|\tAfter the attack -> 91.54%\n"
     ]
    },
    {
     "name": "stderr",
     "output_type": "stream",
     "text": [
      "100%|████████████████████████████████████| 17500/17500 [02:48<00:00, 103.63it/s]\n"
     ]
    },
    {
     "data": {
      "image/png": "[encoded data removed]",
      "text/plain": [
       "<Figure size 432x288 with 2 Axes>"
      ]
     },
     "metadata": {
      "needs_background": "light"
     },
     "output_type": "display_data"
    },
    {
     "name": "stdout",
     "output_type": "stream",
     "text": [
      "\n",
      "FGSM Attack with epsilon = 0.03000 | Elapsed time: 169.03 seconds.\n",
      "Accuracy: Before the attack -> 93.54%\t|\tAfter the attack -> 27.53%\n"
     ]
    },
    {
     "name": "stderr",
     "output_type": "stream",
     "text": [
      "100%|████████████████████████████████████| 17500/17500 [02:45<00:00, 105.88it/s]\n"
     ]
    },
    {
     "data": {
      "image/png": "[encoded data removed]",
      "text/plain": [
       "<Figure size 432x288 with 2 Axes>"
      ]
     },
     "metadata": {
      "needs_background": "light"
     },
     "output_type": "display_data"
    },
    {
     "name": "stdout",
     "output_type": "stream",
     "text": [
      "\n",
      "FGSM Attack with epsilon = 0.07000 | Elapsed time: 165.42 seconds.\n",
      "Accuracy: Before the attack -> 93.54%\t|\tAfter the attack -> 9.14%\n"
     ]
    },
    {
     "name": "stderr",
     "output_type": "stream",
     "text": [
      "100%|████████████████████████████████████| 17500/17500 [02:39<00:00, 109.42it/s]\n"
     ]
    },
    {
     "data": {
      "image/png": "[encoded data removed]",
      "text/plain": [
       "<Figure size 432x288 with 2 Axes>"
      ]
     },
     "metadata": {
      "needs_background": "light"
     },
     "output_type": "display_data"
    },
    {
     "name": "stdout",
     "output_type": "stream",
     "text": [
      "\n",
      "FGSM Attack with epsilon = 0.10000 | Elapsed time: 160.12 seconds.\n",
      "Accuracy: Before the attack -> 93.54%\t|\tAfter the attack -> 9.02%\n"
     ]
    }
   ],
   "source": [
    "from tqdm import tqdm\n",
    "\n",
    "attack_sample = {'0.01':torch.zeros(17500, 28, 28),\n",
    "                 '0.03':torch.zeros(17500, 28, 28),\n",
    "                 '0.07':torch.zeros(17500, 28, 28),\n",
    "                 '0.1':torch.zeros(17500, 28, 28)}\n",
    "\n",
    "for eps in epsilons:\n",
    "    correct_unperturbed = 0\n",
    "    correct_perturbed = 0\n",
    "    t0 = time.perf_counter()\n",
    "\n",
    "    attack = torch.zeros(17500, 28, 28)\n",
    "    labels = torch.zeros(17500)\n",
    "    for j in tqdm(range(len(x_test))):\n",
    "    ### NOTE: IT WOULD BE MORE EFFICIENT TO ITERATE ONLY ONCE THROUGH THE DATA AND PERFORM ALL THE ATTACKS\n",
    "        x_origin, y_target = x_test[j], y_test[j]\n",
    "        x_origin, y_target = x_origin.to(device), y_target.to(device)\n",
    "        x_origin.requires_grad = True\n",
    "\n",
    "        y_pred = model(x_origin.reshape(-1, 784))\n",
    "        \n",
    "        if y_pred == y_target:\n",
    "            correct_unperturbed += 1\n",
    "            \n",
    "        label = torch.ones(classes, dtype=int) * -1\n",
    "        label[y_target.item()] = 1\n",
    "        # Calculate loss and gradient\n",
    "        output = model.encode(x_origin.reshape(-1, 784))\n",
    "        loss = criterion(output, model.model, label)\n",
    "        grad = torch.autograd.grad(outputs=loss, inputs=x_origin)[0]\n",
    "\n",
    "        perturbed_x, _ = fgsm_attack(x_origin, epsilon=eps, gradient=grad)\n",
    "        perturbed_output = model(perturbed_x.reshape(-1, 784))            \n",
    "\n",
    "        if perturbed_output == y_target:\n",
    "            correct_perturbed += 1\n",
    "        \n",
    "        attack[j] = perturbed_x.reshape(28, 28)\n",
    "        labels[j] = y_target\n",
    "        \n",
    "    if eps == 0.1:\n",
    "        attack_sample['0.1'] = attack\n",
    "    elif eps == 0.07:\n",
    "        attack_sample['0.07'] = attack\n",
    "    elif eps == 0.03:\n",
    "        attack_sample['0.03'] = attack\n",
    "    else:\n",
    "        attack_sample['0.01'] = attack                \n",
    "        \n",
    "    plt.imshow(perturbed_x.detach().numpy().reshape(28, 28), cmap='gray')\n",
    "    plt.colorbar()\n",
    "    plt.show()\n",
    "    acc_before_attack = correct_unperturbed / N_VAL_SAMPLES\n",
    "    acc_after_attack = correct_perturbed / N_VAL_SAMPLES\n",
    "    print(f'\\nFGSM Attack with epsilon = {eps:.5f} | Elapsed time: {time.perf_counter() - t0:.2f} seconds.')\n",
    "    print(f'Accuracy: Before the attack -> {100 * acc_before_attack:.2f}%\\t|\\tAfter the attack -> {100 * acc_after_attack:.2f}%')\n",
    "    acc_results_non[eps.item()] = acc_after_attack\n",
    "acc_results_non[0] = acc_before_attack"
   ]
  },
  {
   "cell_type": "code",
   "execution_count": 14,
   "id": "a043a5e3-7502-48db-a085-6ec9e8afa6ea",
   "metadata": {},
   "outputs": [],
   "source": [
    "import pickle \n",
    "\n",
    "data = {'data' : attack_sample,\n",
    "        'label' : labels}\n",
    "\n",
    "with open('MNIST_FGSM_HD.pickle', 'wb') as f:\n",
    "    pickle.dump(data, f)"
   ]
  },
  {
   "cell_type": "code",
   "execution_count": 15,
   "id": "9814edc6-4556-4118-bdda-d04067182f03",
   "metadata": {},
   "outputs": [],
   "source": [
    "for eps in attack_sample.keys():\n",
    "    attack_norm = attack_sample[eps].detach().numpy().reshape(-1, 784)\n",
    "    attack_norm = scaler.transform(attack_norm)\n",
    "    attack_sample[eps] = torch.from_numpy(attack_norm).float()"
   ]
  },
  {
   "cell_type": "code",
   "execution_count": 16,
   "id": "cf006171-061d-4986-8b5c-886c1247d519",
   "metadata": {},
   "outputs": [
    {
     "data": {
      "text/plain": [
       "<matplotlib.colorbar.Colorbar at 0x7f844a75b670>"
      ]
     },
     "execution_count": 16,
     "metadata": {},
     "output_type": "execute_result"
    },
    {
     "data": {
      "image/png": "[encoded data removed]",
      "text/plain": [
       "<Figure size 432x288 with 2 Axes>"
      ]
     },
     "metadata": {
      "needs_background": "light"
     },
     "output_type": "display_data"
    }
   ],
   "source": [
    "plt.imshow(attack_sample['0.01'][-1].reshape(28, 28), cmap='gray')\n",
    "plt.colorbar()"
   ]
  },
  {
   "cell_type": "code",
   "execution_count": 17,
   "id": "86819470-9c6c-4d76-8e78-60b32380bc68",
   "metadata": {},
   "outputs": [
    {
     "name": "stdout",
     "output_type": "stream",
     "text": [
      "Validating...\n",
      "acc = 0.945410\n",
      "acc_test = 0.935429\n",
      "acc_attack_001 = 0.920343\n",
      "acc_attack_003 = 0.832457\n",
      "acc_attack_007 = 0.420971\n",
      "acc_attack_010 = 0.301771\n"
     ]
    }
   ],
   "source": [
    "print('Validating...')\n",
    "yhat = model(x)\n",
    "yhat_test = model(x_test)\n",
    "yhat_attack_001 = model(attack_sample['0.01'])\n",
    "yhat_attack_003 = model(attack_sample['0.03'])\n",
    "yhat_attack_007 = model(attack_sample['0.07'])\n",
    "yhat_attack_010 = model(attack_sample['0.1'])\n",
    "\n",
    "acc = (y == yhat).float().mean()\n",
    "acc_test = (y_test == yhat_test).float().mean()\n",
    "acc_attack_001 = (labels == yhat_attack_001).float().mean()\n",
    "acc_attack_003 = (labels == yhat_attack_003).float().mean()\n",
    "acc_attack_007 = (labels == yhat_attack_007).float().mean()\n",
    "acc_attack_010 = (labels == yhat_attack_010).float().mean()\n",
    "\n",
    "print(f'{acc = :6f}')\n",
    "print(f'{acc_test = :6f}')\n",
    "print(f'{acc_attack_001 = :6f}')\n",
    "print(f'{acc_attack_003 = :6f}')\n",
    "print(f'{acc_attack_007 = :6f}')\n",
    "print(f'{acc_attack_010 = :6f}')"
   ]
  },
  {
   "cell_type": "code",
   "execution_count": null,
   "id": "d393ef99-ee8d-49b7-accb-f5c218cee077",
   "metadata": {},
   "outputs": [],
   "source": []
  }
 ],
 "metadata": {
  "interpreter": {
   "hash": "aee8b7b246df8f9039afb4144a1f6fd8d2ca17a180786b69acc140d282b71a49"
  },
  "kernelspec": {
   "display_name": "Python 3.9.13 64-bit",
   "language": "python",
   "name": "python3"
  },
  "language_info": {
   "codemirror_mode": {
    "name": "ipython",
    "version": 3
   },
   "file_extension": ".py",
   "mimetype": "text/x-python",
   "name": "python",
   "nbconvert_exporter": "python",
   "pygments_lexer": "ipython3",
   "version": "3.9.13"
  }
 },
 "nbformat": 4,
 "nbformat_minor": 5
}
