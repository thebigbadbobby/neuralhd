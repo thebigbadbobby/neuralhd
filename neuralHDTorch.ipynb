{
 "cells": [
  {
   "cell_type": "code",
   "execution_count": 2,
   "metadata": {},
   "outputs": [],
   "source": [
    "from time import time\n",
    "\n",
    "import os\n",
    "import pandas as pd\n",
    "import numpy as np\n",
    "import matplotlib.pyplot as plt\n",
    "# import seaborn as sns\n",
    "import time\n",
    "import torch\n",
    "import sklearn.datasets\n",
    "import sklearn.preprocessing\n",
    "import sklearn.model_selection\n",
    "import numpy as np\n",
    "import math\n",
    "import matplotlib.pyplot as plt\n",
    "from torchvision.datasets import MNIST\n",
    "from torchvision.datasets import FashionMNIST as FMNIST\n",
    "from torchvision.datasets import EMNIST\n",
    "import torchvision.transforms as transforms\n",
    "import tensorflow as tf\n",
    "import random as r\n",
    "import matplotlib.pyplot as plt\n",
    "import numpy as np\n",
    "from tensorflow.keras import backend as K\n",
    "from tensorflow.keras.models import Sequential\n",
    "from tensorflow.keras.layers import Dense\n",
    "from tensorflow.keras.optimizers import Adam, SGD, Adagrad, Adadelta, RMSprop\n",
    "from tensorflow.keras.utils import to_categorical\n",
    "from tensorflow.keras.layers import Dropout, Flatten, Activation, BatchNormalization\n",
    "import sklearn\n",
    "from sklearn.discriminant_analysis import LinearDiscriminantAnalysis\n",
    "from sklearn.decomposition import PCA\n",
    "import time\n",
    "import sys\n",
    "import math\n",
    "import numpy as np\n",
    "import random\n",
    "import joblib\n",
    "from tqdm import tqdm_notebook\n",
    "import copy\n",
    "\n",
    "import Config\n",
    "import Dataloader as DL\n",
    "\n",
    "import matplotlib.pyplot as plt\n",
    "import warnings\n",
    "warnings.filterwarnings('ignore')"
   ]
  },
  {
   "cell_type": "code",
   "execution_count": 3,
   "metadata": {},
   "outputs": [],
   "source": [
    "datasets=[\n",
    "    \"KDD Cup 1999\",                            #0\n",
    "    \"Microsoft Challenge BIG 2015\"             #1\n",
    "]\n",
    "presets = {\n",
    "    \"KDD Cup 1999\": {\n",
    "        \"NeuralHD\": [300,2,3,.1],\n",
    "        \"OnlineHD\": [300,1.0,.1,30,True],\n",
    "        \"MLP\": [100,5,.001],\n",
    "        \"SVM\": [10000]\n",
    "    },\n",
    "    \"Microsoft Challenge BIG 2015\": {\n",
    "        \"NeuralHD\": [3000,6,10,.1],\n",
    "        \"OnlineHD\": [3000,1.0,.1,30,True],\n",
    "        \"MLP\": [100,30,.001],\n",
    "        \"SVM\": [None]\n",
    "    }\n",
    "}\n",
    "def normalized(x,y):\n",
    "    xtrain, x_test, ytrain, y_test = None,None,None,None\n",
    "    x, x_test, y, y_test = sklearn.model_selection.train_test_split(x, y, shuffle=True)\n",
    "    scaler = sklearn.preprocessing.Normalizer().fit(x)\n",
    "    x = scaler.transform(x)\n",
    "    x_test = scaler.transform(x_test)\n",
    "\n",
    "    # changes data to pytorch's tensors\n",
    "    x = torch.from_numpy(x).float()\n",
    "    y = torch.from_numpy(y).long()\n",
    "    x_test = torch.from_numpy(x_test).float()\n",
    "    y_test = torch.from_numpy(y_test).long()\n",
    "    return x.numpy(), x_test.numpy(), y.numpy(), y_test.numpy(), scaler\n",
    "def getuniquevalues(columnname,df):\n",
    "    values={}\n",
    "    i=0\n",
    "    for entry in df[columnname]:\n",
    "        if entry not in values:\n",
    "            values[entry]=i\n",
    "            i+=1\n",
    "    return values\n",
    "def get_dataset(name):\n",
    "    if name==datasets[0]:\n",
    "        path=\"../../Data/\"\n",
    "        attacks_types = {\n",
    "            'normal': 'normal','back': 'dos','buffer_overflow': 'u2r','ftp_write': 'r2l','guess_passwd': 'r2l',\n",
    "        'imap': 'r2l','ipsweep': 'probe','land': 'dos','loadmodule': 'u2r','multihop': 'r2l','neptune': 'dos',\n",
    "        'nmap': 'probe','perl': 'u2r','phf': 'r2l','pod': 'dos','portsweep': 'probe','rootkit': 'u2r','satan': 'probe',\n",
    "        'smurf': 'dos','spy': 'r2l','teardrop': 'dos','warezclient': 'r2l','warezmaster': 'r2l',\n",
    "        }\n",
    "        cols =\"\"\"duration,protocol_type,service,flag,src_bytes,dst_bytes,land,wrong_fragment,\n",
    "        urgent,hot,num_failed_logins,logged_in,num_compromised,root_shell,su_attempted,num_root,\n",
    "        num_file_creations,num_shells,num_access_files,num_outbound_cmds,is_host_login,is_guest_login,\n",
    "        count,srv_count,serror_rate,srv_serror_rate,rerror_rate,srv_rerror_rate,same_srv_rate,\n",
    "        diff_srv_rate,srv_diff_host_rate,dst_host_count,dst_host_srv_count,dst_host_same_srv_rate,\n",
    "        dst_host_diff_srv_rate,dst_host_same_src_port_rate,dst_host_srv_diff_host_rate,\n",
    "        dst_host_serror_rate,dst_host_srv_serror_rate,dst_host_rerror_rate,dst_host_srv_rerror_rate\"\"\"\n",
    "        \n",
    "        columns =[]\n",
    "        for c in cols.split(','):\n",
    "            if(c.strip()):\n",
    "                columns.append(c.strip())\n",
    "        print(len(columns))\n",
    "        columns.append('target')\n",
    "        print(len(columns))\n",
    "\n",
    "        attack_categories=[\"dos\",\"u2r\",\"r2l\",'probe','normal']\n",
    "        df = pd.read_csv(path+\"kddcup.data_10_percent.gz\", names = columns)\n",
    "        df['Attack Type'] = df.target.apply(lambda r:attacks_types[r[:-1]])\n",
    "        del df['target']\n",
    "        df.head()\n",
    "        num_cols = df._get_numeric_data().columns\n",
    "        \n",
    "        cate_cols = list(set(df.columns)-set(num_cols))\n",
    "        cate_cols.remove('Attack Type')\n",
    "        for col in cate_cols:\n",
    "            df[col]=df[col].map(getuniquevalues(col,df))\n",
    "        data=df.to_numpy()\n",
    "        Y=df['Attack Type'].map(getuniquevalues('Attack Type',df))\n",
    "        Y=Y.to_numpy()\n",
    "        X=data[:,:-1]\n",
    "        print(Y.shape)\n",
    "        print(X.shape)\n",
    "        print(getuniquevalues('Attack Type',df))\n",
    "        xtrain, x_test, ytrain, y_test,scaler= normalized(X,Y)\n",
    "    if name==datasets[1]:\n",
    "        path=\"../../Data/malware-classification/\"\n",
    "        map={}\n",
    "        mapping=pd.read_csv(path + \"trainLabels.csv\")\n",
    "        Y=mapping[\"Class\"].to_numpy()\n",
    "        for i in range(0,len(Y)):\n",
    "            map[mapping[\"Id\"][i]]=mapping[\"Class\"][i]-1\n",
    "        byte_features=pd.read_csv(path+\"result.csv\")\n",
    "        byte_features['ID']  = byte_features['ID'].str.split('.').str[0]\n",
    "        byte_features.head(3)\n",
    "        byte_features['ID']=byte_features['ID'].map(map)\n",
    "        data=byte_features.to_numpy()\n",
    "        X=data[:,1:]\n",
    "        Y=data[:,0]\n",
    "        xtrain, x_test, ytrain, y_test,scaler= normalized(X,Y)\n",
    "    return xtrain,x_test,ytrain,y_test\n",
    "\n",
    "datasetname=\"Microsoft Challenge BIG 2015\"\n",
    "\n",
    "xtrain,x_test,ytrain,y_test=get_dataset(datasetname)"
   ]
  },
  {
   "cell_type": "code",
   "execution_count": 4,
   "metadata": {},
   "outputs": [
    {
     "data": {
      "image/png": "[encoded data removed]",
      "text/plain": [
       "<Figure size 432x288 with 1 Axes>"
      ]
     },
     "metadata": {
      "needs_background": "light"
     },
     "output_type": "display_data"
    },
    {
     "data": {
      "image/png": "[encoded data removed]",
      "text/plain": [
       "<Figure size 432x288 with 1 Axes>"
      ]
     },
     "metadata": {
      "needs_background": "light"
     },
     "output_type": "display_data"
    }
   ],
   "source": [
    "points=[]\n",
    "for i in range (0,len(np.unique(ytrain))):\n",
    "    points.append(len(xtrain[ytrain==i]))\n",
    "plt.bar(range(0,len(points)),points, color=np.random.rand(3,))\n",
    "plt.title(\"Training Point Total: \" + str(sum(points)))\n",
    "plt.show()\n",
    "points=[]\n",
    "for i in range (0,len(np.unique(y_test))):\n",
    "    points.append(len(x_test[y_test==i]))\n",
    "plt.bar(range(0,len(points)),points, color=np.random.rand(3,))\n",
    "plt.title(\"Testing Point Total: \" + str(sum(points)))\n",
    "plt.show()"
   ]
  },
  {
   "cell_type": "code",
   "execution_count": 221,
   "metadata": {},
   "outputs": [],
   "source": [
    "def get_class_accuracy_breakdown(model,x_test,y_test, output=False):\n",
    "    acc=[]\n",
    "    points=[]\n",
    "    try:\n",
    "        for i in range (0,len(np.unique(y_test))):\n",
    "            yhat= model.predict(x_test[y_test==i])\n",
    "            if len(yhat.shape)==2:\n",
    "                yhat=np.array([row.argmax() for row in yhat])\n",
    "            acc.append((yhat==i).mean())\n",
    "            points.append(len(yhat))\n",
    "    except:\n",
    "        for i in range (0,len(np.unique(y_test))):\n",
    "            yhat= model.predict(torch.from_numpy(x_test[y_test==i]))\n",
    "            acc.append((yhat==i).float().mean())\n",
    "            points.append(len(yhat))\n",
    "    # print(yhat[:30])\n",
    "    totacc=sum([acc[i]*points[i] for i in range(0,len(acc))])/sum(points)\n",
    "    if output:\n",
    "        plt.bar(range(0,len(acc)),acc,color=np.random.rand(3,))\n",
    "        plt.title(\"Accuracy Total: \" + str(totacc))\n",
    "        plt.show()\n",
    "    return totacc"
   ]
  },
  {
   "cell_type": "code",
   "execution_count": 7,
   "metadata": {},
   "outputs": [],
   "source": [
    "xtraintorch=torch.from_numpy(xtrain)\n",
    "ytraintorch=torch.from_numpy(ytrain)\n",
    "x_testtorch=torch.from_numpy(x_test)\n",
    "y_testtorch=torch.from_numpy(y_test)"
   ]
  },
  {
   "cell_type": "code",
   "execution_count": 377,
   "metadata": {},
   "outputs": [],
   "source": [
    "\n",
    "#change\n",
    "def cos_cdist(x1 : torch.Tensor, x2 : torch.Tensor, eps : float = 1e-8):\n",
    "    #Cosine Similarity\n",
    "    eps = torch.tensor(eps, device=x1.device)\n",
    "    norms1 = x1.norm(dim=1).unsqueeze_(1).max(eps)\n",
    "    norms2 = x2.norm(dim=1).unsqueeze_(0).max(eps)\n",
    "    cdist = x1 @ x2.T\n",
    "    cdist.div_(norms1).div_(norms2)\n",
    "    return cdist\n",
    "class NeuralHD:\n",
    "    def __init__(self, classes : int, features : int, dim : int = 400, batch_size=1):\n",
    "        #Configure for hdb, hdc, and hde classes\n",
    "        self.param=Config.config\n",
    "        self.param['nClasses'] = classes\n",
    "        self.param['nFeatures']= features\n",
    "        #hypervector size\n",
    "        self.param['D']=dim\n",
    "        self.param['lr']=.0001\n",
    "        self.batch_size=batch_size\n",
    "        #encoder\n",
    "        self.hde=None\n",
    "        #classifier\n",
    "        self.hdc=None\n",
    "        # Initialize basis in gaussian distribution\n",
    "        self.basis = torch.normal(0,1,size=(self.param[\"D\"],self.param[\"nFeatures\"]))\n",
    "        # Initialize classification hypervectors\n",
    "        self.classes = torch.zeros((self.param['nClasses'], self.param['D']))\n",
    "        self.prevacc=0\n",
    "        # self.param['lr']=.1\n",
    "        # self.hdc = HD_classifier(self.param[\"D\"], self.param[\"nClasses\"], 0)\n",
    "        self.trainaccuracies=[]\n",
    "        self.testaccuracies=[]\n",
    "        self.medians=[]\n",
    "    def __call__(self, x : torch.Tensor):\n",
    "        #return predicted values\n",
    "        return self.predict(x)\n",
    "    def encode(self,x):\n",
    "        n = x.size(0)\n",
    "        bsize = min([x.size(1),1024])\n",
    "        h = torch.empty(n, self.basis.shape[0], device=x.device, dtype=x.dtype)\n",
    "        temp = torch.empty(bsize, self.basis.shape[0], device=x.device, dtype=x.dtype)\n",
    "\n",
    "        # we need batches to remove memory usage\n",
    "        for i in range(0, n, bsize):\n",
    "            torch.matmul(x[i:i+bsize], self.basis.T, out=temp)\n",
    "\n",
    "            # self.noise ... I haven't seen any indication that it works better \n",
    "            # if self.noise:\n",
    "            #     torch.add(temp, self.base, out=h[i:i+bsize])#h[i:i+bsize]=temp# torch.add(temp, self.base, out=h[i:i+bsize])\n",
    "            # else:\n",
    "            h[i:i+bsize]=temp\n",
    "\n",
    "            h[i:i+bsize].cos_()#.mul_(temp.sin_())\n",
    "        # print(h.shape)\n",
    "        return h\n",
    "    def train(self,h,y):\n",
    "        r=torch.randperm(y.size(0))\n",
    "        y=y[r]\n",
    "        h=h[r,:]\n",
    "        n = h.size(0)\n",
    "        batch_size = min([y.size(0), self.batch_size])#64\n",
    "        for i in range(0, n, batch_size):\n",
    "            h_ = h[i:i+batch_size]\n",
    "            y_ = y[i:i+batch_size]\n",
    "            scores = cos_cdist(h_, self.classes)#cos\n",
    "            y_pred = scores.argmax(1)\n",
    "            wrong = y_ != y_pred\n",
    "\n",
    "            # computes alphas to update model\n",
    "            # alpha1 = 1 - delta[lbl] -- the true label coefs\n",
    "            # alpha2 = delta[max] - 1 -- the prediction coefs\n",
    "            aranged = torch.arange(h_.size(0), device=h_.device)\n",
    "            alpha1 = (1.0 - scores[aranged,y_]).unsqueeze_(1)\n",
    "            alpha2 = (scores[aranged,y_pred] - 1.0).unsqueeze_(1)\n",
    "\n",
    "            for lbl in y_.unique():\n",
    "                m1 = wrong & (y_ == lbl) # mask of missed true lbl\n",
    "                m2 = wrong & (y_pred == lbl) # mask of wrong preds\n",
    "                self.classes[lbl] += self.param['lr']*(alpha1[m1]*h_[m1]).sum(0)\n",
    "                self.classes[lbl] += self.param['lr']*(alpha2[m2]*h_[m2]).sum(0)\n",
    "            # if self.test(h,y)<self.prevacc:\n",
    "            #     for lbl in y_.unique():\n",
    "            #         m1 = wrong & (y_ == lbl) # mask of missed true lbl\n",
    "            #         m2 = wrong & (y_pred == lbl) # mask of wrong preds\n",
    "            #         self.classes[lbl] -= self.param['lr']*(alpha1[m1]*h_[m1]).sum(0)\n",
    "            #         self.classes[lbl] -= self.param['lr']*(alpha2[m2]*h_[m2]).sum(0)\n",
    "            # else:\n",
    "            #     self.prevacc=self.test(h,y)\n",
    "    def train2(self,h,y):\n",
    "        # def fit(self, data, label, param = None):\n",
    "\n",
    "        assert self.param[\"D\"] == h.size(1)\n",
    "        #if self.first_fit:\n",
    "        #    sys.stderr.write(\"Fitting with configuration: %s \\n\" % str([(k,param[k]) for k in self.options]))\n",
    "\n",
    "        # Actual fitting\n",
    "\n",
    "        # handling dropout\n",
    "\n",
    "        # fit\n",
    "        r = torch.randperm(h.shape[0])\n",
    "        correct = 0\n",
    "        count = 0\n",
    "        for i in r:\n",
    "            sample = h[i] \n",
    "            answer = y[i]\n",
    "            #maxVal = -1\n",
    "            #guess = -1\n",
    "            #for m in range(self.nClasses):\n",
    "            #    val = kernel(self.classes[m], sample)\n",
    "            #    if val > maxVal:\n",
    "            #        maxVal = val\n",
    "            #        guess = m\n",
    "            vals = cos_cdist(sample.unsqueeze(1).T, self.classes)\n",
    "            # print(vals)\n",
    "            guess = torch.argmax(vals)\n",
    "            if guess != answer:\n",
    "                self.classes[guess]-=self.param['lr']*h[i]*(1-vals[0,guess])\n",
    "                self.classes[answer]+=self.param['lr']*h[i]*(1-vals[0,answer])\n",
    "                # acc=self.test2(h[r][:100],y)\n",
    "                # if acc<=self.prevacc:\n",
    "                #     self.classes[guess]+=self.param['lr']*h[i]\n",
    "                #     self.classes[answer]-=self.param['lr']*h[i]\n",
    "                # else:\n",
    "                #     self.prevacc=acc\n",
    "            else:\n",
    "                correct += 1\n",
    "            count += 1\n",
    "        return correct / count\n",
    "    \n",
    "    def train3(self,h,y):\n",
    "        # def fit(self, data, label, param = None):\n",
    "\n",
    "        assert self.param[\"D\"] == h.size(1)\n",
    "        #if self.first_fit:\n",
    "        #    sys.stderr.write(\"Fitting with configuration: %s \\n\" % str([(k,param[k]) for k in self.options]))\n",
    "\n",
    "        # Actual fitting\n",
    "\n",
    "        # handling dropout\n",
    "\n",
    "        # fit\n",
    "        r = torch.randperm(y.size(0))\n",
    "        y=y[r]\n",
    "        h=h[r,:]\n",
    "        correct = 0\n",
    "        count = 0\n",
    "        for i in range(0,y.size(0),self.batch_size):\n",
    "            sample = h[i:i+self.batch_size] \n",
    "            answers = y[i:i+self.batch_size]\n",
    "            #maxVal = -1\n",
    "            #guess = -1\n",
    "            #for m in range(self.nClasses):\n",
    "            #    val = kernel(self.classes[m], sample)\n",
    "            #    if val > maxVal:\n",
    "            #        maxVal = val\n",
    "            #        guess = m\n",
    "            vals = cos_cdist(sample, self.classes)\n",
    "            # print(vals)\n",
    "            guesses = vals.argmax(1)\n",
    "            # print(guesses)\n",
    "            for j in range(0,answers.size(0)):\n",
    "                if guesses[j] != answers[j]:\n",
    "                    self.classes[guesses[j]]-=self.param['lr']*h[i+j]*(1-vals[0,guesses[j]])\n",
    "                    self.classes[answers[j]]+=self.param['lr']*h[i+j]*(1-vals[0,answers[j]])\n",
    "                    # acc=self.test2(h[r][:100],y)\n",
    "                    # if acc<=self.prevacc:\n",
    "                    #     self.classes[guess]+=self.param['lr']*h[i]\n",
    "                    #     self.classes[answer]-=self.param['lr']*h[i]\n",
    "                    # else:\n",
    "                    #     self.prevacc=acc\n",
    "                else:\n",
    "                    correct += 1\n",
    "                count += 1\n",
    "        return correct / count\n",
    "\n",
    "    def predict(self,x):\n",
    "        #return predictions based on similarity of encoded inputs to classification hypervectors\n",
    "        return  cos_cdist(self.encode(x), self.classes).argmax(1)\n",
    "    def fit(self,traindata, trainlabels,\n",
    "                   epochs,\n",
    "                   regenloops,  # list of effective dimensions to reach \n",
    "                   fractionToDrop # drop/regen rate \n",
    "                    ):\n",
    "        # find encoded training vectors\n",
    "\n",
    "        # calculate amount of dropped dimensions based on percent and original dimension\n",
    "        amountDrop = int(fractionToDrop * self.param['D'])#self.param.D?\n",
    "        # print(\"Updating times:\", regenloops)\n",
    "\n",
    "        for i in range(regenloops+1): # For each eDs to reach, will checkpoints\n",
    "            # compute new encoded data\n",
    "            trainencoded = self.encode(traindata)\n",
    "            testencoded = self.encode(x_testtorch)\n",
    "            \n",
    "            # print(\"regenloop: \" + str(i))\n",
    "            # train for specified number of epochs\n",
    "            # Do the train \n",
    "            self.prevacc=0\n",
    "            iterscorestrain=[]\n",
    "            iterscorestest=[]\n",
    "            for j in range(epochs):\n",
    "                # do one pass of training\n",
    "                # print(self.classes[:,8])\n",
    "                result=self.train3(trainencoded, trainlabels)\n",
    "                print(result)\n",
    "                trainaccuracy= self.test(trainencoded,trainlabels)\n",
    "                testaccuracy= self.test(testencoded,y_testtorch)\n",
    "                iterscorestrain.append(trainaccuracy)\n",
    "                iterscorestest.append(testaccuracy)\n",
    "                print(j)\n",
    "            self.trainaccuracies+=iterscorestrain\n",
    "            self.testaccuracies+=iterscorestest\n",
    "            self.medians.append(np.median(np.array(iterscorestrain)))\n",
    "                # print(self.prevacc)\n",
    "            #if its the last regeneration training, stop before doing another dimension drop; stop if 100% accuracy\n",
    "            if i==regenloops:\n",
    "                return #self.hdc,self.hde - unnecessary now that hdc and hde are within a class\n",
    "            print(\"regen\" +str(i))\n",
    "            #do the dimension drop and regeneration\n",
    "            normed_classes = torch.nn.functional.normalize(self.classes)\n",
    "            #calculate variances for each dimension\n",
    "            var = torch.var(normed_classes, 0) \n",
    "            assert len(var) == self.param['D']\n",
    "            # rank each entry in variances from smallest to largest\n",
    "            order = torch.argsort(var)\n",
    "            #drop amountDrop bases\n",
    "            toDrop = order[:amountDrop]\n",
    "            #            ----------------\n",
    "            #attempted reverse drop\n",
    "            # if amountDrop<0:\n",
    "            #     toDrop = order[-amountDrop:]\n",
    "            #            ----------------\n",
    "            #Update basis\n",
    "            #For each dimension designated to be dropped\n",
    "            for i in toDrop:\n",
    "                #generate a new ith vector in the basis\n",
    "                self.basis[i] = torch.normal(self.param[\"mu\"],self.param[\"sigma\"], size=(self.param['nFeatures'],))\n",
    "            #Update Classes\n",
    "            #            --------------\n",
    "            #This code was left out. Maybe useful?\n",
    "            for i in toDrop:\n",
    "                self.classes[:,i] = torch.zeros(self.param['nClasses'])\n",
    "            #            --------------\n",
    "\n",
    "            self.classes=torch.nn.functional.normalize(self.classes)\n",
    "        return \"error\",\"error\"\n",
    "    def test(self,x_encoded, y_labels):\n",
    "            yhat= cos_cdist(x_encoded, self.classes).argmax(1)\n",
    "            return (yhat==y_labels).float().mean()\n",
    "    def test2(self,x_encoded,y_labels):\n",
    "        yhat=torch.zeros(y_labels.size(0))\n",
    "        i=0\n",
    "        for v in x_encoded:\n",
    "            sims=torch.matmul(v,self.classes.T)\n",
    "            yhat[i]=torch.argmax(sims)\n",
    "            i+=1\n",
    "        return (yhat==y_labels).float().mean()"
   ]
  },
  {
   "cell_type": "code",
   "execution_count": 378,
   "metadata": {},
   "outputs": [
    {
     "name": "stdout",
     "output_type": "stream",
     "text": [
      "0.7513188565820145\n",
      "0\n",
      "0.8186725555146608\n",
      "1\n",
      "0.8475033738191633\n",
      "2\n",
      "0.8540056434793277\n",
      "3\n",
      "0.8715495031284505\n",
      "4\n",
      "0.8808735124524598\n",
      "5\n",
      "0.8753527174579806\n",
      "6\n",
      "0.8938780517727886\n",
      "7\n",
      "0.8970678444362655\n",
      "8\n",
      "0.8900748374432585\n",
      "9\n",
      "regen0\n",
      "0.9571831677094835\n",
      "0\n",
      "0.9606183290393817\n",
      "1\n",
      "0.9647895963685438\n",
      "2\n",
      "0.9651576493681757\n",
      "3\n",
      "0.9662618083670715\n",
      "4\n",
      "0.9656483867010183\n",
      "5\n",
      "0.9646669120353331\n",
      "6\n",
      "0.9666298613667035\n",
      "7\n",
      "0.9666298613667035\n",
      "8\n",
      "0.9665071770334929\n",
      "9\n",
      "regen1\n",
      "0.9622132253711201\n",
      "0\n",
      "0.9661391240338609\n",
      "1\n",
      "0.9662618083670715\n",
      "2\n",
      "0.9667525456999141\n",
      "3\n",
      "0.9678567046988099\n",
      "4\n",
      "0.9666298613667035\n",
      "5\n",
      "0.9667525456999141\n",
      "6\n",
      "0.9679793890320206\n",
      "7\n",
      "0.9665071770334929\n",
      "8\n",
      "0.9667525456999141\n",
      "9\n",
      "regen2\n",
      "0.9673659673659674\n",
      "0\n",
      "0.9679793890320206\n",
      "1\n",
      "0.9677340203655993\n",
      "2\n",
      "0.9658937553674396\n",
      "3\n",
      "0.9662618083670715\n",
      "4\n",
      "0.9662618083670715\n",
      "5\n",
      "0.9658937553674396\n",
      "6\n",
      "0.9692062323641271\n",
      "7\n",
      "0.9688381793644951\n",
      "8\n",
      "0.9677340203655993\n",
      "9\n",
      "regen3\n",
      "0.9665071770334929\n",
      "0\n",
      "0.968224757698442\n",
      "1\n",
      "0.9678567046988099\n",
      "2\n",
      "0.9667525456999141\n",
      "3\n",
      "0.9663844927002821\n",
      "4\n",
      "0.967120598699546\n",
      "5\n",
      "0.9676113360323887\n",
      "6\n",
      "0.9673659673659674\n",
      "7\n",
      "0.9666298613667035\n",
      "8\n",
      "0.9672432830327568\n",
      "9\n",
      "regen4\n",
      "0.9673659673659674\n",
      "0\n",
      "0.9666298613667035\n",
      "1\n",
      "0.9684701263648632\n",
      "2\n",
      "0.9673659673659674\n",
      "3\n",
      "0.9683474420316526\n",
      "4\n",
      "0.9672432830327568\n",
      "5\n",
      "0.9685928106980739\n",
      "6\n",
      "0.9665071770334929\n",
      "7\n",
      "0.9684701263648632\n",
      "8\n",
      "0.967120598699546\n",
      "9\n"
     ]
    }
   ],
   "source": [
    "model=NeuralHD(len(np.unique(y_test)),xtrain.shape[1],1000,batch_size=4)\n",
    "model.fit(xtraintorch,ytraintorch,10,5,.1)\n"
   ]
  },
  {
   "cell_type": "code",
   "execution_count": 379,
   "metadata": {},
   "outputs": [
    {
     "data": {
      "image/png": "[encoded data removed]",
      "text/plain": [
       "<Figure size 432x288 with 1 Axes>"
      ]
     },
     "metadata": {
      "needs_background": "light"
     },
     "output_type": "display_data"
    },
    {
     "data": {
      "image/png": "[encoded data removed]",
      "text/plain": [
       "<Figure size 432x288 with 1 Axes>"
      ]
     },
     "metadata": {
      "needs_background": "light"
     },
     "output_type": "display_data"
    }
   ],
   "source": [
    "plt.plot(range(len(model.trainaccuracies)),model.trainaccuracies)\n",
    "plt.show()\n",
    "plt.plot(range(len(model.testaccuracies)),model.testaccuracies)\n",
    "plt.show()"
   ]
  },
  {
   "cell_type": "code",
   "execution_count": 380,
   "metadata": {},
   "outputs": [
    {
     "data": {
      "text/plain": [
       "tensor(0.9477)"
      ]
     },
     "execution_count": 380,
     "metadata": {},
     "output_type": "execute_result"
    }
   ],
   "source": [
    "model.test(model.encode(x_testtorch),y_testtorch)"
   ]
  },
  {
   "cell_type": "code",
   "execution_count": 295,
   "metadata": {},
   "outputs": [
    {
     "name": "stdout",
     "output_type": "stream",
     "text": [
      "class 0 accuracy: tensor(0.9039)\n",
      "points: 406\n",
      "class 1 accuracy: tensor(0.9593)\n",
      "points: 589\n",
      "class 2 accuracy: tensor(0.9973)\n",
      "points: 730\n",
      "class 3 accuracy: tensor(0.9340)\n",
      "points: 106\n",
      "class 4 accuracy: tensor(0.)\n",
      "points: 7\n",
      "class 5 accuracy: tensor(0.8177)\n",
      "points: 181\n",
      "class 6 accuracy: tensor(0.9320)\n",
      "points: 103\n",
      "class 7 accuracy: tensor(0.7470)\n",
      "points: 336\n",
      "class 8 accuracy: tensor(0.9382)\n",
      "points: 259\n",
      "tensor(0.9190)\n"
     ]
    }
   ],
   "source": [
    "accuracies=[]\n",
    "points=[]\n",
    "for i in range (0,model.param['nClasses']):\n",
    "    yhat= model(x_testtorch[y_testtorch==i])\n",
    "    acc = (yhat==i).float().mean()\n",
    "    accuracies.append(acc)\n",
    "    points.append(len(yhat))\n",
    "    print('class '+str(i)+' accuracy: ' +str(acc))\n",
    "    print('points: '+ str(len(yhat)))\n",
    "print(sum([accuracies[i]*points[i] for i in range(0,len(accuracies))])/sum(points))"
   ]
  },
  {
   "cell_type": "code",
   "execution_count": 81,
   "metadata": {},
   "outputs": [
    {
     "name": "stdout",
     "output_type": "stream",
     "text": [
      "0.004975795745849609\n"
     ]
    }
   ],
   "source": [
    "start=time.time()\n",
    "model(x_testtorch)\n",
    "end=time.time()\n",
    "print(end-start)"
   ]
  },
  {
   "cell_type": "code",
   "execution_count": 100,
   "metadata": {},
   "outputs": [],
   "source": [
    "exper=model.classes[:,:8]"
   ]
  },
  {
   "cell_type": "code",
   "execution_count": 101,
   "metadata": {},
   "outputs": [
    {
     "data": {
      "text/plain": [
       "tensor([[ 6.8888, -1.0077,  5.3076,  4.8506,  7.7815,  0.4140, -1.3307,  1.1078],\n",
       "        [ 5.5822,  0.4759,  5.8200,  6.4082,  4.0979,  3.8323,  1.7368,  2.7490],\n",
       "        [16.8791,  8.8631, 12.9147, 16.7686, 12.3619, 14.8518,  1.8588,  7.2048],\n",
       "        [ 5.3819,  1.4078,  3.6992,  4.5307,  4.0256,  3.9478,  0.0463,  1.6894],\n",
       "        [ 0.5475,  0.1348,  0.4518,  0.4825,  0.3511,  0.3310,  0.0261,  0.1219],\n",
       "        [ 9.7751, -2.5286,  7.6820,  6.1554,  5.4943,  0.4095, -2.2018, -2.2142],\n",
       "        [ 7.7497,  1.9047,  6.8380,  7.1132,  5.0291,  4.9828,  1.7641,  2.8609],\n",
       "        [18.9762, -2.2948, 17.3706, 12.9578, 15.8873,  6.4624, -3.7157, -1.8157],\n",
       "        [ 4.2852, -0.0717,  3.9104,  2.5219,  3.0919,  2.4518,  1.2516, -0.2155]])"
      ]
     },
     "execution_count": 101,
     "metadata": {},
     "output_type": "execute_result"
    }
   ],
   "source": [
    "exper"
   ]
  },
  {
   "cell_type": "code",
   "execution_count": 103,
   "metadata": {},
   "outputs": [],
   "source": [
    "\n",
    "r=torch.randperm(exper.size(0))"
   ]
  },
  {
   "cell_type": "code",
   "execution_count": 104,
   "metadata": {},
   "outputs": [
    {
     "data": {
      "text/plain": [
       "tensor([7, 8, 6, 5, 1, 2, 0, 3, 4])"
      ]
     },
     "execution_count": 104,
     "metadata": {},
     "output_type": "execute_result"
    }
   ],
   "source": [
    "r"
   ]
  },
  {
   "cell_type": "code",
   "execution_count": 105,
   "metadata": {},
   "outputs": [
    {
     "data": {
      "text/plain": [
       "tensor([[18.9762, -2.2948, 17.3706, 12.9578, 15.8873,  6.4624, -3.7157, -1.8157],\n",
       "        [ 4.2852, -0.0717,  3.9104,  2.5219,  3.0919,  2.4518,  1.2516, -0.2155],\n",
       "        [ 7.7497,  1.9047,  6.8380,  7.1132,  5.0291,  4.9828,  1.7641,  2.8609],\n",
       "        [ 9.7751, -2.5286,  7.6820,  6.1554,  5.4943,  0.4095, -2.2018, -2.2142],\n",
       "        [ 5.5822,  0.4759,  5.8200,  6.4082,  4.0979,  3.8323,  1.7368,  2.7490],\n",
       "        [16.8791,  8.8631, 12.9147, 16.7686, 12.3619, 14.8518,  1.8588,  7.2048],\n",
       "        [ 6.8888, -1.0077,  5.3076,  4.8506,  7.7815,  0.4140, -1.3307,  1.1078],\n",
       "        [ 5.3819,  1.4078,  3.6992,  4.5307,  4.0256,  3.9478,  0.0463,  1.6894],\n",
       "        [ 0.5475,  0.1348,  0.4518,  0.4825,  0.3511,  0.3310,  0.0261,  0.1219]])"
      ]
     },
     "execution_count": 105,
     "metadata": {},
     "output_type": "execute_result"
    }
   ],
   "source": [
    "exper[r,:]"
   ]
  },
  {
   "cell_type": "code",
   "execution_count": null,
   "metadata": {},
   "outputs": [],
   "source": [
    "eval=[yhat[i]==y_test[i] for i in range(len(y_test))]"
   ]
  },
  {
   "cell_type": "code",
   "execution_count": 356,
   "metadata": {},
   "outputs": [
    {
     "data": {
      "text/plain": [
       "torch.Size([8151, 257])"
      ]
     },
     "execution_count": 356,
     "metadata": {},
     "output_type": "execute_result"
    }
   ],
   "source": [
    "xtraintorch.shape"
   ]
  },
  {
   "cell_type": "code",
   "execution_count": 355,
   "metadata": {},
   "outputs": [
    {
     "data": {
      "text/plain": [
       "torch.Size([8151])"
      ]
     },
     "execution_count": 355,
     "metadata": {},
     "output_type": "execute_result"
    }
   ],
   "source": [
    "ytraintorch.shape"
   ]
  }
 ],
 "metadata": {
  "interpreter": {
   "hash": "aee8b7b246df8f9039afb4144a1f6fd8d2ca17a180786b69acc140d282b71a49"
  },
  "kernelspec": {
   "display_name": "Python 3.9.13 64-bit",
   "language": "python",
   "name": "python3"
  },
  "language_info": {
   "codemirror_mode": {
    "name": "ipython",
    "version": 3
   },
   "file_extension": ".py",
   "mimetype": "text/x-python",
   "name": "python",
   "nbconvert_exporter": "python",
   "pygments_lexer": "ipython3",
   "version": "3.9.13"
  },
  "orig_nbformat": 4
 },
 "nbformat": 4,
 "nbformat_minor": 2
}
