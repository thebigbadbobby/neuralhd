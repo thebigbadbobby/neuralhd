{
 "cells": [
  {
   "cell_type": "code",
   "execution_count": 1,
   "metadata": {},
   "outputs": [],
   "source": [
    "import numpy \n",
    "import sys\n",
    "import os"
   ]
  },
  {
   "cell_type": "code",
   "execution_count": 2,
   "metadata": {},
   "outputs": [],
   "source": [
    "filename = \"Eval_ucihar.txt\"\n",
    "with open(filename, 'r') as file:\n",
    "    result = [line.strip() for line in file]"
   ]
  },
  {
   "cell_type": "code",
   "execution_count": 3,
   "metadata": {},
   "outputs": [],
   "source": [
    "Ds = [100, 200, 500, 750, 1000, 1500, 2000, 2500, 3000, 4000]\n",
    "percentDrops = [0.05, 0.1, 0.2]\n",
    "iter_per_updates = [1, 2, 3, 4, 5, 10]\n",
    "\n",
    "data = dict()\n",
    "config = None"
   ]
  },
  {
   "cell_type": "code",
   "execution_count": 4,
   "metadata": {},
   "outputs": [],
   "source": [
    "data = dict()\n",
    "for l in result:\n",
    "    entries = l.split()\n",
    "    if len(entries) == 0:\n",
    "        continue\n",
    "    elif len(entries) == 2: # New config\n",
    "        r = float(entries[0])\n",
    "        f = int(entries[1])\n",
    "        config = (r, f)\n",
    "        #print(entries, r, f)\n",
    "    elif len(entries) == 4:\n",
    "        D1 = int(entries[0])\n",
    "        D2 = int(entries[1])\n",
    "        acc1 = float(entries[2])/100\n",
    "        acc2 = float(entries[3])\n",
    "        #print(entries, D1, D2, acc1, acc2)\n",
    "        if config not in data:\n",
    "            data[config] = [(D1, D2, acc1, acc2)]\n",
    "        else:\n",
    "            data[config].append([D1, D2, acc1, acc2])\n",
    "    else: \n",
    "        print(\"Something is wrong..., input received:\", l)\n",
    "        break"
   ]
  },
  {
   "cell_type": "code",
   "execution_count": 12,
   "metadata": {
    "scrolled": false
   },
   "outputs": [
    {
     "name": "stdout",
     "output_type": "stream",
     "text": [
      "0.05 1\n",
      "0.9703989703989704\n",
      "0.9703989703989704\n",
      "0.9723294723294723\n",
      "0.05 2\n",
      "0.9723294723294723\n",
      "0.9742599742599742\n",
      "0.972972972972973\n",
      "0.05 3\n",
      "0.974903474903475\n",
      "0.9703989703989704\n",
      "0.9716859716859717\n",
      "0.05 4\n",
      "0.972972972972973\n",
      "0.9755469755469756\n",
      "0.9755469755469756\n",
      "0.05 5\n",
      "0.9761904761904762\n",
      "0.9768339768339769\n",
      "0.974903474903475\n",
      "0.05 10\n",
      "0.9736164736164736\n",
      "0.972972972972973\n",
      "0.9768339768339769\n",
      "0.1 1\n",
      "0.9703989703989704\n",
      "0.9697554697554698\n",
      "0.9678249678249679\n",
      "0.1 2\n",
      "0.972972972972973\n",
      "0.9761904761904762\n",
      "0.9723294723294723\n",
      "0.1 3\n",
      "0.974903474903475\n",
      "0.972972972972973\n",
      "0.9755469755469756\n",
      "0.1 4\n",
      "0.9736164736164736\n",
      "0.974903474903475\n",
      "0.9716859716859717\n",
      "0.1 5\n",
      "0.9742599742599742\n",
      "0.9736164736164736\n",
      "0.974903474903475\n",
      "0.1 10\n",
      "0.9716859716859717\n",
      "0.9761904761904762\n",
      "0.9755469755469756\n",
      "0.2 1\n",
      "0.972972972972973\n",
      "0.9755469755469756\n",
      "0.9742599742599742\n",
      "0.2 2\n",
      "0.9723294723294723\n",
      "0.9723294723294723\n",
      "0.9716859716859717\n",
      "0.2 3\n",
      "0.9755469755469756\n",
      "0.9736164736164736\n",
      "0.974903474903475\n",
      "0.2 4\n",
      "0.9697554697554698\n",
      "0.9736164736164736\n",
      "0.9755469755469756\n",
      "0.2 5\n",
      "0.971042471042471\n",
      "0.972972972972973\n",
      "0.9716859716859717\n",
      "0.2 10\n",
      "0.9716859716859717\n",
      "0.9781209781209781\n",
      "0.972972972972973\n"
     ]
    }
   ],
   "source": [
    "for r in percentDrops:\n",
    "    for f in iter_per_updates:   \n",
    "        print(r, f)\n",
    "        for (d1, d2, acc1, acc2) in data[(r,f)]:\n",
    "            if d1 == 2000:\n",
    "                #print(d1, d2, acc2)\n",
    "                print(acc2)"
   ]
  },
  {
   "cell_type": "code",
   "execution_count": null,
   "metadata": {},
   "outputs": [],
   "source": []
  },
  {
   "cell_type": "code",
   "execution_count": null,
   "metadata": {},
   "outputs": [],
   "source": []
  },
  {
   "cell_type": "code",
   "execution_count": null,
   "metadata": {},
   "outputs": [],
   "source": []
  }
 ],
 "metadata": {
  "kernelspec": {
   "display_name": "Python 3",
   "language": "python",
   "name": "python3"
  },
  "language_info": {
   "codemirror_mode": {
    "name": "ipython",
    "version": 3
   },
   "file_extension": ".py",
   "mimetype": "text/x-python",
   "name": "python",
   "nbconvert_exporter": "python",
   "pygments_lexer": "ipython3",
   "version": "3.7.4"
  }
 },
 "nbformat": 4,
 "nbformat_minor": 2
}
