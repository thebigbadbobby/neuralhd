{
 "cells": [
  {
   "cell_type": "code",
   "execution_count": 339,
   "metadata": {},
   "outputs": [],
   "source": [
    "from time import time\n",
    "\n",
    "\n",
    "import os\n",
    "import pandas as pd\n",
    "import numpy as np\n",
    "import matplotlib.pyplot as plt\n",
    "# import seaborn as sns\n",
    "import time\n",
    "\n",
    "import torch\n",
    "import sklearn.datasets\n",
    "import sklearn.preprocessing\n",
    "import sklearn.model_selection\n",
    "import numpy as np\n",
    "import math\n",
    "import matplotlib.pyplot as plt\n",
    "\n",
    "from torchvision.datasets import MNIST\n",
    "from torchvision.datasets import FashionMNIST as FMNIST\n",
    "from torchvision.datasets import EMNIST\n",
    "import torchvision.transforms as transforms\n",
    "\n",
    "import onlinehd as Onlinehd\n",
    "\n",
    "import tensorflow as tf\n",
    "import random as r\n",
    "import matplotlib.pyplot as plt\n",
    "import numpy as np\n",
    "from tensorflow.keras import backend as K\n",
    "from tensorflow.keras.models import Sequential\n",
    "from tensorflow.keras.layers import Dense\n",
    "from tensorflow.keras.optimizers import Adam, SGD, Adagrad, Adadelta, RMSprop\n",
    "from tensorflow.keras.utils import to_categorical\n",
    "from tensorflow.keras.layers import Dropout, Flatten, Activation, BatchNormalization\n"
   ]
  },
  {
   "cell_type": "markdown",
   "metadata": {},
   "source": [
    "## Data Load\n",
    "Output: df frame with all data"
   ]
  },
  {
   "cell_type": "code",
   "execution_count": 340,
   "metadata": {},
   "outputs": [
    {
     "name": "stdout",
     "output_type": "stream",
     "text": [
      "41\n",
      "42\n"
     ]
    },
    {
     "data": {
      "text/html": [
       "<div>\n",
       "<style scoped>\n",
       "    .dataframe tbody tr th:only-of-type {\n",
       "        vertical-align: middle;\n",
       "    }\n",
       "\n",
       "    .dataframe tbody tr th {\n",
       "        vertical-align: top;\n",
       "    }\n",
       "\n",
       "    .dataframe thead th {\n",
       "        text-align: right;\n",
       "    }\n",
       "</style>\n",
       "<table border=\"1\" class=\"dataframe\">\n",
       "  <thead>\n",
       "    <tr style=\"text-align: right;\">\n",
       "      <th></th>\n",
       "      <th>duration</th>\n",
       "      <th>protocol_type</th>\n",
       "      <th>service</th>\n",
       "      <th>flag</th>\n",
       "      <th>src_bytes</th>\n",
       "      <th>dst_bytes</th>\n",
       "      <th>land</th>\n",
       "      <th>wrong_fragment</th>\n",
       "      <th>urgent</th>\n",
       "      <th>hot</th>\n",
       "      <th>...</th>\n",
       "      <th>dst_host_srv_count</th>\n",
       "      <th>dst_host_same_srv_rate</th>\n",
       "      <th>dst_host_diff_srv_rate</th>\n",
       "      <th>dst_host_same_src_port_rate</th>\n",
       "      <th>dst_host_srv_diff_host_rate</th>\n",
       "      <th>dst_host_serror_rate</th>\n",
       "      <th>dst_host_srv_serror_rate</th>\n",
       "      <th>dst_host_rerror_rate</th>\n",
       "      <th>dst_host_srv_rerror_rate</th>\n",
       "      <th>Attack Type</th>\n",
       "    </tr>\n",
       "  </thead>\n",
       "  <tbody>\n",
       "    <tr>\n",
       "      <th>0</th>\n",
       "      <td>0</td>\n",
       "      <td>tcp</td>\n",
       "      <td>http</td>\n",
       "      <td>SF</td>\n",
       "      <td>181</td>\n",
       "      <td>5450</td>\n",
       "      <td>0</td>\n",
       "      <td>0</td>\n",
       "      <td>0</td>\n",
       "      <td>0</td>\n",
       "      <td>...</td>\n",
       "      <td>9</td>\n",
       "      <td>1.0</td>\n",
       "      <td>0.0</td>\n",
       "      <td>0.11</td>\n",
       "      <td>0.0</td>\n",
       "      <td>0.0</td>\n",
       "      <td>0.0</td>\n",
       "      <td>0.0</td>\n",
       "      <td>0.0</td>\n",
       "      <td>normal</td>\n",
       "    </tr>\n",
       "    <tr>\n",
       "      <th>1</th>\n",
       "      <td>0</td>\n",
       "      <td>tcp</td>\n",
       "      <td>http</td>\n",
       "      <td>SF</td>\n",
       "      <td>239</td>\n",
       "      <td>486</td>\n",
       "      <td>0</td>\n",
       "      <td>0</td>\n",
       "      <td>0</td>\n",
       "      <td>0</td>\n",
       "      <td>...</td>\n",
       "      <td>19</td>\n",
       "      <td>1.0</td>\n",
       "      <td>0.0</td>\n",
       "      <td>0.05</td>\n",
       "      <td>0.0</td>\n",
       "      <td>0.0</td>\n",
       "      <td>0.0</td>\n",
       "      <td>0.0</td>\n",
       "      <td>0.0</td>\n",
       "      <td>normal</td>\n",
       "    </tr>\n",
       "    <tr>\n",
       "      <th>2</th>\n",
       "      <td>0</td>\n",
       "      <td>tcp</td>\n",
       "      <td>http</td>\n",
       "      <td>SF</td>\n",
       "      <td>235</td>\n",
       "      <td>1337</td>\n",
       "      <td>0</td>\n",
       "      <td>0</td>\n",
       "      <td>0</td>\n",
       "      <td>0</td>\n",
       "      <td>...</td>\n",
       "      <td>29</td>\n",
       "      <td>1.0</td>\n",
       "      <td>0.0</td>\n",
       "      <td>0.03</td>\n",
       "      <td>0.0</td>\n",
       "      <td>0.0</td>\n",
       "      <td>0.0</td>\n",
       "      <td>0.0</td>\n",
       "      <td>0.0</td>\n",
       "      <td>normal</td>\n",
       "    </tr>\n",
       "    <tr>\n",
       "      <th>3</th>\n",
       "      <td>0</td>\n",
       "      <td>tcp</td>\n",
       "      <td>http</td>\n",
       "      <td>SF</td>\n",
       "      <td>219</td>\n",
       "      <td>1337</td>\n",
       "      <td>0</td>\n",
       "      <td>0</td>\n",
       "      <td>0</td>\n",
       "      <td>0</td>\n",
       "      <td>...</td>\n",
       "      <td>39</td>\n",
       "      <td>1.0</td>\n",
       "      <td>0.0</td>\n",
       "      <td>0.03</td>\n",
       "      <td>0.0</td>\n",
       "      <td>0.0</td>\n",
       "      <td>0.0</td>\n",
       "      <td>0.0</td>\n",
       "      <td>0.0</td>\n",
       "      <td>normal</td>\n",
       "    </tr>\n",
       "    <tr>\n",
       "      <th>4</th>\n",
       "      <td>0</td>\n",
       "      <td>tcp</td>\n",
       "      <td>http</td>\n",
       "      <td>SF</td>\n",
       "      <td>217</td>\n",
       "      <td>2032</td>\n",
       "      <td>0</td>\n",
       "      <td>0</td>\n",
       "      <td>0</td>\n",
       "      <td>0</td>\n",
       "      <td>...</td>\n",
       "      <td>49</td>\n",
       "      <td>1.0</td>\n",
       "      <td>0.0</td>\n",
       "      <td>0.02</td>\n",
       "      <td>0.0</td>\n",
       "      <td>0.0</td>\n",
       "      <td>0.0</td>\n",
       "      <td>0.0</td>\n",
       "      <td>0.0</td>\n",
       "      <td>normal</td>\n",
       "    </tr>\n",
       "  </tbody>\n",
       "</table>\n",
       "<p>5 rows × 42 columns</p>\n",
       "</div>"
      ],
      "text/plain": [
       "   duration protocol_type service flag  src_bytes  dst_bytes  land  \\\n",
       "0         0           tcp    http   SF        181       5450     0   \n",
       "1         0           tcp    http   SF        239        486     0   \n",
       "2         0           tcp    http   SF        235       1337     0   \n",
       "3         0           tcp    http   SF        219       1337     0   \n",
       "4         0           tcp    http   SF        217       2032     0   \n",
       "\n",
       "   wrong_fragment  urgent  hot  ...  dst_host_srv_count  \\\n",
       "0               0       0    0  ...                   9   \n",
       "1               0       0    0  ...                  19   \n",
       "2               0       0    0  ...                  29   \n",
       "3               0       0    0  ...                  39   \n",
       "4               0       0    0  ...                  49   \n",
       "\n",
       "   dst_host_same_srv_rate  dst_host_diff_srv_rate  \\\n",
       "0                     1.0                     0.0   \n",
       "1                     1.0                     0.0   \n",
       "2                     1.0                     0.0   \n",
       "3                     1.0                     0.0   \n",
       "4                     1.0                     0.0   \n",
       "\n",
       "   dst_host_same_src_port_rate  dst_host_srv_diff_host_rate  \\\n",
       "0                         0.11                          0.0   \n",
       "1                         0.05                          0.0   \n",
       "2                         0.03                          0.0   \n",
       "3                         0.03                          0.0   \n",
       "4                         0.02                          0.0   \n",
       "\n",
       "   dst_host_serror_rate  dst_host_srv_serror_rate  dst_host_rerror_rate  \\\n",
       "0                   0.0                       0.0                   0.0   \n",
       "1                   0.0                       0.0                   0.0   \n",
       "2                   0.0                       0.0                   0.0   \n",
       "3                   0.0                       0.0                   0.0   \n",
       "4                   0.0                       0.0                   0.0   \n",
       "\n",
       "   dst_host_srv_rerror_rate  Attack Type  \n",
       "0                       0.0       normal  \n",
       "1                       0.0       normal  \n",
       "2                       0.0       normal  \n",
       "3                       0.0       normal  \n",
       "4                       0.0       normal  \n",
       "\n",
       "[5 rows x 42 columns]"
      ]
     },
     "execution_count": 340,
     "metadata": {},
     "output_type": "execute_result"
    }
   ],
   "source": [
    "path=\"../../Data/\"\n",
    "attacks_types = {\n",
    "    'normal': 'normal','back': 'dos','buffer_overflow': 'u2r','ftp_write': 'r2l','guess_passwd': 'r2l',\n",
    "'imap': 'r2l','ipsweep': 'probe','land': 'dos','loadmodule': 'u2r','multihop': 'r2l','neptune': 'dos',\n",
    "'nmap': 'probe','perl': 'u2r','phf': 'r2l','pod': 'dos','portsweep': 'probe','rootkit': 'u2r','satan': 'probe',\n",
    "'smurf': 'dos','spy': 'r2l','teardrop': 'dos','warezclient': 'r2l','warezmaster': 'r2l',\n",
    "}\n",
    "cols =\"\"\"duration,protocol_type,service,flag,src_bytes,dst_bytes,land,wrong_fragment,\n",
    "urgent,hot,num_failed_logins,logged_in,num_compromised,root_shell,su_attempted,num_root,\n",
    "num_file_creations,num_shells,num_access_files,num_outbound_cmds,is_host_login,is_guest_login,\n",
    "count,srv_count,serror_rate,srv_serror_rate,rerror_rate,srv_rerror_rate,same_srv_rate,\n",
    "diff_srv_rate,srv_diff_host_rate,dst_host_count,dst_host_srv_count,dst_host_same_srv_rate,\n",
    "dst_host_diff_srv_rate,dst_host_same_src_port_rate,dst_host_srv_diff_host_rate,\n",
    "dst_host_serror_rate,dst_host_srv_serror_rate,dst_host_rerror_rate,dst_host_srv_rerror_rate\"\"\"\n",
    "  \n",
    "columns =[]\n",
    "for c in cols.split(','):\n",
    "    if(c.strip()):\n",
    "       columns.append(c.strip())\n",
    "print(len(columns))\n",
    "columns.append('target')\n",
    "print(len(columns))\n",
    "\n",
    "attack_categories=[\"dos\",\"u2r\",\"r2l\",'probe','normal']\n",
    "df = pd.read_csv(path+\"kddcup.data_10_percent.gz\", names = columns)\n",
    "df['Attack Type'] = df.target.apply(lambda r:attacks_types[r[:-1]])\n",
    "del df['target']\n",
    "df.head()\n",
    "\n"
   ]
  },
  {
   "cell_type": "markdown",
   "metadata": {},
   "source": [
    "## Initial Preprocessing\n",
    "Output: X and Y numpy arrays"
   ]
  },
  {
   "cell_type": "code",
   "execution_count": 341,
   "metadata": {},
   "outputs": [
    {
     "name": "stdout",
     "output_type": "stream",
     "text": [
      "(494021,)\n",
      "(494021, 41)\n",
      "{'normal': 0, 'u2r': 1, 'dos': 2, 'r2l': 3, 'probe': 4}\n"
     ]
    }
   ],
   "source": [
    "num_cols = df._get_numeric_data().columns\n",
    "  \n",
    "cate_cols = list(set(df.columns)-set(num_cols))\n",
    "cate_cols.remove('Attack Type')\n",
    "def getuniquevalues(columnname):\n",
    "    values={}\n",
    "    i=0\n",
    "    for entry in df[columnname]:\n",
    "        if entry not in values:\n",
    "            values[entry]=i\n",
    "            i+=1\n",
    "    return values\n",
    "for col in cate_cols:\n",
    "    df[col]=df[col].map(getuniquevalues(col))\n",
    "data=df.to_numpy()\n",
    "Y=df['Attack Type'].map(getuniquevalues('Attack Type'))\n",
    "Y=Y.to_numpy()\n",
    "X=data[:,:-1]\n",
    "print(Y.shape)\n",
    "print(X.shape)\n",
    "print(getuniquevalues('Attack Type'))"
   ]
  },
  {
   "cell_type": "markdown",
   "metadata": {},
   "source": [
    "## Conversion to Torch\n",
    "also scaling"
   ]
  },
  {
   "cell_type": "code",
   "execution_count": 203,
   "metadata": {},
   "outputs": [],
   "source": [
    "# def load(x,y):\n",
    "#     x, x_test, y, y_test = sklearn.model_selection.train_test_split(x, y)\n",
    "#     scaler = sklearn.preprocessing.Normalizer().fit(x)\n",
    "#     x = scaler.transform(x)\n",
    "#     x_test = scaler.transform(x_test)\n",
    "\n",
    "#     # changes data to pytorch's tensors\n",
    "#     x = torch.from_numpy(x).float()\n",
    "#     y = torch.from_numpy(y).long()\n",
    "#     x_test = torch.from_numpy(x_test).float()\n",
    "#     y_test = torch.from_numpy(y_test).long()\n",
    "#     return x, x_test, y, y_test, scaler"
   ]
  },
  {
   "cell_type": "code",
   "execution_count": 234,
   "metadata": {},
   "outputs": [],
   "source": [
    "def normalized(x,y):\n",
    "    x, x_test, y, y_test = sklearn.model_selection.train_test_split(x, y, shuffle=True)\n",
    "    scaler = sklearn.preprocessing.Normalizer().fit(x)\n",
    "    x = scaler.transform(x)\n",
    "    x_test = scaler.transform(x_test)\n",
    "\n",
    "    # changes data to pytorch's tensors\n",
    "    x = torch.from_numpy(x).float()\n",
    "    y = torch.from_numpy(y).long()\n",
    "    x_test = torch.from_numpy(x_test).float()\n",
    "    y_test = torch.from_numpy(y_test).long()\n",
    "    return x, x_test, y, y_test, scaler\n",
    "def nonnormalized(x,y):\n",
    "    x,x_test,y,y_test = sklearn.model_selection.train_test_split(x, y, shuffle=True)\n",
    "    x=x.astype(np.float64)\n",
    "    x_test=x_test.astype(np.float64)\n",
    "    x=torch.from_numpy(x).float()\n",
    "    x_test=torch.from_numpy(x_test).float()\n",
    "    y=torch.from_numpy(y)\n",
    "    y_test = torch.from_numpy(y_test)\n",
    "    return x, x_test, y, y_test\n"
   ]
  },
  {
   "cell_type": "code",
   "execution_count": 236,
   "metadata": {},
   "outputs": [],
   "source": [
    "xtrain, x_test, ytrain, y_test,scaler= normalized(X,Y)"
   ]
  },
  {
   "cell_type": "markdown",
   "metadata": {},
   "source": [
    "## OnlineHD"
   ]
  },
  {
   "cell_type": "code",
   "execution_count": 309,
   "metadata": {},
   "outputs": [],
   "source": [
    "model = Onlinehd.OnlineHD(len(df['Attack Type'].unique()), df.shape[1]-1, dim=1000)"
   ]
  },
  {
   "cell_type": "code",
   "execution_count": 310,
   "metadata": {},
   "outputs": [],
   "source": [
    "model = model.fit(xtrain,ytrain, bootstrap=1.0, lr=.1, epochs=20, one_pass_fit=True)#0.035"
   ]
  },
  {
   "cell_type": "code",
   "execution_count": 311,
   "metadata": {},
   "outputs": [
    {
     "name": "stderr",
     "output_type": "stream",
     "text": [
      "/Users/bobbymissirian/Files/Research/Cybersecurity/onlinehd/encoder.py:61: UserWarning: An output with one or more elements was resized since it had shape [245, 1000], which does not match the required output shape [189, 1000].This behavior is deprecated, and in a future PyTorch release outputs will not be resized unless they have zero elements. You can explicitly reuse an out tensor t by resizing it, inplace, to zero elements with t.resize_(0). (Triggered internally at  ../aten/src/ATen/native/Resize.cpp:23.)\n",
      "  torch.matmul(x[i:i+bsize], self.basis.T, out=temp)\n"
     ]
    },
    {
     "name": "stdout",
     "output_type": "stream",
     "text": [
      "class 0 accuracy: tensor(0.9585)\n",
      "points: 24444\n",
      "class 1 accuracy: tensor(0.3571)\n",
      "points: 14\n",
      "class 2 accuracy: tensor(0.9928)\n",
      "points: 97760\n",
      "class 3 accuracy: tensor(0.8671)\n",
      "points: 286\n",
      "class 4 accuracy: tensor(0.9032)\n",
      "points: 1002\n"
     ]
    },
    {
     "name": "stderr",
     "output_type": "stream",
     "text": [
      "/Users/bobbymissirian/Files/Research/Cybersecurity/onlinehd/encoder.py:61: UserWarning: An output with one or more elements was resized since it had shape [978, 1000], which does not match the required output shape [938, 1000].This behavior is deprecated, and in a future PyTorch release outputs will not be resized unless they have zero elements. You can explicitly reuse an out tensor t by resizing it, inplace, to zero elements with t.resize_(0). (Triggered internally at  ../aten/src/ATen/native/Resize.cpp:23.)\n",
      "  torch.matmul(x[i:i+bsize], self.basis.T, out=temp)\n",
      "/Users/bobbymissirian/Files/Research/Cybersecurity/onlinehd/encoder.py:61: UserWarning: An output with one or more elements was resized since it had shape [3, 1000], which does not match the required output shape [1, 1000].This behavior is deprecated, and in a future PyTorch release outputs will not be resized unless they have zero elements. You can explicitly reuse an out tensor t by resizing it, inplace, to zero elements with t.resize_(0). (Triggered internally at  ../aten/src/ATen/native/Resize.cpp:23.)\n",
      "  torch.matmul(x[i:i+bsize], self.basis.T, out=temp)\n",
      "/Users/bobbymissirian/Files/Research/Cybersecurity/onlinehd/encoder.py:61: UserWarning: An output with one or more elements was resized since it had shape [11, 1000], which does not match the required output shape [1, 1000].This behavior is deprecated, and in a future PyTorch release outputs will not be resized unless they have zero elements. You can explicitly reuse an out tensor t by resizing it, inplace, to zero elements with t.resize_(0). (Triggered internally at  ../aten/src/ATen/native/Resize.cpp:23.)\n",
      "  torch.matmul(x[i:i+bsize], self.basis.T, out=temp)\n"
     ]
    }
   ],
   "source": [
    "for i in range (0,len(df['Attack Type'].unique())):\n",
    "    yhat= model(x_test[y_test==i])\n",
    "    acc = (yhat==i).float().mean()\n",
    "    print('class '+str(i)+' accuracy: ' +str(acc))\n",
    "    print('points: '+ str(len(yhat)))\n"
   ]
  },
  {
   "cell_type": "code",
   "execution_count": 312,
   "metadata": {},
   "outputs": [
    {
     "name": "stdout",
     "output_type": "stream",
     "text": [
      "acc = 0.984727\n",
      "acc_test = 0.984932\n"
     ]
    },
    {
     "name": "stderr",
     "output_type": "stream",
     "text": [
      "/Users/bobbymissirian/Files/Research/Cybersecurity/onlinehd/encoder.py:61: UserWarning: An output with one or more elements was resized since it had shape [1236, 1000], which does not match the required output shape [1142, 1000].This behavior is deprecated, and in a future PyTorch release outputs will not be resized unless they have zero elements. You can explicitly reuse an out tensor t by resizing it, inplace, to zero elements with t.resize_(0). (Triggered internally at  ../aten/src/ATen/native/Resize.cpp:23.)\n",
      "  torch.matmul(x[i:i+bsize], self.basis.T, out=temp)\n"
     ]
    }
   ],
   "source": [
    "yhat = model(xtrain)\n",
    "yhat_test = model(x_test)\n",
    "acc = (ytrain == yhat).float().mean()\n",
    "acc_test = (y_test == yhat_test).float().mean()\n",
    "print(f'{acc = :6f}')\n",
    "print(f'{acc_test = :6f}')"
   ]
  },
  {
   "cell_type": "markdown",
   "metadata": {},
   "source": [
    "## MLP"
   ]
  },
  {
   "cell_type": "code",
   "execution_count": 313,
   "metadata": {},
   "outputs": [
    {
     "name": "stdout",
     "output_type": "stream",
     "text": [
      "<class 'numpy.ndarray'>\n"
     ]
    }
   ],
   "source": [
    "print(type(X))"
   ]
  },
  {
   "cell_type": "code",
   "execution_count": 322,
   "metadata": {},
   "outputs": [],
   "source": [
    "model = Sequential()\n",
    "model.add(Dense(41, activation='relu', input_shape=(41,)))\n",
    "model.add(Dense(20, activation='relu', input_shape=(41,)))\n",
    "model.add(Dense(5, activation=\"softmax\"))\n"
   ]
  },
  {
   "cell_type": "code",
   "execution_count": 323,
   "metadata": {},
   "outputs": [
    {
     "name": "stdout",
     "output_type": "stream",
     "text": [
      "Model: \"sequential_7\"\n",
      "_________________________________________________________________\n",
      "Layer (type)                 Output Shape              Param #   \n",
      "=================================================================\n",
      "dense_17 (Dense)             (None, 41)                1722      \n",
      "_________________________________________________________________\n",
      "dense_18 (Dense)             (None, 20)                840       \n",
      "_________________________________________________________________\n",
      "dense_19 (Dense)             (None, 5)                 105       \n",
      "=================================================================\n",
      "Total params: 2,667\n",
      "Trainable params: 2,667\n",
      "Non-trainable params: 0\n",
      "_________________________________________________________________\n",
      "(370515, 41) (370515, 5)\n",
      "Epoch 1/30\n",
      "30/30 [==============================] - 1s 12ms/step - loss: 1.1364 - accuracy: 0.8035 - val_loss: 0.7776 - val_accuracy: 0.8054\n",
      "Epoch 2/30\n",
      "30/30 [==============================] - 0s 6ms/step - loss: 0.5653 - accuracy: 0.8678 - val_loss: 0.3957 - val_accuracy: 0.9014\n",
      "Epoch 3/30\n",
      "30/30 [==============================] - 0s 6ms/step - loss: 0.3124 - accuracy: 0.9145 - val_loss: 0.2303 - val_accuracy: 0.9456\n",
      "Epoch 4/30\n",
      "30/30 [==============================] - 0s 6ms/step - loss: 0.1793 - accuracy: 0.9587 - val_loss: 0.1339 - val_accuracy: 0.9695\n",
      "Epoch 5/30\n",
      "30/30 [==============================] - 0s 6ms/step - loss: 0.1107 - accuracy: 0.9714 - val_loss: 0.0919 - val_accuracy: 0.9801\n",
      "Epoch 6/30\n",
      "30/30 [==============================] - 0s 6ms/step - loss: 0.0823 - accuracy: 0.9816 - val_loss: 0.0754 - val_accuracy: 0.9820\n",
      "Epoch 7/30\n",
      "30/30 [==============================] - 0s 6ms/step - loss: 0.0705 - accuracy: 0.9827 - val_loss: 0.0674 - val_accuracy: 0.9823\n",
      "Epoch 8/30\n",
      "30/30 [==============================] - 0s 5ms/step - loss: 0.0636 - accuracy: 0.9828 - val_loss: 0.0613 - val_accuracy: 0.9823\n",
      "Epoch 9/30\n",
      "30/30 [==============================] - 0s 6ms/step - loss: 0.0579 - accuracy: 0.9828 - val_loss: 0.0559 - val_accuracy: 0.9825\n",
      "Epoch 10/30\n",
      "30/30 [==============================] - 0s 6ms/step - loss: 0.0531 - accuracy: 0.9830 - val_loss: 0.0518 - val_accuracy: 0.9826\n",
      "Epoch 11/30\n",
      "30/30 [==============================] - 0s 6ms/step - loss: 0.0490 - accuracy: 0.9831 - val_loss: 0.0478 - val_accuracy: 0.9829\n",
      "Epoch 12/30\n",
      "30/30 [==============================] - 0s 6ms/step - loss: 0.0453 - accuracy: 0.9835 - val_loss: 0.0447 - val_accuracy: 0.9823\n",
      "Epoch 13/30\n",
      "30/30 [==============================] - 0s 6ms/step - loss: 0.0422 - accuracy: 0.9843 - val_loss: 0.0414 - val_accuracy: 0.9849\n",
      "Epoch 14/30\n",
      "30/30 [==============================] - 0s 6ms/step - loss: 0.0397 - accuracy: 0.9871 - val_loss: 0.0392 - val_accuracy: 0.9877\n",
      "Epoch 15/30\n",
      "30/30 [==============================] - 0s 6ms/step - loss: 0.0377 - accuracy: 0.9878 - val_loss: 0.0373 - val_accuracy: 0.9879\n",
      "Epoch 16/30\n",
      "30/30 [==============================] - 0s 6ms/step - loss: 0.0360 - accuracy: 0.9881 - val_loss: 0.0358 - val_accuracy: 0.9881\n",
      "Epoch 17/30\n",
      "30/30 [==============================] - 0s 6ms/step - loss: 0.0346 - accuracy: 0.9883 - val_loss: 0.0348 - val_accuracy: 0.9882\n",
      "Epoch 18/30\n",
      "30/30 [==============================] - 0s 6ms/step - loss: 0.0334 - accuracy: 0.9885 - val_loss: 0.0334 - val_accuracy: 0.9884\n",
      "Epoch 19/30\n",
      "30/30 [==============================] - 0s 6ms/step - loss: 0.0324 - accuracy: 0.9889 - val_loss: 0.0326 - val_accuracy: 0.9930\n",
      "Epoch 20/30\n",
      "30/30 [==============================] - 0s 6ms/step - loss: 0.0315 - accuracy: 0.9894 - val_loss: 0.0316 - val_accuracy: 0.9931\n",
      "Epoch 21/30\n",
      "30/30 [==============================] - 0s 6ms/step - loss: 0.0306 - accuracy: 0.9901 - val_loss: 0.0310 - val_accuracy: 0.9887\n",
      "Epoch 22/30\n",
      "30/30 [==============================] - 0s 6ms/step - loss: 0.0299 - accuracy: 0.9910 - val_loss: 0.0307 - val_accuracy: 0.9890\n",
      "Epoch 23/30\n",
      "30/30 [==============================] - 0s 6ms/step - loss: 0.0291 - accuracy: 0.9919 - val_loss: 0.0292 - val_accuracy: 0.9938\n",
      "Epoch 24/30\n",
      "30/30 [==============================] - 0s 6ms/step - loss: 0.0283 - accuracy: 0.9922 - val_loss: 0.0285 - val_accuracy: 0.9939\n",
      "Epoch 25/30\n",
      "30/30 [==============================] - 0s 5ms/step - loss: 0.0276 - accuracy: 0.9927 - val_loss: 0.0278 - val_accuracy: 0.9907\n",
      "Epoch 26/30\n",
      "30/30 [==============================] - 0s 6ms/step - loss: 0.0269 - accuracy: 0.9932 - val_loss: 0.0271 - val_accuracy: 0.9941\n",
      "Epoch 27/30\n",
      "30/30 [==============================] - 0s 6ms/step - loss: 0.0262 - accuracy: 0.9935 - val_loss: 0.0264 - val_accuracy: 0.9945\n",
      "Epoch 28/30\n",
      "30/30 [==============================] - 0s 6ms/step - loss: 0.0256 - accuracy: 0.9941 - val_loss: 0.0257 - val_accuracy: 0.9947\n",
      "Epoch 29/30\n",
      "30/30 [==============================] - 0s 6ms/step - loss: 0.0249 - accuracy: 0.9940 - val_loss: 0.0258 - val_accuracy: 0.9935\n",
      "Epoch 30/30\n",
      "30/30 [==============================] - 0s 6ms/step - loss: 0.0244 - accuracy: 0.9943 - val_loss: 0.0246 - val_accuracy: 0.9941\n",
      "Final Accuracy: 0.9943153262138367\n"
     ]
    },
    {
     "data": {
      "image/png": "[encoded data removed]",
      "text/plain": [
       "<Figure size 432x288 with 1 Axes>"
      ]
     },
     "metadata": {
      "needs_background": "light"
     },
     "output_type": "display_data"
    },
    {
     "data": {
      "text/plain": [
       "0.9943153262138367"
      ]
     },
     "execution_count": 323,
     "metadata": {},
     "output_type": "execute_result"
    }
   ],
   "source": [
    "batchsize=10000\n",
    "epochs=30\n",
    "learningrate=.001\n",
    "def plot_accuracies(hist):\n",
    "    print(\"Final Accuracy: \" + str(hist.history['accuracy'][len(hist.history['accuracy'])-1]))\n",
    "    plt.plot(hist.history['accuracy'])\n",
    "    plt.plot(hist.history['val_accuracy'])\n",
    "    if len(hist.history['accuracy'])==1:\n",
    "        plt.plot([0], [hist.history['accuracy'][0]], marker='o', markersize=3, color=\"blue\")\n",
    "        plt.plot([0], [hist.history['val_accuracy'][0]], marker='o', markersize=3, color=\"orange\")\n",
    "\n",
    "    plt.title('Model Accuracy')\n",
    "    plt.ylabel('Accuracy')\n",
    "    plt.xlabel('Epoch')\n",
    "    plt.legend(['Train', 'Val'])\n",
    "    plt.show()\n",
    "def runTraining(model, x_train, y_train, batchSize, epochs, learningRate):\n",
    "  opt = RMSprop(learning_rate= learningRate)\n",
    "  model.compile(optimizer = opt, loss= 'categorical_crossentropy', metrics = ['accuracy'])\n",
    "  model.summary()\n",
    "  print(np.shape(x_train), np.shape(y_train))\n",
    "  history = model.fit(x_train, y_train,\n",
    "                    batch_size = batchSize,\n",
    "                    epochs = epochs, validation_split = .2, verbose = 1)\n",
    "  plot_accuracies(history)\n",
    "  return history.history['accuracy'][len(history.history['accuracy'])-1]\n",
    "ohe = sklearn.preprocessing.OneHotEncoder()\n",
    "transformed = ohe.fit_transform(np.expand_dims(ytrain.numpy(),1))\n",
    "runTraining(model, xtrain.numpy(), transformed.toarray(), batchsize, epochs, learningrate)"
   ]
  },
  {
   "cell_type": "code",
   "execution_count": 324,
   "metadata": {},
   "outputs": [
    {
     "name": "stdout",
     "output_type": "stream",
     "text": [
      "[2 0 2 ... 2 2 0]\n"
     ]
    }
   ],
   "source": [
    "yhat=model(x_test.numpy())\n",
    "yhat=np.array([row.numpy().argmax() for row in yhat])\n",
    "print(yhat)\n",
    "# acc = (yhat == ohe.fit_transform(np.expand_dims(y_test.numpy(),1)).toarray()).float().mean()\n",
    "# print(acc)\n"
   ]
  },
  {
   "cell_type": "code",
   "execution_count": 284,
   "metadata": {},
   "outputs": [
    {
     "name": "stdout",
     "output_type": "stream",
     "text": [
      "class 0 accuracy: 0.9968499427262314\n",
      "points: 24444\n",
      "class 1 accuracy: 0.0\n",
      "points: 14\n",
      "class 2 accuracy: 0.9985270049099836\n",
      "points: 97760\n",
      "class 3 accuracy: 0.0\n",
      "points: 286\n",
      "class 4 accuracy: 0.8293413173652695\n",
      "points: 1002\n"
     ]
    }
   ],
   "source": [
    "for i in range (0,len(df['Attack Type'].unique())):\n",
    "    yhat= model(x_test.numpy()[y_test==i])\n",
    "    yhat=np.array([row.numpy().argmax() for row in yhat])\n",
    "    acc = (yhat==i).mean()\n",
    "    print('class '+str(i)+' accuracy: ' +str(acc))\n",
    "    print('points: '+ str(len(yhat)))"
   ]
  },
  {
   "cell_type": "markdown",
   "metadata": {},
   "source": [
    "## NeuralHD"
   ]
  },
  {
   "cell_type": "code",
   "execution_count": 325,
   "metadata": {},
   "outputs": [],
   "source": [
    "import sklearn\n",
    "from sklearn.discriminant_analysis import LinearDiscriminantAnalysis\n",
    "from sklearn.decomposition import PCA\n",
    "import time\n",
    "import sys\n",
    "import math\n",
    "import numpy as np\n",
    "import random\n",
    "import joblib\n",
    "from tqdm import tqdm_notebook\n",
    "import copy\n",
    "\n",
    "import Config\n",
    "import Dataloader as DL\n",
    "import HD_basis as HDB\n",
    "import HD_encoder as HDE\n",
    "import HD_classifier as HDC\n",
    "\n",
    "import matplotlib.pyplot as plt\n"
   ]
  },
  {
   "cell_type": "code",
   "execution_count": 289,
   "metadata": {},
   "outputs": [],
   "source": [
    "def train(hdc, traindata, trainlabels, testdata, testlabels, param = Config.config, epochs = None):\n",
    "    train_acc = []\n",
    "    test_acc = []\n",
    "    if epochs is not None:\n",
    "        param[\"epochs\"] = epochs\n",
    "    #for i in tqdm_notebook(range(param[\"epochs\"]), desc='epochs'):\n",
    "    for i in range(param[\"epochs\"]):\n",
    "        train_acc.append(hdc.fit(traindata, trainlabels, param))\n",
    "        test_acc.append(hdc.test(testdata, testlabels))\n",
    "        # if len(train_acc) % 20 == 0:\n",
    "        #     print(\"Train: %f \\t \\t Test: %f\"%(train_acc[-1], test_acc[-1]))\n",
    "        # if train_acc[-1] == 1:\n",
    "        #     print(\"Training converged!\") \n",
    "        #     print(\"Train: %f \\t \\t Test: %f\"%(train_acc[-1], test_acc[-1]))\n",
    "        #     break\n",
    "    return np.asarray(train_acc), np.asarray(test_acc), i"
   ]
  },
  {
   "cell_type": "code",
   "execution_count": 334,
   "metadata": {},
   "outputs": [],
   "source": [
    "def train_neural_ed(traindata, trainlabels, testdata, testlabels,\n",
    "                   D, # initial baseline\n",
    "                   eDs,  # list of effective dimensions to reach \n",
    "                   percentDrop, # drop/regen rate \n",
    "                   iter_per_update, # # iterations per regen  \n",
    "                   param):\n",
    "\n",
    "    param[\"D\"] = D\n",
    "    \n",
    "    # Initialize basis & classifier\n",
    "    hdb = HDB.HD_basis(HDB.Generator.Vanilla, param)\n",
    "    basis = hdb.getBasis()\n",
    "    param = hdb.getParam()\n",
    "    hde = HDE.HD_encoder(basis)\n",
    "    trainencoded = hde.encodeData(traindata)\n",
    "    testencoded = hde.encodeData(testdata)\n",
    "    # Initialize classifier\n",
    "    train_accs = []\n",
    "    test_accs = []\n",
    "    hdc = HDC.HD_classifier(param[\"D\"], param[\"nClasses\"], 0)\n",
    "\n",
    "    # Prepare setting for train\n",
    "    amountDrop = int(percentDrop * hdc.D)\n",
    "    regenTimes = [ math.ceil((eD-D)/amountDrop) for eD in eDs]\n",
    "    print(\"Updating times:\", regenTimes)\n",
    "\n",
    "    early_stopping_steps = 1000 # earlystopping is \"turned off\"\n",
    "\n",
    "    #es_count = 0\n",
    "    max_test = 0\n",
    "    best = None\n",
    "    best_idx = 0\n",
    "    \n",
    "    # Checkpoints\n",
    "    checkpoints = []\n",
    "\n",
    "    for i in range(max(regenTimes)+1): # For each eDs to reach, will checkpoints\n",
    "\n",
    "        # Do the train \n",
    "        for j in range(iter_per_update):\n",
    "            train_acc = 100 * hdc.fit(trainencoded, trainlabels, param)\n",
    "            test_acc = 100 * hdc.test(testencoded, testlabels)\n",
    "            train_accs.append(train_acc)\n",
    "            test_accs.append(test_acc)\n",
    "            print(\"Train: %.2f \\t \\t Test: %.2f\"%(train_acc, test_acc))\n",
    "            if train_acc == 100:\n",
    "                break\n",
    "         \n",
    "        if train_acc == 100:\n",
    "            print(\"Train converged! taking snippit in checkpoints\")\n",
    "            hdb_ck = copy.deepcopy(hdb)\n",
    "            hdc_ck = copy.deepcopy(hdc)\n",
    "            _, post_test_accs, _ = train(hdc_ck, trainencoded, trainlabels, testencoded, testlabels, param, epochs = 50)\n",
    "            checkpoints.append((i+1, (D + (i)*amountDrop), \n",
    "                                hdb_ck, hdc_ck, \n",
    "                                max(test_accs[-iter_per_update:]), max(post_test_accs)))\n",
    "\n",
    "        if test_accs[-1] >= max_test:\n",
    "            es_count = 0\n",
    "            best = copy.deepcopy(hdc)\n",
    "            best_idx = len(test_accs)\n",
    "        else:\n",
    "            es_count += 1\n",
    "        if es_count > early_stopping_steps:\n",
    "            print(\"Early stopping initiated, best stores the best hdc currently\")\n",
    "            break\n",
    "        \n",
    "        if i in regenTimes:\n",
    "            print(\"Checkpoint made!\")\n",
    "            hdb_ck = copy.deepcopy(hdb)\n",
    "            hdc_ck = copy.deepcopy(hdc)\n",
    "            _, post_test_accs, _ = train(hdc_ck, trainencoded, trainlabels, testencoded, testlabels, param, epochs = 50)\n",
    "            checkpoints.append((D, (D + (i)*amountDrop), \n",
    "                                None, None, #hdb_ck, hdc_ck, \n",
    "                                max(test_accs[-iter_per_update:]), max(post_test_accs)))\n",
    "        \n",
    "        # Do the regeneration\n",
    "        var, orders = hdc.evaluateBasis()\n",
    "        toDrop = orders[:amountDrop]\n",
    "        toMask = orders[-amountDrop:]\n",
    "        toDropVar = [var[i] for i in toDrop]\n",
    "        print(\"Variances stats: max %.2f, min %.2f, mean %.2f\"%(max(var),min(var),np.mean(var)))\n",
    "        #print(\"Dropping first %f percent of ineffective basis, with stats: max %f, min %f, mean %f\"\\\n",
    "        #      %(percentDrop, max(toDropVar),min(toDropVar),np.mean(toDropVar)))\n",
    "        hdb.updateBasis(toDrop)\n",
    "        hde.updateBasis(hdb.basis)\n",
    "        trainencoded = hde.encodeData(traindata)\n",
    "        testencoded = hde.encodeData(testdata)\n",
    "        hdc.updateClasses()\n",
    "        \n",
    "    return hdc\n"
   ]
  },
  {
   "cell_type": "code",
   "execution_count": 295,
   "metadata": {},
   "outputs": [
    {
     "name": "stdout",
     "output_type": "stream",
     "text": [
      "<class 'torch.Tensor'>\n"
     ]
    }
   ],
   "source": [
    "print(type(xtrain))"
   ]
  },
  {
   "cell_type": "code",
   "execution_count": 335,
   "metadata": {},
   "outputs": [
    {
     "name": "stdout",
     "output_type": "stream",
     "text": [
      "Current config: 2000 0.1 3\n",
      "Updating times: [5]\n",
      "Train: 98.38 \t \t Test: 99.23\n",
      "Train: 98.63 \t \t Test: 98.94\n",
      "Train: 98.71 \t \t Test: 97.84\n",
      "Variances stats: max 0.02, min 0.00, mean 0.00\n",
      "Updating basis......\n",
      "Train: 98.54 \t \t Test: 98.83\n",
      "Train: 98.74 \t \t Test: 98.99\n",
      "Train: 98.75 \t \t Test: 99.26\n",
      "Variances stats: max 0.01, min 0.00, mean 0.00\n",
      "Updating basis......\n",
      "Train: 98.55 \t \t Test: 99.34\n",
      "Train: 98.74 \t \t Test: 99.07\n",
      "Train: 98.78 \t \t Test: 98.75\n",
      "Variances stats: max 0.01, min 0.00, mean 0.00\n",
      "Updating basis......\n",
      "Train: 98.58 \t \t Test: 97.82\n",
      "Train: 98.75 \t \t Test: 98.00\n",
      "Train: 98.75 \t \t Test: 98.85\n",
      "Variances stats: max 0.01, min 0.00, mean 0.00\n",
      "Updating basis......\n",
      "Train: 98.57 \t \t Test: 98.06\n",
      "Train: 98.72 \t \t Test: 98.89\n",
      "Train: 98.80 \t \t Test: 98.70\n",
      "Variances stats: max 0.01, min 0.00, mean 0.00\n",
      "Updating basis......\n",
      "Train: 98.57 \t \t Test: 97.90\n",
      "Train: 98.76 \t \t Test: 98.29\n",
      "Train: 98.80 \t \t Test: 98.91\n",
      "Checkpoint made!\n",
      "Variances stats: max 0.00, min 0.00, mean 0.00\n",
      "Updating basis......\n"
     ]
    }
   ],
   "source": [
    "Ds = [2000, 3000]\n",
    "percentDrops = [0.1]\n",
    "iter_per_updates = [3]\n",
    "param = Config.config\n",
    "param[\"nFeatures\"] = xtrain.shape[1]\n",
    "param[\"nClasses\"] = len(df['Attack Type'].unique())\n",
    "#Ds = [200, 500, 750, 1000, 1500, 2000, 2500, 3000, 4000]\n",
    "#percentDrops = [0.05]\n",
    "#iter_per_updates = [1, 2, 3, 4]\n",
    "\n",
    "\n",
    "hdc=None\n",
    "for i, D in enumerate(Ds[:-1]):\n",
    "    eDs = Ds[i+1:i+7]\n",
    "    for percentDrop in percentDrops:\n",
    "        for iter_per_update in iter_per_updates:\n",
    "            print(\"Current config:\", D, percentDrop, iter_per_update)\n",
    "            hdc = train_neural_ed(xtrain.numpy(), ytrain.numpy(), x_test.numpy(), y_test.numpy(),\n",
    "                   D, # initial baseline\n",
    "                   eDs,  # list of effective dimensions to reach \n",
    "                   percentDrop, # drop/regen rate \n",
    "                   iter_per_update, # # iterations per regen  \n",
    "                   param)"
   ]
  },
  {
   "cell_type": "code",
   "execution_count": 338,
   "metadata": {},
   "outputs": [
    {
     "ename": "TypeError",
     "evalue": "'HD_classifier' object is not callable",
     "output_type": "error",
     "traceback": [
      "\u001b[0;31m---------------------------------------------------------------------------\u001b[0m",
      "\u001b[0;31mTypeError\u001b[0m                                 Traceback (most recent call last)",
      "\u001b[0;32m<ipython-input-338-25811b3bf9c7>\u001b[0m in \u001b[0;36m<module>\u001b[0;34m\u001b[0m\n\u001b[1;32m      1\u001b[0m \u001b[0;32mfor\u001b[0m \u001b[0mi\u001b[0m \u001b[0;32min\u001b[0m \u001b[0mrange\u001b[0m \u001b[0;34m(\u001b[0m\u001b[0;36m0\u001b[0m\u001b[0;34m,\u001b[0m\u001b[0mlen\u001b[0m\u001b[0;34m(\u001b[0m\u001b[0mdf\u001b[0m\u001b[0;34m[\u001b[0m\u001b[0;34m'Attack Type'\u001b[0m\u001b[0;34m]\u001b[0m\u001b[0;34m.\u001b[0m\u001b[0munique\u001b[0m\u001b[0;34m(\u001b[0m\u001b[0;34m)\u001b[0m\u001b[0;34m)\u001b[0m\u001b[0;34m)\u001b[0m\u001b[0;34m:\u001b[0m\u001b[0;34m\u001b[0m\u001b[0;34m\u001b[0m\u001b[0m\n\u001b[0;32m----> 2\u001b[0;31m     \u001b[0myhat\u001b[0m\u001b[0;34m=\u001b[0m \u001b[0mhdc\u001b[0m\u001b[0;34m(\u001b[0m\u001b[0mx_test\u001b[0m\u001b[0;34m.\u001b[0m\u001b[0mnumpy\u001b[0m\u001b[0;34m(\u001b[0m\u001b[0;34m)\u001b[0m\u001b[0;34m[\u001b[0m\u001b[0my_test\u001b[0m\u001b[0;34m==\u001b[0m\u001b[0mi\u001b[0m\u001b[0;34m]\u001b[0m\u001b[0;34m)\u001b[0m\u001b[0;34m\u001b[0m\u001b[0;34m\u001b[0m\u001b[0m\n\u001b[0m\u001b[1;32m      3\u001b[0m     \u001b[0myhat\u001b[0m\u001b[0;34m=\u001b[0m\u001b[0mnp\u001b[0m\u001b[0;34m.\u001b[0m\u001b[0marray\u001b[0m\u001b[0;34m(\u001b[0m\u001b[0;34m[\u001b[0m\u001b[0mrow\u001b[0m\u001b[0;34m.\u001b[0m\u001b[0mnumpy\u001b[0m\u001b[0;34m(\u001b[0m\u001b[0;34m)\u001b[0m\u001b[0;34m.\u001b[0m\u001b[0margmax\u001b[0m\u001b[0;34m(\u001b[0m\u001b[0;34m)\u001b[0m \u001b[0;32mfor\u001b[0m \u001b[0mrow\u001b[0m \u001b[0;32min\u001b[0m \u001b[0myhat\u001b[0m\u001b[0;34m]\u001b[0m\u001b[0;34m)\u001b[0m\u001b[0;34m\u001b[0m\u001b[0;34m\u001b[0m\u001b[0m\n\u001b[1;32m      4\u001b[0m     \u001b[0macc\u001b[0m \u001b[0;34m=\u001b[0m \u001b[0;34m(\u001b[0m\u001b[0myhat\u001b[0m\u001b[0;34m==\u001b[0m\u001b[0mi\u001b[0m\u001b[0;34m)\u001b[0m\u001b[0;34m.\u001b[0m\u001b[0mmean\u001b[0m\u001b[0;34m(\u001b[0m\u001b[0;34m)\u001b[0m\u001b[0;34m\u001b[0m\u001b[0;34m\u001b[0m\u001b[0m\n\u001b[1;32m      5\u001b[0m     \u001b[0mprint\u001b[0m\u001b[0;34m(\u001b[0m\u001b[0;34m'class '\u001b[0m\u001b[0;34m+\u001b[0m\u001b[0mstr\u001b[0m\u001b[0;34m(\u001b[0m\u001b[0mi\u001b[0m\u001b[0;34m)\u001b[0m\u001b[0;34m+\u001b[0m\u001b[0;34m' accuracy: '\u001b[0m \u001b[0;34m+\u001b[0m\u001b[0mstr\u001b[0m\u001b[0;34m(\u001b[0m\u001b[0macc\u001b[0m\u001b[0;34m)\u001b[0m\u001b[0;34m)\u001b[0m\u001b[0;34m\u001b[0m\u001b[0;34m\u001b[0m\u001b[0m\n",
      "\u001b[0;31mTypeError\u001b[0m: 'HD_classifier' object is not callable"
     ]
    }
   ],
   "source": [
    "for i in range (0,len(df['Attack Type'].unique())):\n",
    "    yhat= hdc(x_test.numpy()[y_test==i])\n",
    "    yhat=np.array([row.numpy().argmax() for row in yhat])\n",
    "    acc = (yhat==i).mean()\n",
    "    print('class '+str(i)+' accuracy: ' +str(acc))\n",
    "    print('points: '+ str(len(yhat)))"
   ]
  },
  {
   "cell_type": "code",
   "execution_count": 336,
   "metadata": {},
   "outputs": [
    {
     "data": {
      "text/plain": [
       "<HD_classifier.HD_classifier at 0x1bab7b1f0>"
      ]
     },
     "execution_count": 336,
     "metadata": {},
     "output_type": "execute_result"
    }
   ],
   "source": [
    "hdc"
   ]
  },
  {
   "cell_type": "code",
   "execution_count": 327,
   "metadata": {},
   "outputs": [
    {
     "data": {
      "text/plain": [
       "[(2000, 3000, None, None, 98.93284536783638, 0.9964617103622496)]"
      ]
     },
     "execution_count": 327,
     "metadata": {},
     "output_type": "execute_result"
    }
   ],
   "source": [
    "checkpoints"
   ]
  },
  {
   "cell_type": "markdown",
   "metadata": {},
   "source": [
    "## Extras"
   ]
  },
  {
   "cell_type": "code",
   "execution_count": null,
   "metadata": {},
   "outputs": [],
   "source": []
  },
  {
   "cell_type": "code",
   "execution_count": 179,
   "metadata": {},
   "outputs": [],
   "source": [
    "\n",
    "Y=data[:,df.shape[1]-1]"
   ]
  },
  {
   "cell_type": "code",
   "execution_count": 180,
   "metadata": {},
   "outputs": [
    {
     "data": {
      "text/plain": [
       "['dos', 'u2r', 'r2l', 'probe', 'normal']"
      ]
     },
     "execution_count": 180,
     "metadata": {},
     "output_type": "execute_result"
    }
   ],
   "source": [
    "attack_types"
   ]
  },
  {
   "cell_type": "code",
   "execution_count": 181,
   "metadata": {},
   "outputs": [
    {
     "data": {
      "text/plain": [
       "{'dos': (391458, 41),\n",
       " 'u2r': (52, 41),\n",
       " 'r2l': (1126, 41),\n",
       " 'probe': (4107, 41),\n",
       " 'normal': (97278, 41)}"
      ]
     },
     "execution_count": 181,
     "metadata": {},
     "output_type": "execute_result"
    }
   ],
   "source": [
    "attack_count={}\n",
    "for attack_type in attack_categories:\n",
    "    attack_count[attack_type]=X[Y==attack_type].shape\n",
    "attack_count"
   ]
  },
  {
   "cell_type": "code",
   "execution_count": 182,
   "metadata": {},
   "outputs": [],
   "source": [
    "X=X.astype(np.float64)\n",
    "X=torch.from_numpy(X).float()\n",
    "Yspecial=torch.from_numpy(Yspecial)"
   ]
  },
  {
   "cell_type": "code",
   "execution_count": 183,
   "metadata": {},
   "outputs": [],
   "source": []
  },
  {
   "cell_type": "code",
   "execution_count": 188,
   "metadata": {},
   "outputs": [],
   "source": [
    "def load(x,y):\n",
    "    x, x_test, y, y_test = sklearn.model_selection.train_test_split(x, y)\n",
    "    scaler = sklearn.preprocessing.Normalizer().fit(x)\n",
    "    x = scaler.transform(x)\n",
    "    x_test = scaler.transform(x_test)\n",
    "\n",
    "    # changes data to pytorch's tensors\n",
    "    x = torch.from_numpy(x).float()\n",
    "    y = torch.from_numpy(y).long()\n",
    "    x_test = torch.from_numpy(x_test).float()\n",
    "    y_test = torch.from_numpy(y_test).long()\n",
    "    return x, x_test, y, y_test, scaler"
   ]
  },
  {
   "cell_type": "code",
   "execution_count": 191,
   "metadata": {},
   "outputs": [
    {
     "ename": "TypeError",
     "evalue": "expected np.ndarray (got Tensor)",
     "output_type": "error",
     "traceback": [
      "\u001b[0;31m---------------------------------------------------------------------------\u001b[0m",
      "\u001b[0;31mTypeError\u001b[0m                                 Traceback (most recent call last)",
      "\u001b[0;32m<ipython-input-191-0d3dfd3ed37d>\u001b[0m in \u001b[0;36m<module>\u001b[0;34m\u001b[0m\n\u001b[0;32m----> 1\u001b[0;31m \u001b[0mx\u001b[0m\u001b[0;34m,\u001b[0m\u001b[0mxtest\u001b[0m\u001b[0;34m,\u001b[0m\u001b[0my\u001b[0m\u001b[0;34m,\u001b[0m\u001b[0mytest\u001b[0m\u001b[0;34m,\u001b[0m\u001b[0mscaler\u001b[0m\u001b[0;34m=\u001b[0m\u001b[0mload\u001b[0m\u001b[0;34m(\u001b[0m\u001b[0mX\u001b[0m\u001b[0;34m,\u001b[0m\u001b[0mYspecial\u001b[0m\u001b[0;34m)\u001b[0m\u001b[0;34m\u001b[0m\u001b[0;34m\u001b[0m\u001b[0m\n\u001b[0m",
      "\u001b[0;32m<ipython-input-188-4514a77f9fbf>\u001b[0m in \u001b[0;36mload\u001b[0;34m(x, y)\u001b[0m\n\u001b[1;32m      7\u001b[0m     \u001b[0;31m# changes data to pytorch's tensors\u001b[0m\u001b[0;34m\u001b[0m\u001b[0;34m\u001b[0m\u001b[0m\n\u001b[1;32m      8\u001b[0m     \u001b[0mx\u001b[0m \u001b[0;34m=\u001b[0m \u001b[0mtorch\u001b[0m\u001b[0;34m.\u001b[0m\u001b[0mfrom_numpy\u001b[0m\u001b[0;34m(\u001b[0m\u001b[0mx\u001b[0m\u001b[0;34m)\u001b[0m\u001b[0;34m.\u001b[0m\u001b[0mfloat\u001b[0m\u001b[0;34m(\u001b[0m\u001b[0;34m)\u001b[0m\u001b[0;34m\u001b[0m\u001b[0;34m\u001b[0m\u001b[0m\n\u001b[0;32m----> 9\u001b[0;31m     \u001b[0my\u001b[0m \u001b[0;34m=\u001b[0m \u001b[0mtorch\u001b[0m\u001b[0;34m.\u001b[0m\u001b[0mfrom_numpy\u001b[0m\u001b[0;34m(\u001b[0m\u001b[0my\u001b[0m\u001b[0;34m)\u001b[0m\u001b[0;34m.\u001b[0m\u001b[0mlong\u001b[0m\u001b[0;34m(\u001b[0m\u001b[0;34m)\u001b[0m\u001b[0;34m\u001b[0m\u001b[0;34m\u001b[0m\u001b[0m\n\u001b[0m\u001b[1;32m     10\u001b[0m     \u001b[0mx_test\u001b[0m \u001b[0;34m=\u001b[0m \u001b[0mtorch\u001b[0m\u001b[0;34m.\u001b[0m\u001b[0mfrom_numpy\u001b[0m\u001b[0;34m(\u001b[0m\u001b[0mx_test\u001b[0m\u001b[0;34m)\u001b[0m\u001b[0;34m.\u001b[0m\u001b[0mfloat\u001b[0m\u001b[0;34m(\u001b[0m\u001b[0;34m)\u001b[0m\u001b[0;34m\u001b[0m\u001b[0;34m\u001b[0m\u001b[0m\n\u001b[1;32m     11\u001b[0m     \u001b[0my_test\u001b[0m \u001b[0;34m=\u001b[0m \u001b[0mtorch\u001b[0m\u001b[0;34m.\u001b[0m\u001b[0mfrom_numpy\u001b[0m\u001b[0;34m(\u001b[0m\u001b[0my_test\u001b[0m\u001b[0;34m)\u001b[0m\u001b[0;34m.\u001b[0m\u001b[0mlong\u001b[0m\u001b[0;34m(\u001b[0m\u001b[0;34m)\u001b[0m\u001b[0;34m\u001b[0m\u001b[0;34m\u001b[0m\u001b[0m\n",
      "\u001b[0;31mTypeError\u001b[0m: expected np.ndarray (got Tensor)"
     ]
    }
   ],
   "source": [
    "x,xtest,y,ytest,scaler=load(X,Yspecial)"
   ]
  },
  {
   "cell_type": "code",
   "execution_count": 189,
   "metadata": {},
   "outputs": [
    {
     "name": "stdout",
     "output_type": "stream",
     "text": [
      "Training...\n"
     ]
    },
    {
     "name": "stderr",
     "output_type": "stream",
     "text": [
      "/Users/bobbymissirian/Files/Research/Cybersecurity/onlinehd/encoder.py:61: UserWarning: An output with one or more elements was resized since it had shape [4941, 10000], which does not match the required output shape [4862, 10000].This behavior is deprecated, and in a future PyTorch release outputs will not be resized unless they have zero elements. You can explicitly reuse an out tensor t by resizing it, inplace, to zero elements with t.resize_(0). (Triggered internally at  ../aten/src/ATen/native/Resize.cpp:23.)\n",
      "  torch.matmul(x[i:i+bsize], self.basis.T, out=temp)\n"
     ]
    }
   ],
   "source": [
    "\n",
    "\n",
    "print('Training...')\n",
    "# t = time()\n",
    "# shape=list(X.shape)\n",
    "# shape.append(1)\n",
    "# print(shape)\n",
    "# X=X.reshape(shape)\n",
    "\n",
    "model = model.fit(X, Yspecial, bootstrap=1.0, lr=0.035, epochs=20)\n",
    "\n",
    "# t = time() - t"
   ]
  },
  {
   "cell_type": "code",
   "execution_count": 343,
   "metadata": {},
   "outputs": [
    {
     "data": {
      "text/plain": [
       "numpy.ndarray"
      ]
     },
     "execution_count": 343,
     "metadata": {},
     "output_type": "execute_result"
    }
   ],
   "source": [
    "type(xtrain.numpy())"
   ]
  }
 ],
 "metadata": {
  "interpreter": {
   "hash": "aee8b7b246df8f9039afb4144a1f6fd8d2ca17a180786b69acc140d282b71a49"
  },
  "kernelspec": {
   "display_name": "Python 3.9.13 64-bit",
   "language": "python",
   "name": "python3"
  },
  "language_info": {
   "codemirror_mode": {
    "name": "ipython",
    "version": 3
   },
   "file_extension": ".py",
   "mimetype": "text/x-python",
   "name": "python",
   "nbconvert_exporter": "python",
   "pygments_lexer": "ipython3",
   "version": "3.9.13"
  },
  "orig_nbformat": 4
 },
 "nbformat": 4,
 "nbformat_minor": 2
}
